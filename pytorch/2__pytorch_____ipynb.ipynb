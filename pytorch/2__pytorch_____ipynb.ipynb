{
  "nbformat": 4,
  "nbformat_minor": 0,
  "metadata": {
    "colab": {
      "provenance": [],
      "include_colab_link": true
    },
    "kernelspec": {
      "display_name": "Python 3",
      "name": "python3"
    },
    "language_info": {
      "name": "python"
    }
  },
  "cells": [
    {
      "cell_type": "markdown",
      "metadata": {
        "id": "view-in-github",
        "colab_type": "text"
      },
      "source": [
        "<a href=\"https://colab.research.google.com/github/kdkim2000/JAkorea/blob/main/2__pytorch_____ipynb.ipynb\" target=\"_parent\"><img src=\"https://colab.research.google.com/assets/colab-badge.svg\" alt=\"Open In Colab\"/></a>"
      ]
    },
    {
      "cell_type": "markdown",
      "metadata": {
        "id": "mJECyrfssZlm"
      },
      "source": [
        "# 라이브러리 import"
      ]
    },
    {
      "cell_type": "code",
      "metadata": {
        "id": "nH7bwyBnywfL"
      },
      "source": [
        "import torch\n",
        "import torch.nn as nn\n",
        "import numpy as np\n",
        "import matplotlib.pyplot as plt"
      ],
      "execution_count": null,
      "outputs": []
    },
    {
      "cell_type": "markdown",
      "metadata": {
        "id": "V8Bbo7-Tsqit"
      },
      "source": [
        "# 설정값 지정"
      ]
    },
    {
      "cell_type": "code",
      "metadata": {
        "id": "ZSC2SaW5ywZp"
      },
      "source": [
        "# 설정값 지정\n",
        "input_size = 1\n",
        "output_size = 1\n",
        "num_epochs = 500\n",
        "learning_rate = 0.001    # learning rate alpha값"
      ],
      "execution_count": null,
      "outputs": []
    },
    {
      "cell_type": "markdown",
      "metadata": {
        "id": "2iGc8RSftY9R"
      },
      "source": [
        "# 데이터셋 준비"
      ]
    },
    {
      "cell_type": "code",
      "metadata": {
        "id": "inK37FzGzqQg"
      },
      "source": [
        "# 데이터셋 준비\n",
        "x_train = np.array([[1],[2],[3],[4],[5]], dtype=np.float32)\n",
        "y_train = np.array([[2],[4],[6],[8],[10]], dtype=np.float32)\n",
        "x_test = np.array([[6]], dtype=np.float32)"
      ],
      "execution_count": null,
      "outputs": []
    },
    {
      "cell_type": "markdown",
      "metadata": {
        "id": "OdZKPfggzsuw"
      },
      "source": [
        "# 모델 설정"
      ]
    },
    {
      "cell_type": "code",
      "metadata": {
        "id": "y3nVRH1pzsjE"
      },
      "source": [
        "# 선형회귀 모델 지정\n",
        "model = nn.Linear(input_size, output_size)"
      ],
      "execution_count": null,
      "outputs": []
    },
    {
      "cell_type": "markdown",
      "metadata": {
        "id": "f6g-Qy-WtfMJ"
      },
      "source": [
        "# 손실함수와 옵티마이저 정의"
      ]
    },
    {
      "cell_type": "code",
      "metadata": {
        "id": "bcMdFmRG0AuY"
      },
      "source": [
        "# 손실함수와 옵티마이저 정의\n",
        "criterion = nn.MSELoss()\n",
        "optimizer = torch.optim.SGD(model.parameters(), lr=learning_rate)"
      ],
      "execution_count": null,
      "outputs": []
    },
    {
      "cell_type": "code",
      "metadata": {
        "colab": {
          "base_uri": "https://localhost:8080/"
        },
        "id": "A7yyv1ZM0Ar_",
        "outputId": "4afbe93f-f862-46b4-86af-1c710533575c"
      },
      "source": [
        "# numpy array에서 torch tensor 변경\n",
        "inputs = torch.from_numpy(x_train)\n",
        "targets = torch.from_numpy(y_train)\n",
        "\n",
        "# 트레이닝\n",
        "for epoch in range(num_epochs):\n",
        "    # forward 연산\n",
        "    outputs = model(inputs)\n",
        "    loss = criterion(outputs, targets)\n",
        "\n",
        "    # backword 연산\n",
        "    optimizer.zero_grad()\n",
        "    loss.backward()\n",
        "    optimizer.step()\n",
        "\n",
        "    if (epoch+1) % 5 == 0:\n",
        "        print (f'Epoch [{epoch+1}/{num_epochs}], Loss: {loss.item():.4f}')"
      ],
      "execution_count": null,
      "outputs": [
        {
          "output_type": "stream",
          "name": "stdout",
          "text": [
            "Epoch [5/500], Loss: 27.5684\n",
            "Epoch [10/500], Loss: 21.7045\n",
            "Epoch [15/500], Loss: 17.0892\n",
            "Epoch [20/500], Loss: 13.4568\n",
            "Epoch [25/500], Loss: 10.5978\n",
            "Epoch [30/500], Loss: 8.3477\n",
            "Epoch [35/500], Loss: 6.5767\n",
            "Epoch [40/500], Loss: 5.1828\n",
            "Epoch [45/500], Loss: 4.0857\n",
            "Epoch [50/500], Loss: 3.2222\n",
            "Epoch [55/500], Loss: 2.5426\n",
            "Epoch [60/500], Loss: 2.0077\n",
            "Epoch [65/500], Loss: 1.5866\n",
            "Epoch [70/500], Loss: 1.2552\n",
            "Epoch [75/500], Loss: 0.9944\n",
            "Epoch [80/500], Loss: 0.7891\n",
            "Epoch [85/500], Loss: 0.6274\n",
            "Epoch [90/500], Loss: 0.5002\n",
            "Epoch [95/500], Loss: 0.4001\n",
            "Epoch [100/500], Loss: 0.3212\n",
            "Epoch [105/500], Loss: 0.2591\n",
            "Epoch [110/500], Loss: 0.2103\n",
            "Epoch [115/500], Loss: 0.1718\n",
            "Epoch [120/500], Loss: 0.1414\n",
            "Epoch [125/500], Loss: 0.1176\n",
            "Epoch [130/500], Loss: 0.0987\n",
            "Epoch [135/500], Loss: 0.0839\n",
            "Epoch [140/500], Loss: 0.0722\n",
            "Epoch [145/500], Loss: 0.0630\n",
            "Epoch [150/500], Loss: 0.0557\n",
            "Epoch [155/500], Loss: 0.0500\n",
            "Epoch [160/500], Loss: 0.0454\n",
            "Epoch [165/500], Loss: 0.0418\n",
            "Epoch [170/500], Loss: 0.0390\n",
            "Epoch [175/500], Loss: 0.0367\n",
            "Epoch [180/500], Loss: 0.0349\n",
            "Epoch [185/500], Loss: 0.0335\n",
            "Epoch [190/500], Loss: 0.0323\n",
            "Epoch [195/500], Loss: 0.0314\n",
            "Epoch [200/500], Loss: 0.0306\n",
            "Epoch [205/500], Loss: 0.0300\n",
            "Epoch [210/500], Loss: 0.0295\n",
            "Epoch [215/500], Loss: 0.0291\n",
            "Epoch [220/500], Loss: 0.0288\n",
            "Epoch [225/500], Loss: 0.0285\n",
            "Epoch [230/500], Loss: 0.0282\n",
            "Epoch [235/500], Loss: 0.0280\n",
            "Epoch [240/500], Loss: 0.0278\n",
            "Epoch [245/500], Loss: 0.0276\n",
            "Epoch [250/500], Loss: 0.0275\n",
            "Epoch [255/500], Loss: 0.0273\n",
            "Epoch [260/500], Loss: 0.0272\n",
            "Epoch [265/500], Loss: 0.0271\n",
            "Epoch [270/500], Loss: 0.0270\n",
            "Epoch [275/500], Loss: 0.0269\n",
            "Epoch [280/500], Loss: 0.0268\n",
            "Epoch [285/500], Loss: 0.0267\n",
            "Epoch [290/500], Loss: 0.0266\n",
            "Epoch [295/500], Loss: 0.0265\n",
            "Epoch [300/500], Loss: 0.0264\n",
            "Epoch [305/500], Loss: 0.0263\n",
            "Epoch [310/500], Loss: 0.0262\n",
            "Epoch [315/500], Loss: 0.0261\n",
            "Epoch [320/500], Loss: 0.0260\n",
            "Epoch [325/500], Loss: 0.0259\n",
            "Epoch [330/500], Loss: 0.0258\n",
            "Epoch [335/500], Loss: 0.0257\n",
            "Epoch [340/500], Loss: 0.0257\n",
            "Epoch [345/500], Loss: 0.0256\n",
            "Epoch [350/500], Loss: 0.0255\n",
            "Epoch [355/500], Loss: 0.0254\n",
            "Epoch [360/500], Loss: 0.0253\n",
            "Epoch [365/500], Loss: 0.0252\n",
            "Epoch [370/500], Loss: 0.0251\n",
            "Epoch [375/500], Loss: 0.0251\n",
            "Epoch [380/500], Loss: 0.0250\n",
            "Epoch [385/500], Loss: 0.0249\n",
            "Epoch [390/500], Loss: 0.0248\n",
            "Epoch [395/500], Loss: 0.0247\n",
            "Epoch [400/500], Loss: 0.0246\n",
            "Epoch [405/500], Loss: 0.0246\n",
            "Epoch [410/500], Loss: 0.0245\n",
            "Epoch [415/500], Loss: 0.0244\n",
            "Epoch [420/500], Loss: 0.0243\n",
            "Epoch [425/500], Loss: 0.0242\n",
            "Epoch [430/500], Loss: 0.0241\n",
            "Epoch [435/500], Loss: 0.0241\n",
            "Epoch [440/500], Loss: 0.0240\n",
            "Epoch [445/500], Loss: 0.0239\n",
            "Epoch [450/500], Loss: 0.0238\n",
            "Epoch [455/500], Loss: 0.0237\n",
            "Epoch [460/500], Loss: 0.0237\n",
            "Epoch [465/500], Loss: 0.0236\n",
            "Epoch [470/500], Loss: 0.0235\n",
            "Epoch [475/500], Loss: 0.0234\n",
            "Epoch [480/500], Loss: 0.0233\n",
            "Epoch [485/500], Loss: 0.0233\n",
            "Epoch [490/500], Loss: 0.0232\n",
            "Epoch [495/500], Loss: 0.0231\n",
            "Epoch [500/500], Loss: 0.0230\n"
          ]
        }
      ]
    },
    {
      "cell_type": "code",
      "metadata": {
        "colab": {
          "base_uri": "https://localhost:8080/",
          "height": 430
        },
        "id": "NP_O-GUl0Apk",
        "outputId": "8879e32f-a42d-4451-f2b0-378cd0ccf242"
      },
      "source": [
        "# 예측 결과 시각화\n",
        "predicted = model(torch.from_numpy(x_train)).detach().numpy()\n",
        "plt.plot(x_train, y_train, 'ro', label='Original data')\n",
        "plt.plot(x_train, predicted, label='Fitted line')\n",
        "plt.legend()\n",
        "plt.show()"
      ],
      "execution_count": null,
      "outputs": [
        {
          "output_type": "display_data",
          "data": {
            "text/plain": [
              "<Figure size 640x480 with 1 Axes>"
            ],
            "image/png": "[encoded data removed]"
          },
          "metadata": {}
        }
      ]
    },
    {
      "cell_type": "code",
      "metadata": {
        "colab": {
          "base_uri": "https://localhost:8080/"
        },
        "id": "p8Df5eYZ6CpO",
        "outputId": "4d4ee391-4d9d-4097-a949-3eef755c16f2"
      },
      "source": [
        "y_pred = model(torch.from_numpy(x_test)).detach().numpy()\n",
        "print(f'예측한 y값 : {y_pred}')"
      ],
      "execution_count": null,
      "outputs": [
        {
          "output_type": "stream",
          "name": "stdout",
          "text": [
            "예측한 y값 : [[11.764609]]\n"
          ]
        }
      ]
    },
    {
      "cell_type": "code",
      "metadata": {
        "id": "oj9WrMiH01t4"
      },
      "source": [],
      "execution_count": null,
      "outputs": []
    }
  ]
}