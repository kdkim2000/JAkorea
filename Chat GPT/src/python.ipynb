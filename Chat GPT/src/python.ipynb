{
 "cells": [
  {
   "cell_type": "markdown",
   "metadata": {},
   "source": [
    "### Chapter 1: 파이썬 소개와 설치하기\n"
   ]
  },
  {
   "cell_type": "markdown",
   "metadata": {},
   "source": [
    "### Chapter 2: 파이썬의 변수"
   ]
  },
  {
   "cell_type": "code",
   "execution_count": 3,
   "metadata": {},
   "outputs": [],
   "source": [
    "x = 10"
   ]
  },
  {
   "cell_type": "code",
   "execution_count": 4,
   "metadata": {},
   "outputs": [
    {
     "name": "stdout",
     "output_type": "stream",
     "text": [
      "7\n",
      "<class 'int'>\n",
      "7.5\n",
      "<class 'float'>\n",
      "Hello Python\n",
      "<class 'str'>\n",
      "True\n",
      "<class 'bool'>\n"
     ]
    }
   ],
   "source": [
    "# 정수형 변수\n",
    "my_int = 7\n",
    "print(my_int)\n",
    "print(type(my_int)) # <class 'int'>\n",
    "\n",
    "# 실수형 변수\n",
    "my_float = 7.5\n",
    "print(my_float)\n",
    "print(type(my_float)) # <class 'float'>\n",
    "\n",
    "# 문자열형 변수\n",
    "my_str = \"Hello Python\"\n",
    "print(my_str)\n",
    "print(type(my_str)) # <class 'str'>\n",
    "\n",
    "# 부울형 변수 \n",
    "my_bool = True \n",
    "print(my_bool)\n",
    "print(type(my_bool)) # <class 'bool'>"
   ]
  },
  {
   "cell_type": "code",
   "execution_count": 5,
   "metadata": {},
   "outputs": [
    {
     "name": "stdout",
     "output_type": "stream",
     "text": [
      "10\n",
      "ten\n"
     ]
    }
   ],
   "source": [
    "x = 10     # x 라는 이름의 정수 형태의 메모리 공간에 처음으로 값을 할당합니다.\n",
    "print(x)\n",
    "\n",
    "x = \"ten\"   # x 라는 이름의 메모리 공간에 새로운 값을 할당합니다.\n",
    "            # 이전에 있던 10은 사라지고 \"ten\"이라는 새로운 값이 할당됩니다.\n",
    "print(x)"
   ]
  },
  {
   "cell_type": "markdown",
   "metadata": {},
   "source": [
    "### Chapter 3: 파이썬의 연산자"
   ]
  },
  {
   "cell_type": "code",
   "execution_count": 7,
   "metadata": {},
   "outputs": [
    {
     "name": "stdout",
     "output_type": "stream",
     "text": [
      "13\n",
      "7\n",
      "30\n",
      "3.3333333333333335\n",
      "3\n",
      "1\n",
      "1000\n"
     ]
    }
   ],
   "source": [
    "x = 10\n",
    "y = 3\n",
    "\n",
    "print(x + y)   # 결과: 13\n",
    "print(x - y)   # 결과: 7\n",
    "print(x * y)   # 결과: 30\n",
    "print(x / y)   # 결과: 3.333333333333335 (실수)\n",
    "print(x // y)  # 결과: 3 (정수)\n",
    "print(x % y)   # 결과: 1 (나머지)\n",
    "print(x ** y)  # 결과: 1000 (거듭제곱)"
   ]
  },
  {
   "cell_type": "code",
   "execution_count": 8,
   "metadata": {},
   "outputs": [
    {
     "name": "stdout",
     "output_type": "stream",
     "text": [
      "False\n",
      "True\n",
      "True\n",
      "False\n",
      "True\n"
     ]
    }
   ],
   "source": [
    "x =10\n",
    "y =20\n",
    "\n",
    "print( x ==y )    # False\n",
    "print( x !=y )    # True\n",
    "print( x <y )     # True\n",
    "print( x >y )     # False\n",
    "print( x <=y )    # True"
   ]
  },
  {
   "cell_type": "markdown",
   "metadata": {},
   "source": [
    "### Chapter 4: 조건문"
   ]
  },
  {
   "cell_type": "code",
   "execution_count": 9,
   "metadata": {},
   "outputs": [
    {
     "name": "stdout",
     "output_type": "stream",
     "text": [
      "x is positive\n"
     ]
    }
   ],
   "source": [
    "x = 10\n",
    "\n",
    "if x > 0:\n",
    "    print(\"x is positive\")\n",
    "elif x < 0:\n",
    "    print(\"x is negative\")\n",
    "else:\n",
    "    print(\"x is zero\")"
   ]
  },
  {
   "cell_type": "code",
   "execution_count": 10,
   "metadata": {},
   "outputs": [
    {
     "name": "stdout",
     "output_type": "stream",
     "text": [
      "word length is exactly 5\n"
     ]
    }
   ],
   "source": [
    "word = \"hello\"\n",
    "\n",
    "if len(word) < 5:\n",
    "    print(\"word length is less than 5\")\n",
    "elif len(word) == 5:\n",
    "    print(\"word length is exactly 5\")\n",
    "else:\n",
    "    print(\"word length is greater than 5\")"
   ]
  },
  {
   "cell_type": "code",
   "execution_count": 11,
   "metadata": {},
   "outputs": [
    {
     "name": "stdout",
     "output_type": "stream",
     "text": [
      "Eligible for entry.\n"
     ]
    }
   ],
   "source": [
    "age = 20\n",
    "money = 5000\n",
    "\n",
    "if age >=18 and money >=5000:\n",
    "   print(\"Eligible for entry.\")\n",
    "else: \n",
    "   print(\"Not eligible for entry.\")"
   ]
  },
  {
   "cell_type": "markdown",
   "metadata": {},
   "source": [
    "### Chapter 5: 반복문"
   ]
  },
  {
   "cell_type": "code",
   "execution_count": 12,
   "metadata": {},
   "outputs": [
    {
     "name": "stdout",
     "output_type": "stream",
     "text": [
      "0\n",
      "1\n",
      "2\n",
      "3\n",
      "4\n"
     ]
    }
   ],
   "source": [
    "for i in range(5):\n",
    "    print(i)"
   ]
  },
  {
   "cell_type": "code",
   "execution_count": 13,
   "metadata": {},
   "outputs": [
    {
     "name": "stdout",
     "output_type": "stream",
     "text": [
      "apple\n",
      "banana\n",
      "cherry\n"
     ]
    }
   ],
   "source": [
    "fruits = [\"apple\", \"banana\", \"cherry\"]\n",
    "for fruit in fruits:\n",
    "    print(fruit)"
   ]
  },
  {
   "cell_type": "code",
   "execution_count": 17,
   "metadata": {},
   "outputs": [
    {
     "name": "stdout",
     "output_type": "stream",
     "text": [
      "0\n",
      "1\n",
      "2\n",
      "3\n",
      "4\n"
     ]
    }
   ],
   "source": [
    "# range(stop)\n",
    "for i in range(5):\n",
    "    print(i)  \n",
    "# Output: 0, 1, 2, 3, 4"
   ]
  },
  {
   "cell_type": "code",
   "execution_count": 15,
   "metadata": {},
   "outputs": [
    {
     "name": "stdout",
     "output_type": "stream",
     "text": [
      "5\n",
      "6\n",
      "7\n",
      "8\n",
      "9\n"
     ]
    }
   ],
   "source": [
    "# range(start, stop)\n",
    "for i in range(5,10):\n",
    "    print(i)\n",
    "# Output: 5,6,7,8\n"
   ]
  },
  {
   "cell_type": "code",
   "execution_count": 16,
   "metadata": {},
   "outputs": [
    {
     "name": "stdout",
     "output_type": "stream",
     "text": [
      "0\n",
      "2\n",
      "4\n",
      "6\n",
      "8\n"
     ]
    }
   ],
   "source": [
    "# range(start , stop , step)\n",
    "for i in range(0 ,10 ,2): \n",
    "    print(i)\n",
    "# Output: 0 ,2 ,4 ,6 ,8"
   ]
  },
  {
   "cell_type": "code",
   "execution_count": 18,
   "metadata": {},
   "outputs": [
    {
     "name": "stdout",
     "output_type": "stream",
     "text": [
      "0\n",
      "1\n",
      "2\n",
      "3\n",
      "4\n"
     ]
    }
   ],
   "source": [
    "i = 0\n",
    "while i < 5:\n",
    "    print(i)\n",
    "    i += 1"
   ]
  },
  {
   "cell_type": "code",
   "execution_count": 19,
   "metadata": {},
   "outputs": [
    {
     "name": "stdout",
     "output_type": "stream",
     "text": [
      "0\n",
      "1\n",
      "2\n",
      "3\n",
      "4\n"
     ]
    }
   ],
   "source": [
    "i = 0\n",
    "while i < 5:\n",
    "    print(i)\n",
    "    i += 1"
   ]
  },
  {
   "cell_type": "code",
   "execution_count": 20,
   "metadata": {},
   "outputs": [
    {
     "name": "stdout",
     "output_type": "stream",
     "text": [
      "10\n",
      "9\n",
      "8\n",
      "7\n",
      "6\n",
      "5\n",
      "4\n",
      "3\n",
      "2\n",
      "1\n",
      "Blast off!\n"
     ]
    }
   ],
   "source": [
    "countdown = 10\n",
    "\n",
    "while countdown > 0:\n",
    "    print(countdown)\n",
    "    countdown -= 1\n",
    "\n",
    "print(\"Blast off!\")"
   ]
  },
  {
   "cell_type": "code",
   "execution_count": 21,
   "metadata": {},
   "outputs": [
    {
     "name": "stdout",
     "output_type": "stream",
     "text": [
      "0\n",
      "1\n",
      "2\n",
      "3\n",
      "4\n"
     ]
    }
   ],
   "source": [
    "for num in range(10):\n",
    "    if num == 5:\n",
    "        break\n",
    "    print(num)"
   ]
  },
  {
   "cell_type": "code",
   "execution_count": 22,
   "metadata": {},
   "outputs": [
    {
     "name": "stdout",
     "output_type": "stream",
     "text": [
      "0\n",
      "1\n",
      "2\n",
      "3\n",
      "4\n",
      "6\n",
      "7\n",
      "8\n",
      "9\n"
     ]
    }
   ],
   "source": [
    "for num in range(10):\n",
    "    if num == 5:\n",
    "        continue\n",
    "    print(num)"
   ]
  },
  {
   "cell_type": "code",
   "execution_count": 23,
   "metadata": {},
   "outputs": [
    {
     "name": "stdout",
     "output_type": "stream",
     "text": [
      "[2, 4, 6, 8, 10]\n"
     ]
    }
   ],
   "source": [
    "even_numbers = [x for x in range(1, 11) if x % 2 == 0]\n",
    "print(even_numbers)"
   ]
  },
  {
   "cell_type": "code",
   "execution_count": 24,
   "metadata": {},
   "outputs": [
    {
     "name": "stdout",
     "output_type": "stream",
     "text": [
      "[1, 2, 3]\n"
     ]
    }
   ],
   "source": [
    "numbers = [1, 2, 3, -4, -5]\n",
    "positive_numbers = [num for num in numbers if num > 0]\n",
    "print(positive_numbers)"
   ]
  },
  {
   "cell_type": "markdown",
   "metadata": {},
   "source": [
    "### Chapter 6: 자료형"
   ]
  },
  {
   "cell_type": "code",
   "execution_count": 26,
   "metadata": {},
   "outputs": [
    {
     "name": "stdout",
     "output_type": "stream",
     "text": [
      "<class 'int'>\n",
      "<class 'float'>\n",
      "<class 'complex'>\n"
     ]
    }
   ],
   "source": [
    "x = 10    # int\n",
    "y = 3.14  # float\n",
    "z = 2j    # complex\n",
    "\n",
    "print(type(x))\n",
    "print(type(y))\n",
    "print(type(z))"
   ]
  },
  {
   "cell_type": "code",
   "execution_count": 27,
   "metadata": {},
   "outputs": [
    {
     "name": "stdout",
     "output_type": "stream",
     "text": [
      "0b1010\n"
     ]
    }
   ],
   "source": [
    "print(bin(10))  # Output: '0b1010'"
   ]
  },
  {
   "cell_type": "code",
   "execution_count": 28,
   "metadata": {},
   "outputs": [
    {
     "name": "stdout",
     "output_type": "stream",
     "text": [
      "0o12\n"
     ]
    }
   ],
   "source": [
    "print(oct(10))  # Output: '0o12'"
   ]
  },
  {
   "cell_type": "code",
   "execution_count": 29,
   "metadata": {},
   "outputs": [
    {
     "name": "stdout",
     "output_type": "stream",
     "text": [
      "0xff\n"
     ]
    }
   ],
   "source": [
    "print(hex(255))   # Output: '0xff'"
   ]
  },
  {
   "cell_type": "code",
   "execution_count": 30,
   "metadata": {},
   "outputs": [
    {
     "name": "stdout",
     "output_type": "stream",
     "text": [
      "10\n",
      "10\n",
      "255\n"
     ]
    }
   ],
   "source": [
    "print(int('1010', base=2))   # Output: 10 (from binary)\n",
    "print(int('12', base=8))     # Output: 10 (from octal)\n",
    "print(int('ff', base=16))    # Output: 255 (from hexadecimal)"
   ]
  },
  {
   "cell_type": "markdown",
   "metadata": {},
   "source": [
    "#### 6.2 문자열:"
   ]
  },
  {
   "cell_type": "code",
   "execution_count": 31,
   "metadata": {},
   "outputs": [
    {
     "name": "stdout",
     "output_type": "stream",
     "text": [
      "Hello, World!\n",
      "<class 'str'>\n"
     ]
    }
   ],
   "source": [
    "s = \"Hello, World!\"\n",
    "print(s)\n",
    "print(type(s))"
   ]
  },
  {
   "cell_type": "code",
   "execution_count": 32,
   "metadata": {},
   "outputs": [
    {
     "name": "stdout",
     "output_type": "stream",
     "text": [
      "Hello World!\n",
      "Hello Python\n"
     ]
    }
   ],
   "source": [
    "# 작은 따옴표로 둘러싸인 문자열\n",
    "str1 = 'Hello World!'\n",
    "print(str1)   # Output: Hello World!\n",
    "\n",
    "# 큰 따옴표로 둘러싸인 문자열\n",
    "str2 = \"Hello Python\"\n",
    "print(str2)   # Output: Hello Python"
   ]
  },
  {
   "cell_type": "code",
   "execution_count": 33,
   "metadata": {},
   "outputs": [
    {
     "name": "stdout",
     "output_type": "stream",
     "text": [
      "This is a \n",
      "multiple lines \n",
      "string.\n"
     ]
    }
   ],
   "source": [
    "# 삼중 따옴표로 여러 줄의 문자열을 생성\n",
    "str3 = \"\"\"This is a \n",
    "multiple lines \n",
    "string.\"\"\"\n",
    "print(str3)"
   ]
  },
  {
   "cell_type": "code",
   "execution_count": 34,
   "metadata": {},
   "outputs": [
    {
     "name": "stdout",
     "output_type": "stream",
     "text": [
      "Hello World\n",
      "PythonPythonPython\n"
     ]
    }
   ],
   "source": [
    "# + 연산자를 사용하여 문자열 결합하기\n",
    "greeting = \"Hello\" + \" \" + \"World\"\n",
    "print(greeting)  # Output: Hello World\n",
    "\n",
    "# * 연산자를 사용하여 동일한 문자열 반복하기 \n",
    "repeated_string = \"Python\" * 3 \n",
    "print(repeated_string)  # Output: PythonPythonPython"
   ]
  },
  {
   "cell_type": "code",
   "execution_count": 35,
   "metadata": {},
   "outputs": [
    {
     "name": "stdout",
     "output_type": "stream",
     "text": [
      "hello world\n",
      " HELLO WORLD \n",
      " hello world \n",
      " hello world \n",
      " Hello World \n"
     ]
    }
   ],
   "source": [
    "s = ' hello world '\n",
    "\n",
    "# 공백 제거 (strip)\n",
    "print(s.strip())  # 'hello world'\n",
    "\n",
    "# 대문자로 변환 (upper)\n",
    "print(s.upper())  # ' HELLO WORLD '\n",
    "\n",
    "# 소문자로 변환 (lower)\n",
    "print(s.lower())  # ' hello world '\n",
    "\n",
    "# 첫 글자만 대문자로 변환 (capitalize)\n",
    "print(s.capitalize())  # ' hello world '\n",
    "\n",
    "# 각 단어의 첫 글자만 대문자로 변환 (title)\n",
    "print(s.title())  # ' Hello World '"
   ]
  },
  {
   "cell_type": "markdown",
   "metadata": {},
   "source": [
    "#### 6.3 리스트"
   ]
  },
  {
   "cell_type": "code",
   "execution_count": 36,
   "metadata": {},
   "outputs": [
    {
     "name": "stdout",
     "output_type": "stream",
     "text": [
      "['apple', 'banana', 'cherry']\n",
      "<class 'list'>\n"
     ]
    }
   ],
   "source": [
    "fruits = [\"apple\", \"banana\", \"cherry\"]\n",
    "print(fruits)\n",
    "print(type(fruits))"
   ]
  },
  {
   "cell_type": "code",
   "execution_count": 39,
   "metadata": {},
   "outputs": [
    {
     "name": "stdout",
     "output_type": "stream",
     "text": [
      "[1, 2, 3, 4, 5]\n"
     ]
    }
   ],
   "source": [
    "# 숫자로 구성된 리스트\n",
    "numbers = [1, 2, 3, 4, 5]\n",
    "print(numbers)\n"
   ]
  },
  {
   "cell_type": "code",
   "execution_count": 40,
   "metadata": {},
   "outputs": [
    {
     "name": "stdout",
     "output_type": "stream",
     "text": [
      "['apple', 'banana', 'cherry']\n"
     ]
    }
   ],
   "source": [
    "# 문자열로 구성된 리스트\n",
    "fruits = [\"apple\", \"banana\", \"cherry\"]\n",
    "print(fruits)\n"
   ]
  },
  {
   "cell_type": "code",
   "execution_count": 41,
   "metadata": {},
   "outputs": [
    {
     "name": "stdout",
     "output_type": "stream",
     "text": [
      "[1, 'apple', True]\n"
     ]
    }
   ],
   "source": [
    "# 다양한 타입으로 구성된 리스트\n",
    "mixed = [1, \"apple\", True]\n",
    "print(mixed)"
   ]
  },
  {
   "cell_type": "code",
   "execution_count": 42,
   "metadata": {},
   "outputs": [
    {
     "name": "stdout",
     "output_type": "stream",
     "text": [
      "apple\n",
      "banana\n",
      "cherry\n"
     ]
    }
   ],
   "source": [
    "fruits = [\"apple\", \"banana\", \"cherry\"]\n",
    "print(fruits[0])  # 'apple'\n",
    "print(fruits[1])  # 'banana'\n",
    "print(fruits[-1]) # 'cherry' (음수 인덱스는 뒤에서부터 카운트)"
   ]
  },
  {
   "cell_type": "code",
   "execution_count": 43,
   "metadata": {},
   "outputs": [
    {
     "name": "stdout",
     "output_type": "stream",
     "text": [
      "[1, 2, 3]\n",
      "[0, 1, 2, 3, 4, 5]\n",
      "[2, 3, 4]\n",
      "[0, 1, 2, 3]\n",
      "[3, 4, 5]\n",
      "[0, 2, 4]\n"
     ]
    }
   ],
   "source": [
    "numbers = [0, 1, 2, 3, 4, 5]\n",
    "\n",
    "# Start at index 1 and go up to but not including index 4\n",
    "print(numbers[1:4])   # Output: [1, 2 ,3]\n",
    "\n",
    "# Start at index 0 and go up to the end of the list\n",
    "print(numbers[:])     # Output: [0 ,1 ,2 ,3 ,4 ,5]\n",
    "\n",
    "# Start at index 2 and go up to but not including the last element\n",
    "print(numbers[2:-1])   # Output: [2 ,3 ,4]\n",
    "\n",
    "# Start at the beginning and go up to but not including index -2 (third from last)\n",
    "print(numbers[:-2])    # Output:[0 ,1 ,2 ,3]\n",
    "\n",
    "# Start at index -3 (third from last) and go up to the end of the list\n",
    "print(numbers[-3:])    # Output:[3 ,4 ,5]\n",
    "\n",
    "# Use a step of two -- i.e., every other element\n",
    "print(numbers[::2])    # Output:[0, 2, 4]"
   ]
  },
  {
   "cell_type": "code",
   "execution_count": 44,
   "metadata": {},
   "outputs": [
    {
     "name": "stdout",
     "output_type": "stream",
     "text": [
      "['apple', 'banana', 'cherry']\n",
      "['orange', 'apple', 'banana', 'cherry']\n",
      "['orange', 'apple', 'cherry']\n",
      "['apple', 'cherry']\n",
      "apple\n"
     ]
    }
   ],
   "source": [
    "fruits = [\"apple\", \"banana\"]\n",
    "\n",
    "# 항목 추가하기 - append() 함수 사용 \n",
    "fruits.append(\"cherry\")\n",
    "print(fruits)   # ['apple', 'banana', 'cherry']\n",
    "\n",
    "# 특정 위치에 항목 삽입하기 - insert() 함수 사용 \n",
    "fruits.insert(0,\"orange\")\n",
    "print(fruits)   # ['orange', 'apple', 'banana', 'cherry']\n",
    "\n",
    "# 항목 삭제하기 - remove() 함수 사용 \n",
    "fruits.remove(\"banana\")\n",
    "print(fruits)   # ['orange', 'apple', 'cherry']\n",
    "\n",
    "# 특정 위치의 항목 삭제하기 - del 명령어 혹은 pop() 함수 사용 \n",
    "del fruits[0]   \n",
    "print(fruits)   # ['apple', 'cherry']\n",
    "popped_item= fruits.pop(0)\n",
    "print(popped_item)    #' apple'"
   ]
  },
  {
   "cell_type": "markdown",
   "metadata": {},
   "source": [
    "#### 6.4 튜플"
   ]
  },
  {
   "cell_type": "code",
   "execution_count": 45,
   "metadata": {},
   "outputs": [
    {
     "name": "stdout",
     "output_type": "stream",
     "text": [
      "('apple', 'banana', 'cherry')\n",
      "<class 'tuple'>\n"
     ]
    }
   ],
   "source": [
    "fruits_tuple = (\"apple\", \"banana\", \"cherry\")\n",
    "print(fruits_tuple)\n",
    "print(type(fruits_tuple))"
   ]
  },
  {
   "cell_type": "code",
   "execution_count": 46,
   "metadata": {},
   "outputs": [
    {
     "name": "stdout",
     "output_type": "stream",
     "text": [
      "(1, 2, 3)\n"
     ]
    }
   ],
   "source": [
    "t = (1, 2, 3)\n",
    "print(t)   # Output: (1, 2, 3)"
   ]
  },
  {
   "cell_type": "code",
   "execution_count": 47,
   "metadata": {},
   "outputs": [
    {
     "name": "stdout",
     "output_type": "stream",
     "text": [
      "('apple', 'banana', 100, 200.5)\n"
     ]
    }
   ],
   "source": [
    "t = ('apple', 'banana', 100, 200.5)\n",
    "print(t)   # Output: ('apple', 'banana', 100, 200.5)"
   ]
  },
  {
   "cell_type": "code",
   "execution_count": 48,
   "metadata": {},
   "outputs": [
    {
     "name": "stdout",
     "output_type": "stream",
     "text": [
      "banana\n"
     ]
    }
   ],
   "source": [
    "t = ('apple', 'banana', 'cherry')\n",
    "print(t[1])   # Output: banana"
   ]
  },
  {
   "cell_type": "code",
   "execution_count": 49,
   "metadata": {},
   "outputs": [
    {
     "name": "stdout",
     "output_type": "stream",
     "text": [
      "cherry\n"
     ]
    }
   ],
   "source": [
    "t = ('apple', 'banana', 'cherry')\n",
    "print(t[-1])   # Output: cherry"
   ]
  },
  {
   "cell_type": "code",
   "execution_count": 50,
   "metadata": {},
   "outputs": [
    {
     "name": "stdout",
     "output_type": "stream",
     "text": [
      "(2, 3, 4)\n"
     ]
    }
   ],
   "source": [
    "t = (1, 2, 3, 4, 5)\n",
    "print(t[1:4])   # Output: (2, 3, 4)"
   ]
  },
  {
   "cell_type": "code",
   "execution_count": 51,
   "metadata": {},
   "outputs": [
    {
     "name": "stdout",
     "output_type": "stream",
     "text": [
      "Yes\n"
     ]
    }
   ],
   "source": [
    "t = ('apple', 'banana', 'cherry')\n",
    "if \"banana\" in t:\n",
    "    print(\"Yes\")    # Output: Yes \n",
    "else:\n",
    "    print(\"No\")"
   ]
  },
  {
   "cell_type": "code",
   "execution_count": 52,
   "metadata": {},
   "outputs": [
    {
     "name": "stdout",
     "output_type": "stream",
     "text": [
      "<class 'tuple'>\n",
      "<class 'str'>\n"
     ]
    }
   ],
   "source": [
    "single_tuple = (\"hello\", )\n",
    "print(type(single_tuple))   # Output: <class 'tuple'>\n",
    "not_a_tuple = (\"hello\")\n",
    "print(type(not_a_tuple))    # Output: <class 'str'>"
   ]
  },
  {
   "cell_type": "code",
   "execution_count": 53,
   "metadata": {},
   "outputs": [
    {
     "name": "stdout",
     "output_type": "stream",
     "text": [
      "2\n",
      "1\n"
     ]
    }
   ],
   "source": [
    "t = (1,2,2)\n",
    "print(t.count(2)) # output : 2\n",
    "print(t.index(2)) # output : 1"
   ]
  },
  {
   "cell_type": "markdown",
   "metadata": {},
   "source": [
    "#### 6.5 집합:"
   ]
  },
  {
   "cell_type": "code",
   "execution_count": 54,
   "metadata": {},
   "outputs": [
    {
     "name": "stdout",
     "output_type": "stream",
     "text": [
      "{'apple', 'cherry', 'banana'}\n",
      "<class 'set'>\n"
     ]
    }
   ],
   "source": [
    "fruits_set = {\"apple\", \"banana\", \"cherry\"}\n",
    "print(fruits_set)\n",
    "print(type(fruits_set))"
   ]
  },
  {
   "cell_type": "code",
   "execution_count": 55,
   "metadata": {},
   "outputs": [
    {
     "name": "stdout",
     "output_type": "stream",
     "text": [
      "{1, 2, 3}\n"
     ]
    }
   ],
   "source": [
    "s = {1, 2, 3}\n",
    "print(s)   # Output: {1, 2, 3}"
   ]
  },
  {
   "cell_type": "code",
   "execution_count": 56,
   "metadata": {},
   "outputs": [
    {
     "name": "stdout",
     "output_type": "stream",
     "text": [
      "{1, 2, 3}\n"
     ]
    }
   ],
   "source": [
    "s = {1, 2, 3, 2}\n",
    "print(s)   # Output: {1, 2, 3}"
   ]
  },
  {
   "cell_type": "code",
   "execution_count": 57,
   "metadata": {},
   "outputs": [
    {
     "name": "stdout",
     "output_type": "stream",
     "text": [
      "{1, 2}\n"
     ]
    }
   ],
   "source": [
    "list_with_duplicates = [1, 2, 2]\n",
    "unique_set = set(list_with_duplicates)\n",
    "print(unique_set)   # Output: {1 ,2}"
   ]
  },
  {
   "cell_type": "code",
   "execution_count": 58,
   "metadata": {},
   "outputs": [
    {
     "name": "stdout",
     "output_type": "stream",
     "text": [
      "{1, 2, 3, 4}\n"
     ]
    }
   ],
   "source": [
    "s = {1 ,2 ,3}\n",
    "s.add(4)\n",
    "print(s)    # Output: {1 ,2 ,3 ,4}"
   ]
  },
  {
   "cell_type": "code",
   "execution_count": 59,
   "metadata": {},
   "outputs": [
    {
     "name": "stdout",
     "output_type": "stream",
     "text": [
      "{1, 2, 3, 4, 5}\n"
     ]
    }
   ],
   "source": [
    "s = {1 ,2 ,3}\n",
    "s.update([4 ,5])\n",
    "print(s)    # Output: {1 ,2 ,3 ,4 ,5}"
   ]
  },
  {
   "cell_type": "code",
   "execution_count": 60,
   "metadata": {},
   "outputs": [
    {
     "name": "stdout",
     "output_type": "stream",
     "text": [
      "{1, 2}\n",
      "{1, 2}\n"
     ]
    }
   ],
   "source": [
    "s = {1, 2, 3}\n",
    "\n",
    "# remove() example:\n",
    "s.remove(3)\n",
    "print(s)    # Output: {1 .0.0., .0.0.0., .0.02}\n",
    "\n",
    "# discard() example:\n",
    "s.discard(10)\n",
    "print(s)    # No error occurs and the set remains as is."
   ]
  },
  {
   "cell_type": "code",
   "execution_count": 61,
   "metadata": {},
   "outputs": [
    {
     "name": "stdout",
     "output_type": "stream",
     "text": [
      "{'cherry', 'banana'}\n",
      "{'apple', 'durian', 'banana', 'cherry'}\n",
      "{'apple'}\n",
      "{'apple', 'durian'}\n"
     ]
    }
   ],
   "source": [
    "a = {'apple', 'banana', 'cherry'}\n",
    "b = {'banana', 'cherry', 'durian'}\n",
    "\n",
    "# Intersection (교집합)\n",
    "print(a & b)  # or a.intersection(b)\n",
    "# Output: {'banana', 'cherry'}\n",
    "\n",
    "# Union (합집합)\n",
    "print(a | b)  # or a.union(b)\n",
    "# Output: {'apple', 'banana', 'cherry', 'durian'}\n",
    "\n",
    "# Difference (차집합; a에서 b를 뺀 집합)\n",
    "print(a - b)  # or a.difference(b)\n",
    "# Output: {'apple'}\n",
    "\n",
    "# Symmetric Difference (대칭차; 어느 한 쪽에만 있는 요소들의 모임)\n",
    "print(a ^ b)  # or a.symmetric_difference(b)\n",
    "# Output: {'apple', 'durian'}"
   ]
  },
  {
   "cell_type": "markdown",
   "metadata": {},
   "source": [
    "#### 6.6 딕셔너리:"
   ]
  },
  {
   "cell_type": "code",
   "execution_count": 62,
   "metadata": {},
   "outputs": [
    {
     "name": "stdout",
     "output_type": "stream",
     "text": [
      "{'name': 'John', 'age': 30, 'country': 'USA'}\n",
      "<class 'dict'>\n"
     ]
    }
   ],
   "source": [
    "person = {\n",
    "    'name': 'John',\n",
    "    'age': 30,\n",
    "    'country': 'USA'\n",
    "}\n",
    "  \n",
    "print(person)\n",
    "print(type(person))  "
   ]
  },
  {
   "cell_type": "code",
   "execution_count": 63,
   "metadata": {},
   "outputs": [
    {
     "name": "stdout",
     "output_type": "stream",
     "text": [
      "{'name': 'Alice', 'age': 20}\n"
     ]
    }
   ],
   "source": [
    "person = {\"name\": \"Alice\", \"age\": 20}\n",
    "print(person)   # Output: {'name': 'Alice', 'age': 20}"
   ]
  },
  {
   "cell_type": "code",
   "execution_count": 64,
   "metadata": {},
   "outputs": [
    {
     "name": "stdout",
     "output_type": "stream",
     "text": [
      "Alice\n"
     ]
    }
   ],
   "source": [
    "print(person[\"name\"])   # Output: Alice"
   ]
  },
  {
   "cell_type": "code",
   "execution_count": 65,
   "metadata": {},
   "outputs": [
    {
     "name": "stdout",
     "output_type": "stream",
     "text": [
      "{'name': 'Alice', 'age': 20, 'city': 'Seoul'}\n"
     ]
    }
   ],
   "source": [
    "person[\"city\"] = \"Seoul\"\n",
    "print(person)   # Output: {'name': 'Alice', 'age': 20, 'city': 'Seoul'}"
   ]
  },
  {
   "cell_type": "code",
   "execution_count": 66,
   "metadata": {},
   "outputs": [
    {
     "name": "stdout",
     "output_type": "stream",
     "text": [
      "{'name': 'Alice', 'city': 'Seoul'}\n"
     ]
    }
   ],
   "source": [
    "del person[\"age\"]\n",
    "print(person)   # Output: {'name': 'Alice', 'city': 'Seoul'}"
   ]
  },
  {
   "cell_type": "code",
   "execution_count": 67,
   "metadata": {},
   "outputs": [
    {
     "name": "stdout",
     "output_type": "stream",
     "text": [
      "dict_keys(['name', 'city'])\n",
      "dict_values(['Alice', 'Seoul'])\n",
      "dict_items([('name', 'Alice'), ('city', 'Seoul')])\n"
     ]
    }
   ],
   "source": [
    "print(person.keys())    # Output: dict_keys(['name', 'city'])\n",
    "print(person.values())  # Output: dict_values(['Alice', 'Seoul'])\n",
    "print(person.items())   # Output: dict_items([('name', 'Alice'), ('city', 'Seoul')])"
   ]
  },
  {
   "cell_type": "code",
   "execution_count": 68,
   "metadata": {},
   "outputs": [
    {
     "name": "stdout",
     "output_type": "stream",
     "text": [
      "City is defined\n",
      "Country is not defined\n"
     ]
    }
   ],
   "source": [
    "if \"city\" in person:\n",
    "    print(\"City is defined\")\n",
    "# Output : City is defined\n",
    "\n",
    "if \"country\" not in person:\n",
    "    print(\"Country is not defined\")\n",
    "#Output : Country is not defined "
   ]
  },
  {
   "cell_type": "code",
   "execution_count": 69,
   "metadata": {},
   "outputs": [
    {
     "name": "stdout",
     "output_type": "stream",
     "text": [
      "{}\n"
     ]
    }
   ],
   "source": [
    "d = {\"name\": \"Alice\", \"age\": 20}\n",
    "d.clear()\n",
    "print(d)  # Output: {}"
   ]
  },
  {
   "cell_type": "code",
   "execution_count": 70,
   "metadata": {},
   "outputs": [
    {
     "name": "stdout",
     "output_type": "stream",
     "text": [
      "{'name': 'Alice', 'age': 20}\n"
     ]
    }
   ],
   "source": [
    "d = {\"name\": \"Alice\", \"age\": 20}\n",
    "new_dict = d.copy()\n",
    "print(new_dict)  # Output: {'name': 'Alice', 'age': 20}"
   ]
  },
  {
   "cell_type": "code",
   "execution_count": 71,
   "metadata": {},
   "outputs": [
    {
     "name": "stdout",
     "output_type": "stream",
     "text": [
      "{'a': 0, 'b': 0, 'c': 0}\n"
     ]
    }
   ],
   "source": [
    "keys = ['a', 'b', 'c']\n",
    "new_dict = dict.fromkeys(keys, 0)\n",
    "print(new_dict)  # Output: {'a': 0, 'b': 0, 'c': 0}"
   ]
  },
  {
   "cell_type": "code",
   "execution_count": 72,
   "metadata": {},
   "outputs": [
    {
     "name": "stdout",
     "output_type": "stream",
     "text": [
      "Alice\n",
      "None\n",
      "N/A\n"
     ]
    }
   ],
   "source": [
    "d = {\"name\": \"Alice\", \"age\": 20}\n",
    "print(d.get('name'))       # Output: Alice\n",
    "print(d.get('address'))     # Output: None\n",
    "print(d.get('address', 'N/A'))     # Output: N/A (default value)"
   ]
  },
  {
   "cell_type": "code",
   "execution_count": 73,
   "metadata": {},
   "outputs": [
    {
     "name": "stdout",
     "output_type": "stream",
     "text": [
      "dict_items([('name', 'Alice'), ('age', 20)])\n"
     ]
    }
   ],
   "source": [
    "d = {\"name\": \"Alice\", \"age\": 20}\n",
    "print(d.items())  # Output: dict_items([('name', 'Alice'), ('age', 20)])"
   ]
  },
  {
   "cell_type": "code",
   "execution_count": 74,
   "metadata": {},
   "outputs": [
    {
     "name": "stdout",
     "output_type": "stream",
     "text": [
      "dict_keys(['name', 'age'])\n"
     ]
    }
   ],
   "source": [
    "d = {\"name\": \"Alice\", \"age\": 20}\n",
    "print(d.keys())  # Output: dict_keys(['name', 'age'])"
   ]
  },
  {
   "cell_type": "code",
   "execution_count": 75,
   "metadata": {},
   "outputs": [
    {
     "name": "stdout",
     "output_type": "stream",
     "text": [
      "20\n",
      "{'name': 'Alice'}\n",
      "N/A\n"
     ]
    }
   ],
   "source": [
    "d = {\"name\": \"Alice\", \"age\": 20}\n",
    "age = d.pop('age')\n",
    "print(age)         # Output: 20\n",
    "print(d)           # Output: {'name': 'Alice'}\n",
    "\n",
    "address = d.pop('address', 'N/A')\n",
    "print(address)     # Output: N/A (default value)"
   ]
  },
  {
   "cell_type": "code",
   "execution_count": 76,
   "metadata": {},
   "outputs": [
    {
     "name": "stdout",
     "output_type": "stream",
     "text": [
      "('city', 'Seoul')\n"
     ]
    }
   ],
   "source": [
    "d = {\"name\": \"Alice\", \"city\":\"Seoul\"}\n",
    "item=d.popitem()\n",
    "print(item)       #Output : ('city','Seoul') (무작위 원소 리턴)"
   ]
  },
  {
   "cell_type": "code",
   "execution_count": 77,
   "metadata": {},
   "outputs": [
    {
     "name": "stdout",
     "output_type": "stream",
     "text": [
      "Alice\n",
      "N/A\n",
      "{'name': 'Alice', 'age': 20, 'address': 'N/A'}\n"
     ]
    }
   ],
   "source": [
    "d = {\"name\": \"Alice\", \"age\": 20}\n",
    "\n",
    "# 'name'이라는 키가 존재하므로 해당 값인 'Alice'가 출력됩니다.\n",
    "print(d.setdefault(\"name\"))  # Output: Alice\n",
    "\n",
    "# 'address'라는 키가 없으므로 주어진 기본값 'N/A'를 설정하고 반환합니다.\n",
    "print(d.setdefault(\"address\", \"N/A\"))  # Output: N/A\n",
    "\n",
    "# 이제 딕셔너리 d를 출력해보면 'address': 'N/A' 항목이 추가된 것을 확인할 수 있습니다.\n",
    "print(d)  # Output: {'name': 'Alice', 'age': 20, 'address': 'N/A'}"
   ]
  },
  {
   "cell_type": "code",
   "execution_count": 78,
   "metadata": {},
   "outputs": [
    {
     "name": "stdout",
     "output_type": "stream",
     "text": [
      "{'name': 'Alice', 'age': 20, 'city': 'Seoul', 'country': 'South Korea'}\n",
      "{'name': 'Alice', 'age': 20, 'city': 'Seoul', 'country': 'South Korea', 'height': 170, 'weight': 60}\n"
     ]
    }
   ],
   "source": [
    "d = {\"name\": \"Alice\", \"age\": 20}\n",
    "\n",
    "# 다른 딕셔너리를 사용하여 업데이트합니다.\n",
    "d.update({\"city\": \"Seoul\", \"country\": \"South Korea\"})\n",
    "print(d)  # Output: {'name': 'Alice', 'age': 20, 'city': 'Seoul', 'country': 'South Korea'}\n",
    "\n",
    "# 키/값 쌍을 가지는 iterable로부터 업데이트합니다.\n",
    "d.update([(\"height\", 170), (\"weight\", 60)])\n",
    "print(d)  \n",
    "# Output: {'name': 'Alice', 'age': 20, 'city': 'Seoul', \n",
    "#          'country': 'South Korea', \n",
    "#          'height': 170, \n",
    "#          'weight': 60}"
   ]
  },
  {
   "cell_type": "code",
   "execution_count": 79,
   "metadata": {},
   "outputs": [
    {
     "name": "stdout",
     "output_type": "stream",
     "text": [
      "dict_values(['Alice', 'Seoul'])\n"
     ]
    }
   ],
   "source": [
    "d = {\"name\":\"Alice\",\"city\":\"Seoul\"}\n",
    "print(d.values())     #Output : dict_values(['Alice','Seoul'])"
   ]
  },
  {
   "cell_type": "markdown",
   "metadata": {},
   "source": [
    "#### 타입 변환"
   ]
  },
  {
   "cell_type": "code",
   "execution_count": 80,
   "metadata": {},
   "outputs": [
    {
     "name": "stdout",
     "output_type": "stream",
     "text": [
      "(1, 2, 3, 4)\n"
     ]
    }
   ],
   "source": [
    "my_list = [1, 2, 3, 4]\n",
    "my_tuple = tuple(my_list)\n",
    "print(my_tuple)  # Output: (1, 2, 3, 4)"
   ]
  },
  {
   "cell_type": "code",
   "execution_count": 81,
   "metadata": {},
   "outputs": [
    {
     "name": "stdout",
     "output_type": "stream",
     "text": [
      "{1, 2, 3, 4}\n"
     ]
    }
   ],
   "source": [
    "my_list = [1, 2, 3, 4]\n",
    "my_set = set(my_list)\n",
    "print(my_set)     # Output: {1, 2, 3, 4}"
   ]
  },
  {
   "cell_type": "code",
   "execution_count": 82,
   "metadata": {},
   "outputs": [
    {
     "name": "stdout",
     "output_type": "stream",
     "text": [
      "[1, 2, 3, 4]\n"
     ]
    }
   ],
   "source": [
    "my_tuple = (1, 2 ,3 ,4)\n",
    "my_list = list(my_tuple)\n",
    "print(my_list)     # Output: [1 ,2 ,3 ,4]"
   ]
  },
  {
   "cell_type": "code",
   "execution_count": 83,
   "metadata": {},
   "outputs": [
    {
     "name": "stdout",
     "output_type": "stream",
     "text": [
      "{1, 2, 3, 4}\n"
     ]
    }
   ],
   "source": [
    "my_tuple=(1 ,2 ,3 ,4)\n",
    "my_set=set(my_tuple)\n",
    "print(my_set )      #Output : {1 ,2 ,3 ,4}"
   ]
  },
  {
   "cell_type": "code",
   "execution_count": 85,
   "metadata": {},
   "outputs": [
    {
     "name": "stdout",
     "output_type": "stream",
     "text": [
      "[1, 2, 'a', 'b']\n"
     ]
    }
   ],
   "source": [
    "my_set={1 ,2 ,\"a\" ,\"b\"}\n",
    "my_list=list( my_set )\n",
    "print( my_list )       #Output :[ 'b' ,'a' ,'c' ,'d'] "
   ]
  },
  {
   "cell_type": "code",
   "execution_count": 86,
   "metadata": {},
   "outputs": [
    {
     "name": "stdout",
     "output_type": "stream",
     "text": [
      "(1, 2, 'a', 'b')\n"
     ]
    }
   ],
   "source": [
    "myTuple=tuple( my_set )\n",
    "print( myTuple )      #Output :( 'b' ,'a' ,'c' ,'d')"
   ]
  },
  {
   "cell_type": "markdown",
   "metadata": {},
   "source": [
    "### Chapter 7: 파이썬의 함수 이해와 활용"
   ]
  },
  {
   "cell_type": "code",
   "execution_count": 88,
   "metadata": {},
   "outputs": [
    {
     "name": "stdout",
     "output_type": "stream",
     "text": [
      "Hello, world!\n"
     ]
    }
   ],
   "source": [
    "def greet():\n",
    "    print(\"Hello, world!\")\n",
    "\n",
    "greet()   # Output: Hello, world!"
   ]
  },
  {
   "cell_type": "code",
   "execution_count": 89,
   "metadata": {},
   "outputs": [
    {
     "name": "stdout",
     "output_type": "stream",
     "text": [
      "Hello, Alice!\n"
     ]
    }
   ],
   "source": [
    "def greet(name):\n",
    "    print(f\"Hello, {name}!\")\n",
    "\n",
    "greet(\"Alice\")   # Output: Hello, Alice!\n"
   ]
  },
  {
   "cell_type": "code",
   "execution_count": 90,
   "metadata": {},
   "outputs": [
    {
     "name": "stdout",
     "output_type": "stream",
     "text": [
      "7\n"
     ]
    }
   ],
   "source": [
    "def add(a, b):\n",
    "    return a + b\n",
    "result = add(3, 4)\n",
    "print(result)   # Output: 7 "
   ]
  },
  {
   "cell_type": "code",
   "execution_count": 91,
   "metadata": {},
   "outputs": [
    {
     "name": "stdout",
     "output_type": "stream",
     "text": [
      "Hello, world!\n",
      "Hello, Alice!\n"
     ]
    }
   ],
   "source": [
    "def greet(name=\"world\"):\n",
    "    print(f\"Hello, {name}!\")\n",
    "\n",
    "greet()          # Output: Hello, world!\n",
    "greet(\"Alice\")   # Output: Hello, Alice!"
   ]
  },
  {
   "cell_type": "code",
   "execution_count": 92,
   "metadata": {},
   "outputs": [
    {
     "name": "stdout",
     "output_type": "stream",
     "text": [
      "5.0\n"
     ]
    }
   ],
   "source": [
    "def divide(numerator, denominator):\n",
    "    return numerator / denominator\n",
    "\n",
    "print(divide(numerator=20, denominator=4))  # Output: 5.0"
   ]
  },
  {
   "cell_type": "code",
   "execution_count": 94,
   "metadata": {},
   "outputs": [
    {
     "name": "stdout",
     "output_type": "stream",
     "text": [
      "8\n"
     ]
    }
   ],
   "source": [
    "def add(x, y):\n",
    "    return x + y\n",
    "\n",
    "print(add(5, 3))  # Output: 8"
   ]
  },
  {
   "cell_type": "code",
   "execution_count": 95,
   "metadata": {},
   "outputs": [
    {
     "name": "stdout",
     "output_type": "stream",
     "text": [
      "8\n"
     ]
    }
   ],
   "source": [
    "add = lambda x, y: x + y\n",
    "\n",
    "print(add(5, 3))  # Output: 8"
   ]
  },
  {
   "cell_type": "code",
   "execution_count": 96,
   "metadata": {},
   "outputs": [
    {
     "name": "stdout",
     "output_type": "stream",
     "text": [
      "[1, 2, 4, 6]\n"
     ]
    }
   ],
   "source": [
    "numbers = [4, 2, 6, 1]\n",
    "sorted_numbers = sorted(numbers, key=lambda x: x**2)\n",
    "print(sorted_numbers) # Output: [1, 2, 4, 6]"
   ]
  },
  {
   "cell_type": "markdown",
   "metadata": {},
   "source": [
    "### Chapter 8: 파이썬의 파일 입출력"
   ]
  },
  {
   "cell_type": "code",
   "execution_count": 109,
   "metadata": {},
   "outputs": [],
   "source": [
    "with open('example.txt', 'w') as f:\n",
    "    f.write('Hello, World!')"
   ]
  },
  {
   "cell_type": "code",
   "execution_count": 110,
   "metadata": {},
   "outputs": [
    {
     "name": "stdout",
     "output_type": "stream",
     "text": [
      "Hello, World!\n"
     ]
    }
   ],
   "source": [
    "file = open(\"example.txt\", 'r')\n",
    "content = file.read()\n",
    "print(content)\n",
    "file.close()"
   ]
  },
  {
   "cell_type": "code",
   "execution_count": 102,
   "metadata": {},
   "outputs": [
    {
     "name": "stdout",
     "output_type": "stream",
     "text": [
      "Hello, World!\n"
     ]
    }
   ],
   "source": [
    "file = open(\"example.txt\", 'r')\n",
    "while True:\n",
    "    line = file.readline()\n",
    "    if not line: \n",
    "        break\n",
    "    print(line)\n",
    "file.close()"
   ]
  },
  {
   "cell_type": "code",
   "execution_count": 103,
   "metadata": {},
   "outputs": [
    {
     "name": "stdout",
     "output_type": "stream",
     "text": [
      "Hello, World!\n"
     ]
    }
   ],
   "source": [
    "file = open(\"example.txt\", 'r')\n",
    "lines = file.readlines()\n",
    "\n",
    "for line in lines:\n",
    "    print(line)\n",
    "\n",
    "file.close()"
   ]
  },
  {
   "cell_type": "code",
   "execution_count": 104,
   "metadata": {},
   "outputs": [
    {
     "name": "stdout",
     "output_type": "stream",
     "text": [
      "Hello, World!\n"
     ]
    }
   ],
   "source": [
    "with open('example.txt', 'r') as f:\n",
    "    lines = f.readlines()\n",
    "\n",
    "for line in lines:\n",
    "    print(line)"
   ]
  },
  {
   "cell_type": "code",
   "execution_count": 105,
   "metadata": {},
   "outputs": [],
   "source": [
    "file = open(\"example.txt\", 'w')\n",
    "file.write(\"Hello, World!\")\n",
    "file.close()"
   ]
  },
  {
   "cell_type": "code",
   "execution_count": 106,
   "metadata": {},
   "outputs": [],
   "source": [
    "lines = [\"Hello, World!\\n\", \"Welcome to Python.\\n\", \"Enjoy learning!\\n\"]\n",
    "\n",
    "with open(\"example.txt\", 'w') as file:\n",
    "    file.writelines(lines)"
   ]
  },
  {
   "cell_type": "code",
   "execution_count": 107,
   "metadata": {},
   "outputs": [],
   "source": [
    "with open('example.txt', 'w') as f:\n",
    "    f.write('Hello, World!')"
   ]
  },
  {
   "cell_type": "code",
   "execution_count": 108,
   "metadata": {},
   "outputs": [],
   "source": [
    "with open('example.txt', 'a') as f:\n",
    "    f.write('\\nThis is an additional line.')"
   ]
  },
  {
   "cell_type": "markdown",
   "metadata": {},
   "source": [
    "\n",
    "### Chapter 9: 파이썬의 예외 처리"
   ]
  },
  {
   "cell_type": "code",
   "execution_count": 111,
   "metadata": {},
   "outputs": [
    {
     "name": "stdout",
     "output_type": "stream",
     "text": [
      "You can't divide by zero!\n"
     ]
    }
   ],
   "source": [
    "try:\n",
    "    print(5 / 0)  # 이 코드는 ZeroDivisionError를 일으킵니다.\n",
    "except ZeroDivisionError:\n",
    "    print(\"You can't divide by zero!\")"
   ]
  },
  {
   "cell_type": "code",
   "execution_count": 113,
   "metadata": {},
   "outputs": [
    {
     "name": "stdout",
     "output_type": "stream",
     "text": [
      "You must enter a number!\n"
     ]
    }
   ],
   "source": [
    "try:\n",
    "    num = int(input(\"Enter a number: \"))  # 문자열을 입력하면 ValueError가 발생합니다.\n",
    "    print(5 / num)  # num이 0일 경우 ZeroDivisionError가 발생합니다.\n",
    "except ZeroDivisionError:\n",
    "    print(\"You can't divide by zero!\")\n",
    "except ValueError:\n",
    "    print(\"You must enter a number!\")"
   ]
  },
  {
   "cell_type": "code",
   "execution_count": 114,
   "metadata": {},
   "outputs": [],
   "source": [
    "try:\n",
    "    f = open('example.txt', 'r')\n",
    "    # 파일 관련 처리\n",
    "except FileNotFoundError:\n",
    "    print('File not found.')\n",
    "finally:\n",
    "    f.close()  # 파일은 어떤 상황에서든 닫혀야 합니다."
   ]
  },
  {
   "cell_type": "code",
   "execution_count": 115,
   "metadata": {},
   "outputs": [
    {
     "ename": "ValueError",
     "evalue": "Age cannot be negative",
     "output_type": "error",
     "traceback": [
      "\u001b[1;31m---------------------------------------------------------------------------\u001b[0m",
      "\u001b[1;31mValueError\u001b[0m                                Traceback (most recent call last)",
      "\u001b[1;32mc:\\JAKorea\\JAkorea\\JAkorea\\Chat GPT\\src\\python.ipynb Cell 114\u001b[0m line \u001b[0;36m4\n\u001b[0;32m      <a href='vscode-notebook-cell:/c%3A/JAKorea/JAkorea/JAkorea/Chat%20GPT/src/python.ipynb#Y241sZmlsZQ%3D%3D?line=0'>1</a>\u001b[0m age \u001b[39m=\u001b[39m \u001b[39m-\u001b[39m\u001b[39m1\u001b[39m\n\u001b[0;32m      <a href='vscode-notebook-cell:/c%3A/JAKorea/JAkorea/JAkorea/Chat%20GPT/src/python.ipynb#Y241sZmlsZQ%3D%3D?line=2'>3</a>\u001b[0m \u001b[39mif\u001b[39;00m age \u001b[39m<\u001b[39m \u001b[39m0\u001b[39m:\n\u001b[1;32m----> <a href='vscode-notebook-cell:/c%3A/JAKorea/JAkorea/JAkorea/Chat%20GPT/src/python.ipynb#Y241sZmlsZQ%3D%3D?line=3'>4</a>\u001b[0m     \u001b[39mraise\u001b[39;00m \u001b[39mValueError\u001b[39;00m(\u001b[39m\"\u001b[39m\u001b[39mAge cannot be negative\u001b[39m\u001b[39m\"\u001b[39m)\n",
      "\u001b[1;31mValueError\u001b[0m: Age cannot be negative"
     ]
    }
   ],
   "source": [
    "age = -1\n",
    "\n",
    "if age < 0:\n",
    "    raise ValueError(\"Age cannot be negative\")"
   ]
  },
  {
   "cell_type": "markdown",
   "metadata": {},
   "source": [
    "### Chapter 10. 클래스와 객체지향 프로그래밍"
   ]
  },
  {
   "cell_type": "code",
   "execution_count": 1,
   "metadata": {},
   "outputs": [],
   "source": [
    "class Dog:\n",
    "    def __init__(self, name, age):\n",
    "        self.name = name\n",
    "        self.age = age\n",
    "\n",
    "    def bark(self):\n",
    "        print(f\"{self.name} says woof!\")"
   ]
  },
  {
   "cell_type": "code",
   "execution_count": 2,
   "metadata": {},
   "outputs": [
    {
     "name": "stdout",
     "output_type": "stream",
     "text": [
      "Puppy says woof!\n"
     ]
    }
   ],
   "source": [
    "my_dog = Dog(\"Puppy\", 1)\n",
    "my_dog.bark()  # Puppy says woof!"
   ]
  },
  {
   "cell_type": "code",
   "execution_count": 3,
   "metadata": {},
   "outputs": [
    {
     "name": "stdout",
     "output_type": "stream",
     "text": [
      "Tom says woof!\n",
      "Tom is running!\n"
     ]
    }
   ],
   "source": [
    "class Bulldog(Dog):  \n",
    "    def run(self):\n",
    "        print(f\"{self.name} is running!\")\n",
    "\n",
    "my_bulldog = Bulldog(\"Tom\", 4)\n",
    "my_bulldog.bark()  # Outputs: Tom says woof!\n",
    "my_bulldog.run()   # Outputs: Tom is running!"
   ]
  },
  {
   "cell_type": "code",
   "execution_count": 4,
   "metadata": {},
   "outputs": [
    {
     "name": "stdout",
     "output_type": "stream",
     "text": [
      "3\n",
      "4\n"
     ]
    }
   ],
   "source": [
    "class Dog:\n",
    "    def __init__(self, name, age):\n",
    "        self.__name = name\n",
    "        self.__age = age\n",
    "\n",
    "    def get_age(self):  \n",
    "        return self.__age\n",
    "\n",
    "    def set_age(self, age):  \n",
    "        if age > 0:\n",
    "            self.__age = age\n",
    "            \n",
    "my_dog = Dog(\"Fido\", 3)\n",
    "print(my_dog.get_age())  # Outputs: 3\n",
    "my_dog.set_age(4)\n",
    "print(my_dog.get_age())  # Outputs: 4"
   ]
  },
  {
   "cell_type": "code",
   "execution_count": 5,
   "metadata": {},
   "outputs": [
    {
     "name": "stdout",
     "output_type": "stream",
     "text": [
      "meow\n",
      "woof\n"
     ]
    }
   ],
   "source": [
    "class Cat:\n",
    "    def sound(self):\n",
    "        return 'meow'\n",
    "\n",
    "class Dog:\n",
    "    def sound(self):\n",
    "        return 'woof'\n",
    "\n",
    "def make_sound(animal_type):\n",
    "    print(animal_type.sound())\n",
    "\n",
    "cat_obj = Cat()\n",
    "dog_obj = Dog()\n",
    "\n",
    "make_sound(cat_obj)   # Outputs: meow\n",
    "make_sound(dog_obj)   # Outputs: woof "
   ]
  },
  {
   "cell_type": "code",
   "execution_count": 6,
   "metadata": {},
   "outputs": [],
   "source": [
    "class Math:\n",
    "    def __init__(self, teacher_name, grade):\n",
    "        self.teacher_name = teacher_name\n",
    "        self.grade = grade\n",
    "\n",
    "    def description(self):\n",
    "        print(f\"This is a {self.grade} grade math class taught by {self.teacher_name}.\")"
   ]
  },
  {
   "cell_type": "code",
   "execution_count": 7,
   "metadata": {},
   "outputs": [
    {
     "name": "stdout",
     "output_type": "stream",
     "text": [
      "This is a 6th grade math class taught by Hong Gil-dong.\n",
      "This is a 3rd grade math class taught by Lee Soon-shin.\n"
     ]
    }
   ],
   "source": [
    "math_6th = Math(\"Hong Gil-dong\", \"6th\")\n",
    "math_3rd = Math(\"Lee Soon-shin\", \"3rd\")\n",
    "\n",
    "math_6th.description()  # This is a 6th grade math class taught by Hong Gil-dong.\n",
    "math_3rd.description()  # This is a 3rd grade math class taught by Lee Soon-shin."
   ]
  },
  {
   "cell_type": "code",
   "execution_count": 8,
   "metadata": {},
   "outputs": [],
   "source": [
    "class Student:\n",
    "    def __init__(self, name, age):\n",
    "        self.name = name\n",
    "        self.age = age\n",
    "\n",
    "    def introduce(self):\n",
    "        print(f\"안녕하세요, 제 이름은 {self.name}이고 나이는 {self.age}살입니다.\")"
   ]
  },
  {
   "cell_type": "code",
   "execution_count": 9,
   "metadata": {},
   "outputs": [
    {
     "name": "stdout",
     "output_type": "stream",
     "text": [
      "안녕하세요, 제 이름은 John이고 나이는 15살입니다.\n",
      "안녕하세요, 제 이름은 Jane이고 나이는 14살입니다.\n"
     ]
    }
   ],
   "source": [
    "student1 = Student(\"John\", 15)\n",
    "student2 = Student(\"Jane\", 14)\n",
    "\n",
    "student1.introduce()  # 출력: 안녕하세요, 제 이름은 John이고 나이는 15살입니다.\n",
    "student2.introduce()  # 출력: 안녕하세요, 제 이름은 Jane이고 나이는 14살입니다."
   ]
  },
  {
   "cell_type": "code",
   "execution_count": 10,
   "metadata": {},
   "outputs": [
    {
     "name": "stdout",
     "output_type": "stream",
     "text": [
      "0\n",
      "1\n",
      "2\n"
     ]
    }
   ],
   "source": [
    "class Student:\n",
    "    count = 0  # 모든 학생들에게 공통되는 속성\n",
    "\n",
    "    def __init__(self, name, age):\n",
    "        self.name = name\n",
    "        self.age = age\n",
    "        Student.count += 1\n",
    "\n",
    "    def introduce(self):\n",
    "        print(f\"안녕하세요, 제 이름은 {self.name}이고 나이는 {self.age}살입니다.\")\n",
    "\n",
    "print(Student.count)   # 출력: 0\n",
    "\n",
    "student1 = Student(\"John\", 15)\n",
    "print(Student.count)   # 출력: 1\n",
    "\n",
    "student2 = Student(\"Jane\", 14)\n",
    "print(Student.count)   # 출력: 2"
   ]
  },
  {
   "cell_type": "code",
   "execution_count": 11,
   "metadata": {},
   "outputs": [
    {
     "name": "stdout",
     "output_type": "stream",
     "text": [
      "John\n",
      "Jane\n"
     ]
    }
   ],
   "source": [
    "class Student:\n",
    "    def __init__(self, name, age):\n",
    "        self.name = name  # 인스턴수 변수\n",
    "        self.age = age  # 인스턴수 변수\n",
    "\n",
    "student1 = Student(\"John\", 15)\n",
    "student2 = Student(\"Jane\", 14)\n",
    "\n",
    "print(student1.name)   # 출력: John\n",
    "print(student2.name)   # 출력: Jane"
   ]
  },
  {
   "cell_type": "code",
   "execution_count": 12,
   "metadata": {},
   "outputs": [
    {
     "name": "stdout",
     "output_type": "stream",
     "text": [
      "2\n"
     ]
    }
   ],
   "source": [
    "class Student:\n",
    "    count = 0  # 클래스변수\n",
    "\n",
    "    def __init__(self, name, age):\n",
    "        self.name = name  \n",
    "        self.age = age  \n",
    "        Student.count += 1\n",
    "\n",
    "student1 = Student(\"John\", 15)\n",
    "student2 = Student(\"Jane\", 14)\n",
    "\n",
    "print(Student.count)   # 출력: 2"
   ]
  },
  {
   "cell_type": "markdown",
   "metadata": {},
   "source": [
    "### Chapter 11: 파이썬 모듈과 패키지"
   ]
  },
  {
   "cell_type": "code",
   "execution_count": 16,
   "metadata": {},
   "outputs": [],
   "source": [
    "# greetings.py\n",
    "\n",
    "def say_hello(name):\n",
    "    print(f\"안녕하세요, {name}님!\")\n",
    "\n",
    "def say_goodbye(name):\n",
    "    print(f\"안녕히 가세요, {name}님!\")\n",
    "\n",
    "greetings = \"\"\"\n",
    "def say_hello(name):\n",
    "    print(f\"안녕하세요, {name}님!\")\n",
    "\n",
    "def say_goodbye(name):\n",
    "    print(f\"안녕히 가세요, {name}님!\")\n",
    "\"\"\"\n",
    "\n",
    "f=open(\"greetings.py\",\"w\")\n",
    "f.write(greetings)\n",
    "f.close()"
   ]
  },
  {
   "cell_type": "code",
   "execution_count": 17,
   "metadata": {},
   "outputs": [
    {
     "name": "stdout",
     "output_type": "stream",
     "text": [
      "안녕하세요, John님!\n",
      "안녕히 가세요, John님!\n"
     ]
    }
   ],
   "source": [
    "import greetings\n",
    "\n",
    "greetings.say_hello(\"John\")   # 출력: 안녕하세요, John님!\n",
    "greetings.say_goodbye(\"John\") # 출력: 안녕히 가세요, John님!"
   ]
  },
  {
   "cell_type": "code",
   "execution_count": 18,
   "metadata": {},
   "outputs": [
    {
     "name": "stdout",
     "output_type": "stream",
     "text": [
      "안녕하세요, Jane님!\n"
     ]
    }
   ],
   "source": [
    "from greetings import say_hello\n",
    "\n",
    "say_hello(\"Jane\")   # 출력: 안녕하세요, Jane님!"
   ]
  },
  {
   "cell_type": "code",
   "execution_count": 20,
   "metadata": {},
   "outputs": [
    {
     "name": "stdout",
     "output_type": "stream",
     "text": [
      "sin(45°):  0.7071067811865476\n",
      "cos(45°):  0.7071067811865476\n",
      "π:  3.141592653589793\n"
     ]
    }
   ],
   "source": [
    "import math\n",
    "\n",
    "angle_in_degrees = 45\n",
    "angle_in_radians = math.radians(angle_in_degrees)  # 각도를 라디안으로 변환\n",
    "\n",
    "print(\"sin(45°): \", math.sin(angle_in_radians))    # 출력: sin(45°): 0.7071067811865476\n",
    "print(\"cos(45°): \", math.cos(angle_in_radians))    # 출력: cos(45°): 0.7071067811865476\n",
    "print(\"π: \", math.pi)                              # 출력: π: 3.141592653589793"
   ]
  },
  {
   "cell_type": "code",
   "execution_count": 21,
   "metadata": {},
   "outputs": [
    {
     "name": "stdout",
     "output_type": "stream",
     "text": [
      "e^2:  7.38905609893065\n",
      "log_e(7.38905609893065):  2.0\n"
     ]
    }
   ],
   "source": [
    "import math\n",
    "\n",
    "x = 2\n",
    "\n",
    "print(\"e^2: \", math.exp(x))                        # 출력: e^2: 7.38905609893065\n",
    "print(\"log_e(7.38905609893065): \", math.log(math.exp(x)))   # 출력: log_e(7.38905609893065): 2.0 "
   ]
  },
  {
   "cell_type": "code",
   "execution_count": 22,
   "metadata": {},
   "outputs": [
    {
     "name": "stdout",
     "output_type": "stream",
     "text": [
      "4^2: 16.0\n",
      "sqrt(16): 4.0\n"
     ]
    }
   ],
   "source": [
    "import math\n",
    "\n",
    "x = 4\n",
    "y = 2\n",
    "\n",
    "print(\"4^2:\", math.pow(x, y))                      # 출력 : \"4^2:\"16 \n",
    "print(\"sqrt(16):\",math.sqrt(math.pow(x, y)))       # 출력 : \"sqrt(16)\":4 "
   ]
  },
  {
   "cell_type": "code",
   "execution_count": 23,
   "metadata": {},
   "outputs": [
    {
     "name": "stdout",
     "output_type": "stream",
     "text": [
      "현재 날짜와 시간:  2023-09-17 14:05:39.510941\n"
     ]
    }
   ],
   "source": [
    "import datetime\n",
    "\n",
    "now = datetime.datetime.now()\n",
    "print(\"현재 날짜와 시간: \", now)  \n",
    "# 출력 형태: \"현재 날짜와 시간: 2023-09-16 23:44:40.123456\" (실행한 시점에 따라 결과는 다르게 나타납니다)"
   ]
  },
  {
   "cell_type": "code",
   "execution_count": 24,
   "metadata": {},
   "outputs": [
    {
     "name": "stdout",
     "output_type": "stream",
     "text": [
      "특정 날짜와 시간:  2023-09-16 23:44:40\n"
     ]
    }
   ],
   "source": [
    "import datetime\n",
    "\n",
    "some_day = datetime.datetime(2023, 9, 16, 23, 44, 40)\n",
    "print(\"특정 날짜와 시간: \", some_day)  \n",
    "# 출력 형태: \"특정 날짜와 시간: 2023-09-16 23:44:40\""
   ]
  },
  {
   "cell_type": "code",
   "execution_count": 25,
   "metadata": {},
   "outputs": [
    {
     "name": "stdout",
     "output_type": "stream",
     "text": [
      "두 날짜 사이의 차이는 366일입니다.\n"
     ]
    }
   ],
   "source": [
    "import datetime\n",
    "\n",
    "date1 = datetime.date(2023,9,16)\n",
    "date2 = datetime.date(2024,9,16)\n",
    "\n",
    "diff = date2 - date1\n",
    "print(\"두 날짜 사이의 차이는 {}일입니다.\".format(diff.days))  \n",
    "# 출력 형태 : \"두 날짜 사이의 차이는 365일입니다.\""
   ]
  },
  {
   "cell_type": "code",
   "execution_count": 29,
   "metadata": {},
   "outputs": [
    {
     "name": "stdout",
     "output_type": "stream",
     "text": [
      "현재 디렉토리:  c:\\JAKorea\\JAkorea\\JAkorea\\Chat GPT\n"
     ]
    }
   ],
   "source": [
    "import os\n",
    "\n",
    "current_dir = os.getcwd()\n",
    "print(\"현재 디렉토리: \", current_dir)"
   ]
  },
  {
   "cell_type": "code",
   "execution_count": 30,
   "metadata": {},
   "outputs": [
    {
     "name": "stdout",
     "output_type": "stream",
     "text": [
      "변경된 디렉토리:  c:\\JAKorea\\JAkorea\n"
     ]
    }
   ],
   "source": [
    "import os\n",
    "\n",
    "os.chdir('../')  # '/path/to/your/directory'를 원하는 경로로 변경해주세요.\n",
    "print(\"변경된 디렉토리: \", os.getcwd())"
   ]
  },
  {
   "cell_type": "code",
   "execution_count": 31,
   "metadata": {},
   "outputs": [
    {
     "name": "stdout",
     "output_type": "stream",
     "text": [
      "['.git', 'JAkorea', 'README.md']\n"
     ]
    }
   ],
   "source": [
    "import os\n",
    "\n",
    "files_and_dirs = os.listdir('.')  # 현재 디렉토리의 파일 및 하위 디렉토리 목록 출력\n",
    "print(files_and_dirs)"
   ]
  },
  {
   "cell_type": "code",
   "execution_count": 32,
   "metadata": {},
   "outputs": [
    {
     "name": "stdout",
     "output_type": "stream",
     "text": [
      "['.git', 'JAkorea', 'new_directory', 'README.md']\n"
     ]
    }
   ],
   "source": [
    "import os\n",
    "\n",
    "os.mkdir('new_directory')  # 현재 작업 경로에 'new_directory'라는 이름의 새 폴더 생성\n",
    "print(os.listdir('.'))  # 새롭게 생성된 폴더가 포함된 파일 및 하위 디렉토리 목록 출력"
   ]
  },
  {
   "cell_type": "code",
   "execution_count": 33,
   "metadata": {},
   "outputs": [
    {
     "name": "stdout",
     "output_type": "stream",
     "text": [
      "['.git', 'JAkorea', 'README.md', 'renamed_directory']\n"
     ]
    }
   ],
   "source": [
    "import os\n",
    "\n",
    "os.rename('new_directory', 'renamed_directory')  # 'new_directory'를 'renamed_directory'로 이름 변경 \n",
    "print(os.listdir('.'))  # 이름이 바뀐 폴더가 포함된 파일 및 하위 디렉토리 목록 출력 "
   ]
  },
  {
   "cell_type": "code",
   "execution_count": 34,
   "metadata": {},
   "outputs": [
    {
     "name": "stdout",
     "output_type": "stream",
     "text": [
      "0.7538708426110612\n"
     ]
    }
   ],
   "source": [
    "import random\n",
    "\n",
    "print(random.random()) "
   ]
  },
  {
   "cell_type": "code",
   "execution_count": 35,
   "metadata": {},
   "outputs": [
    {
     "name": "stdout",
     "output_type": "stream",
     "text": [
      "2\n"
     ]
    }
   ],
   "source": [
    "import random\n",
    "\n",
    "print(random.randint(1, 10))  "
   ]
  },
  {
   "cell_type": "code",
   "execution_count": 36,
   "metadata": {},
   "outputs": [
    {
     "name": "stdout",
     "output_type": "stream",
     "text": [
      "[1, 5, 4, 2, 3]\n"
     ]
    }
   ],
   "source": [
    "import random\n",
    "\n",
    "numbers = [1, 2, 3, 4, 5]\n",
    "random.shuffle(numbers)\n",
    "print(numbers) "
   ]
  },
  {
   "cell_type": "code",
   "execution_count": 37,
   "metadata": {},
   "outputs": [
    {
     "name": "stdout",
     "output_type": "stream",
     "text": [
      "banana\n"
     ]
    }
   ],
   "source": [
    "import random\n",
    "\n",
    "fruits = ['apple', 'banana', 'cherry']\n",
    "print(random.choice(fruits))  "
   ]
  },
  {
   "cell_type": "code",
   "execution_count": 38,
   "metadata": {},
   "outputs": [
    {
     "name": "stdout",
     "output_type": "stream",
     "text": [
      "[3, 5, 1, 2, 4]\n"
     ]
    }
   ],
   "source": [
    "import random\n",
    "\n",
    "numbers = [1, 2, 3, 4, 5]\n",
    "random.shuffle(numbers)\n",
    "print(numbers) "
   ]
  },
  {
   "cell_type": "code",
   "execution_count": 39,
   "metadata": {},
   "outputs": [
    {
     "name": "stdout",
     "output_type": "stream",
     "text": [
      "[5, 1, 2]\n"
     ]
    }
   ],
   "source": [
    "import random\n",
    "\n",
    "numbers = [1, 2, 3, 4, 5]\n",
    "print(random.sample(numbers, 3)) "
   ]
  },
  {
   "cell_type": "code",
   "execution_count": 60,
   "metadata": {},
   "outputs": [
    {
     "name": "stdout",
     "output_type": "stream",
     "text": [
      "현재 디렉토리:  C:\\JAKorea\\JAkorea\\JAkorea\\Chat GPT\\src\n"
     ]
    }
   ],
   "source": [
    "# animals/\n",
    "#     __init__.py\n",
    "#     bird.py\n",
    "#     mammal.py\n",
    "\n",
    "import os\n",
    "\n",
    "current_dir = os.getcwd()\n",
    "print(\"현재 디렉토리: \", current_dir)\n",
    "os.chdir('C:/JAKorea/JAkorea/JAkorea/Chat GPT/src/') #dir 변경\n",
    "if not os.path.exists('animals'):\n",
    "    os.mkdir('animals')\n",
    "\n",
    "file = open(\"./animals/bird.py\", 'w')\n",
    "birs_fly = \"\"\"\n",
    "def fly():\n",
    "    print(\"새가 날아 갑니다\")\n",
    "\"\"\"\n",
    "file.write(birs_fly)\n",
    "file.close()\n",
    "file = open(\"./animals/__init__.py\", 'w')\n",
    "file.write(\"pass\")\n",
    "file.close()\n",
    "file = open(\"./animals/mammal.py\", 'w')\n",
    "file.write(\"pass\")\n",
    "file.close()\n"
   ]
  },
  {
   "cell_type": "code",
   "execution_count": 58,
   "metadata": {},
   "outputs": [
    {
     "name": "stdout",
     "output_type": "stream",
     "text": [
      "새가 날아 갑니다\n"
     ]
    }
   ],
   "source": [
    "from animals.bird import fly\n",
    "\n",
    "fly()"
   ]
  },
  {
   "cell_type": "code",
   "execution_count": 59,
   "metadata": {},
   "outputs": [
    {
     "name": "stdout",
     "output_type": "stream",
     "text": [
      "새가 날아 갑니다\n"
     ]
    }
   ],
   "source": [
    "import animals.bird as bird\n",
    "\n",
    "bird.fly()"
   ]
  },
  {
   "cell_type": "code",
   "execution_count": null,
   "metadata": {},
   "outputs": [],
   "source": []
  }
 ],
 "metadata": {
  "kernelspec": {
   "display_name": "base",
   "language": "python",
   "name": "python3"
  },
  "language_info": {
   "codemirror_mode": {
    "name": "ipython",
    "version": 3
   },
   "file_extension": ".py",
   "mimetype": "text/x-python",
   "name": "python",
   "nbconvert_exporter": "python",
   "pygments_lexer": "ipython3",
   "version": "3.11.4"
  },
  "orig_nbformat": 4
 },
 "nbformat": 4,
 "nbformat_minor": 2
}
