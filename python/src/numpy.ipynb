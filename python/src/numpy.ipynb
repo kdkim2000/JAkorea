{
 "cells": [
  {
   "cell_type": "code",
   "execution_count": 33,
   "metadata": {},
   "outputs": [
    {
     "name": "stdout",
     "output_type": "stream",
     "text": [
      "Collecting numpy==1.24.3\n",
      "  Downloading numpy-1.24.3-cp311-cp311-win_amd64.whl (14.8 MB)\n",
      "     ---------------------------------------- 0.0/14.8 MB ? eta -:--:--\n",
      "     ---------------------------------------- 0.1/14.8 MB 3.6 MB/s eta 0:00:05\n",
      "      --------------------------------------- 0.2/14.8 MB 2.9 MB/s eta 0:00:06\n",
      "      --------------------------------------- 0.3/14.8 MB 3.2 MB/s eta 0:00:05\n",
      "     - -------------------------------------- 0.4/14.8 MB 2.3 MB/s eta 0:00:07\n",
      "     - -------------------------------------- 0.5/14.8 MB 2.4 MB/s eta 0:00:06\n",
      "     -- ------------------------------------- 0.8/14.8 MB 2.8 MB/s eta 0:00:05\n",
      "     -- ------------------------------------- 1.0/14.8 MB 3.2 MB/s eta 0:00:05\n",
      "     --- ------------------------------------ 1.2/14.8 MB 3.4 MB/s eta 0:00:04\n",
      "     --- ------------------------------------ 1.3/14.8 MB 3.5 MB/s eta 0:00:04\n",
      "     --- ------------------------------------ 1.5/14.8 MB 3.3 MB/s eta 0:00:05\n",
      "     ---- ----------------------------------- 1.7/14.8 MB 3.6 MB/s eta 0:00:04\n",
      "     ----- ---------------------------------- 2.0/14.8 MB 3.8 MB/s eta 0:00:04\n",
      "     ------ --------------------------------- 2.3/14.8 MB 4.0 MB/s eta 0:00:04\n",
      "     ------- -------------------------------- 2.7/14.8 MB 4.2 MB/s eta 0:00:03\n",
      "     -------- ------------------------------- 3.0/14.8 MB 4.4 MB/s eta 0:00:03\n",
      "     -------- ------------------------------- 3.3/14.8 MB 4.6 MB/s eta 0:00:03\n",
      "     --------- ------------------------------ 3.7/14.8 MB 4.8 MB/s eta 0:00:03\n",
      "     ---------- ----------------------------- 3.9/14.8 MB 4.8 MB/s eta 0:00:03\n",
      "     ----------- ---------------------------- 4.2/14.8 MB 5.0 MB/s eta 0:00:03\n",
      "     ------------ --------------------------- 4.5/14.8 MB 5.1 MB/s eta 0:00:03\n",
      "     ------------ --------------------------- 4.7/14.8 MB 5.0 MB/s eta 0:00:03\n",
      "     ------------- -------------------------- 4.9/14.8 MB 4.9 MB/s eta 0:00:03\n",
      "     ------------- -------------------------- 5.2/14.8 MB 5.0 MB/s eta 0:00:02\n",
      "     -------------- ------------------------- 5.5/14.8 MB 5.1 MB/s eta 0:00:02\n",
      "     --------------- ------------------------ 5.7/14.8 MB 5.1 MB/s eta 0:00:02\n",
      "     ---------------- ----------------------- 6.0/14.8 MB 5.1 MB/s eta 0:00:02\n",
      "     ---------------- ----------------------- 6.1/14.8 MB 5.0 MB/s eta 0:00:02\n",
      "     ----------------- ---------------------- 6.3/14.8 MB 5.0 MB/s eta 0:00:02\n",
      "     ----------------- ---------------------- 6.6/14.8 MB 5.0 MB/s eta 0:00:02\n",
      "     ------------------ --------------------- 6.8/14.8 MB 5.0 MB/s eta 0:00:02\n",
      "     ------------------- -------------------- 7.1/14.8 MB 5.0 MB/s eta 0:00:02\n",
      "     ------------------- -------------------- 7.3/14.8 MB 5.0 MB/s eta 0:00:02\n",
      "     -------------------- ------------------- 7.6/14.8 MB 5.1 MB/s eta 0:00:02\n",
      "     --------------------- ------------------ 8.0/14.8 MB 5.2 MB/s eta 0:00:02\n",
      "     ---------------------- ----------------- 8.3/14.8 MB 5.2 MB/s eta 0:00:02\n",
      "     ---------------------- ----------------- 8.4/14.8 MB 5.2 MB/s eta 0:00:02\n",
      "     ---------------------- ----------------- 8.4/14.8 MB 5.2 MB/s eta 0:00:02\n",
      "     ----------------------- ---------------- 8.7/14.8 MB 5.0 MB/s eta 0:00:02\n",
      "     ------------------------ --------------- 8.9/14.8 MB 5.1 MB/s eta 0:00:02\n",
      "     ------------------------ --------------- 9.2/14.8 MB 5.1 MB/s eta 0:00:02\n",
      "     ------------------------- -------------- 9.6/14.8 MB 5.2 MB/s eta 0:00:02\n",
      "     -------------------------- ------------- 10.0/14.8 MB 5.2 MB/s eta 0:00:01\n",
      "     --------------------------- ------------ 10.3/14.8 MB 5.2 MB/s eta 0:00:01\n",
      "     ---------------------------- ----------- 10.6/14.8 MB 5.5 MB/s eta 0:00:01\n",
      "     ----------------------------- ---------- 11.0/14.8 MB 5.7 MB/s eta 0:00:01\n",
      "     ------------------------------ --------- 11.4/14.8 MB 5.8 MB/s eta 0:00:01\n",
      "     ------------------------------- -------- 11.7/14.8 MB 6.1 MB/s eta 0:00:01\n",
      "     -------------------------------- ------- 12.1/14.8 MB 6.1 MB/s eta 0:00:01\n",
      "     --------------------------------- ------ 12.4/14.8 MB 6.1 MB/s eta 0:00:01\n",
      "     ---------------------------------- ----- 12.6/14.8 MB 6.1 MB/s eta 0:00:01\n",
      "     ---------------------------------- ----- 12.9/14.8 MB 6.1 MB/s eta 0:00:01\n",
      "     ---------------------------------- ----- 12.9/14.8 MB 5.9 MB/s eta 0:00:01\n",
      "     ------------------------------------ --- 13.6/14.8 MB 6.1 MB/s eta 0:00:01\n",
      "     ------------------------------------- -- 13.9/14.8 MB 6.1 MB/s eta 0:00:01\n",
      "     -------------------------------------- - 14.3/14.8 MB 6.1 MB/s eta 0:00:01\n",
      "     ---------------------------------------  14.6/14.8 MB 6.1 MB/s eta 0:00:01\n",
      "     ---------------------------------------  14.8/14.8 MB 6.2 MB/s eta 0:00:01\n",
      "     ---------------------------------------- 14.8/14.8 MB 6.1 MB/s eta 0:00:00\n",
      "Installing collected packages: numpy\n",
      "  Attempting uninstall: numpy\n",
      "    Found existing installation: numpy 1.26.0\n",
      "    Uninstalling numpy-1.26.0:\n",
      "      Successfully uninstalled numpy-1.26.0\n",
      "Successfully installed numpy-1.24.3\n"
     ]
    },
    {
     "name": "stderr",
     "output_type": "stream",
     "text": [
      "ERROR: pip's dependency resolver does not currently take into account all the packages that are installed. This behaviour is the source of the following dependency conflicts.\n",
      "gensim 4.3.0 requires FuzzyTM>=0.4.0, which is not installed.\n",
      "tables 3.8.0 requires blosc2~=2.0.0, which is not installed.\n",
      "tables 3.8.0 requires cython>=0.29.21, which is not installed.\n",
      "transformers 2.1.1 requires sentencepiece, which is not installed.\n"
     ]
    },
    {
     "name": "stdout",
     "output_type": "stream",
     "text": [
      "Python 3.11.4\n"
     ]
    },
    {
     "data": {
      "text/plain": [
       "'1.24.3'"
      ]
     },
     "execution_count": 33,
     "metadata": {},
     "output_type": "execute_result"
    }
   ],
   "source": [
    "#!pip install --upgrade numpy\n",
    "!pip install numpy==1.24.3\n",
    "!python -V\n",
    "np.__version__"
   ]
  },
  {
   "cell_type": "code",
   "execution_count": 19,
   "metadata": {},
   "outputs": [
    {
     "name": "stdout",
     "output_type": "stream",
     "text": [
      "[1 2 3]\n",
      "<class 'numpy.ndarray'>\n",
      "(3,)\n"
     ]
    }
   ],
   "source": [
    "# numpy 패키지를 np라는 이름으로 불러옵니다.\n",
    "import numpy as np\n",
    "\n",
    "# 1차원 배열 생성\n",
    "arr1 = np.array([1, 2, 3])\n",
    "print(arr1)\n",
    "print(type(arr1))\n",
    "print(arr1.shape)"
   ]
  },
  {
   "cell_type": "code",
   "execution_count": 28,
   "metadata": {},
   "outputs": [
    {
     "name": "stdout",
     "output_type": "stream",
     "text": [
      "[[1 2 3]\n",
      " [4 5 6]\n",
      " [7 8 9]]\n",
      "<class 'numpy.ndarray'>\n",
      "(3, 3)\n",
      "9\n"
     ]
    }
   ],
   "source": [
    "arr2 = np.array([[1,2,3],[4,5,6],[7,8,9]])\n",
    "print(arr2)\n",
    "print(type(arr2))\n",
    "print(arr2.shape)\n",
    "print(arr2.size)"
   ]
  },
  {
   "cell_type": "code",
   "execution_count": 45,
   "metadata": {},
   "outputs": [
    {
     "name": "stdout",
     "output_type": "stream",
     "text": [
      "[1 2 3]\n",
      "[[1 2 3]\n",
      " [4 5 6]]\n",
      "6\n",
      "2\n",
      "Shape of arr1: (3,)\n",
      "Shape of arr2: (2, 3)\n",
      "Data type of arr1: int32\n",
      "Data type of arr2: int32\n",
      "[0 1 2 3 4 5 6 7 8 9]\n",
      "10\n",
      "10\n",
      "[[7 7 7 7]\n",
      " [7 7 7 7]\n",
      " [7 7 7 7]]\n",
      "12\n",
      "3\n"
     ]
    }
   ],
   "source": [
    "# numpy 패키지를 np라는 이름으로 불러옵니다.\n",
    "import numpy as np\n",
    "\n",
    "# 1차원 배열 생성\n",
    "arr1 = np.array([1, 2, 3])\n",
    "print(arr1)\n",
    "# 2차원 배열 생성\n",
    "arr2 = np.array([[1, 2, 3], [4, 5, 6]])\n",
    "print(arr2)\n",
    "print(arr2.size)\n",
    "print(len(arr2))\n",
    "# 배열의 크기 확인\n",
    "print(\"Shape of arr1:\", arr1.shape)\n",
    "print(\"Shape of arr2:\", arr2.shape)\n",
    "\n",
    "# 배열의 원소 타입 확인\n",
    "print(\"Data type of arr1:\", arr1.dtype)\n",
    "print(\"Data type of arr2:\", arr2.dtype)\n",
    "\n",
    "# 범위를 지정하여 배열 생성 \n",
    "arr3 = np.arange(10) \n",
    "print(arr3)\n",
    "print(arr3.size)\n",
    "print(len(arr3))\n",
    "# 특정 값으로 채워진 배열 생성 (0부터 시작해서 크기가 (3,4)인 행렬을 만들고 모든 원소를 7로 초기화)\n",
    "arr4 = np.full((3,4),7) \n",
    "print(arr4)\n",
    "print(arr4.size)\n",
    "print(len(arr4))\n",
    "\n"
   ]
  },
  {
   "cell_type": "code",
   "execution_count": 48,
   "metadata": {},
   "outputs": [
    {
     "name": "stdout",
     "output_type": "stream",
     "text": [
      "[[0. 0. 0.]\n",
      " [0. 0. 0.]\n",
      " [0. 0. 0.]]\n",
      "[[1. 1. 1.]\n",
      " [1. 1. 1.]\n",
      " [1. 1. 1.]]\n"
     ]
    }
   ],
   "source": [
    "arr = np.zeros((3,3))\n",
    "print(arr)\n",
    "\n",
    "arr = np.ones((3,3))\n",
    "print(arr)"
   ]
  },
  {
   "cell_type": "code",
   "execution_count": 53,
   "metadata": {},
   "outputs": [
    {
     "name": "stdout",
     "output_type": "stream",
     "text": [
      "[[1 2 3 4 5 6]\n",
      " [1 2 3 4 5 6]]\n",
      "(2, 6)\n"
     ]
    },
    {
     "data": {
      "text/plain": [
       "array([[1, 2, 3, 4],\n",
       "       [5, 6, 1, 2],\n",
       "       [3, 4, 5, 6]])"
      ]
     },
     "execution_count": 53,
     "metadata": {},
     "output_type": "execute_result"
    }
   ],
   "source": [
    "arr = np.array([[1,2,3,4,5,6],[1,2,3,4,5,6]])\n",
    "print(arr)\n",
    "print(arr.shape)\n",
    "arr.reshape(3,4)\n"
   ]
  },
  {
   "cell_type": "code",
   "execution_count": 58,
   "metadata": {},
   "outputs": [
    {
     "name": "stdout",
     "output_type": "stream",
     "text": [
      "(3, 3)\n",
      "[[1. 0. 0.]\n",
      " [0. 1. 0.]\n",
      " [0. 0. 1.]]\n",
      "[[2 2 2]\n",
      " [2 2 2]\n",
      " [2 2 2]]\n"
     ]
    }
   ],
   "source": [
    "arr1 = np.eye(3)\n",
    "print(arr1.shape)\n",
    "print(arr1)\n",
    "arr2 = np.full((3,3),2)\n",
    "print(arr2)"
   ]
  },
  {
   "cell_type": "code",
   "execution_count": 63,
   "metadata": {},
   "outputs": [
    {
     "name": "stdout",
     "output_type": "stream",
     "text": [
      "[[2. 0. 0.]\n",
      " [0. 2. 0.]\n",
      " [0. 0. 2.]]\n",
      "[[2. 2. 2.]\n",
      " [2. 2. 2.]\n",
      " [2. 2. 2.]]\n"
     ]
    }
   ],
   "source": [
    "arr3 = arr1 * arr2\n",
    "print(arr3)\n",
    "arr4 = np.dot(arr1,arr2)\n",
    "print(arr4)"
   ]
  },
  {
   "cell_type": "markdown",
   "metadata": {},
   "source": [
    "| 함수                    | 설명                                                                                             | 예제                            |\n",
    "|-----------------------|------------------------------------------------------------------------------------------------|---------------------------------|\n",
    "| `np.array(iterable)` | 주어진 `iterable`에서 NumPy 배열을 생성합니다.                                                       | `arr = np.array([1, 2, 3])`      |\n",
    "| `np.zeros(shape)`     | 모든 요소가 0인 지정된 모양(shape)의 배열을 생성합니다.                                      | `zeros_arr = np.zeros((2, 3))`  |\n",
    "| `np.ones(shape)`      | 모든 요소가 1인 지정된 모양(shape)의 배열을 생성합니다.                                      | `ones_arr = np.ones((3, 3))`    |\n",
    "| `np.empty(shape)`     | 초기화되지 않은 지정된 모양(shape)의 배열을 생성합니다.                                    | `empty_arr = np.empty((2, 2))`  |\n",
    "| `np.arange(start, stop, step)` | 주어진 범위에서 일정한 간격으로 값을 생성하여 배열을 만듭니다. | `range_arr = np.arange(0, 10, 2)` |\n",
    "| `np.linspace(start, stop, num)` | 주어진 범위에서 일정한 개수(num)의 값을 생성하여 배열을 만듭니다. | `linspace_arr = np.linspace(0, 1, 5)` |\n",
    "| `np.eye(N)`            | N x N 크기의 단위 행렬(대각선 요소가 1이고 나머지는 0)을 생성합니다.                          | `identity_matrix = np.eye(3)`  |\n",
    "| `np.random.rand(shape)` | 지정된 모양(shape)의 무작위 값 배열을 생성합니다.                                      | `rand_arr = np.random.rand(3, 3)` |\n",
    "| `np.reshape(array, new_shape)` | 배열의 모양(shape)을 변경합니다. | `reshaped_arr = np.reshape(arr, (3, 1))` |\n",
    "| `np.transpose(array)` | 배열의 전치(Transpose) 버전을 생성합니다. | `transposed_arr = np.transpose(arr)` |\n",
    "| `np.max(array)`        | 배열 내의 최댓값을 반환합니다.                                                               | `maximum = np.max(arr)`         |\n",
    "| `np.min(array)`        | 배열 내의 최솟값을 반환합니다.                                                               | `minimum = np.min(arr)`         |\n",
    "| `np.mean(array)`       | 배열의 평균값을 반환합니다.                                                                   | `mean_value = np.mean(arr)`     |\n",
    "| `np.sum(array)`        | 배열의 모든 요소의 합을 반환합니다.                                                           | `total_sum = np.sum(arr)`       |\n",
    "| `np.dot(array1, array2)` | 두 배열의 행렬 곱을 계산합니다.                                                              | `result = np.dot(matrix1, matrix2)` |\n"
   ]
  },
  {
   "cell_type": "code",
   "execution_count": 79,
   "metadata": {},
   "outputs": [
    {
     "name": "stdout",
     "output_type": "stream",
     "text": [
      "[ 0  2  4  6  8 10 12 14 16 18]\n",
      "[1.  1.5 2.  2.5 3.  3.5 4.  4.5 5.  5.5 6.  6.5 7.  7.5 8.  8.5 9.  9.5]\n",
      "[  0.  25.  50.  75. 100.]\n",
      "[[ 1  2  3  4  5  6]\n",
      " [ 7  8  9 10 11 12]\n",
      " [13 14 15 16 17 18]\n",
      " [19 20 21 22 23 24]\n",
      " [25 26 27 28 29 30]\n",
      " [31 32 33 34 35 36]]\n",
      "[[ 1]\n",
      " [ 2]\n",
      " [ 3]\n",
      " [ 4]\n",
      " [ 5]\n",
      " [ 6]\n",
      " [ 7]\n",
      " [ 8]\n",
      " [ 9]\n",
      " [10]\n",
      " [11]\n",
      " [12]\n",
      " [13]\n",
      " [14]\n",
      " [15]\n",
      " [16]\n",
      " [17]\n",
      " [18]\n",
      " [19]\n",
      " [20]\n",
      " [21]\n",
      " [22]\n",
      " [23]\n",
      " [24]\n",
      " [25]\n",
      " [26]\n",
      " [27]\n",
      " [28]\n",
      " [29]\n",
      " [30]\n",
      " [31]\n",
      " [32]\n",
      " [33]\n",
      " [34]\n",
      " [35]\n",
      " [36]]\n",
      "[[ 1  2]\n",
      " [ 3  4]\n",
      " [ 5  6]\n",
      " [ 7  8]\n",
      " [ 9 10]\n",
      " [11 12]\n",
      " [13 14]\n",
      " [15 16]\n",
      " [17 18]\n",
      " [19 20]\n",
      " [21 22]\n",
      " [23 24]\n",
      " [25 26]\n",
      " [27 28]\n",
      " [29 30]\n",
      " [31 32]\n",
      " [33 34]\n",
      " [35 36]]\n",
      "[[ 1  2  3  4  5  6  7  8  9 10 11 12]\n",
      " [13 14 15 16 17 18 19 20 21 22 23 24]\n",
      " [25 26 27 28 29 30 31 32 33 34 35 36]]\n"
     ]
    }
   ],
   "source": [
    "arr = np.arange(0,20,2)\n",
    "print(arr)\n",
    "arr = np.arange(1,10,0.5)\n",
    "print(arr)\n",
    "arr = np.linspace(0,100,5)\n",
    "print(arr)\n",
    "arr = np.arange(1,37)\n",
    "arr1 = arr.reshape(6,6)\n",
    "print(arr1)\n",
    "arr2 = arr.reshape(-1,1)\n",
    "print(arr2)\n",
    "arr3 = arr.reshape(-1,2)\n",
    "print(arr3)\n",
    "arr4 = arr.reshape(3,-2)\n",
    "print(arr4)"
   ]
  },
  {
   "cell_type": "code",
   "execution_count": 85,
   "metadata": {},
   "outputs": [
    {
     "name": "stdout",
     "output_type": "stream",
     "text": [
      "[[1. 2. 3. 4.]\n",
      " [1. 2. 3. 4.]\n",
      " [1. 2. 3. 4.]\n",
      " [1. 2. 3. 4.]]\n",
      "[[1. 1. 1. 1.]\n",
      " [2. 2. 2. 2.]\n",
      " [3. 3. 3. 3.]\n",
      " [4. 4. 4. 4.]]\n",
      "[[0 1 2 3]\n",
      " [1 2 3 4]\n",
      " [2 3 4 5]\n",
      " [3 4 5 6]]\n"
     ]
    }
   ],
   "source": [
    "a=np.ones((4,4))\n",
    "b=np.arange(4)\n",
    "c=b.reshape(4,1)\n",
    "print(a+b)\n",
    "print(a+c)\n",
    "print(b+c)"
   ]
  },
  {
   "cell_type": "code",
   "execution_count": 6,
   "metadata": {},
   "outputs": [
    {
     "name": "stdout",
     "output_type": "stream",
     "text": [
      "[1 2 3 4 5 6 7 8 9]\n",
      "[5 6 7 8]\n",
      "[6 7 8]\n",
      "[2]\n",
      "[4 6 8]\n"
     ]
    }
   ],
   "source": [
    "import numpy as np\n",
    "a = np.array([1,2,3,4,5,6,7,8,9])\n",
    "print(a)\n",
    "print(a[4:8])\n",
    "print(a[5:-1])\n",
    "print(a[1:3:2])\n",
    "print(a[3:8:2])"
   ]
  },
  {
   "cell_type": "code",
   "execution_count": 14,
   "metadata": {},
   "outputs": [
    {
     "name": "stdout",
     "output_type": "stream",
     "text": [
      "[[1 2 3]\n",
      " [4 5 6]\n",
      " [7 8 9]]\n",
      "[1 2 3]\n",
      "[4 5 6]\n",
      "[7 8 9]\n",
      "2\n",
      "[[1 2 3]]\n",
      "[[1 2 3]\n",
      " [4 5 6]]\n",
      "[[1 2 3]\n",
      " [4 5 6]\n",
      " [7 8 9]]\n",
      "[[1 2 3]\n",
      " [4 5 6]]\n",
      "[[2 3]\n",
      " [5 6]\n",
      " [8 9]]\n",
      "[[1 2]]\n",
      "[[5]]\n",
      "[7 8 9]\n"
     ]
    }
   ],
   "source": [
    "a=np.arange(1,10).reshape(3,3)\n",
    "print(a)\n",
    "print(a[0])\n",
    "print(a[1])\n",
    "print(a[2])\n",
    "print(a[0][1])\n",
    "print(a[0:1])\n",
    "print(a[0:2])\n",
    "print(a[0:3])\n",
    "print(a[0:-1])\n",
    "print(a[:,1:])\n",
    "print(a[:1,:2])\n",
    "print(a[1:2,1:2])\n",
    "print(a[2,:])"
   ]
  },
  {
   "cell_type": "code",
   "execution_count": 15,
   "metadata": {},
   "outputs": [
    {
     "name": "stdout",
     "output_type": "stream",
     "text": [
      "[[ 1  2  3  4  5]\n",
      " [ 6  7  8  9 10]\n",
      " [11 12 13 14 15]\n",
      " [16 17 18 19 20]\n",
      " [21 22 23 24 25]]\n",
      "[[ 2  3]\n",
      " [ 7  8]\n",
      " [12 13]]\n",
      "[[ 6  7  8  9 10]\n",
      " [11 12 13 14 15]]\n"
     ]
    }
   ],
   "source": [
    "a=np.arange(1,26).reshape(5,5)\n",
    "print(a)\n",
    "print(a[:3,1:3])\n",
    "print(a[0:3][1:3])"
   ]
  },
  {
   "cell_type": "code",
   "execution_count": 24,
   "metadata": {},
   "outputs": [
    {
     "name": "stdout",
     "output_type": "stream",
     "text": [
      "[[ 1  2  3  4  5]\n",
      " [ 6  7  8  9 10]\n",
      " [11 12 13 14 15]\n",
      " [16 17 18 19 20]\n",
      " [21 22 23 24 25]]\n",
      "[[ 1  2  3]\n",
      " [ 6  7  8]\n",
      " [11 12 13]]\n",
      "[[  1   2   3]\n",
      " [  6 100   8]\n",
      " [ 11  12  13]]\n",
      "[[  1   2   3   4   5]\n",
      " [  6 100   8   9  10]\n",
      " [ 11  12  13  14  15]\n",
      " [ 16  17  18  19  20]\n",
      " [ 21  22  23  24  25]]\n"
     ]
    }
   ],
   "source": [
    "a=np.arange(1,26).reshape(5,5)\n",
    "print(a)\n",
    "a1 = a[:3,:3]\n",
    "print(a1)\n",
    "a1[1][1]=100\n",
    "print(a1)\n",
    "print(a)"
   ]
  },
  {
   "cell_type": "code",
   "execution_count": 23,
   "metadata": {},
   "outputs": [
    {
     "name": "stdout",
     "output_type": "stream",
     "text": [
      "[[ 1  2  3  4  5]\n",
      " [ 6  7  8  9 10]\n",
      " [11 12 13 14 15]\n",
      " [16 17 18 19 20]\n",
      " [21 22 23 24 25]]\n",
      "[[ 1  2  3]\n",
      " [ 6  7  8]\n",
      " [11 12 13]]\n",
      "[[  1   2   3]\n",
      " [  6 100   8]\n",
      " [ 11  12  13]]\n",
      "[[ 1  2  3  4  5]\n",
      " [ 6  7  8  9 10]\n",
      " [11 12 13 14 15]\n",
      " [16 17 18 19 20]\n",
      " [21 22 23 24 25]]\n"
     ]
    }
   ],
   "source": [
    "b=np.arange(1,26).reshape(5,5)\n",
    "print(b)\n",
    "b1 = b[:3,:3].copy()\n",
    "print(b1)\n",
    "b1[1][1]=100\n",
    "print(b1)\n",
    "print(b)"
   ]
  },
  {
   "cell_type": "code",
   "execution_count": 32,
   "metadata": {},
   "outputs": [
    {
     "name": "stdout",
     "output_type": "stream",
     "text": [
      "[[[ 1  2  3  4]\n",
      "  [ 5  6  7  8]\n",
      "  [ 9 10 11 12]]\n",
      "\n",
      " [[13 14 15 16]\n",
      "  [17 18 19 20]\n",
      "  [21 22 23 24]]]\n",
      "3\n",
      "[[ 1  2  3  4]\n",
      " [ 5  6  7  8]\n",
      " [ 9 10 11 12]]\n",
      "[ 9 10 11 12]\n",
      "[[13 14]\n",
      " [17 18]\n",
      " [21 22]]\n"
     ]
    }
   ],
   "source": [
    "a=np.arange(1,25).reshape(2,3,4)\n",
    "print(a)\n",
    "print(a.ndim)\n",
    "print(a[0])\n",
    "print(a[0,2])\n",
    "print(a[1, :,:2])"
   ]
  },
  {
   "cell_type": "code",
   "execution_count": null,
   "metadata": {},
   "outputs": [],
   "source": []
  }
 ],
 "metadata": {
  "kernelspec": {
   "display_name": "base",
   "language": "python",
   "name": "python3"
  },
  "language_info": {
   "codemirror_mode": {
    "name": "ipython",
    "version": 3
   },
   "file_extension": ".py",
   "mimetype": "text/x-python",
   "name": "python",
   "nbconvert_exporter": "python",
   "pygments_lexer": "ipython3",
   "version": "3.11.4"
  },
  "orig_nbformat": 4
 },
 "nbformat": 4,
 "nbformat_minor": 2
}
