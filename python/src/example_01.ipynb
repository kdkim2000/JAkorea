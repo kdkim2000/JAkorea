{
 "cells": [
  {
   "cell_type": "markdown",
   "metadata": {},
   "source": [
    "### 구구단 출력하기\n"
   ]
  },
  {
   "cell_type": "code",
   "execution_count": 89,
   "metadata": {},
   "outputs": [
    {
     "name": "stdout",
     "output_type": "stream",
     "text": [
      "2  * 1  = 2 \n",
      "2  * 2  = 4 \n",
      "2  * 3  = 6 \n",
      "2  * 4  = 8 \n",
      "2  * 5  = 10\n",
      "2  * 6  = 12\n",
      "2  * 7  = 14\n",
      "2  * 8  = 16\n",
      "2  * 9  = 18\n"
     ]
    }
   ],
   "source": [
    "n = 2\n",
    "for i in range(1,10):\n",
    "    print(\"{0:<2} * {1:<2} = {2:<2}\". format(n, i, n*i)) "
   ]
  },
  {
   "cell_type": "markdown",
   "metadata": {},
   "source": [
    "### 구구단 출력 함수 만들기"
   ]
  },
  {
   "cell_type": "code",
   "execution_count": 5,
   "metadata": {},
   "outputs": [
    {
     "name": "stdout",
     "output_type": "stream",
     "text": [
      "2 * 1 = 2\n",
      "2 * 2 = 4\n",
      "2 * 3 = 6\n",
      "2 * 4 = 8\n",
      "2 * 5 = 10\n",
      "2 * 6 = 12\n",
      "2 * 7 = 14\n",
      "2 * 8 = 16\n",
      "2 * 9 = 18\n"
     ]
    }
   ],
   "source": [
    "def gugudan(n):\n",
    "    for i in range(1,10):\n",
    "        print(\"{0} * {1} = {2}\". format(n, i, n*i)) \n",
    "gugudan(2)"
   ]
  },
  {
   "cell_type": "markdown",
   "metadata": {},
   "source": [
    "### 구구단 2 ~ 9단 까지 출력"
   ]
  },
  {
   "cell_type": "code",
   "execution_count": 90,
   "metadata": {},
   "outputs": [
    {
     "name": "stdout",
     "output_type": "stream",
     "text": [
      "1  * 1  = 1 \t1  * 2  = 2 \t1  * 3  = 3 \t1  * 4  = 4 \t1  * 5  = 5 \t1  * 6  = 6 \t1  * 7  = 7 \t1  * 8  = 8 \t1  * 9  = 9 \t\n",
      "2  * 1  = 2 \t2  * 2  = 4 \t2  * 3  = 6 \t2  * 4  = 8 \t2  * 5  = 10\t2  * 6  = 12\t2  * 7  = 14\t2  * 8  = 16\t2  * 9  = 18\t\n",
      "3  * 1  = 3 \t3  * 2  = 6 \t3  * 3  = 9 \t3  * 4  = 12\t3  * 5  = 15\t3  * 6  = 18\t3  * 7  = 21\t3  * 8  = 24\t3  * 9  = 27\t\n",
      "4  * 1  = 4 \t4  * 2  = 8 \t4  * 3  = 12\t4  * 4  = 16\t4  * 5  = 20\t4  * 6  = 24\t4  * 7  = 28\t4  * 8  = 32\t4  * 9  = 36\t\n",
      "5  * 1  = 5 \t5  * 2  = 10\t5  * 3  = 15\t5  * 4  = 20\t5  * 5  = 25\t5  * 6  = 30\t5  * 7  = 35\t5  * 8  = 40\t5  * 9  = 45\t\n",
      "6  * 1  = 6 \t6  * 2  = 12\t6  * 3  = 18\t6  * 4  = 24\t6  * 5  = 30\t6  * 6  = 36\t6  * 7  = 42\t6  * 8  = 48\t6  * 9  = 54\t\n",
      "7  * 1  = 7 \t7  * 2  = 14\t7  * 3  = 21\t7  * 4  = 28\t7  * 5  = 35\t7  * 6  = 42\t7  * 7  = 49\t7  * 8  = 56\t7  * 9  = 63\t\n",
      "8  * 1  = 8 \t8  * 2  = 16\t8  * 3  = 24\t8  * 4  = 32\t8  * 5  = 40\t8  * 6  = 48\t8  * 7  = 56\t8  * 8  = 64\t8  * 9  = 72\t\n",
      "9  * 1  = 9 \t9  * 2  = 18\t9  * 3  = 27\t9  * 4  = 36\t9  * 5  = 45\t9  * 6  = 54\t9  * 7  = 63\t9  * 8  = 72\t9  * 9  = 81\t\n"
     ]
    }
   ],
   "source": [
    "def gugudan(n):\n",
    "    for i in range(1,10):\n",
    "        print(\"{0:<2} * {1:<2} = {2:<2}\".format(n, i, n*i),end='\\t') \n",
    "for n in range(1,10):\n",
    "    gugudan(n)\n",
    "    print()"
   ]
  },
  {
   "cell_type": "code",
   "execution_count": null,
   "metadata": {},
   "outputs": [],
   "source": [
    "### all, any, ord, chr"
   ]
  },
  {
   "cell_type": "code",
   "execution_count": 40,
   "metadata": {},
   "outputs": [
    {
     "name": "stdout",
     "output_type": "stream",
     "text": [
      "True\n",
      "True\n",
      "False\n",
      "False\n",
      "---\n",
      "True\n",
      "False\n",
      "True\n",
      "False\n",
      "a= 97\n",
      "97= a\n"
     ]
    }
   ],
   "source": [
    "print(any([1,2,3,4,5]))\n",
    "print(any([1,2,3,4,5,0]))\n",
    "print(any([]))\n",
    "print(any([0]))\n",
    "print('---')\n",
    "print(all([1,2,3,4,5]))\n",
    "print(all([1,2,3,4,5,0]))\n",
    "print(all([]))\n",
    "print(all([0]))\n",
    "\n",
    "print('a=',ord('a'))\n",
    "print('97=',chr(97))\n"
   ]
  },
  {
   "cell_type": "code",
   "execution_count": 41,
   "metadata": {},
   "outputs": [
    {
     "data": {
      "text/plain": [
       "['__add__',\n",
       " '__class__',\n",
       " '__class_getitem__',\n",
       " '__contains__',\n",
       " '__delattr__',\n",
       " '__delitem__',\n",
       " '__dir__',\n",
       " '__doc__',\n",
       " '__eq__',\n",
       " '__format__',\n",
       " '__ge__',\n",
       " '__getattribute__',\n",
       " '__getitem__',\n",
       " '__getstate__',\n",
       " '__gt__',\n",
       " '__hash__',\n",
       " '__iadd__',\n",
       " '__imul__',\n",
       " '__init__',\n",
       " '__init_subclass__',\n",
       " '__iter__',\n",
       " '__le__',\n",
       " '__len__',\n",
       " '__lt__',\n",
       " '__mul__',\n",
       " '__ne__',\n",
       " '__new__',\n",
       " '__reduce__',\n",
       " '__reduce_ex__',\n",
       " '__repr__',\n",
       " '__reversed__',\n",
       " '__rmul__',\n",
       " '__setattr__',\n",
       " '__setitem__',\n",
       " '__sizeof__',\n",
       " '__str__',\n",
       " '__subclasshook__',\n",
       " 'append',\n",
       " 'clear',\n",
       " 'copy',\n",
       " 'count',\n",
       " 'extend',\n",
       " 'index',\n",
       " 'insert',\n",
       " 'pop',\n",
       " 'remove',\n",
       " 'reverse',\n",
       " 'sort']"
      ]
     },
     "execution_count": 41,
     "metadata": {},
     "output_type": "execute_result"
    }
   ],
   "source": [
    "### dir\n",
    "a = [1,2,3]\n",
    "dir(a)"
   ]
  },
  {
   "cell_type": "code",
   "execution_count": 43,
   "metadata": {},
   "outputs": [
    {
     "name": "stdout",
     "output_type": "stream",
     "text": [
      "0 lion\n",
      "1 bear\n",
      "2 hippo\n",
      "3 mouse\n"
     ]
    }
   ],
   "source": [
    "### enumerate\n",
    "lst = ['lion','bear','hippo','mouse']\n",
    "for i,n in enumerate(lst):\n",
    "    print (i, n)"
   ]
  },
  {
   "cell_type": "code",
   "execution_count": 44,
   "metadata": {},
   "outputs": [
    {
     "name": "stdout",
     "output_type": "stream",
     "text": [
      "0 lion\n",
      "1 bear\n",
      "2 hippo\n",
      "3 mouse\n"
     ]
    }
   ],
   "source": [
    "tup = ('lion','bear','hippo','mouse')\n",
    "for i,n in enumerate(tup):\n",
    "    print (i, n)"
   ]
  },
  {
   "cell_type": "code",
   "execution_count": 45,
   "metadata": {},
   "outputs": [
    {
     "name": "stdout",
     "output_type": "stream",
     "text": [
      "0 H\n",
      "1 e\n",
      "2 l\n",
      "3 l\n",
      "4 o\n",
      "5  \n",
      "6 p\n",
      "7 y\n",
      "8 t\n",
      "9 h\n",
      "10 o\n",
      "11 n\n"
     ]
    }
   ],
   "source": [
    "str1 = \"Hello python\"\n",
    "for i,n in enumerate(str1):\n",
    "    print (i, n)"
   ]
  },
  {
   "cell_type": "code",
   "execution_count": 48,
   "metadata": {},
   "outputs": [
    {
     "name": "stdout",
     "output_type": "stream",
     "text": [
      "34\n",
      "7\n"
     ]
    }
   ],
   "source": [
    "### eval()\n",
    "\n",
    "print(eval('3'+'4'))\n",
    "print(eval('3+4'))"
   ]
  },
  {
   "cell_type": "code",
   "execution_count": 50,
   "metadata": {},
   "outputs": [
    {
     "name": "stdout",
     "output_type": "stream",
     "text": [
      "0xf\n",
      "0xa\n"
     ]
    }
   ],
   "source": [
    "### hex()\n",
    "print(hex(15))\n",
    "print(hex(10))"
   ]
  },
  {
   "cell_type": "code",
   "execution_count": 54,
   "metadata": {},
   "outputs": [
    {
     "name": "stdout",
     "output_type": "stream",
     "text": [
      "<class 'int'>\n",
      "140722204286856\n",
      "<class 'int'>\n",
      "140722204286856\n"
     ]
    }
   ],
   "source": [
    "### obj\n",
    "obj = 100\n",
    "print(type(obj))\n",
    "print(id(obj))\n",
    "obj2 = obj\n",
    "print(type(obj2))\n",
    "print(id(obj2))"
   ]
  },
  {
   "cell_type": "code",
   "execution_count": 59,
   "metadata": {},
   "outputs": [
    {
     "name": "stdout",
     "output_type": "stream",
     "text": [
      "<class 'str'>\n",
      "2685838873264\n",
      "2685838873264\n",
      "2685838873264\n"
     ]
    }
   ],
   "source": [
    "w = 'abcde'\n",
    "print(type(w))\n",
    "print(id(w))\n",
    "print(id('abcde'))\n",
    "\n",
    "w1 = w\n",
    "print(id(w1))"
   ]
  },
  {
   "cell_type": "code",
   "execution_count": 61,
   "metadata": {},
   "outputs": [
    {
     "name": "stdout",
     "output_type": "stream",
     "text": [
      "2685835618496\n",
      "2685838872704\n",
      "2685835618496\n"
     ]
    }
   ],
   "source": [
    "lst = [1,2,3,4,5]\n",
    "print(id(lst))\n",
    "print(id([1,2,3,4,5]))"
   ]
  },
  {
   "cell_type": "code",
   "execution_count": 62,
   "metadata": {},
   "outputs": [
    {
     "name": "stdout",
     "output_type": "stream",
     "text": [
      "2685838847616\n",
      "2685838749392\n"
     ]
    }
   ],
   "source": [
    "tup = (1,2,3,4,5)\n",
    "print(id(tup))\n",
    "print(id((1,2,3,4,5)))"
   ]
  },
  {
   "cell_type": "code",
   "execution_count": 65,
   "metadata": {},
   "outputs": [
    {
     "name": "stdout",
     "output_type": "stream",
     "text": [
      "[0, 2, 4, 6, 8]\n"
     ]
    }
   ],
   "source": [
    "### filter\n",
    "def _odd(x):\n",
    "    result = []\n",
    "    for i in x:\n",
    "        if i%2 == 0:\n",
    "            result.append(i)\n",
    "    return result\n",
    "\n",
    "lst = [0,1,2,3,4,5,6,7,8,9]\n",
    "print(_odd(lst))\n"
   ]
  },
  {
   "cell_type": "code",
   "execution_count": 69,
   "metadata": {},
   "outputs": [
    {
     "name": "stdout",
     "output_type": "stream",
     "text": [
      "[1, 3, 5, 7, 9]\n"
     ]
    }
   ],
   "source": [
    "def _odd2(x):\n",
    "    return x%2 != 0\n",
    "lst = [0,1,2,3,4,5,6,7,8,9]\n",
    "print(list(filter(_odd2, lst)))"
   ]
  },
  {
   "cell_type": "code",
   "execution_count": 72,
   "metadata": {},
   "outputs": [
    {
     "name": "stdout",
     "output_type": "stream",
     "text": [
      "100\n"
     ]
    },
    {
     "data": {
      "text/plain": [
       "str"
      ]
     },
     "execution_count": 72,
     "metadata": {},
     "output_type": "execute_result"
    }
   ],
   "source": [
    "a=input(\"Enter the number :\")\n",
    "print(a)\n",
    "type(a)"
   ]
  },
  {
   "cell_type": "code",
   "execution_count": 79,
   "metadata": {},
   "outputs": [
    {
     "name": "stdout",
     "output_type": "stream",
     "text": [
      "<class '__main__.Test'>\n",
      "True\n",
      "<class 'int'>\n",
      "False\n",
      "True\n",
      "False\n"
     ]
    }
   ],
   "source": [
    "### isinstance()\n",
    "class Test:\n",
    "    pass\n",
    "\n",
    "a=Test()\n",
    "print(type(a))\n",
    "print(isinstance(a, Test))\n",
    "b=100\n",
    "print(type(b))\n",
    "print(isinstance(b,Test))\n",
    "x=[1,2,3,4,5]\n",
    "print(isinstance(x,list))\n",
    "print(isinstance(x,tuple))"
   ]
  },
  {
   "cell_type": "markdown",
   "metadata": {},
   "source": [
    "### sum"
   ]
  },
  {
   "cell_type": "code",
   "execution_count": 23,
   "metadata": {},
   "outputs": [
    {
     "data": {
      "text/plain": [
       "15"
      ]
     },
     "execution_count": 23,
     "metadata": {},
     "output_type": "execute_result"
    }
   ],
   "source": [
    "a=[1,2,3,4,5]\n",
    "sum(a)"
   ]
  },
  {
   "cell_type": "markdown",
   "metadata": {},
   "source": [
    "### zip"
   ]
  },
  {
   "cell_type": "code",
   "execution_count": 19,
   "metadata": {},
   "outputs": [
    {
     "name": "stdout",
     "output_type": "stream",
     "text": [
      "[(1, 'a'), (2, 'b'), (3, 'c'), (4, 'd'), (5, 'e')]\n"
     ]
    }
   ],
   "source": [
    "a=[1,2,3,4,5]\n",
    "b=['a','b','c','d','e']\n",
    "\n",
    "print(list(zip(a,b)))"
   ]
  },
  {
   "cell_type": "code",
   "execution_count": 20,
   "metadata": {},
   "outputs": [
    {
     "name": "stdout",
     "output_type": "stream",
     "text": [
      "[(1, 'a'), (2, 'b'), (3, 'c')]\n"
     ]
    }
   ],
   "source": [
    "x=[1,2,3]\n",
    "y=['a','b','c','d','e']\n",
    "\n",
    "print(list(zip(x,y)))"
   ]
  },
  {
   "cell_type": "markdown",
   "metadata": {},
   "source": [
    "### pow"
   ]
  },
  {
   "cell_type": "code",
   "execution_count": 25,
   "metadata": {},
   "outputs": [
    {
     "data": {
      "text/plain": [
       "16"
      ]
     },
     "execution_count": 25,
     "metadata": {},
     "output_type": "execute_result"
    }
   ],
   "source": [
    "pow(2,4)"
   ]
  },
  {
   "cell_type": "code",
   "execution_count": 28,
   "metadata": {},
   "outputs": [
    {
     "data": {
      "text/plain": [
       "1.4142135623730951"
      ]
     },
     "execution_count": 28,
     "metadata": {},
     "output_type": "execute_result"
    }
   ],
   "source": [
    "pow(2,1/2)"
   ]
  },
  {
   "cell_type": "code",
   "execution_count": 84,
   "metadata": {},
   "outputs": [
    {
     "data": {
      "text/plain": [
       "[1, 3, 5, 7, 9]"
      ]
     },
     "execution_count": 84,
     "metadata": {},
     "output_type": "execute_result"
    }
   ],
   "source": [
    "lst = range(10)\n",
    "list(filter(lambda x:x%2,lst))"
   ]
  },
  {
   "cell_type": "code",
   "execution_count": 87,
   "metadata": {},
   "outputs": [
    {
     "name": "stdout",
     "output_type": "stream",
     "text": [
      "(121, 2)\n"
     ]
    }
   ],
   "source": [
    "print(divmod(1212,10))"
   ]
  },
  {
   "cell_type": "code",
   "execution_count": null,
   "metadata": {},
   "outputs": [],
   "source": []
  }
 ],
 "metadata": {
  "kernelspec": {
   "display_name": "base",
   "language": "python",
   "name": "python3"
  },
  "language_info": {
   "codemirror_mode": {
    "name": "ipython",
    "version": 3
   },
   "file_extension": ".py",
   "mimetype": "text/x-python",
   "name": "python",
   "nbconvert_exporter": "python",
   "pygments_lexer": "ipython3",
   "version": "3.11.4"
  },
  "orig_nbformat": 4
 },
 "nbformat": 4,
 "nbformat_minor": 2
}
