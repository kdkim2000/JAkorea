{
 "cells": [
  {
   "cell_type": "code",
   "execution_count": 1,
   "metadata": {},
   "outputs": [
    {
     "name": "stdout",
     "output_type": "stream",
     "text": [
      "5\n",
      "1\n",
      "6\n",
      "1.5\n"
     ]
    }
   ],
   "source": [
    "print(3+2)\n",
    "print(3-2)\n",
    "print(3*2)\n",
    "print(3/2)"
   ]
  },
  {
   "cell_type": "code",
   "execution_count": 2,
   "metadata": {},
   "outputs": [
    {
     "name": "stdout",
     "output_type": "stream",
     "text": [
      "9\n",
      "6.25\n",
      "1.4142135623730951\n"
     ]
    }
   ],
   "source": [
    "print(3**2)\n",
    "print(2.5**2)\n",
    "print(2**(1/2))"
   ]
  },
  {
   "cell_type": "code",
   "execution_count": 3,
   "metadata": {},
   "outputs": [
    {
     "name": "stdout",
     "output_type": "stream",
     "text": [
      "5\n",
      "1\n"
     ]
    }
   ],
   "source": [
    "print(11//2)\n",
    "print(11%2)"
   ]
  },
  {
   "cell_type": "code",
   "execution_count": 4,
   "metadata": {},
   "outputs": [
    {
     "name": "stdout",
     "output_type": "stream",
     "text": [
      "1e+16\n",
      "1000000000000000.0\n",
      "0.0001\n",
      "1e-05\n"
     ]
    }
   ],
   "source": [
    "print(1e16)\n",
    "print(1e15)\n",
    "print(1e-4)\n",
    "print(1e-5)"
   ]
  },
  {
   "cell_type": "code",
   "execution_count": 5,
   "metadata": {},
   "outputs": [
    {
     "name": "stdout",
     "output_type": "stream",
     "text": [
      "0b10001\n",
      "0o21\n",
      "0x11\n",
      "17\n",
      "17\n",
      "17\n"
     ]
    }
   ],
   "source": [
    "print(bin(17))\n",
    "print(oct(17))\n",
    "print(hex(17))\n",
    "\n",
    "print(0b10001)\n",
    "print(0o21)\n",
    "print(0x11)"
   ]
  },
  {
   "cell_type": "code",
   "execution_count": 6,
   "metadata": {},
   "outputs": [
    {
     "name": "stdout",
     "output_type": "stream",
     "text": [
      "True\n",
      "False\n",
      "True\n",
      "True\n",
      "False\n",
      "True\n"
     ]
    }
   ],
   "source": [
    "print(True and True)\n",
    "print(True and False)\n",
    "print(True or True)\n",
    "print(True or False)\n",
    "print(not True)\n",
    "print(not False)"
   ]
  },
  {
   "cell_type": "code",
   "execution_count": 7,
   "metadata": {},
   "outputs": [
    {
     "name": "stdout",
     "output_type": "stream",
     "text": [
      "False\n",
      "True\n",
      "False\n",
      "True\n",
      "False\n",
      "True\n"
     ]
    }
   ],
   "source": [
    "print(4<3)\n",
    "print(4>3)\n",
    "print(4<=3)\n",
    "print(4>=3)\n",
    "print(4==3)\n",
    "print(4!=3)"
   ]
  },
  {
   "cell_type": "markdown",
   "metadata": {},
   "source": [
    "### 문자열"
   ]
  },
  {
   "cell_type": "code",
   "execution_count": 8,
   "metadata": {},
   "outputs": [
    {
     "name": "stdout",
     "output_type": "stream",
     "text": [
      "'\"'를 활용한 String 형식\n",
      "'를 활용한 String 형식\n",
      "String 형식입니다.\n"
     ]
    }
   ],
   "source": [
    "print(\"'\\\"'를 활용한 String 형식\")\n",
    "print('\\'를 활용한 String 형식')\n",
    "str1=\"String 형식입니다.\"\n",
    "print(str1)\n",
    "\n"
   ]
  },
  {
   "cell_type": "code",
   "execution_count": 9,
   "metadata": {},
   "outputs": [
    {
     "name": "stdout",
     "output_type": "stream",
     "text": [
      "여러 행으로 문자를 표현할 수 있습니다.\n",
      "'애국가'\n",
      "작사 : \"미상\"\n",
      "동해물과 백두산이 마르고 닳도록\n",
      "\n"
     ]
    }
   ],
   "source": [
    "str2='''여러 행으로 문자를 표현할 수 있습니다.\n",
    "'애국가'\n",
    "작사 : \"미상\"\n",
    "동해물과 백두산이 마르고 닳도록\n",
    "'''\n",
    "print(str2)"
   ]
  },
  {
   "cell_type": "code",
   "execution_count": 10,
   "metadata": {},
   "outputs": [
    {
     "name": "stdout",
     "output_type": "stream",
     "text": [
      "파이션은 매우 좋은 언어입니다.!!!\n",
      "파이션은 매우 좋은 언어입니다.!!!!!!!!!\n"
     ]
    }
   ],
   "source": [
    "str3 = \"파이션은 매우 좋은 언어입니다.\"\n",
    "str4 = \"!!!\"\n",
    "print(str3 + str4)\n",
    "print(str3 + str4 * 3)"
   ]
  },
  {
   "cell_type": "markdown",
   "metadata": {},
   "source": [
    "### 리스트"
   ]
  },
  {
   "cell_type": "code",
   "execution_count": 11,
   "metadata": {},
   "outputs": [
    {
     "name": "stdout",
     "output_type": "stream",
     "text": [
      "[1, 2, 3, 4, 5, 6, 7]\n"
     ]
    },
    {
     "data": {
      "text/plain": [
       "list"
      ]
     },
     "execution_count": 11,
     "metadata": {},
     "output_type": "execute_result"
    }
   ],
   "source": [
    "list1 = [1,2,3,4,5,6,7]\n",
    "print(list1)\n",
    "type(list1)"
   ]
  },
  {
   "cell_type": "code",
   "execution_count": 12,
   "metadata": {},
   "outputs": [
    {
     "name": "stdout",
     "output_type": "stream",
     "text": [
      "10\n",
      "String\n",
      "30.6\n",
      "True\n",
      "50\n",
      "7\n",
      "6\n"
     ]
    }
   ],
   "source": [
    "list2 = [10,\"String\",30.6,True,'50',6,7]\n",
    "print(list2[0])\n",
    "print(list2[1])\n",
    "print(list2[2])\n",
    "print(list2[3])\n",
    "print(list2[4])\n",
    "print(list2[-1])\n",
    "print(list2[-2])\n"
   ]
  },
  {
   "cell_type": "code",
   "execution_count": 13,
   "metadata": {},
   "outputs": [
    {
     "name": "stdout",
     "output_type": "stream",
     "text": [
      "[10, 'String', 30.6, 40, 50, 6, 7]\n",
      "['데이터를 변경합니다.', 'String', 30.6, 40, 50, 6, 7]\n"
     ]
    }
   ],
   "source": [
    "list3 = [10,\"String\",30.6,40,50,6,7]\n",
    "print(list3)\n",
    "list3[0] = \"데이터를 변경합니다.\"\n",
    "print(list3)"
   ]
  },
  {
   "cell_type": "code",
   "execution_count": 14,
   "metadata": {},
   "outputs": [
    {
     "name": "stdout",
     "output_type": "stream",
     "text": [
      "[1, True, 'String', 2, 3, 4]\n",
      "[1, True, 'String', 1, True, 'String', 1, True, 'String']\n"
     ]
    }
   ],
   "source": [
    "list4 = [1,True,'String']\n",
    "list5 = [2,3,4]\n",
    "print(list4+list5)\n",
    "print(list4*3)"
   ]
  },
  {
   "cell_type": "code",
   "execution_count": 15,
   "metadata": {},
   "outputs": [
    {
     "name": "stdout",
     "output_type": "stream",
     "text": [
      "[1, 2, 3, 4, 5, 6, 7, 8, 9, 10]\n",
      "[1, 2, 3, 4, 5, 6, 7, 8, 9, 10]\n",
      "[4, 5]\n",
      "[2, 4]\n",
      "[10, 9, 8, 7, 6, 5, 4, 3, 2, 1]\n",
      "[1, 2, 3]\n",
      "[4, 5, 6, 7, 8, 9, 10]\n",
      "[1, 2, 3]\n",
      "[4, 5, 6, 7, 8, 9, 10]\n"
     ]
    }
   ],
   "source": [
    "list6=[1,2,3,4,5,6,7,8,9,10]\n",
    "print(list6)\n",
    "print(list6[::])\n",
    "print(list6[3:5:])\n",
    "print(list6[1:4:2])\n",
    "print(list6[::-1])\n",
    "print(list6[0:3])\n",
    "print(list6[3:10])\n",
    "print(list6[:3])\n",
    "print(list6[3:])"
   ]
  },
  {
   "cell_type": "code",
   "execution_count": 16,
   "metadata": {},
   "outputs": [
    {
     "name": "stdout",
     "output_type": "stream",
     "text": [
      "[1, 2, 3, 4, 5, 6, 7, 8, 9, 10]\n",
      "[1, 2, 3, 5, 6, 7, 8, 9, 10]\n"
     ]
    }
   ],
   "source": [
    "list7=[1,2,3,4,5,6,7,8,9,10]\n",
    "print(list7)\n",
    "del list7[3]\n",
    "print(list7)"
   ]
  },
  {
   "cell_type": "code",
   "execution_count": 17,
   "metadata": {},
   "outputs": [
    {
     "name": "stdout",
     "output_type": "stream",
     "text": [
      "[1, 2, 3, 4, 5, 6, 7, 8, 9, 10]\n",
      "True\n",
      "False\n"
     ]
    }
   ],
   "source": [
    "list8=[1,2,3,4,5,6,7,8,9,10]\n",
    "print(list8)\n",
    "print(4 in list8)\n",
    "print(14 in list8)"
   ]
  },
  {
   "cell_type": "code",
   "execution_count": 18,
   "metadata": {},
   "outputs": [
    {
     "name": "stdout",
     "output_type": "stream",
     "text": [
      "['손흥민', '조규성', '황의조', '김승규']\n",
      "['손흥민', '조규성', '황의조', '김승규', '이강인']\n",
      "['손흥민', '조규성', '황의조', '이강인', '김승규', '이강인']\n",
      "['손흥민', '조규성', '황의조', '이강인', '김승규', '이강인', '김영권', '황인범']\n",
      "['조규성', '황의조', '이강인', '김승규', '이강인', '김영권', '황인범']\n",
      "황인범\n",
      "['조규성', '황의조', '이강인', '김승규', '이강인', '김영권']\n",
      "2\n",
      "2\n",
      "['김승규', '김영권', '이강인', '이강인', '조규성', '황의조']\n",
      "['황의조', '조규성', '이강인', '이강인', '김영권', '김승규']\n",
      "[]\n"
     ]
    }
   ],
   "source": [
    "list9=[\"손흥민\",\"조규성\",\"황의조\",\"김승규\"]\n",
    "print(list9)\n",
    "list9.append(\"이강인\")\n",
    "print(list9)\n",
    "list9.insert(3,\"이강인\")\n",
    "print(list9)\n",
    "list9.extend([\"김영권\",\"황인범\"])\n",
    "print(list9)\n",
    "list9.remove(\"손흥민\")\n",
    "print(list9)\n",
    "member=list9.pop()\n",
    "print(member)\n",
    "print(list9)\n",
    "print(list9.index(\"이강인\"))\n",
    "print(list9.count(\"이강인\"))\n",
    "list9.sort()\n",
    "print(list9)\n",
    "list9.reverse()\n",
    "print(list9)\n",
    "list9.clear()\n",
    "print(list9)\n"
   ]
  },
  {
   "cell_type": "code",
   "execution_count": 19,
   "metadata": {},
   "outputs": [
    {
     "name": "stdout",
     "output_type": "stream",
     "text": [
      "['태양', '수성', '금성', '지구', '화성', '목성', '토성', '천왕성', '해왕성', '명왕성']\n",
      "['태양', '수성', '금성', '지구', '화성', '목성', '토성', '천왕성', '해왕성']\n",
      "['태양', '천왕성', '해왕성', '명왕성']\n"
     ]
    }
   ],
   "source": [
    "solarsys = ['태양','수성','금성','지구','화성','목성','토성','천왕성','해왕성','명왕성']\n",
    "print(solarsys)\n",
    "del solarsys[-1]\n",
    "print(solarsys)\n",
    "\n",
    "solarsys = ['태양','수성','금성','지구','화성','목성','토성','천왕성','해왕성','명왕성']\n",
    "del solarsys[1:7]\n",
    "print(solarsys)"
   ]
  },
  {
   "cell_type": "code",
   "execution_count": 20,
   "metadata": {},
   "outputs": [
    {
     "name": "stdout",
     "output_type": "stream",
     "text": [
      "['태양', '수성', '금성', '달', '지구', '화성', '목성', '토성', '천왕성', '해왕성', '명왕성']\n",
      "['태양', '수성', '금성', '지구', '화성', '목성', '토성', '천왕성', '해왕성', '명왕성', '헬', '리', '혜', '성']\n",
      "['태양', '수성', '금성', '지구', '화성', '목성', '토성', '천왕성', '해왕성', '명왕성', '헬리혜성']\n"
     ]
    }
   ],
   "source": [
    "solarsys = ['태양','수성','금성','지구','화성','목성','토성','천왕성','해왕성','명왕성']\n",
    "moon = solarsys.index('지구')\n",
    "solarsys.insert(moon,'달')\n",
    "print(solarsys)\n",
    "solarsys = ['태양','수성','금성','지구','화성','목성','토성','천왕성','해왕성','명왕성']\n",
    "solarsys.extend('헬리혜성')\n",
    "print(solarsys)\n",
    "solarsys = ['태양','수성','금성','지구','화성','목성','토성','천왕성','해왕성','명왕성']\n",
    "solarsys.extend(['헬리혜성'])\n",
    "print(solarsys)"
   ]
  },
  {
   "cell_type": "markdown",
   "metadata": {},
   "source": [
    "### 튜플"
   ]
  },
  {
   "cell_type": "code",
   "execution_count": 21,
   "metadata": {},
   "outputs": [
    {
     "name": "stdout",
     "output_type": "stream",
     "text": [
      "(1, 2, 3, 4, 5, 6, 7)\n"
     ]
    },
    {
     "data": {
      "text/plain": [
       "tuple"
      ]
     },
     "execution_count": 21,
     "metadata": {},
     "output_type": "execute_result"
    }
   ],
   "source": [
    "tuple1 = (1,2,3,4,5,6,7)\n",
    "print(tuple1)\n",
    "type(tuple1)"
   ]
  },
  {
   "cell_type": "code",
   "execution_count": 22,
   "metadata": {},
   "outputs": [
    {
     "name": "stdout",
     "output_type": "stream",
     "text": [
      "(1, 2, 3, 4, 5, 6, 7)\n"
     ]
    },
    {
     "data": {
      "text/plain": [
       "tuple"
      ]
     },
     "execution_count": 22,
     "metadata": {},
     "output_type": "execute_result"
    }
   ],
   "source": [
    "tuple2 = 1,2,3,4,5,6,7\n",
    "print(tuple2)\n",
    "type(tuple2)"
   ]
  },
  {
   "cell_type": "code",
   "execution_count": 23,
   "metadata": {},
   "outputs": [
    {
     "name": "stdout",
     "output_type": "stream",
     "text": [
      "4\n"
     ]
    }
   ],
   "source": [
    "tuple3 = 1,2,3,4,5,6,7\n",
    "print(tuple3[3])"
   ]
  },
  {
   "cell_type": "code",
   "execution_count": 24,
   "metadata": {},
   "outputs": [
    {
     "name": "stdout",
     "output_type": "stream",
     "text": [
      "(1,)\n",
      "<class 'tuple'>\n",
      "(2,)\n"
     ]
    }
   ],
   "source": [
    "tuple4 = 1,\n",
    "print(tuple4)\n",
    "print(type(tuple4))\n",
    "tuple5 = (2,)\n",
    "print(tuple5)"
   ]
  },
  {
   "cell_type": "code",
   "execution_count": 25,
   "metadata": {},
   "outputs": [
    {
     "name": "stdout",
     "output_type": "stream",
     "text": [
      "2\n",
      "10\n",
      "2\n"
     ]
    }
   ],
   "source": [
    "tuplue5 = 1,2,3,4,5,6,7,8,9,10,3,4,3,5\n",
    "print(tuplue5.index(3))\n",
    "print(tuplue5.index(3,4))\n",
    "print(tuplue5.count(4))"
   ]
  },
  {
   "cell_type": "markdown",
   "metadata": {},
   "source": [
    "### SET"
   ]
  },
  {
   "cell_type": "code",
   "execution_count": 26,
   "metadata": {},
   "outputs": [
    {
     "name": "stdout",
     "output_type": "stream",
     "text": [
      "{1, 2, 3, 4}\n",
      "{1, 2, 3, 4, 5}\n",
      "<class 'set'>\n"
     ]
    }
   ],
   "source": [
    "set1={1,2,3,4}\n",
    "set2={1,2,2,2,3,4,5}\n",
    "print(set1)\n",
    "print(set2)\n",
    "print(type(set1))"
   ]
  },
  {
   "cell_type": "code",
   "execution_count": 27,
   "metadata": {},
   "outputs": [
    {
     "name": "stdout",
     "output_type": "stream",
     "text": [
      "{2, 3, 4}\n",
      "{1, 2, 3, 4, 5}\n",
      "{1}\n",
      "{5}\n",
      "{2, 3, 4}\n",
      "{1, 2, 3, 4, 5}\n",
      "{2, 3, 4}\n"
     ]
    }
   ],
   "source": [
    "set1={1,2,3,4}\n",
    "set2={2,2,2,3,4,5}\n",
    "\n",
    "print(set1&set2)\n",
    "print(set1|set2)\n",
    "print(set1-set2)\n",
    "print(set2-set1)\n",
    "\n",
    "print(set1.intersection(set2))\n",
    "print(set1.union(set2))\n",
    "print(set1.intersection(set2))"
   ]
  },
  {
   "cell_type": "code",
   "execution_count": 28,
   "metadata": {},
   "outputs": [
    {
     "name": "stdout",
     "output_type": "stream",
     "text": [
      "{'MBAPPE', 'MESSI', 'DEGEA', 'ALVES', 'MARCELO', 'HAZARD', 'KANTE', 'RAMOS', 'ROLALDO', 'VARANE', 'MODRIC'}\n",
      "{'MBAPPE', 'DEGEA', 'HAZARD', 'KANTE', 'VARANE'}\n",
      "{'MESSI', 'INIESTA', 'NEUER', 'MARCELO', 'RAMOS', 'PIQUE', 'MBAPPE', 'DEGEA', 'ALVES', 'SUAREZ', 'KROOS', 'HAZARD', 'KANTE', 'ROLALDO', 'VARANE', 'MODRIC'}\n"
     ]
    }
   ],
   "source": [
    "BEST2018= set([\"MESSI\",\"ROLALDO\",\"MBAPPE\",\"HAZARD\",\"KANTE\",\"MODRIC\",\"MARCELO\",\"RAMOS\",\"VARANE\",\"ALVES\",\"DEGEA\"])\n",
    "BEST2017= set([\"MESSI\",\"SUAREZ\",\"ROLALDO\",\"INIESTA\",\"KROOS\",\"MODRIC\",\"MARCELO\",\"RAMOS\",\"PIQUE\",\"ALVES\",\"NEUER\"])\n",
    "print(BEST2018 & BEST2018)\n",
    "print(BEST2018 - BEST2017)\n",
    "print(BEST2018 | BEST2017)"
   ]
  },
  {
   "cell_type": "markdown",
   "metadata": {},
   "source": [
    "### 변환"
   ]
  },
  {
   "cell_type": "code",
   "execution_count": 29,
   "metadata": {},
   "outputs": [
    {
     "name": "stdout",
     "output_type": "stream",
     "text": [
      "[1, 2, 3]\n",
      "<class 'list'>\n",
      "(1, 2, 3)\n",
      "<class 'tuple'>\n",
      "{1, 2, 3}\n",
      "<class 'set'>\n",
      "[1, 2, 3]\n",
      "<class 'list'>\n"
     ]
    }
   ],
   "source": [
    "list10 = [1,2,3]\n",
    "print(list10)\n",
    "print(type(list10))\n",
    "\n",
    "tuple10=tuple(list10)\n",
    "print(tuple10)\n",
    "print(type(tuple10))\n",
    "\n",
    "set10=set(tuple10)\n",
    "print(set10)\n",
    "print(type(set10))\n",
    "\n",
    "set11=list(set10)\n",
    "print(set11)\n",
    "print(type(set11))"
   ]
  },
  {
   "cell_type": "markdown",
   "metadata": {},
   "source": [
    "### 딕셔너리"
   ]
  },
  {
   "cell_type": "code",
   "execution_count": 30,
   "metadata": {},
   "outputs": [
    {
     "name": "stdout",
     "output_type": "stream",
     "text": [
      "{'성별': '남자', '나이': 20, '취미': ['파이선', 'AI']}\n",
      "<class 'dict'>\n"
     ]
    }
   ],
   "source": [
    "dict1={\"성별\":\"남자\",\"나이\":20,\"취미\":[\"파이선\",\"AI\"]}\n",
    "print(dict1)\n",
    "print(type(dict1))"
   ]
  },
  {
   "cell_type": "code",
   "execution_count": 31,
   "metadata": {},
   "outputs": [
    {
     "name": "stdout",
     "output_type": "stream",
     "text": [
      "남자\n",
      "20\n",
      "['파이선', 'AI']\n"
     ]
    }
   ],
   "source": [
    "print(dict1[\"성별\"])\n",
    "print(dict1[\"나이\"])\n",
    "print(dict1[\"취미\"])"
   ]
  },
  {
   "cell_type": "code",
   "execution_count": 32,
   "metadata": {},
   "outputs": [
    {
     "name": "stdout",
     "output_type": "stream",
     "text": [
      "{'성별': '남자', '나이': 21, '취미': ['파이선', 'AI']}\n"
     ]
    }
   ],
   "source": [
    "dict1[\"나이\"] = 21\n",
    "print(dict1)"
   ]
  },
  {
   "cell_type": "code",
   "execution_count": 33,
   "metadata": {},
   "outputs": [
    {
     "name": "stdout",
     "output_type": "stream",
     "text": [
      "{'성별': '남자', '취미': ['파이선', 'AI']}\n"
     ]
    }
   ],
   "source": [
    "del dict1[\"나이\"]\n",
    "print(dict1)"
   ]
  },
  {
   "cell_type": "code",
   "execution_count": 34,
   "metadata": {},
   "outputs": [
    {
     "name": "stdout",
     "output_type": "stream",
     "text": [
      "{'성별': '남자', '나이': 20, '취미': ['파이선', 'AI']}\n",
      "dict_keys(['성별', '나이', '취미'])\n",
      "dict_values(['남자', 20, ['파이선', 'AI']])\n",
      "dict_items([('성별', '남자'), ('나이', 20), ('취미', ['파이선', 'AI'])])\n",
      "{'성별': '남자', '나이': 20, '취미': ['파이선', 'AI'], '희망대학': 'MIT'}\n",
      "{}\n"
     ]
    }
   ],
   "source": [
    "dic2={\"성별\":\"남자\",\"나이\":20,\"취미\":[\"파이선\",\"AI\"]}\n",
    "print(dic2)\n",
    "print(dic2.keys())\n",
    "print(dic2.values())\n",
    "print(dic2.items())\n",
    "dic2.update({\"희망대학\":\"MIT\"})\n",
    "print(dic2)\n",
    "dic2.clear()\n",
    "print(dic2)"
   ]
  },
  {
   "cell_type": "code",
   "execution_count": 35,
   "metadata": {},
   "outputs": [
    {
     "name": "stdout",
     "output_type": "stream",
     "text": [
      "{'오현민': 10999, '이주경': 2111, '권도훈': 9778, '김아영': 20245, '박서혜': 27115, '안준한': 5887, '박수정': 7855}\n",
      "{'오현민': 30000, '이주경': 2111, '권도훈': 9778, '김아영': 20245, '박서혜': 27115, '안준한': 5887, '박수정': 7855}\n",
      "{'오현민': 30000, '권도훈': 9778, '김아영': 20245, '박서혜': 27115, '안준한': 5887, '박수정': 7855}\n",
      "dict_keys(['오현민', '권도훈', '김아영', '박서혜', '안준한', '박수정'])\n",
      "dict_values([30000, 9778, 20245, 27115, 5887, 7855])\n"
     ]
    }
   ],
   "source": [
    "names={\"오현민\":10999, \"이주경\":2111, \"권도훈\":9778, \"김아영\":20245,\"박서혜\":27115,\"안준한\":5887,\"박수정\":7855}\n",
    "print(names)\n",
    "names[\"오현민\"]=30000\n",
    "print(names)\n",
    "del names[\"이주경\"]\n",
    "print(names)\n",
    "print(names.keys())\n",
    "print(names.values())"
   ]
  },
  {
   "cell_type": "markdown",
   "metadata": {},
   "source": [
    "## 제어문\n",
    "\n",
    "### 조건문"
   ]
  },
  {
   "cell_type": "code",
   "execution_count": 36,
   "metadata": {},
   "outputs": [
    {
     "name": "stdout",
     "output_type": "stream",
     "text": [
      "통과\n"
     ]
    }
   ],
   "source": [
    "score = int(input(\"점수를 입력하세요:\"))\n",
    "if score >= 60:\n",
    "    print(\"통과\")\n",
    "else:\n",
    "     print(\"과락\")"
   ]
  },
  {
   "cell_type": "markdown",
   "metadata": {},
   "source": [
    "### 반복문(for)"
   ]
  },
  {
   "cell_type": "code",
   "execution_count": 37,
   "metadata": {},
   "outputs": [
    {
     "name": "stdout",
     "output_type": "stream",
     "text": [
      "i= 0\n",
      "i= 1\n",
      "i= 2\n",
      "i= 3\n",
      "i= 4\n",
      "i= 5\n",
      "i= 6\n",
      "i= 7\n",
      "i= 8\n",
      "i= 9\n"
     ]
    }
   ],
   "source": [
    "for i in range(10):\n",
    "    print(\"i=\",i)"
   ]
  },
  {
   "cell_type": "code",
   "execution_count": 38,
   "metadata": {},
   "outputs": [
    {
     "name": "stdout",
     "output_type": "stream",
     "text": [
      "i= 0\n",
      "i= 1\n",
      "i= 2\n",
      "i= 3\n",
      "i= 4\n",
      "i= 5\n",
      "i= 6\n",
      "i= 7\n",
      "i= 8\n",
      "i= 9\n"
     ]
    }
   ],
   "source": [
    "for i in range(10):\n",
    "    print(\"i=\",i)"
   ]
  },
  {
   "cell_type": "code",
   "execution_count": 39,
   "metadata": {},
   "outputs": [
    {
     "name": "stdout",
     "output_type": "stream",
     "text": [
      "i= 2\n",
      "i= 3\n",
      "i= 4\n",
      "i= 5\n",
      "i= 6\n",
      "i= 7\n",
      "i= 8\n",
      "i= 9\n"
     ]
    }
   ],
   "source": [
    "for i in range(2,10):\n",
    "    print(\"i=\",i)"
   ]
  },
  {
   "cell_type": "code",
   "execution_count": 40,
   "metadata": {},
   "outputs": [
    {
     "name": "stdout",
     "output_type": "stream",
     "text": [
      "i= 2\n",
      "i= 4\n",
      "i= 6\n",
      "i= 8\n"
     ]
    }
   ],
   "source": [
    "for i in range(2,10,2):\n",
    "    print(\"i=\",i)"
   ]
  },
  {
   "cell_type": "code",
   "execution_count": 41,
   "metadata": {},
   "outputs": [
    {
     "name": "stdout",
     "output_type": "stream",
     "text": [
      "i= 1\n",
      "i= 2\n",
      "i= 4\n",
      "i= 5\n",
      "i= 8\n"
     ]
    }
   ],
   "source": [
    "list2=[1,2,4,5,8]\n",
    "for i in list2:\n",
    "    print(\"i=\",i)"
   ]
  },
  {
   "cell_type": "code",
   "execution_count": 42,
   "metadata": {},
   "outputs": [
    {
     "name": "stdout",
     "output_type": "stream",
     "text": [
      "[0, 1, 2, 3, 4, 5, 6, 7, 8, 9]\n"
     ]
    }
   ],
   "source": [
    "print(list(range(10)))"
   ]
  },
  {
   "cell_type": "code",
   "execution_count": 43,
   "metadata": {},
   "outputs": [
    {
     "name": "stdout",
     "output_type": "stream",
     "text": [
      "[0, 5, 10, 15]\n"
     ]
    }
   ],
   "source": [
    "print(list(range(0,20,5)))"
   ]
  },
  {
   "cell_type": "code",
   "execution_count": 44,
   "metadata": {},
   "outputs": [
    {
     "name": "stdout",
     "output_type": "stream",
     "text": [
      "[-10, -8, -6, -4, -2]\n"
     ]
    }
   ],
   "source": [
    "print(list(range(-10,0, 2)))"
   ]
  },
  {
   "cell_type": "code",
   "execution_count": 45,
   "metadata": {},
   "outputs": [
    {
     "name": "stdout",
     "output_type": "stream",
     "text": [
      "X,Y\n",
      "x1 y2\n",
      "x1 y2\n",
      "x2 y2\n",
      "x2 y2\n"
     ]
    }
   ],
   "source": [
    "x_list=['x1','x2']\n",
    "y_list=['y2','y2']\n",
    "print(\"X,Y\")\n",
    "for x in x_list:\n",
    "    for y in y_list:\n",
    "        print(x,y)"
   ]
  },
  {
   "cell_type": "code",
   "execution_count": 46,
   "metadata": {},
   "outputs": [
    {
     "name": "stdout",
     "output_type": "stream",
     "text": [
      "x,y\n",
      "1 1\n",
      "2 3\n",
      "3 6\n",
      "4 10\n",
      "5 15\n",
      "6 21\n"
     ]
    }
   ],
   "source": [
    "x=0\n",
    "y=0\n",
    "print(\"x,y\")\n",
    "while(y<20):\n",
    "    x+=1\n",
    "    y+=x\n",
    "    print(x,y)"
   ]
  },
  {
   "cell_type": "markdown",
   "metadata": {},
   "source": [
    "### 반복문(while)"
   ]
  },
  {
   "cell_type": "code",
   "execution_count": 47,
   "metadata": {},
   "outputs": [
    {
     "name": "stdout",
     "output_type": "stream",
     "text": [
      "1\n",
      "2\n",
      "3\n",
      "4\n",
      "5\n"
     ]
    }
   ],
   "source": [
    "a=0\n",
    "while True:\n",
    "    a+=1\n",
    "    if(a>5):\n",
    "        break\n",
    "    print(a)"
   ]
  },
  {
   "cell_type": "code",
   "execution_count": 48,
   "metadata": {},
   "outputs": [
    {
     "name": "stdout",
     "output_type": "stream",
     "text": [
      " *******\n",
      "  *****\n",
      "   ***\n",
      "    *\n"
     ]
    }
   ],
   "source": [
    "i=0\n",
    "while(i<4):\n",
    "    print(\" \"*i,\"*\"*(7-i*2))\n",
    "    i += 1"
   ]
  },
  {
   "cell_type": "code",
   "execution_count": 49,
   "metadata": {},
   "outputs": [
    {
     "name": "stdout",
     "output_type": "stream",
     "text": [
      "[1]\n",
      "[1, 9]\n",
      "[1, 9, 25]\n",
      "[1, 9, 25, 49]\n",
      "[1, 9, 25, 49, 81]\n"
     ]
    }
   ],
   "source": [
    "n=[1,3,5,7,9]\n",
    "s=[]\n",
    "for i in n:\n",
    "    s.append(i**2)\n",
    "    print(s)"
   ]
  },
  {
   "cell_type": "code",
   "execution_count": 50,
   "metadata": {},
   "outputs": [
    {
     "name": "stdout",
     "output_type": "stream",
     "text": [
      "[25, 49, 81]\n"
     ]
    }
   ],
   "source": [
    "n=[1,3,5,7,9]\n",
    "s=[i**2 for i in n if i>=5]\n",
    "print(s)"
   ]
  },
  {
   "cell_type": "code",
   "execution_count": 51,
   "metadata": {},
   "outputs": [
    {
     "name": "stdout",
     "output_type": "stream",
     "text": [
      "1, 책을 읽어 보세요\n",
      "3, 책을 읽어 보세요\n",
      "5, 책을 읽어 보세요\n",
      "6, 책을 읽어 보세요\n",
      "오늘 수업은 여기까지. 7은 교무실로 따라와\n"
     ]
    }
   ],
   "source": [
    "absent = [2 ,4]\n",
    "no_book = [7]\n",
    "for student in range(1, 11):\n",
    "    if student in absent:\n",
    "        continue\n",
    "    elif student in no_book:\n",
    "        print(\"오늘 수업은 여기까지. {0}은 교무실로 따라와\".format(student))\n",
    "        break\n",
    "    print(\"{0}, 책을 읽어 보세요\".format(student))"
   ]
  },
  {
   "cell_type": "markdown",
   "metadata": {},
   "source": [
    "## 입력 과 출력"
   ]
  },
  {
   "cell_type": "markdown",
   "metadata": {},
   "source": [
    "### 화면출력"
   ]
  },
  {
   "cell_type": "code",
   "execution_count": 52,
   "metadata": {},
   "outputs": [
    {
     "name": "stdout",
     "output_type": "stream",
     "text": [
      "   4\n",
      "0004\n",
      "  12\n",
      "0.1235\n",
      "123,456,000\n",
      "47.89%\n",
      "9.570e+10\n",
      "0x11\n",
      "0o21\n",
      "0b10001\n"
     ]
    }
   ],
   "source": [
    "N=4\n",
    "print(\"{0:4d}\".format(N))\n",
    "print(\"{0:04d}\".format(N))\n",
    "N=12\n",
    "print(\"{0:>4d}\".format(N))\n",
    "N=0.123456\n",
    "print(\"{0:.4f}\".format(N))\n",
    "N=123456000\n",
    "print(\"{0:,}\".format(N))\n",
    "N=0.4789\n",
    "print(\"{0:.2%}\".format(N))\n",
    "N=95700000000\n",
    "print(\"{0:.3e}\".format(N))\n",
    "N=17\n",
    "print(\"{0:#x}\".format(N))\n",
    "print(\"{0:#o}\".format(N))\n",
    "print(\"{0:#b}\".format(N))"
   ]
  },
  {
   "cell_type": "code",
   "execution_count": 53,
   "metadata": {},
   "outputs": [
    {
     "name": "stdout",
     "output_type": "stream",
     "text": [
      "나는 20살 입니다.\n",
      "나는 파이썬를 좋아해요\n",
      "Apple 은 A로 시작해요\n",
      "나는 20살 입니다.\n",
      "나는 파란색과 빨간 색을 좋아해요\n"
     ]
    }
   ],
   "source": [
    "#방법1\n",
    "print(\"나는 %d살 입니다.\" % 20)\n",
    "print(\"나는 %s를 좋아해요\" % \"파이썬\")\n",
    "print(\"Apple 은 %c로 시작해요\" % \"A\")\n",
    "print(\"나는 %s살 입니다.\" % 20)\n",
    "print(\"나는 %s색과 %s 색을 좋아해요\" % (\"파란\",\"빨간\"))"
   ]
  },
  {
   "cell_type": "code",
   "execution_count": 54,
   "metadata": {},
   "outputs": [
    {
     "name": "stdout",
     "output_type": "stream",
     "text": [
      "나는 20살 입니다.\n",
      "나는 파란색과 빨간 색을 좋아해요\n",
      "나는 파란색과 빨간 색을 좋아해요\n",
      "나는 빨간색과 파란 색을 좋아해요\n"
     ]
    }
   ],
   "source": [
    "#방법2\n",
    "print(\"나는 {}살 입니다.\".format(20))\n",
    "print(\"나는 {}색과 {} 색을 좋아해요\" .format(\"파란\",\"빨간\"))\n",
    "print(\"나는 {0}색과 {1} 색을 좋아해요\" .format(\"파란\",\"빨간\"))\n",
    "print(\"나는 {1}색과 {0} 색을 좋아해요\" .format(\"파란\",\"빨간\"))"
   ]
  },
  {
   "cell_type": "code",
   "execution_count": 55,
   "metadata": {},
   "outputs": [
    {
     "name": "stdout",
     "output_type": "stream",
     "text": [
      "나는 20살이며, 빨간 색을 좋아해요\n"
     ]
    }
   ],
   "source": [
    "#방법3\n",
    "print(\"나는 {age}살이며, {color} 색을 좋아해요\".format(age=20, color=\"빨간\"))"
   ]
  },
  {
   "cell_type": "code",
   "execution_count": 56,
   "metadata": {},
   "outputs": [
    {
     "name": "stdout",
     "output_type": "stream",
     "text": [
      "나는 20살이며, 빨간 색을 좋아해요\n"
     ]
    }
   ],
   "source": [
    "#방법4 (v3.6 이상)\n",
    "age = 20\n",
    "color = \"빨간\"\n",
    "print(f\"나는 {age}살이며, {color} 색을 좋아해요\")"
   ]
  },
  {
   "cell_type": "code",
   "execution_count": 57,
   "metadata": {},
   "outputs": [
    {
     "name": "stdout",
     "output_type": "stream",
     "text": [
      "백문의 불여일견\n",
      "백견이 불여일타\n",
      "저도 \"나도코딩\" 입니다.\n",
      "저도 '나도코딩' 입니다.\n",
      "저도 \"나도코딩\" 입니다.\n",
      "C:\\김경덕\\Python\n",
      "C:\\김경덕\\Python\n",
      "PineApple\n",
      "Red ApplPine\n",
      "Red Apple\tPine\n"
     ]
    }
   ],
   "source": [
    "#\\n \\\" \n",
    "print(\"백문의 불여일견\\n백견이 불여일타\")\n",
    "print(\"저도 \\\"나도코딩\\\" 입니다.\")\n",
    "print(\"저도 \\'나도코딩\\' 입니다.\")\n",
    "print('저도 \"나도코딩\" 입니다.')\n",
    "#\\\\\n",
    "print(\"C:\\\\김경덕\\\\Python\")\n",
    "print(\"C:\\김경덕\\Python\")\n",
    "#\\r\n",
    "print(\"Red Apple\\rPine\")\n",
    "#\\b\n",
    "print(\"Red Apple\\bPine\")\n",
    "#\\t\n",
    "print(\"Red Apple\\tPine\")"
   ]
  },
  {
   "cell_type": "code",
   "execution_count": 58,
   "metadata": {},
   "outputs": [
    {
     "name": "stdout",
     "output_type": "stream",
     "text": [
      "Best**python**course\n"
     ]
    }
   ],
   "source": [
    "print(\"Best\",\"python\",\"course\", sep=\"**\")"
   ]
  },
  {
   "cell_type": "code",
   "execution_count": 59,
   "metadata": {},
   "outputs": [
    {
     "name": "stdout",
     "output_type": "stream",
     "text": [
      "Name: Jun, Tall: 185\n"
     ]
    }
   ],
   "source": [
    "name=\"Jun\"\n",
    "tall = 185\n",
    "print(\"Name:\",name +\", Tall:\",tall)"
   ]
  },
  {
   "cell_type": "code",
   "execution_count": 60,
   "metadata": {},
   "outputs": [
    {
     "name": "stdout",
     "output_type": "stream",
     "text": [
      "Jun is my friend.\n",
      "He is smart\n"
     ]
    }
   ],
   "source": [
    "print(\"Jun is my friend.\")\n",
    "print(\"He is smart\")"
   ]
  },
  {
   "cell_type": "code",
   "execution_count": 61,
   "metadata": {},
   "outputs": [
    {
     "name": "stdout",
     "output_type": "stream",
     "text": [
      "Jun is my friend.He is smart\n"
     ]
    }
   ],
   "source": [
    "print(\"Jun is my friend.\", end=\"\")\n",
    "print(\"He is smart\")"
   ]
  },
  {
   "cell_type": "code",
   "execution_count": 62,
   "metadata": {},
   "outputs": [
    {
     "name": "stdout",
     "output_type": "stream",
     "text": [
      "10\n",
      "10  정수 형태 입니다.\n",
      "1 2 3\n"
     ]
    }
   ],
   "source": [
    "print(\"%d\"%10)\n",
    "print(\"%d %s\"%(10, \" 정수 형태 입니다.\"))\n",
    "print(\"{0} {1} {2}\".format(1, 2, 3))"
   ]
  },
  {
   "cell_type": "code",
   "execution_count": 63,
   "metadata": {},
   "outputs": [
    {
     "name": "stdout",
     "output_type": "stream",
     "text": [
      "반지름:5, 원주율:3.141592\n"
     ]
    }
   ],
   "source": [
    "r=5\n",
    "pi=3.141592\n",
    "print(\"반지름:%d, 원주율:%f\" %(r, pi))"
   ]
  },
  {
   "cell_type": "code",
   "execution_count": 64,
   "metadata": {},
   "outputs": [
    {
     "name": "stdout",
     "output_type": "stream",
     "text": [
      "cellphone : test1\n",
      "cellphone : test1 test2 test3\n",
      "cellphone : test3 test2 test3\n",
      "cellphone : test1 test2 test3\n"
     ]
    }
   ],
   "source": [
    "cellphone_0=\"test1\"\n",
    "cellphone_1=\"test2\"\n",
    "cellphone_2=\"test3\"\n",
    "\n",
    "print(\"cellphone : {0}\". format(cellphone_0))\n",
    "print(\"cellphone : {0} {1} {2}\". format(cellphone_0, cellphone_1, cellphone_2))\n",
    "print(\"cellphone : {2} {1} {2}\". format(cellphone_0, cellphone_1, cellphone_2))\n",
    "print(\"cellphone : {} {} {}\". format(cellphone_0, cellphone_1, cellphone_2))"
   ]
  },
  {
   "cell_type": "code",
   "execution_count": 65,
   "metadata": {},
   "outputs": [
    {
     "name": "stdout",
     "output_type": "stream",
     "text": [
      "1.12, 1.12231\n"
     ]
    }
   ],
   "source": [
    "a=1.1223123128731923891829\n",
    "print(\"{0:.2f}, {0:.5f}\".format(a))"
   ]
  },
  {
   "cell_type": "code",
   "execution_count": 66,
   "metadata": {},
   "outputs": [
    {
     "name": "stdout",
     "output_type": "stream",
     "text": [
      "대기번호 :1\n",
      "대기번호 :001\n",
      "대기번호 :2\n",
      "대기번호 :002\n",
      "대기번호 :3\n",
      "대기번호 :003\n",
      "대기번호 :4\n",
      "대기번호 :004\n",
      "대기번호 :5\n",
      "대기번호 :005\n",
      "대기번호 :6\n",
      "대기번호 :006\n",
      "대기번호 :7\n",
      "대기번호 :007\n",
      "대기번호 :8\n",
      "대기번호 :008\n",
      "대기번호 :9\n",
      "대기번호 :009\n",
      "대기번호 :10\n",
      "대기번호 :010\n"
     ]
    }
   ],
   "source": [
    "# 은행 대기 순번표\n",
    "#001, 002, 003\n",
    "for num in range(1, 11):\n",
    "    print(\"대기번호 :\" + str(num))\n",
    "    print(\"대기번호 :\" + str(num).zfill(3))"
   ]
  },
  {
   "cell_type": "code",
   "execution_count": 67,
   "metadata": {},
   "outputs": [
    {
     "name": "stdout",
     "output_type": "stream",
     "text": [
      "       500\n",
      "      +500\n",
      "      -500\n",
      "+500______\n",
      "500,000,000,000\n",
      "+500,000,000,000\n",
      "-500,000,000,000\n",
      "+500,000,000,000^^^^^^^^^^^^^^\n",
      "1.666667\n",
      "1.67\n"
     ]
    }
   ],
   "source": [
    "# 빈 자리는 빈공간으로 두고, 오른쪽 정렬을 하되, 총 10자리 공간을 확보\n",
    "print(\"{0: >10}\".format(500))\n",
    "\n",
    "# # 양수는 + 표시, 음수일 떈 - 로 표시\n",
    "print(\"{0: >+10}\".format(500))\n",
    "print(\"{0: >+10}\".format(-500))\n",
    "\n",
    "# # 왼쪽 정렬하고, 빈칸으로 _로 채움\n",
    "print(\"{0:_<+10}\".format(500))\n",
    "\n",
    "# # 3자리 마다 콤마 찍어주기\n",
    "print(\"{0:,}\".format(500000000000))\n",
    "# # 3자리 마다 콤마 찍어주기, +- \n",
    "print(\"{0:+,}\".format(500000000000))\n",
    "print(\"{0:+,}\".format(-500000000000))\n",
    "# # 3자리 마다 콤마 찍어주기, 부호 붙이기, 자리수 확보, 빈자리는 ^ 로 채우기\n",
    "print(\"{0:^<+30,}\".format(500000000000))\n",
    "\n",
    "# # 소수점 출력\n",
    "print(\"{0:f}\".format(5/3))\n",
    "# # 소수점 특정 자리수 까지만 표시 (소수점 3자리에서 반올림)\n",
    "print(\"{0:.2f}\".format(5/3))"
   ]
  },
  {
   "cell_type": "code",
   "execution_count": 68,
   "metadata": {},
   "outputs": [
    {
     "name": "stdout",
     "output_type": "stream",
     "text": [
      "수학  :   0\n",
      "영어  :  50\n",
      "코딩  : 100\n"
     ]
    }
   ],
   "source": [
    "scores = {\"수학\":0, \"영어\":50, \"코딩\":100}\n",
    "for subject, score in scores.items():\n",
    "    print(subject.ljust(4), str(score).rjust(4), sep=\":\")"
   ]
  },
  {
   "cell_type": "markdown",
   "metadata": {},
   "source": [
    "### 키보드 입력"
   ]
  },
  {
   "cell_type": "code",
   "execution_count": 69,
   "metadata": {},
   "outputs": [
    {
     "name": "stdout",
     "output_type": "stream",
     "text": [
      "당신이 입력한 숫자는 40 입니다.\n"
     ]
    }
   ],
   "source": [
    "num=input(\"1-100 사이 숫자를 입력하세요\")\n",
    "print(\"당신이 입력한 숫자는 {} 입니다.\".format(num))"
   ]
  },
  {
   "cell_type": "code",
   "execution_count": 70,
   "metadata": {},
   "outputs": [
    {
     "name": "stdout",
     "output_type": "stream",
     "text": [
      "당신이 입력한 숫자의 제곱은 900 입니다.\n"
     ]
    }
   ],
   "source": [
    "num=input(\"1-100 사이 숫자를 입력하세요\")\n",
    "area=int(num)**2\n",
    "print(\"당신이 입력한 숫자의 제곱은 {} 입니다.\".format(area))"
   ]
  },
  {
   "cell_type": "markdown",
   "metadata": {},
   "source": [
    "### 파일"
   ]
  },
  {
   "cell_type": "code",
   "execution_count": 71,
   "metadata": {},
   "outputs": [],
   "source": [
    "f=open(\"file.txt\",\"w\")\n",
    "f.write(\"This is my first time\")\n",
    "f.close()"
   ]
  },
  {
   "cell_type": "code",
   "execution_count": 72,
   "metadata": {},
   "outputs": [
    {
     "name": "stdout",
     "output_type": "stream",
     "text": [
      "This is my first time\n"
     ]
    }
   ],
   "source": [
    "!type file.txt"
   ]
  },
  {
   "cell_type": "code",
   "execution_count": 73,
   "metadata": {},
   "outputs": [
    {
     "name": "stdout",
     "output_type": "stream",
     "text": [
      "This is my first time\n"
     ]
    }
   ],
   "source": [
    "f=open(\"file.txt\",\"r\")\n",
    "file_text=f.read()\n",
    "f.close()\n",
    "print(file_text)"
   ]
  },
  {
   "cell_type": "code",
   "execution_count": 74,
   "metadata": {},
   "outputs": [],
   "source": [
    "f=open(\"file2.txt\",\"w\")\n",
    "for num in range(6):\n",
    "    format_string=\"2x{0}={1}\\n\".format(num, num*2)\n",
    "    f.write(format_string)\n",
    "f.close()"
   ]
  },
  {
   "cell_type": "code",
   "execution_count": 75,
   "metadata": {},
   "outputs": [
    {
     "name": "stdout",
     "output_type": "stream",
     "text": [
      "2x0=0\n",
      "2x1=2\n",
      "2x2=4\n",
      "2x3=6\n",
      "2x4=8\n",
      "2x5=10\n"
     ]
    }
   ],
   "source": [
    "!type file2.txt"
   ]
  },
  {
   "cell_type": "code",
   "execution_count": 76,
   "metadata": {},
   "outputs": [
    {
     "name": "stdout",
     "output_type": "stream",
     "text": [
      "2x0=0\n",
      "2x1=2\n",
      "2x2=4\n",
      "2x3=6\n",
      "2x4=8\n",
      "2x5=10\n"
     ]
    }
   ],
   "source": [
    "f=open(\"file2.txt\")\n",
    "line=f.readline()\n",
    "while line:\n",
    "    print(line, end=\"\")\n",
    "    line=f.readline()\n",
    "f.close()"
   ]
  },
  {
   "cell_type": "code",
   "execution_count": 77,
   "metadata": {},
   "outputs": [
    {
     "name": "stdout",
     "output_type": "stream",
     "text": [
      "['2x0=0\\n', '2x1=2\\n', '2x2=4\\n', '2x3=6\\n', '2x4=8\\n', '2x5=10\\n']\n"
     ]
    }
   ],
   "source": [
    "f=open(\"file2.txt\")\n",
    "lines=f.readlines()\n",
    "f.close()\n",
    "print(lines)"
   ]
  },
  {
   "cell_type": "code",
   "execution_count": 78,
   "metadata": {},
   "outputs": [
    {
     "name": "stdout",
     "output_type": "stream",
     "text": [
      "2x0=0\n",
      "2x1=2\n",
      "2x2=4\n",
      "2x3=6\n",
      "2x4=8\n",
      "2x5=10\n"
     ]
    }
   ],
   "source": [
    "f=open(\"file2.txt\")\n",
    "lines=f.readlines()\n",
    "f.close()\n",
    "for line in lines:\n",
    "    print(line,end=\"\")"
   ]
  },
  {
   "cell_type": "code",
   "execution_count": 79,
   "metadata": {},
   "outputs": [
    {
     "name": "stdout",
     "output_type": "stream",
     "text": [
      "2x0=0\n",
      "2x1=2\n",
      "2x2=4\n",
      "2x3=6\n",
      "2x4=8\n",
      "2x5=10\n"
     ]
    }
   ],
   "source": [
    "f=open(\"file2.txt\")\n",
    "for line in f.readlines():\n",
    "    print(line,end=\"\")\n",
    "f.close()"
   ]
  },
  {
   "cell_type": "markdown",
   "metadata": {},
   "source": [
    "### 함수"
   ]
  },
  {
   "cell_type": "code",
   "execution_count": 80,
   "metadata": {},
   "outputs": [
    {
     "name": "stdout",
     "output_type": "stream",
     "text": [
      "새로운 계좌가 생성되었습니다.\n",
      "입금이 완료되었습니다.. 잔액은 1000 원 입니다\n",
      "1000\n",
      "입금이 완료되었습니다.. 잔액은 3000 원 입니다\n",
      "3000\n",
      "출금이 완료되었습니다. 잔액은 2500 원입니다.\n",
      "2500\n",
      "수수료는 100 원이고 잔액은1900 입니다.\n"
     ]
    }
   ],
   "source": [
    "def open_account():\n",
    "    print(\"새로운 계좌가 생성되었습니다.\")\n",
    "\n",
    "open_account()\n",
    "\n",
    "def deposit(balance, money):\n",
    "    print(\"입금이 완료되었습니다.. 잔액은 {0} 원 입니다\".format(balance+money))\n",
    "    return balance + money\n",
    "\n",
    "def withdraw(balance, money):\n",
    "    if balance >= money:\n",
    "        print(\"출금이 완료되었습니다. 잔액은 {0} 원입니다.\".format(balance-money))\n",
    "        return balance-money\n",
    "    else:\n",
    "        print(\"출금이 완료 되지 않았습니다. 잔액은 {0} 원입니다.\".format(balance))\n",
    "        return balance\n",
    "    \n",
    "def withdraw_night(balance, money):\n",
    "    commission = 100\n",
    "    return commission, balance - money - commission\n",
    "balance = 0\n",
    "balance = deposit(balance, 1000)\n",
    "print(balance)\n",
    "balance = deposit(balance, 2000)\n",
    "print(balance)\n",
    "balance = withdraw(balance, 500)\n",
    "print(balance)\n",
    "comcommission, balance = withdraw_night(balance, 500)\n",
    "print(\"수수료는 {0} 원이고 잔액은{1} 입니다.\".format(comcommission, balance))"
   ]
  },
  {
   "cell_type": "code",
   "execution_count": 81,
   "metadata": {},
   "outputs": [
    {
     "name": "stdout",
     "output_type": "stream",
     "text": [
      "이름 : 유재석\t나이 : 20\t주 사용 언어 : 자바\n",
      "이름 : 박명수\t나이 : 25\t주 사용 언어 : 파이썬\n",
      "이름 : 김태호\t나이 : 17\t주 사용 언어 : 파이썬\n"
     ]
    }
   ],
   "source": [
    "def profile(name, age=17, main_lang=\"파이썬\"):\n",
    "    print(\"이름 : {0}\\t나이 : {1}\\t주 사용 언어 : {2}\"\\\n",
    "          .format(name, age, main_lang))\n",
    "profile(name=\"유재석\", age=20, main_lang=\"자바\")\n",
    "profile(name=\"박명수\", main_lang=\"파이썬\", age=25)\n",
    "profile(\"김태호\")"
   ]
  },
  {
   "cell_type": "code",
   "execution_count": 82,
   "metadata": {},
   "outputs": [
    {
     "name": "stdout",
     "output_type": "stream",
     "text": [
      "이름 : 유재석\t나이 : 20\t Python Java C C++ C#\n",
      "이름 : 김태호\t나이 : 25\t Python Java   \n"
     ]
    }
   ],
   "source": [
    "def profile(name, age, lang1, lang2, lang3, lang4, lang5):\n",
    "    print(\"이름 : {0}\\t나이 : {1}\\t\".format(name, age), end=\" \")\n",
    "    print( lang1, lang2, lang3, lang4, lang5)\n",
    "profile(\"유재석\", 20, \"Python\", \"Java\", \"C\", \"C++\", \"C#\")\n",
    "profile(\"김태호\", 25, \"Python\", \"Java\", \"\", \"\", \"\")"
   ]
  },
  {
   "cell_type": "code",
   "execution_count": 83,
   "metadata": {},
   "outputs": [
    {
     "name": "stdout",
     "output_type": "stream",
     "text": [
      "이름 : 유재석\t나이 : 20\t Python Java C C++ C# SQL \n",
      "이름 : 김태호\t나이 : 25\t Python Java \n"
     ]
    }
   ],
   "source": [
    "def profile(name, age, *language):\n",
    "    print(\"이름 : {0}\\t나이 : {1}\\t\".format(name, age), end=\" \")\n",
    "    for lang in language:\n",
    "        print(lang, end=\" \")\n",
    "    print()\n",
    "profile(\"유재석\", 20, \"Python\", \"Java\", \"C\", \"C++\", \"C#\", \"SQL\")\n",
    "profile(\"김태호\", 25, \"Python\", \"Java\")"
   ]
  },
  {
   "cell_type": "code",
   "execution_count": 84,
   "metadata": {},
   "outputs": [
    {
     "name": "stdout",
     "output_type": "stream",
     "text": [
      "전체 총 : 10\n",
      "[함수내] 남은 총 :8\n",
      "남은 총 : 8\n",
      "전체 총 : 8\n",
      "[함수내] 남은 총 :6\n",
      "남은 총 : 6\n"
     ]
    }
   ],
   "source": [
    "gun = 10\n",
    "\n",
    "def checkpoint(soldiers):\n",
    "    global gun #전역 공간에 있는 gun 사용\n",
    "    gun = gun - soldiers\n",
    "    print(\"[함수내] 남은 총 :{0}\".format(gun))\n",
    "\n",
    "print(\"전체 총 : {0}\".format(gun))\n",
    "checkpoint(2)\n",
    "print(\"남은 총 : {0}\".format(gun))\n",
    "\n",
    "def checkpoint_ret(gun, soldiers):\n",
    "    gun = gun - soldiers\n",
    "    print(\"[함수내] 남은 총 :{0}\".format(gun))\n",
    "    return gun\n",
    "\n",
    "print(\"전체 총 : {0}\".format(gun))\n",
    "gun = checkpoint_ret(gun, 2)\n",
    "print(\"남은 총 : {0}\".format(gun))"
   ]
  },
  {
   "cell_type": "code",
   "execution_count": 85,
   "metadata": {},
   "outputs": [
    {
     "name": "stdout",
     "output_type": "stream",
     "text": [
      "키 175cm 남자의 표준 체중은 67.38kg 입니다.\n"
     ]
    }
   ],
   "source": [
    "# 표준 체중을 구하는 프로그램\n",
    "# 남자 : 키 * 키 * 22\n",
    "# 여자 : 키 * 키 * 21\n",
    "# 조건1 : 표준 체중은 별도의 함수 내에서 계산\n",
    "# 함수명 : std_weight\n",
    "# 전달값 : 키(height), 성별(gender)\n",
    "# 조건2 : 표준 체중은 소수점 둘째자리까지 표시\n",
    "# 출력예시 : 키 175cm 남자의 표준 체중은 67.38kg 입니다.\n",
    "\n",
    "def std_weight(height, gender):\n",
    "    if gender == \"남자\":\n",
    "        return height / 100 * height / 100 * 22\n",
    "    else:\n",
    "        return height / 100 * height / 100 * 21\n",
    "    \n",
    "height = 175\n",
    "gender = \"남자\"\n",
    "weight = round(std_weight(height, gender),2)\n",
    "print(\"키 {0}cm {1}의 표준 체중은 {2}kg 입니다.\".format(height, gender, weight))"
   ]
  },
  {
   "cell_type": "markdown",
   "metadata": {},
   "source": [
    "### 문자열과 텍스트"
   ]
  },
  {
   "cell_type": "code",
   "execution_count": 86,
   "metadata": {},
   "outputs": [
    {
     "name": "stdout",
     "output_type": "stream",
     "text": [
      "['에스프레소', '아메리카노', '카페라데', '카푸치노']\n",
      "['에스프레소', '아메리카노', '카페라데 카푸치노']\n"
     ]
    }
   ],
   "source": [
    "str1=\"에스프레소 아메리카노 카페라데 카푸치노\"\n",
    "print(str1.split())\n",
    "print(str1.split(\" \",2))"
   ]
  },
  {
   "cell_type": "code",
   "execution_count": 87,
   "metadata": {},
   "outputs": [
    {
     "name": "stdout",
     "output_type": "stream",
     "text": [
      "['에스프레소', '아메리카노', '카페라데', '카푸치노']\n",
      "['에스프레소', '아메리카노', '카페라데 카푸치노']\n"
     ]
    }
   ],
   "source": [
    "str1=\"에스프레소 아메리카노 카페라데 카푸치노\"\n",
    "print(str1.split())\n",
    "print(str1.split(\" \",2))"
   ]
  },
  {
   "cell_type": "code",
   "execution_count": 88,
   "metadata": {},
   "outputs": [
    {
     "name": "stdout",
     "output_type": "stream",
     "text": [
      "부산광역시 남구 용소로 14번길10\n",
      "부산광역시-남구-용소로-14번길10\n"
     ]
    }
   ],
   "source": [
    "str_list=[\"부산광역시\",\"남구\",\"용소로\",\"14번길10\"]\n",
    "print(\" \".join(str_list))\n",
    "print(\"-\".join(str_list))"
   ]
  },
  {
   "cell_type": "code",
   "execution_count": 89,
   "metadata": {},
   "outputs": [
    {
     "ename": "NameError",
     "evalue": "name 'search_str' is not defined",
     "output_type": "error",
     "traceback": [
      "\u001b[1;31m---------------------------------------------------------------------------\u001b[0m",
      "\u001b[1;31mNameError\u001b[0m                                 Traceback (most recent call last)",
      "Cell \u001b[1;32mIn[89], line 4\u001b[0m\n\u001b[0;32m      2\u001b[0m search_str1\u001b[39m=\u001b[39m\u001b[39m\"\u001b[39m\u001b[39mpython\u001b[39m\u001b[39m\"\u001b[39m\n\u001b[0;32m      3\u001b[0m prefix\u001b[39m=\u001b[39m\u001b[39m\"\u001b[39m\u001b[39mpython\u001b[39m\u001b[39m\"\u001b[39m\n\u001b[1;32m----> 4\u001b[0m \u001b[39mprint\u001b[39m(str1\u001b[39m.\u001b[39mfind(search_str, \u001b[39m10\u001b[39m))\n\u001b[0;32m      5\u001b[0m \u001b[39mprint\u001b[39m(str1\u001b[39m.\u001b[39mcount(search_str))\n\u001b[0;32m      6\u001b[0m \u001b[39mprint\u001b[39m(str1\u001b[39m.\u001b[39mstartswith(prefix,\u001b[39m0\u001b[39m))\n",
      "\u001b[1;31mNameError\u001b[0m: name 'search_str' is not defined"
     ]
    }
   ],
   "source": [
    "str1=\"Hello python a python python python\"\n",
    "search_str1=\"python\"\n",
    "prefix=\"python\"\n",
    "print(str1.find(search_str, 10))\n",
    "print(str1.count(search_str))\n",
    "print(str1.startswith(prefix,0))\n",
    "print(str1.startswith(\"Hello\",0))\n",
    "print(str1.endswith(prefix,0))\n",
    "print(str1.replace(search_str,\"java\",2))"
   ]
  },
  {
   "cell_type": "markdown",
   "metadata": {},
   "source": [
    "### 모듈"
   ]
  },
  {
   "cell_type": "code",
   "execution_count": null,
   "metadata": {},
   "outputs": [],
   "source": [
    "import random\n",
    "print(random.random())\n",
    "print(random.randint(1,6))\n",
    "print(random.randrange(0,10,2))\n",
    "print(random.choice([1,2,3]))\n",
    "print(random.choice([\"사과\",\"배\",\"복숭아\"]))\n",
    "print(random.sample([\"사과\",\"배\",\"복숭아\",\"포도\"],2))\n",
    "print(random.sample(range(1,10),2))"
   ]
  },
  {
   "cell_type": "code",
   "execution_count": null,
   "metadata": {},
   "outputs": [],
   "source": [
    "from random import *\n",
    "users = range(1, 20)\n",
    "print(users)\n",
    "users = list(users)\n",
    "print(users)\n",
    "shuffle(users)\n",
    "print(users)"
   ]
  },
  {
   "cell_type": "code",
   "execution_count": null,
   "metadata": {},
   "outputs": [],
   "source": [
    "#####################################################\n",
    "#조건1 : 승객별 운행 소요 시간은 5~50분 사아의 난수로 정해짐\n",
    "#조건2 : 당신은 소요 시간 5~15분 사이의 승객만 매칭해야 합니다.\n",
    "# [o] 1번째 손님(소요시간 : 15분)\n",
    "# [ ] 1번째 손님(소요시간 : 50분)\n",
    "# [o] 1번째 손님(소요시간 : 5분)\n",
    "\n",
    "from random import *\n",
    "cnt = 0\n",
    "for i in range(1,10):\n",
    "    time = randrange(5, 31)\n",
    "    if 5 <= time <= 15:\n",
    "        print(\"[O] {0} 번째 손님 (소요시간 : {1}분)\".format(i, time))\n",
    "        cnt += 1\n",
    "    else:\n",
    "        print(\"[ ] {0} 번째 손님 (소요시간 : {1}분)\".format(i, time))\n",
    "print(\"탐승승객 :{0}\".format(cnt))"
   ]
  },
  {
   "cell_type": "code",
   "execution_count": null,
   "metadata": {},
   "outputs": [],
   "source": [
    "import datetime\n",
    "print(datetime.timedelta(days=5, hours=17, minutes=30))\n",
    "print(datetime.date.today())\n",
    "print(datetime.date(2019, 12, 25))"
   ]
  },
  {
   "cell_type": "code",
   "execution_count": null,
   "metadata": {},
   "outputs": [],
   "source": [
    "import calendar\n",
    "print(calendar.calendar(2023))\n"
   ]
  },
  {
   "cell_type": "code",
   "execution_count": null,
   "metadata": {},
   "outputs": [],
   "source": [
    "\n",
    "print(calendar.month(2023,9))\n",
    "print(calendar.monthrange(2023,9))\n",
    "print(calendar.firstweekday())\n",
    "calendar.setfirstweekday(5)\n",
    "print(calendar.firstweekday())\n",
    "print(calendar.weekday(2023,9,5))\n",
    "print(calendar.isleap(2023))\n",
    "print(calendar.isleap(2024))\n",
    "print(calendar.isleap(2025))\n",
    "print(calendar.isleap(2026))"
   ]
  },
  {
   "cell_type": "code",
   "execution_count": null,
   "metadata": {},
   "outputs": [],
   "source": [
    "print(calendar.monthrange(2023,9))"
   ]
  },
  {
   "cell_type": "code",
   "execution_count": null,
   "metadata": {},
   "outputs": [],
   "source": []
  }
 ],
 "metadata": {
  "kernelspec": {
   "display_name": "Python 3",
   "language": "python",
   "name": "python3"
  },
  "language_info": {
   "codemirror_mode": {
    "name": "ipython",
    "version": 3
   },
   "file_extension": ".py",
   "mimetype": "text/x-python",
   "name": "python",
   "nbconvert_exporter": "python",
   "pygments_lexer": "ipython3",
   "version": "3.11.4"
  },
  "orig_nbformat": 4
 },
 "nbformat": 4,
 "nbformat_minor": 2
}
