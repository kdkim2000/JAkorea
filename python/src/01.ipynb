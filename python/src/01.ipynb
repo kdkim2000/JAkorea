{
 "cells": [
  {
   "cell_type": "code",
   "execution_count": 3,
   "metadata": {},
   "outputs": [
    {
     "name": "stdout",
     "output_type": "stream",
     "text": [
      "5\n",
      "1\n",
      "6\n",
      "1.5\n"
     ]
    }
   ],
   "source": [
    "print(3+2)\n",
    "print(3-2)\n",
    "print(3*2)\n",
    "print(3/2)"
   ]
  },
  {
   "cell_type": "code",
   "execution_count": 6,
   "metadata": {},
   "outputs": [
    {
     "name": "stdout",
     "output_type": "stream",
     "text": [
      "9\n",
      "6.25\n",
      "1.4142135623730951\n"
     ]
    }
   ],
   "source": [
    "print(3**2)\n",
    "print(2.5**2)\n",
    "print(2**(1/2))"
   ]
  },
  {
   "cell_type": "code",
   "execution_count": 8,
   "metadata": {},
   "outputs": [
    {
     "name": "stdout",
     "output_type": "stream",
     "text": [
      "5\n",
      "1\n"
     ]
    }
   ],
   "source": [
    "print(11//2)\n",
    "print(11%2)"
   ]
  },
  {
   "cell_type": "code",
   "execution_count": 13,
   "metadata": {},
   "outputs": [
    {
     "name": "stdout",
     "output_type": "stream",
     "text": [
      "1e+16\n",
      "1000000000000000.0\n",
      "0.0001\n",
      "1e-05\n"
     ]
    }
   ],
   "source": [
    "print(1e16)\n",
    "print(1e15)\n",
    "print(1e-4)\n",
    "print(1e-5)"
   ]
  },
  {
   "cell_type": "code",
   "execution_count": 22,
   "metadata": {},
   "outputs": [
    {
     "name": "stdout",
     "output_type": "stream",
     "text": [
      "0b10001\n",
      "0o21\n",
      "0x11\n",
      "17\n",
      "17\n",
      "17\n"
     ]
    }
   ],
   "source": [
    "print(bin(17))\n",
    "print(oct(17))\n",
    "print(hex(17))\n",
    "\n",
    "print(0b10001)\n",
    "print(0o21)\n",
    "print(0x11)"
   ]
  },
  {
   "cell_type": "code",
   "execution_count": 4,
   "metadata": {},
   "outputs": [
    {
     "name": "stdout",
     "output_type": "stream",
     "text": [
      "True\n",
      "False\n",
      "True\n",
      "True\n",
      "False\n",
      "True\n"
     ]
    }
   ],
   "source": [
    "print(True and True)\n",
    "print(True and False)\n",
    "print(True or True)\n",
    "print(True or False)\n",
    "print(not True)\n",
    "print(not False)"
   ]
  },
  {
   "cell_type": "code",
   "execution_count": 5,
   "metadata": {},
   "outputs": [
    {
     "name": "stdout",
     "output_type": "stream",
     "text": [
      "False\n",
      "True\n",
      "False\n",
      "True\n",
      "False\n",
      "True\n"
     ]
    }
   ],
   "source": [
    "print(4<3)\n",
    "print(4>3)\n",
    "print(4<=3)\n",
    "print(4>=3)\n",
    "print(4==3)\n",
    "print(4!=3)"
   ]
  },
  {
   "cell_type": "markdown",
   "metadata": {},
   "source": [
    "### 문자열"
   ]
  },
  {
   "cell_type": "code",
   "execution_count": 14,
   "metadata": {},
   "outputs": [
    {
     "name": "stdout",
     "output_type": "stream",
     "text": [
      "'\"'를 활용한 String 형식\n",
      "'를 활용한 String 형식\n",
      "String 형식입니다.\n"
     ]
    }
   ],
   "source": [
    "print(\"'\\\"'를 활용한 String 형식\")\n",
    "print('\\'를 활용한 String 형식')\n",
    "str1=\"String 형식입니다.\"\n",
    "print(str1)\n",
    "\n"
   ]
  },
  {
   "cell_type": "code",
   "execution_count": 19,
   "metadata": {},
   "outputs": [
    {
     "name": "stdout",
     "output_type": "stream",
     "text": [
      "여러 행으로 문자를 표현할 수 있습니다.\n",
      "'애국가'\n",
      "작사 : \"미상\"\n",
      "동해물과 백두산이 마르고 닳도록\n",
      "\n"
     ]
    }
   ],
   "source": [
    "str2='''여러 행으로 문자를 표현할 수 있습니다.\n",
    "'애국가'\n",
    "작사 : \"미상\"\n",
    "동해물과 백두산이 마르고 닳도록\n",
    "'''\n",
    "print(str2)"
   ]
  },
  {
   "cell_type": "code",
   "execution_count": 23,
   "metadata": {},
   "outputs": [
    {
     "name": "stdout",
     "output_type": "stream",
     "text": [
      "파이션은 매우 좋은 언어입니다.!!!\n",
      "파이션은 매우 좋은 언어입니다.!!!!!!!!!\n"
     ]
    }
   ],
   "source": [
    "str3 = \"파이션은 매우 좋은 언어입니다.\"\n",
    "str4 = \"!!!\"\n",
    "print(str3 + str4)\n",
    "print(str3 + str4 * 3)"
   ]
  },
  {
   "cell_type": "markdown",
   "metadata": {},
   "source": [
    "### 리스트"
   ]
  },
  {
   "cell_type": "code",
   "execution_count": 26,
   "metadata": {},
   "outputs": [
    {
     "name": "stdout",
     "output_type": "stream",
     "text": [
      "[1, 2, 3, 4, 5, 6, 7]\n"
     ]
    },
    {
     "data": {
      "text/plain": [
       "list"
      ]
     },
     "execution_count": 26,
     "metadata": {},
     "output_type": "execute_result"
    }
   ],
   "source": [
    "list1 = [1,2,3,4,5,6,7]\n",
    "print(list1)\n",
    "type(list1)"
   ]
  },
  {
   "cell_type": "code",
   "execution_count": 109,
   "metadata": {},
   "outputs": [
    {
     "name": "stdout",
     "output_type": "stream",
     "text": [
      "10\n",
      "String\n",
      "30.6\n",
      "True\n",
      "50\n",
      "7\n",
      "6\n"
     ]
    }
   ],
   "source": [
    "list2 = [10,\"String\",30.6,True,'50',6,7]\n",
    "print(list2[0])\n",
    "print(list2[1])\n",
    "print(list2[2])\n",
    "print(list2[3])\n",
    "print(list2[4])\n",
    "print(list2[-1])\n",
    "print(list2[-2])\n"
   ]
  },
  {
   "cell_type": "code",
   "execution_count": 33,
   "metadata": {},
   "outputs": [
    {
     "name": "stdout",
     "output_type": "stream",
     "text": [
      "[10, 'String', 30.6, 40, 50, 6, 7]\n",
      "['데이터를 변경합니다.', 'String', 30.6, 40, 50, 6, 7]\n"
     ]
    }
   ],
   "source": [
    "list3 = [10,\"String\",30.6,40,50,6,7]\n",
    "print(list3)\n",
    "list3[0] = \"데이터를 변경합니다.\"\n",
    "print(list3)"
   ]
  },
  {
   "cell_type": "code",
   "execution_count": 37,
   "metadata": {},
   "outputs": [
    {
     "name": "stdout",
     "output_type": "stream",
     "text": [
      "[1, True, 'String', 2, 3, 4]\n",
      "[1, True, 'String', 1, True, 'String', 1, True, 'String']\n"
     ]
    }
   ],
   "source": [
    "list4 = [1,True,'String']\n",
    "list5 = [2,3,4]\n",
    "print(list4+list5)\n",
    "print(list4*3)"
   ]
  },
  {
   "cell_type": "code",
   "execution_count": 116,
   "metadata": {},
   "outputs": [
    {
     "name": "stdout",
     "output_type": "stream",
     "text": [
      "[1, 2, 3, 4, 5, 6, 7, 8, 9, 10]\n",
      "[1, 2, 3, 4, 5, 6, 7, 8, 9, 10]\n",
      "[4, 5]\n",
      "[2, 4]\n",
      "[10, 9, 8, 7, 6, 5, 4, 3, 2, 1]\n",
      "[1, 2, 3]\n",
      "[4, 5, 6, 7, 8, 9, 10]\n",
      "[1, 2, 3]\n",
      "[4, 5, 6, 7, 8, 9, 10]\n"
     ]
    }
   ],
   "source": [
    "list6=[1,2,3,4,5,6,7,8,9,10]\n",
    "print(list6)\n",
    "print(list6[::])\n",
    "print(list6[3:5:])\n",
    "print(list6[1:4:2])\n",
    "print(list6[::-1])\n",
    "print(list6[0:3])\n",
    "print(list6[3:10])\n",
    "print(list6[:3])\n",
    "print(list6[3:])"
   ]
  },
  {
   "cell_type": "code",
   "execution_count": 43,
   "metadata": {},
   "outputs": [
    {
     "name": "stdout",
     "output_type": "stream",
     "text": [
      "[1, 2, 3, 4, 5, 6, 7, 8, 9, 10]\n",
      "[1, 2, 3, 5, 6, 7, 8, 9, 10]\n"
     ]
    }
   ],
   "source": [
    "list7=[1,2,3,4,5,6,7,8,9,10]\n",
    "print(list7)\n",
    "del list7[3]\n",
    "print(list7)"
   ]
  },
  {
   "cell_type": "code",
   "execution_count": 44,
   "metadata": {},
   "outputs": [
    {
     "name": "stdout",
     "output_type": "stream",
     "text": [
      "[1, 2, 3, 4, 5, 6, 7, 8, 9, 10]\n",
      "True\n",
      "False\n"
     ]
    }
   ],
   "source": [
    "list8=[1,2,3,4,5,6,7,8,9,10]\n",
    "print(list8)\n",
    "print(4 in list8)\n",
    "print(14 in list8)"
   ]
  },
  {
   "cell_type": "code",
   "execution_count": 100,
   "metadata": {},
   "outputs": [
    {
     "name": "stdout",
     "output_type": "stream",
     "text": [
      "['손흥민', '조규성', '황의조', '김승규']\n",
      "['손흥민', '조규성', '황의조', '김승규', '이강인']\n",
      "['손흥민', '조규성', '황의조', '이강인', '김승규', '이강인']\n",
      "['손흥민', '조규성', '황의조', '이강인', '김승규', '이강인', '김영권', '황인범']\n",
      "['조규성', '황의조', '이강인', '김승규', '이강인', '김영권', '황인범']\n",
      "황인범\n",
      "['조규성', '황의조', '이강인', '김승규', '이강인', '김영권']\n",
      "2\n",
      "2\n",
      "['김승규', '김영권', '이강인', '이강인', '조규성', '황의조']\n",
      "['황의조', '조규성', '이강인', '이강인', '김영권', '김승규']\n",
      "[]\n"
     ]
    }
   ],
   "source": [
    "list9=[\"손흥민\",\"조규성\",\"황의조\",\"김승규\"]\n",
    "print(list9)\n",
    "list9.append(\"이강인\")\n",
    "print(list9)\n",
    "list9.insert(3,\"이강인\")\n",
    "print(list9)\n",
    "list9.extend([\"김영권\",\"황인범\"])\n",
    "print(list9)\n",
    "list9.remove(\"손흥민\")\n",
    "print(list9)\n",
    "member=list9.pop()\n",
    "print(member)\n",
    "print(list9)\n",
    "print(list9.index(\"이강인\"))\n",
    "print(list9.count(\"이강인\"))\n",
    "list9.sort()\n",
    "print(list9)\n",
    "list9.reverse()\n",
    "print(list9)\n",
    "list9.clear()\n",
    "print(list9)\n"
   ]
  },
  {
   "cell_type": "markdown",
   "metadata": {},
   "source": [
    "### 튜플"
   ]
  },
  {
   "cell_type": "code",
   "execution_count": 104,
   "metadata": {},
   "outputs": [
    {
     "name": "stdout",
     "output_type": "stream",
     "text": [
      "(1, 2, 3, 4, 5, 6, 7)\n"
     ]
    },
    {
     "data": {
      "text/plain": [
       "tuple"
      ]
     },
     "execution_count": 104,
     "metadata": {},
     "output_type": "execute_result"
    }
   ],
   "source": [
    "tuple1 = (1,2,3,4,5,6,7)\n",
    "print(tuple1)\n",
    "type(tuple1)"
   ]
  },
  {
   "cell_type": "code",
   "execution_count": 105,
   "metadata": {},
   "outputs": [
    {
     "name": "stdout",
     "output_type": "stream",
     "text": [
      "(1, 2, 3, 4, 5, 6, 7)\n"
     ]
    },
    {
     "data": {
      "text/plain": [
       "tuple"
      ]
     },
     "execution_count": 105,
     "metadata": {},
     "output_type": "execute_result"
    }
   ],
   "source": [
    "tuple2 = 1,2,3,4,5,6,7\n",
    "print(tuple2)\n",
    "type(tuple2)"
   ]
  },
  {
   "cell_type": "code",
   "execution_count": 106,
   "metadata": {},
   "outputs": [
    {
     "name": "stdout",
     "output_type": "stream",
     "text": [
      "4\n"
     ]
    }
   ],
   "source": [
    "tuple3 = 1,2,3,4,5,6,7\n",
    "print(tuple3[3])"
   ]
  },
  {
   "cell_type": "code",
   "execution_count": 115,
   "metadata": {},
   "outputs": [
    {
     "name": "stdout",
     "output_type": "stream",
     "text": [
      "(1,)\n",
      "<class 'tuple'>\n",
      "(2,)\n"
     ]
    }
   ],
   "source": [
    "tuple4 = 1,\n",
    "print(tuple4)\n",
    "print(type(tuple4))\n",
    "tuple5 = (2,)\n",
    "print(tuple5)"
   ]
  },
  {
   "cell_type": "code",
   "execution_count": 124,
   "metadata": {},
   "outputs": [
    {
     "name": "stdout",
     "output_type": "stream",
     "text": [
      "2\n",
      "10\n",
      "2\n"
     ]
    }
   ],
   "source": [
    "tuplue5 = 1,2,3,4,5,6,7,8,9,10,3,4,3,5\n",
    "print(tuplue5.index(3))\n",
    "print(tuplue5.index(3,4))\n",
    "print(tuplue5.count(4))"
   ]
  },
  {
   "cell_type": "code",
   "execution_count": 128,
   "metadata": {},
   "outputs": [
    {
     "name": "stdout",
     "output_type": "stream",
     "text": [
      "{1, 2, 3, 4}\n",
      "{1, 2, 3, 4, 5}\n",
      "<class 'set'>\n"
     ]
    }
   ],
   "source": [
    "set1={1,2,3,4}\n",
    "set2={1,2,2,2,3,4,5}\n",
    "print(set1)\n",
    "print(set2)\n",
    "print(type(set1))"
   ]
  },
  {
   "cell_type": "code",
   "execution_count": 134,
   "metadata": {},
   "outputs": [
    {
     "name": "stdout",
     "output_type": "stream",
     "text": [
      "{2, 3, 4}\n",
      "{1, 2, 3, 4, 5}\n",
      "{1}\n",
      "{5}\n",
      "{2, 3, 4}\n",
      "{1, 2, 3, 4, 5}\n",
      "{2, 3, 4}\n"
     ]
    }
   ],
   "source": [
    "set1={1,2,3,4}\n",
    "set2={2,2,2,3,4,5}\n",
    "\n",
    "print(set1&set2)\n",
    "print(set1|set2)\n",
    "print(set1-set2)\n",
    "print(set2-set1)\n",
    "\n",
    "print(set1.intersection(set2))\n",
    "print(set1.union(set2))\n",
    "print(set1.intersection(set2))"
   ]
  },
  {
   "cell_type": "code",
   "execution_count": 2,
   "metadata": {},
   "outputs": [
    {
     "name": "stdout",
     "output_type": "stream",
     "text": [
      "[1, 2, 3]\n",
      "<class 'list'>\n",
      "(1, 2, 3)\n",
      "<class 'tuple'>\n",
      "{1, 2, 3}\n",
      "<class 'set'>\n",
      "[1, 2, 3]\n",
      "<class 'list'>\n"
     ]
    }
   ],
   "source": [
    "list10 = [1,2,3]\n",
    "print(list10)\n",
    "print(type(list10))\n",
    "\n",
    "tuple10=tuple(list10)\n",
    "print(tuple10)\n",
    "print(type(tuple10))\n",
    "\n",
    "set10=set(tuple10)\n",
    "print(set10)\n",
    "print(type(set10))\n",
    "\n",
    "set11=list(set10)\n",
    "print(set11)\n",
    "print(type(set11))"
   ]
  },
  {
   "cell_type": "code",
   "execution_count": 8,
   "metadata": {},
   "outputs": [
    {
     "name": "stdout",
     "output_type": "stream",
     "text": [
      "{'성별': '남자', '나이': 20, '취미': ['파이선', 'AI']}\n",
      "<class 'dict'>\n"
     ]
    }
   ],
   "source": [
    "dict1={\"성별\":\"남자\",\"나이\":20,\"취미\":[\"파이선\",\"AI\"]}\n",
    "print(dict1)\n",
    "print(type(dict1))"
   ]
  },
  {
   "cell_type": "code",
   "execution_count": 14,
   "metadata": {},
   "outputs": [
    {
     "name": "stdout",
     "output_type": "stream",
     "text": [
      "남자\n",
      "20\n",
      "['파이선', 'AI']\n"
     ]
    }
   ],
   "source": [
    "dict1={\"성별\":\"남자\",\"나이\":20,\"취미\":[\"파이선\",\"AI\"]}\n",
    "print(dict1[\"성별\"])\n",
    "print(dict1[\"나이\"])\n",
    "print(dict1[\"취미\"])"
   ]
  },
  {
   "cell_type": "code",
   "execution_count": 15,
   "metadata": {},
   "outputs": [
    {
     "name": "stdout",
     "output_type": "stream",
     "text": [
      "{'성별': '남자', '나이': 21, '취미': ['파이선', 'AI']}\n"
     ]
    }
   ],
   "source": [
    "dict1[\"나이\"] = 21\n",
    "print(dict1)"
   ]
  },
  {
   "cell_type": "code",
   "execution_count": 17,
   "metadata": {},
   "outputs": [
    {
     "name": "stdout",
     "output_type": "stream",
     "text": [
      "{'성별': '남자', '취미': ['파이선', 'AI']}\n"
     ]
    }
   ],
   "source": [
    "del dict1[\"나이\"]\n",
    "print(dict1)"
   ]
  },
  {
   "cell_type": "code",
   "execution_count": 27,
   "metadata": {},
   "outputs": [
    {
     "name": "stdout",
     "output_type": "stream",
     "text": [
      "{'성별': '남자', '나이': 20, '취미': ['파이선', 'AI']}\n",
      "dict_keys(['성별', '나이', '취미'])\n",
      "dict_values(['남자', 20, ['파이선', 'AI']])\n",
      "dict_items([('성별', '남자'), ('나이', 20), ('취미', ['파이선', 'AI'])])\n",
      "{'성별': '남자', '나이': 20, '취미': ['파이선', 'AI'], '희망대학': 'MIT'}\n",
      "{}\n"
     ]
    }
   ],
   "source": [
    "dic2={\"성별\":\"남자\",\"나이\":20,\"취미\":[\"파이선\",\"AI\"]}\n",
    "print(dic2)\n",
    "print(dic2.keys())\n",
    "print(dic2.values())\n",
    "print(dic2.items())\n",
    "dic2.update({\"희망대학\":\"MIT\"})\n",
    "print(dic2)\n",
    "dic2.clear()\n",
    "print(dic2)"
   ]
  },
  {
   "cell_type": "code",
   "execution_count": 33,
   "metadata": {},
   "outputs": [
    {
     "name": "stdout",
     "output_type": "stream",
     "text": [
      "i= 0\n",
      "i= 1\n",
      "i= 2\n",
      "i= 3\n",
      "i= 4\n",
      "i= 5\n",
      "i= 6\n",
      "i= 7\n",
      "i= 8\n",
      "i= 9\n"
     ]
    }
   ],
   "source": [
    "for i in range(10):\n",
    "    print(\"i=\",i)"
   ]
  },
  {
   "cell_type": "code",
   "execution_count": 34,
   "metadata": {},
   "outputs": [
    {
     "name": "stdout",
     "output_type": "stream",
     "text": [
      "i= 2\n",
      "i= 3\n",
      "i= 4\n",
      "i= 5\n",
      "i= 6\n",
      "i= 7\n",
      "i= 8\n",
      "i= 9\n"
     ]
    }
   ],
   "source": [
    "for i in range(2,10):\n",
    "    print(\"i=\",i)"
   ]
  },
  {
   "cell_type": "code",
   "execution_count": 36,
   "metadata": {},
   "outputs": [
    {
     "name": "stdout",
     "output_type": "stream",
     "text": [
      "i= 2\n",
      "i= 4\n",
      "i= 6\n",
      "i= 8\n"
     ]
    }
   ],
   "source": [
    "for i in range(2,10,2):\n",
    "    print(\"i=\",i)"
   ]
  },
  {
   "cell_type": "code",
   "execution_count": 37,
   "metadata": {},
   "outputs": [
    {
     "name": "stdout",
     "output_type": "stream",
     "text": [
      "i= 1\n",
      "i= 2\n",
      "i= 4\n",
      "i= 5\n",
      "i= 8\n"
     ]
    }
   ],
   "source": [
    "list=[1,2,4,5,8]\n",
    "for i in list:\n",
    "    print(\"i=\",i)"
   ]
  },
  {
   "cell_type": "code",
   "execution_count": null,
   "metadata": {},
   "outputs": [],
   "source": []
  }
 ],
 "metadata": {
  "kernelspec": {
   "display_name": "Python 3",
   "language": "python",
   "name": "python3"
  },
  "language_info": {
   "codemirror_mode": {
    "name": "ipython",
    "version": 3
   },
   "file_extension": ".py",
   "mimetype": "text/x-python",
   "name": "python",
   "nbconvert_exporter": "python",
   "pygments_lexer": "ipython3",
   "version": "3.11.4"
  },
  "orig_nbformat": 4
 },
 "nbformat": 4,
 "nbformat_minor": 2
}
