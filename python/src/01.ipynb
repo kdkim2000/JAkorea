{
 "cells": [
  {
   "cell_type": "code",
   "execution_count": 109,
   "metadata": {},
   "outputs": [
    {
     "name": "stdout",
     "output_type": "stream",
     "text": [
      "5\n",
      "1\n",
      "6\n",
      "1.5\n"
     ]
    }
   ],
   "source": [
    "print(3+2)\n",
    "print(3-2)\n",
    "print(3*2)\n",
    "print(3/2)"
   ]
  },
  {
   "cell_type": "code",
   "execution_count": 110,
   "metadata": {},
   "outputs": [
    {
     "name": "stdout",
     "output_type": "stream",
     "text": [
      "9\n",
      "6.25\n",
      "1.4142135623730951\n"
     ]
    }
   ],
   "source": [
    "print(3**2)\n",
    "print(2.5**2)\n",
    "print(2**(1/2))"
   ]
  },
  {
   "cell_type": "code",
   "execution_count": 111,
   "metadata": {},
   "outputs": [
    {
     "name": "stdout",
     "output_type": "stream",
     "text": [
      "5\n",
      "1\n"
     ]
    }
   ],
   "source": [
    "print(11//2)\n",
    "print(11%2)"
   ]
  },
  {
   "cell_type": "code",
   "execution_count": 112,
   "metadata": {},
   "outputs": [
    {
     "name": "stdout",
     "output_type": "stream",
     "text": [
      "1e+16\n",
      "1000000000000000.0\n",
      "0.0001\n",
      "1e-05\n"
     ]
    }
   ],
   "source": [
    "print(1e16)\n",
    "print(1e15)\n",
    "print(1e-4)\n",
    "print(1e-5)"
   ]
  },
  {
   "cell_type": "code",
   "execution_count": 113,
   "metadata": {},
   "outputs": [
    {
     "name": "stdout",
     "output_type": "stream",
     "text": [
      "0b10001\n",
      "0o21\n",
      "0x11\n",
      "17\n",
      "17\n",
      "17\n"
     ]
    }
   ],
   "source": [
    "print(bin(17))\n",
    "print(oct(17))\n",
    "print(hex(17))\n",
    "\n",
    "print(0b10001)\n",
    "print(0o21)\n",
    "print(0x11)"
   ]
  },
  {
   "cell_type": "code",
   "execution_count": 114,
   "metadata": {},
   "outputs": [
    {
     "name": "stdout",
     "output_type": "stream",
     "text": [
      "True\n",
      "False\n",
      "True\n",
      "True\n",
      "False\n",
      "True\n"
     ]
    }
   ],
   "source": [
    "print(True and True)\n",
    "print(True and False)\n",
    "print(True or True)\n",
    "print(True or False)\n",
    "print(not True)\n",
    "print(not False)"
   ]
  },
  {
   "cell_type": "code",
   "execution_count": 115,
   "metadata": {},
   "outputs": [
    {
     "name": "stdout",
     "output_type": "stream",
     "text": [
      "False\n",
      "True\n",
      "False\n",
      "True\n",
      "False\n",
      "True\n"
     ]
    }
   ],
   "source": [
    "print(4<3)\n",
    "print(4>3)\n",
    "print(4<=3)\n",
    "print(4>=3)\n",
    "print(4==3)\n",
    "print(4!=3)"
   ]
  },
  {
   "cell_type": "markdown",
   "metadata": {},
   "source": [
    "### 문자열"
   ]
  },
  {
   "cell_type": "code",
   "execution_count": 116,
   "metadata": {},
   "outputs": [
    {
     "name": "stdout",
     "output_type": "stream",
     "text": [
      "'\"'를 활용한 String 형식\n",
      "'를 활용한 String 형식\n",
      "String 형식입니다.\n"
     ]
    }
   ],
   "source": [
    "print(\"'\\\"'를 활용한 String 형식\")\n",
    "print('\\'를 활용한 String 형식')\n",
    "str1=\"String 형식입니다.\"\n",
    "print(str1)\n",
    "\n"
   ]
  },
  {
   "cell_type": "code",
   "execution_count": 117,
   "metadata": {},
   "outputs": [
    {
     "name": "stdout",
     "output_type": "stream",
     "text": [
      "여러 행으로 문자를 표현할 수 있습니다.\n",
      "'애국가'\n",
      "작사 : \"미상\"\n",
      "동해물과 백두산이 마르고 닳도록\n",
      "\n"
     ]
    }
   ],
   "source": [
    "str2='''여러 행으로 문자를 표현할 수 있습니다.\n",
    "'애국가'\n",
    "작사 : \"미상\"\n",
    "동해물과 백두산이 마르고 닳도록\n",
    "'''\n",
    "print(str2)"
   ]
  },
  {
   "cell_type": "code",
   "execution_count": 118,
   "metadata": {},
   "outputs": [
    {
     "name": "stdout",
     "output_type": "stream",
     "text": [
      "파이션은 매우 좋은 언어입니다.!!!\n",
      "파이션은 매우 좋은 언어입니다.!!!!!!!!!\n"
     ]
    }
   ],
   "source": [
    "str3 = \"파이션은 매우 좋은 언어입니다.\"\n",
    "str4 = \"!!!\"\n",
    "print(str3 + str4)\n",
    "print(str3 + str4 * 3)"
   ]
  },
  {
   "cell_type": "markdown",
   "metadata": {},
   "source": [
    "### 리스트"
   ]
  },
  {
   "cell_type": "code",
   "execution_count": 119,
   "metadata": {},
   "outputs": [
    {
     "name": "stdout",
     "output_type": "stream",
     "text": [
      "[1, 2, 3, 4, 5, 6, 7]\n"
     ]
    },
    {
     "data": {
      "text/plain": [
       "list"
      ]
     },
     "execution_count": 119,
     "metadata": {},
     "output_type": "execute_result"
    }
   ],
   "source": [
    "list1 = [1,2,3,4,5,6,7]\n",
    "print(list1)\n",
    "type(list1)"
   ]
  },
  {
   "cell_type": "code",
   "execution_count": 120,
   "metadata": {},
   "outputs": [
    {
     "name": "stdout",
     "output_type": "stream",
     "text": [
      "10\n",
      "String\n",
      "30.6\n",
      "True\n",
      "50\n",
      "7\n",
      "6\n"
     ]
    }
   ],
   "source": [
    "list2 = [10,\"String\",30.6,True,'50',6,7]\n",
    "print(list2[0])\n",
    "print(list2[1])\n",
    "print(list2[2])\n",
    "print(list2[3])\n",
    "print(list2[4])\n",
    "print(list2[-1])\n",
    "print(list2[-2])\n"
   ]
  },
  {
   "cell_type": "code",
   "execution_count": 121,
   "metadata": {},
   "outputs": [
    {
     "name": "stdout",
     "output_type": "stream",
     "text": [
      "[10, 'String', 30.6, 40, 50, 6, 7]\n",
      "['데이터를 변경합니다.', 'String', 30.6, 40, 50, 6, 7]\n"
     ]
    }
   ],
   "source": [
    "list3 = [10,\"String\",30.6,40,50,6,7]\n",
    "print(list3)\n",
    "list3[0] = \"데이터를 변경합니다.\"\n",
    "print(list3)"
   ]
  },
  {
   "cell_type": "code",
   "execution_count": 122,
   "metadata": {},
   "outputs": [
    {
     "name": "stdout",
     "output_type": "stream",
     "text": [
      "[1, True, 'String', 2, 3, 4]\n",
      "[1, True, 'String', 1, True, 'String', 1, True, 'String']\n"
     ]
    }
   ],
   "source": [
    "list4 = [1,True,'String']\n",
    "list5 = [2,3,4]\n",
    "print(list4+list5)\n",
    "print(list4*3)"
   ]
  },
  {
   "cell_type": "code",
   "execution_count": 123,
   "metadata": {},
   "outputs": [
    {
     "name": "stdout",
     "output_type": "stream",
     "text": [
      "[1, 2, 3, 4, 5, 6, 7, 8, 9, 10]\n",
      "[1, 2, 3, 4, 5, 6, 7, 8, 9, 10]\n",
      "[4, 5]\n",
      "[2, 4]\n",
      "[10, 9, 8, 7, 6, 5, 4, 3, 2, 1]\n",
      "[1, 2, 3]\n",
      "[4, 5, 6, 7, 8, 9, 10]\n",
      "[1, 2, 3]\n",
      "[4, 5, 6, 7, 8, 9, 10]\n"
     ]
    }
   ],
   "source": [
    "list6=[1,2,3,4,5,6,7,8,9,10]\n",
    "print(list6)\n",
    "print(list6[::])\n",
    "print(list6[3:5:])\n",
    "print(list6[1:4:2])\n",
    "print(list6[::-1])\n",
    "print(list6[0:3])\n",
    "print(list6[3:10])\n",
    "print(list6[:3])\n",
    "print(list6[3:])"
   ]
  },
  {
   "cell_type": "code",
   "execution_count": 124,
   "metadata": {},
   "outputs": [
    {
     "name": "stdout",
     "output_type": "stream",
     "text": [
      "[1, 2, 3, 4, 5, 6, 7, 8, 9, 10]\n",
      "[1, 2, 3, 5, 6, 7, 8, 9, 10]\n"
     ]
    }
   ],
   "source": [
    "list7=[1,2,3,4,5,6,7,8,9,10]\n",
    "print(list7)\n",
    "del list7[3]\n",
    "print(list7)"
   ]
  },
  {
   "cell_type": "code",
   "execution_count": 125,
   "metadata": {},
   "outputs": [
    {
     "name": "stdout",
     "output_type": "stream",
     "text": [
      "[1, 2, 3, 4, 5, 6, 7, 8, 9, 10]\n",
      "True\n",
      "False\n"
     ]
    }
   ],
   "source": [
    "list8=[1,2,3,4,5,6,7,8,9,10]\n",
    "print(list8)\n",
    "print(4 in list8)\n",
    "print(14 in list8)"
   ]
  },
  {
   "cell_type": "code",
   "execution_count": 126,
   "metadata": {},
   "outputs": [
    {
     "name": "stdout",
     "output_type": "stream",
     "text": [
      "['손흥민', '조규성', '황의조', '김승규']\n",
      "['손흥민', '조규성', '황의조', '김승규', '이강인']\n",
      "['손흥민', '조규성', '황의조', '이강인', '김승규', '이강인']\n",
      "['손흥민', '조규성', '황의조', '이강인', '김승규', '이강인', '김영권', '황인범']\n",
      "['조규성', '황의조', '이강인', '김승규', '이강인', '김영권', '황인범']\n",
      "황인범\n",
      "['조규성', '황의조', '이강인', '김승규', '이강인', '김영권']\n",
      "2\n",
      "2\n",
      "['김승규', '김영권', '이강인', '이강인', '조규성', '황의조']\n",
      "['황의조', '조규성', '이강인', '이강인', '김영권', '김승규']\n",
      "[]\n"
     ]
    }
   ],
   "source": [
    "list9=[\"손흥민\",\"조규성\",\"황의조\",\"김승규\"]\n",
    "print(list9)\n",
    "list9.append(\"이강인\")\n",
    "print(list9)\n",
    "list9.insert(3,\"이강인\")\n",
    "print(list9)\n",
    "list9.extend([\"김영권\",\"황인범\"])\n",
    "print(list9)\n",
    "list9.remove(\"손흥민\")\n",
    "print(list9)\n",
    "member=list9.pop()\n",
    "print(member)\n",
    "print(list9)\n",
    "print(list9.index(\"이강인\"))\n",
    "print(list9.count(\"이강인\"))\n",
    "list9.sort()\n",
    "print(list9)\n",
    "list9.reverse()\n",
    "print(list9)\n",
    "list9.clear()\n",
    "print(list9)\n"
   ]
  },
  {
   "cell_type": "code",
   "execution_count": 186,
   "metadata": {},
   "outputs": [
    {
     "name": "stdout",
     "output_type": "stream",
     "text": [
      "['태양', '수성', '금성', '지구', '화성', '목성', '토성', '천왕성', '해왕성', '명왕성']\n",
      "['태양', '수성', '금성', '지구', '화성', '목성', '토성', '천왕성', '해왕성']\n",
      "['태양', '천왕성', '해왕성', '명왕성']\n"
     ]
    }
   ],
   "source": [
    "solarsys = ['태양','수성','금성','지구','화성','목성','토성','천왕성','해왕성','명왕성']\n",
    "print(solarsys)\n",
    "del solarsys[-1]\n",
    "print(solarsys)\n",
    "\n",
    "solarsys = ['태양','수성','금성','지구','화성','목성','토성','천왕성','해왕성','명왕성']\n",
    "del solarsys[1:7]\n",
    "print(solarsys)"
   ]
  },
  {
   "cell_type": "code",
   "execution_count": 187,
   "metadata": {},
   "outputs": [
    {
     "name": "stdout",
     "output_type": "stream",
     "text": [
      "['태양', '수성', '금성', '달', '지구', '화성', '목성', '토성', '천왕성', '해왕성', '명왕성']\n",
      "['태양', '수성', '금성', '지구', '화성', '목성', '토성', '천왕성', '해왕성', '명왕성', '헬', '리', '혜', '성']\n",
      "['태양', '수성', '금성', '지구', '화성', '목성', '토성', '천왕성', '해왕성', '명왕성', '헬리혜성']\n"
     ]
    }
   ],
   "source": [
    "solarsys = ['태양','수성','금성','지구','화성','목성','토성','천왕성','해왕성','명왕성']\n",
    "moon = solarsys.index('지구')\n",
    "solarsys.insert(moon,'달')\n",
    "print(solarsys)\n",
    "solarsys = ['태양','수성','금성','지구','화성','목성','토성','천왕성','해왕성','명왕성']\n",
    "solarsys.extend('헬리혜성')\n",
    "print(solarsys)\n",
    "solarsys = ['태양','수성','금성','지구','화성','목성','토성','천왕성','해왕성','명왕성']\n",
    "solarsys.extend(['헬리혜성'])\n",
    "print(solarsys)"
   ]
  },
  {
   "cell_type": "markdown",
   "metadata": {},
   "source": [
    "### 튜플"
   ]
  },
  {
   "cell_type": "code",
   "execution_count": 127,
   "metadata": {},
   "outputs": [
    {
     "name": "stdout",
     "output_type": "stream",
     "text": [
      "(1, 2, 3, 4, 5, 6, 7)\n"
     ]
    },
    {
     "data": {
      "text/plain": [
       "tuple"
      ]
     },
     "execution_count": 127,
     "metadata": {},
     "output_type": "execute_result"
    }
   ],
   "source": [
    "tuple1 = (1,2,3,4,5,6,7)\n",
    "print(tuple1)\n",
    "type(tuple1)"
   ]
  },
  {
   "cell_type": "code",
   "execution_count": 128,
   "metadata": {},
   "outputs": [
    {
     "name": "stdout",
     "output_type": "stream",
     "text": [
      "(1, 2, 3, 4, 5, 6, 7)\n"
     ]
    },
    {
     "data": {
      "text/plain": [
       "tuple"
      ]
     },
     "execution_count": 128,
     "metadata": {},
     "output_type": "execute_result"
    }
   ],
   "source": [
    "tuple2 = 1,2,3,4,5,6,7\n",
    "print(tuple2)\n",
    "type(tuple2)"
   ]
  },
  {
   "cell_type": "code",
   "execution_count": 129,
   "metadata": {},
   "outputs": [
    {
     "name": "stdout",
     "output_type": "stream",
     "text": [
      "4\n"
     ]
    }
   ],
   "source": [
    "tuple3 = 1,2,3,4,5,6,7\n",
    "print(tuple3[3])"
   ]
  },
  {
   "cell_type": "code",
   "execution_count": 130,
   "metadata": {},
   "outputs": [
    {
     "name": "stdout",
     "output_type": "stream",
     "text": [
      "(1,)\n",
      "<class 'tuple'>\n",
      "(2,)\n"
     ]
    }
   ],
   "source": [
    "tuple4 = 1,\n",
    "print(tuple4)\n",
    "print(type(tuple4))\n",
    "tuple5 = (2,)\n",
    "print(tuple5)"
   ]
  },
  {
   "cell_type": "code",
   "execution_count": 131,
   "metadata": {},
   "outputs": [
    {
     "name": "stdout",
     "output_type": "stream",
     "text": [
      "2\n",
      "10\n",
      "2\n"
     ]
    }
   ],
   "source": [
    "tuplue5 = 1,2,3,4,5,6,7,8,9,10,3,4,3,5\n",
    "print(tuplue5.index(3))\n",
    "print(tuplue5.index(3,4))\n",
    "print(tuplue5.count(4))"
   ]
  },
  {
   "cell_type": "markdown",
   "metadata": {},
   "source": [
    "### SET"
   ]
  },
  {
   "cell_type": "code",
   "execution_count": 132,
   "metadata": {},
   "outputs": [
    {
     "name": "stdout",
     "output_type": "stream",
     "text": [
      "{1, 2, 3, 4}\n",
      "{1, 2, 3, 4, 5}\n",
      "<class 'set'>\n"
     ]
    }
   ],
   "source": [
    "set1={1,2,3,4}\n",
    "set2={1,2,2,2,3,4,5}\n",
    "print(set1)\n",
    "print(set2)\n",
    "print(type(set1))"
   ]
  },
  {
   "cell_type": "code",
   "execution_count": 133,
   "metadata": {},
   "outputs": [
    {
     "name": "stdout",
     "output_type": "stream",
     "text": [
      "{2, 3, 4}\n",
      "{1, 2, 3, 4, 5}\n",
      "{1}\n",
      "{5}\n",
      "{2, 3, 4}\n",
      "{1, 2, 3, 4, 5}\n",
      "{2, 3, 4}\n"
     ]
    }
   ],
   "source": [
    "set1={1,2,3,4}\n",
    "set2={2,2,2,3,4,5}\n",
    "\n",
    "print(set1&set2)\n",
    "print(set1|set2)\n",
    "print(set1-set2)\n",
    "print(set2-set1)\n",
    "\n",
    "print(set1.intersection(set2))\n",
    "print(set1.union(set2))\n",
    "print(set1.intersection(set2))"
   ]
  },
  {
   "cell_type": "code",
   "execution_count": 188,
   "metadata": {},
   "outputs": [
    {
     "name": "stdout",
     "output_type": "stream",
     "text": [
      "{'RAMOS', 'ALVES', 'ROLALDO', 'KANTE', 'MODRIC', 'VARANE', 'DEGEA', 'MESSI', 'MARCELO', 'HAZARD', 'MBAPPE'}\n",
      "{'KANTE', 'VARANE', 'DEGEA', 'HAZARD', 'MBAPPE'}\n",
      "{'RAMOS', 'ALVES', 'ROLALDO', 'SUAREZ', 'MODRIC', 'MESSI', 'KROOS', 'MARCELO', 'HAZARD', 'NEUER', 'MBAPPE', 'PIQUE', 'KANTE', 'VARANE', 'DEGEA', 'INIESTA'}\n"
     ]
    }
   ],
   "source": [
    "BEST2018= set([\"MESSI\",\"ROLALDO\",\"MBAPPE\",\"HAZARD\",\"KANTE\",\"MODRIC\",\"MARCELO\",\"RAMOS\",\"VARANE\",\"ALVES\",\"DEGEA\"])\n",
    "BEST2017= set([\"MESSI\",\"SUAREZ\",\"ROLALDO\",\"INIESTA\",\"KROOS\",\"MODRIC\",\"MARCELO\",\"RAMOS\",\"PIQUE\",\"ALVES\",\"NEUER\"])\n",
    "print(BEST2018 & BEST2018)\n",
    "print(BEST2018 - BEST2017)\n",
    "print(BEST2018 | BEST2017)"
   ]
  },
  {
   "cell_type": "markdown",
   "metadata": {},
   "source": [
    "### 변환"
   ]
  },
  {
   "cell_type": "code",
   "execution_count": 134,
   "metadata": {},
   "outputs": [
    {
     "name": "stdout",
     "output_type": "stream",
     "text": [
      "[1, 2, 3]\n",
      "<class 'list'>\n",
      "(1, 2, 3)\n",
      "<class 'tuple'>\n",
      "{1, 2, 3}\n",
      "<class 'set'>\n",
      "[1, 2, 3]\n",
      "<class 'list'>\n"
     ]
    }
   ],
   "source": [
    "list10 = [1,2,3]\n",
    "print(list10)\n",
    "print(type(list10))\n",
    "\n",
    "tuple10=tuple(list10)\n",
    "print(tuple10)\n",
    "print(type(tuple10))\n",
    "\n",
    "set10=set(tuple10)\n",
    "print(set10)\n",
    "print(type(set10))\n",
    "\n",
    "set11=list(set10)\n",
    "print(set11)\n",
    "print(type(set11))"
   ]
  },
  {
   "cell_type": "markdown",
   "metadata": {},
   "source": [
    "### 딕셔너리"
   ]
  },
  {
   "cell_type": "code",
   "execution_count": 135,
   "metadata": {},
   "outputs": [
    {
     "name": "stdout",
     "output_type": "stream",
     "text": [
      "{'성별': '남자', '나이': 20, '취미': ['파이선', 'AI']}\n",
      "<class 'dict'>\n"
     ]
    }
   ],
   "source": [
    "dict1={\"성별\":\"남자\",\"나이\":20,\"취미\":[\"파이선\",\"AI\"]}\n",
    "print(dict1)\n",
    "print(type(dict1))"
   ]
  },
  {
   "cell_type": "code",
   "execution_count": 136,
   "metadata": {},
   "outputs": [
    {
     "name": "stdout",
     "output_type": "stream",
     "text": [
      "남자\n",
      "20\n",
      "['파이선', 'AI']\n"
     ]
    }
   ],
   "source": [
    "print(dict1[\"성별\"])\n",
    "print(dict1[\"나이\"])\n",
    "print(dict1[\"취미\"])"
   ]
  },
  {
   "cell_type": "code",
   "execution_count": 137,
   "metadata": {},
   "outputs": [
    {
     "name": "stdout",
     "output_type": "stream",
     "text": [
      "{'성별': '남자', '나이': 21, '취미': ['파이선', 'AI']}\n"
     ]
    }
   ],
   "source": [
    "dict1[\"나이\"] = 21\n",
    "print(dict1)"
   ]
  },
  {
   "cell_type": "code",
   "execution_count": 138,
   "metadata": {},
   "outputs": [
    {
     "name": "stdout",
     "output_type": "stream",
     "text": [
      "{'성별': '남자', '취미': ['파이선', 'AI']}\n"
     ]
    }
   ],
   "source": [
    "del dict1[\"나이\"]\n",
    "print(dict1)"
   ]
  },
  {
   "cell_type": "code",
   "execution_count": 139,
   "metadata": {},
   "outputs": [
    {
     "name": "stdout",
     "output_type": "stream",
     "text": [
      "{'성별': '남자', '나이': 20, '취미': ['파이선', 'AI']}\n",
      "dict_keys(['성별', '나이', '취미'])\n",
      "dict_values(['남자', 20, ['파이선', 'AI']])\n",
      "dict_items([('성별', '남자'), ('나이', 20), ('취미', ['파이선', 'AI'])])\n",
      "{'성별': '남자', '나이': 20, '취미': ['파이선', 'AI'], '희망대학': 'MIT'}\n",
      "{}\n"
     ]
    }
   ],
   "source": [
    "dic2={\"성별\":\"남자\",\"나이\":20,\"취미\":[\"파이선\",\"AI\"]}\n",
    "print(dic2)\n",
    "print(dic2.keys())\n",
    "print(dic2.values())\n",
    "print(dic2.items())\n",
    "dic2.update({\"희망대학\":\"MIT\"})\n",
    "print(dic2)\n",
    "dic2.clear()\n",
    "print(dic2)"
   ]
  },
  {
   "cell_type": "code",
   "execution_count": 191,
   "metadata": {},
   "outputs": [
    {
     "name": "stdout",
     "output_type": "stream",
     "text": [
      "{'오현민': 10999, '이주경': 2111, '권도훈': 9778, '김아영': 20245, '박서혜': 27115, '안준한': 5887, '박수정': 7855}\n",
      "{'오현민': 30000, '이주경': 2111, '권도훈': 9778, '김아영': 20245, '박서혜': 27115, '안준한': 5887, '박수정': 7855}\n",
      "{'오현민': 30000, '권도훈': 9778, '김아영': 20245, '박서혜': 27115, '안준한': 5887, '박수정': 7855}\n",
      "dict_keys(['오현민', '권도훈', '김아영', '박서혜', '안준한', '박수정'])\n",
      "dict_values([30000, 9778, 20245, 27115, 5887, 7855])\n"
     ]
    }
   ],
   "source": [
    "names={\"오현민\":10999, \"이주경\":2111, \"권도훈\":9778, \"김아영\":20245,\"박서혜\":27115,\"안준한\":5887,\"박수정\":7855}\n",
    "print(names)\n",
    "names[\"오현민\"]=30000\n",
    "print(names)\n",
    "del names[\"이주경\"]\n",
    "print(names)\n",
    "print(names.keys())\n",
    "print(names.values())"
   ]
  },
  {
   "cell_type": "markdown",
   "metadata": {},
   "source": [
    "## 제어문\n",
    "\n",
    "### 조건문"
   ]
  },
  {
   "cell_type": "code",
   "execution_count": 192,
   "metadata": {},
   "outputs": [
    {
     "name": "stdout",
     "output_type": "stream",
     "text": [
      "통과\n"
     ]
    }
   ],
   "source": [
    "score = int(input(\"점수를 입력하세요:\"))\n",
    "if score >= 60:\n",
    "    print(\"통과\")\n",
    "else:\n",
    "     print(\"과락\")"
   ]
  },
  {
   "cell_type": "markdown",
   "metadata": {},
   "source": [
    "### 반복문(for)"
   ]
  },
  {
   "cell_type": "code",
   "execution_count": null,
   "metadata": {},
   "outputs": [
    {
     "name": "stdout",
     "output_type": "stream",
     "text": [
      "i= 0\n",
      "i= 1\n",
      "i= 2\n",
      "i= 3\n",
      "i= 4\n",
      "i= 5\n",
      "i= 6\n",
      "i= 7\n",
      "i= 8\n",
      "i= 9\n"
     ]
    }
   ],
   "source": [
    "for i in range(10):\n",
    "    print(\"i=\",i)"
   ]
  },
  {
   "cell_type": "code",
   "execution_count": null,
   "metadata": {},
   "outputs": [],
   "source": [
    "for i in range(10):\n",
    "    print(\"i=\",i)"
   ]
  },
  {
   "cell_type": "code",
   "execution_count": null,
   "metadata": {},
   "outputs": [
    {
     "name": "stdout",
     "output_type": "stream",
     "text": [
      "i= 2\n",
      "i= 3\n",
      "i= 4\n",
      "i= 5\n",
      "i= 6\n",
      "i= 7\n",
      "i= 8\n",
      "i= 9\n"
     ]
    }
   ],
   "source": [
    "for i in range(2,10):\n",
    "    print(\"i=\",i)"
   ]
  },
  {
   "cell_type": "code",
   "execution_count": null,
   "metadata": {},
   "outputs": [
    {
     "name": "stdout",
     "output_type": "stream",
     "text": [
      "i= 2\n",
      "i= 4\n",
      "i= 6\n",
      "i= 8\n"
     ]
    }
   ],
   "source": [
    "for i in range(2,10,2):\n",
    "    print(\"i=\",i)"
   ]
  },
  {
   "cell_type": "code",
   "execution_count": null,
   "metadata": {},
   "outputs": [
    {
     "name": "stdout",
     "output_type": "stream",
     "text": [
      "i= 1\n",
      "i= 2\n",
      "i= 4\n",
      "i= 5\n",
      "i= 8\n"
     ]
    }
   ],
   "source": [
    "list=[1,2,4,5,8]\n",
    "for i in list:\n",
    "    print(\"i=\",i)"
   ]
  },
  {
   "cell_type": "code",
   "execution_count": 161,
   "metadata": {},
   "outputs": [
    {
     "name": "stdout",
     "output_type": "stream",
     "text": [
      "[0, 1, 2, 3, 4, 5, 6, 7, 8, 9]\n"
     ]
    }
   ],
   "source": [
    "print(list(range(10)))"
   ]
  },
  {
   "cell_type": "code",
   "execution_count": 162,
   "metadata": {},
   "outputs": [
    {
     "name": "stdout",
     "output_type": "stream",
     "text": [
      "[0, 5, 10, 15]\n"
     ]
    }
   ],
   "source": [
    "print(list(range(0,20,5)))"
   ]
  },
  {
   "cell_type": "code",
   "execution_count": 163,
   "metadata": {},
   "outputs": [
    {
     "name": "stdout",
     "output_type": "stream",
     "text": [
      "[-10, -8, -6, -4, -2]\n"
     ]
    }
   ],
   "source": [
    "print(list(range(-10,0, 2)))"
   ]
  },
  {
   "cell_type": "code",
   "execution_count": 164,
   "metadata": {},
   "outputs": [
    {
     "name": "stdout",
     "output_type": "stream",
     "text": [
      "X,Y\n",
      "x1 y2\n",
      "x1 y2\n",
      "x2 y2\n",
      "x2 y2\n"
     ]
    }
   ],
   "source": [
    "x_list=['x1','x2']\n",
    "y_list=['y2','y2']\n",
    "print(\"X,Y\")\n",
    "for x in x_list:\n",
    "    for y in y_list:\n",
    "        print(x,y)"
   ]
  },
  {
   "cell_type": "code",
   "execution_count": 165,
   "metadata": {},
   "outputs": [
    {
     "name": "stdout",
     "output_type": "stream",
     "text": [
      "x,y\n",
      "1 1\n",
      "2 3\n",
      "3 6\n",
      "4 10\n",
      "5 15\n",
      "6 21\n"
     ]
    }
   ],
   "source": [
    "x=0\n",
    "y=0\n",
    "print(\"x,y\")\n",
    "while(y<20):\n",
    "    x+=1\n",
    "    y+=x\n",
    "    print(x,y)"
   ]
  },
  {
   "cell_type": "markdown",
   "metadata": {},
   "source": [
    "### 반복문(while)"
   ]
  },
  {
   "cell_type": "code",
   "execution_count": 166,
   "metadata": {},
   "outputs": [
    {
     "name": "stdout",
     "output_type": "stream",
     "text": [
      "1\n",
      "2\n",
      "3\n",
      "4\n",
      "5\n"
     ]
    }
   ],
   "source": [
    "a=0\n",
    "while True:\n",
    "    a+=1\n",
    "    if(a>5):\n",
    "        break\n",
    "    print(a)"
   ]
  },
  {
   "cell_type": "code",
   "execution_count": 175,
   "metadata": {},
   "outputs": [
    {
     "name": "stdout",
     "output_type": "stream",
     "text": [
      " *******\n",
      "  *****\n",
      "   ***\n",
      "    *\n"
     ]
    }
   ],
   "source": [
    "i=0\n",
    "while(i<4):\n",
    "    print(\" \"*i,\"*\"*(7-i*2))\n",
    "    i += 1"
   ]
  },
  {
   "cell_type": "code",
   "execution_count": 167,
   "metadata": {},
   "outputs": [
    {
     "name": "stdout",
     "output_type": "stream",
     "text": [
      "[1]\n",
      "[1, 9]\n",
      "[1, 9, 25]\n",
      "[1, 9, 25, 49]\n",
      "[1, 9, 25, 49, 81]\n"
     ]
    }
   ],
   "source": [
    "n=[1,3,5,7,9]\n",
    "s=[]\n",
    "for i in n:\n",
    "    s.append(i**2)\n",
    "    print(s)"
   ]
  },
  {
   "cell_type": "code",
   "execution_count": 168,
   "metadata": {},
   "outputs": [
    {
     "name": "stdout",
     "output_type": "stream",
     "text": [
      "[25, 49, 81]\n"
     ]
    }
   ],
   "source": [
    "n=[1,3,5,7,9]\n",
    "s=[i**2 for i in n if i>=5]\n",
    "print(s)"
   ]
  },
  {
   "cell_type": "markdown",
   "metadata": {},
   "source": [
    "## 입력 과 출력"
   ]
  },
  {
   "cell_type": "markdown",
   "metadata": {},
   "source": [
    "### 화면출력"
   ]
  },
  {
   "cell_type": "code",
   "execution_count": null,
   "metadata": {},
   "outputs": [
    {
     "name": "stdout",
     "output_type": "stream",
     "text": [
      "   4\n",
      "0004\n",
      "  12\n",
      "0.1235\n",
      "123,456,000\n",
      "47.89%\n",
      "9.570e+10\n",
      "0x11\n",
      "0o21\n",
      "0b10001\n"
     ]
    }
   ],
   "source": [
    "N=4\n",
    "print(\"{0:4d}\".format(N))\n",
    "print(\"{0:04d}\".format(N))\n",
    "N=12\n",
    "print(\"{0:>4d}\".format(N))\n",
    "N=0.123456\n",
    "print(\"{0:.4f}\".format(N))\n",
    "N=123456000\n",
    "print(\"{0:,}\".format(N))\n",
    "N=0.4789\n",
    "print(\"{0:.2%}\".format(N))\n",
    "N=95700000000\n",
    "print(\"{0:.3e}\".format(N))\n",
    "N=17\n",
    "print(\"{0:#x}\".format(N))\n",
    "print(\"{0:#o}\".format(N))\n",
    "print(\"{0:#b}\".format(N))"
   ]
  },
  {
   "cell_type": "code",
   "execution_count": 141,
   "metadata": {},
   "outputs": [
    {
     "name": "stdout",
     "output_type": "stream",
     "text": [
      "나는 20살 입니다.\n",
      "나는 파이썬를 좋아해요\n",
      "Apple 은 A로 시작해요\n",
      "나는 20살 입니다.\n",
      "나는 파란색과 빨간 색을 좋아해요\n"
     ]
    }
   ],
   "source": [
    "#방법1\n",
    "print(\"나는 %d살 입니다.\" % 20)\n",
    "print(\"나는 %s를 좋아해요\" % \"파이썬\")\n",
    "print(\"Apple 은 %c로 시작해요\" % \"A\")\n",
    "print(\"나는 %s살 입니다.\" % 20)\n",
    "print(\"나는 %s색과 %s 색을 좋아해요\" % (\"파란\",\"빨간\"))"
   ]
  },
  {
   "cell_type": "code",
   "execution_count": 142,
   "metadata": {},
   "outputs": [
    {
     "name": "stdout",
     "output_type": "stream",
     "text": [
      "나는 20살 입니다.\n",
      "나는 파란색과 빨간 색을 좋아해요\n",
      "나는 파란색과 빨간 색을 좋아해요\n",
      "나는 빨간색과 파란 색을 좋아해요\n"
     ]
    }
   ],
   "source": [
    "#방법2\n",
    "print(\"나는 {}살 입니다.\".format(20))\n",
    "print(\"나는 {}색과 {} 색을 좋아해요\" .format(\"파란\",\"빨간\"))\n",
    "print(\"나는 {0}색과 {1} 색을 좋아해요\" .format(\"파란\",\"빨간\"))\n",
    "print(\"나는 {1}색과 {0} 색을 좋아해요\" .format(\"파란\",\"빨간\"))"
   ]
  },
  {
   "cell_type": "code",
   "execution_count": 143,
   "metadata": {},
   "outputs": [
    {
     "name": "stdout",
     "output_type": "stream",
     "text": [
      "나는 20살이며, 빨간 색을 좋아해요\n"
     ]
    }
   ],
   "source": [
    "#방법3\n",
    "print(\"나는 {age}살이며, {color} 색을 좋아해요\".format(age=20, color=\"빨간\"))"
   ]
  },
  {
   "cell_type": "code",
   "execution_count": 144,
   "metadata": {},
   "outputs": [
    {
     "name": "stdout",
     "output_type": "stream",
     "text": [
      "나는 20살이며, 빨간 색을 좋아해요\n"
     ]
    }
   ],
   "source": [
    "#방법4 (v3.6 이상)\n",
    "age = 20\n",
    "color = \"빨간\"\n",
    "print(f\"나는 {age}살이며, {color} 색을 좋아해요\")"
   ]
  },
  {
   "cell_type": "code",
   "execution_count": 145,
   "metadata": {},
   "outputs": [
    {
     "name": "stdout",
     "output_type": "stream",
     "text": [
      "백문의 불여일견\n",
      "백견이 불여일타\n",
      "저도 \"나도코딩\" 입니다.\n",
      "저도 '나도코딩' 입니다.\n",
      "저도 \"나도코딩\" 입니다.\n",
      "C:\\김경덕\\Python\n",
      "C:\\김경덕\\Python\n",
      "PineApple\n",
      "Red ApplPine\n",
      "Red Apple\tPine\n"
     ]
    }
   ],
   "source": [
    "#\\n \\\" \n",
    "print(\"백문의 불여일견\\n백견이 불여일타\")\n",
    "print(\"저도 \\\"나도코딩\\\" 입니다.\")\n",
    "print(\"저도 \\'나도코딩\\' 입니다.\")\n",
    "print('저도 \"나도코딩\" 입니다.')\n",
    "#\\\\\n",
    "print(\"C:\\\\김경덕\\\\Python\")\n",
    "print(\"C:\\김경덕\\Python\")\n",
    "#\\r\n",
    "print(\"Red Apple\\rPine\")\n",
    "#\\b\n",
    "print(\"Red Apple\\bPine\")\n",
    "#\\t\n",
    "print(\"Red Apple\\tPine\")"
   ]
  },
  {
   "cell_type": "code",
   "execution_count": null,
   "metadata": {},
   "outputs": [
    {
     "name": "stdout",
     "output_type": "stream",
     "text": [
      "Best**python**course\n"
     ]
    }
   ],
   "source": [
    "print(\"Best\",\"python\",\"course\", sep=\"**\")"
   ]
  },
  {
   "cell_type": "code",
   "execution_count": 177,
   "metadata": {},
   "outputs": [
    {
     "name": "stdout",
     "output_type": "stream",
     "text": [
      "Name: Jun, Tall: 185\n"
     ]
    }
   ],
   "source": [
    "name=\"Jun\"\n",
    "tall = 185\n",
    "print(\"Name:\",name +\", Tall:\",tall)"
   ]
  },
  {
   "cell_type": "code",
   "execution_count": 179,
   "metadata": {},
   "outputs": [
    {
     "name": "stdout",
     "output_type": "stream",
     "text": [
      "Jun is my friend.\n",
      "He is smart\n"
     ]
    }
   ],
   "source": [
    "print(\"Jun is my friend.\")\n",
    "print(\"He is smart\")"
   ]
  },
  {
   "cell_type": "code",
   "execution_count": null,
   "metadata": {},
   "outputs": [
    {
     "name": "stdout",
     "output_type": "stream",
     "text": [
      "Jun is my friend.He is smart\n"
     ]
    }
   ],
   "source": [
    "print(\"Jun is my friend.\", end=\"\")\n",
    "print(\"He is smart\")"
   ]
  },
  {
   "cell_type": "code",
   "execution_count": 180,
   "metadata": {},
   "outputs": [
    {
     "name": "stdout",
     "output_type": "stream",
     "text": [
      "10\n",
      "10  정수 형태 입니다.\n",
      "1 2 3\n"
     ]
    }
   ],
   "source": [
    "print(\"%d\"%10)\n",
    "print(\"%d %s\"%(10, \" 정수 형태 입니다.\"))\n",
    "print(\"{0} {1} {2}\".format(1, 2, 3))"
   ]
  },
  {
   "cell_type": "code",
   "execution_count": 181,
   "metadata": {},
   "outputs": [
    {
     "name": "stdout",
     "output_type": "stream",
     "text": [
      "반지름:5, 원주율:3.141592\n"
     ]
    }
   ],
   "source": [
    "r=5\n",
    "pi=3.141592\n",
    "print(\"반지름:%d, 원주율:%f\" %(r, pi))"
   ]
  },
  {
   "cell_type": "code",
   "execution_count": 182,
   "metadata": {},
   "outputs": [
    {
     "name": "stdout",
     "output_type": "stream",
     "text": [
      "cellphone : test1\n",
      "cellphone : test1 test2 test3\n",
      "cellphone : test3 test2 test3\n",
      "cellphone : test1 test2 test3\n"
     ]
    }
   ],
   "source": [
    "cellphone_0=\"test1\"\n",
    "cellphone_1=\"test2\"\n",
    "cellphone_2=\"test3\"\n",
    "\n",
    "print(\"cellphone : {0}\". format(cellphone_0))\n",
    "print(\"cellphone : {0} {1} {2}\". format(cellphone_0, cellphone_1, cellphone_2))\n",
    "print(\"cellphone : {2} {1} {2}\". format(cellphone_0, cellphone_1, cellphone_2))\n",
    "print(\"cellphone : {} {} {}\". format(cellphone_0, cellphone_1, cellphone_2))"
   ]
  },
  {
   "cell_type": "code",
   "execution_count": 183,
   "metadata": {},
   "outputs": [
    {
     "name": "stdout",
     "output_type": "stream",
     "text": [
      "1.12, 1.12231\n"
     ]
    }
   ],
   "source": [
    "a=1.1223123128731923891829\n",
    "print(\"{0:.2f}, {0:.5f}\".format(a))"
   ]
  },
  {
   "cell_type": "markdown",
   "metadata": {},
   "source": [
    "### 문자열 다루기"
   ]
  },
  {
   "cell_type": "code",
   "execution_count": null,
   "metadata": {},
   "outputs": [
    {
     "name": "stdout",
     "output_type": "stream",
     "text": [
      "['에스프레소', '아메리카노', '카페라데', '카푸치노']\n",
      "['에스프레소', '아메리카노', '카페라데 카푸치노']\n"
     ]
    }
   ],
   "source": [
    "str=\"에스프레소 아메리카노 카페라데 카푸치노\"\n",
    "print(str.split())\n",
    "print(str.split(\" \",2))"
   ]
  },
  {
   "cell_type": "code",
   "execution_count": null,
   "metadata": {},
   "outputs": [
    {
     "name": "stdout",
     "output_type": "stream",
     "text": [
      "[  에스프레소  아메리카노  카페라데 카푸치노]\n"
     ]
    }
   ],
   "source": [
    "str=\"[  에스프레소  아메리카노  카페라데 카푸치노]  \"\n",
    "print(str.strip())"
   ]
  },
  {
   "cell_type": "code",
   "execution_count": null,
   "metadata": {},
   "outputs": [
    {
     "name": "stdout",
     "output_type": "stream",
     "text": [
      "부산광역시 남구 용소로 14번길10\n",
      "부산광역시-남구-용소로-14번길10\n"
     ]
    }
   ],
   "source": [
    "str_list=[\"부산광역시\",\"남구\",\"용소로\",\"14번길10\"]\n",
    "print(\" \".join(str_list))\n",
    "print(\"-\".join(str_list))"
   ]
  },
  {
   "cell_type": "code",
   "execution_count": null,
   "metadata": {},
   "outputs": [
    {
     "name": "stdout",
     "output_type": "stream",
     "text": [
      "15\n",
      "4\n",
      "False\n",
      "True\n",
      "True\n",
      "Hello java a java python python\n"
     ]
    }
   ],
   "source": [
    "str=\"Hello python a python python python\"\n",
    "search_str=\"python\"\n",
    "prefix=\"python\"\n",
    "print(str.find(search_str, 10))\n",
    "print(str.count(search_str))\n",
    "print(str.startswith(prefix,0))\n",
    "print(str.startswith(\"Hello\",0))\n",
    "print(str.endswith(prefix,0))\n",
    "print(str.replace(search_str,\"java\",2))"
   ]
  },
  {
   "cell_type": "markdown",
   "metadata": {},
   "source": [
    "### 키보드 입력"
   ]
  },
  {
   "cell_type": "code",
   "execution_count": 184,
   "metadata": {},
   "outputs": [
    {
     "name": "stdout",
     "output_type": "stream",
     "text": [
      "당신이 입력한 숫자는 10 입니다.\n"
     ]
    }
   ],
   "source": [
    "num=input(\"1-100 사이 숫자를 입력하세요\")\n",
    "print(\"당신이 입력한 숫자는 {} 입니다.\".format(num))"
   ]
  },
  {
   "cell_type": "code",
   "execution_count": 185,
   "metadata": {},
   "outputs": [
    {
     "name": "stdout",
     "output_type": "stream",
     "text": [
      "당신이 입력한 숫자의 제곱은 100 입니다.\n"
     ]
    }
   ],
   "source": [
    "num=input(\"1-100 사이 숫자를 입력하세요\")\n",
    "area=int(num)**2\n",
    "print(\"당신이 입력한 숫자의 제곱은 {} 입니다.\".format(area))"
   ]
  },
  {
   "cell_type": "markdown",
   "metadata": {},
   "source": [
    "### 파일"
   ]
  },
  {
   "cell_type": "code",
   "execution_count": 160,
   "metadata": {},
   "outputs": [],
   "source": [
    "f=open(\"file.txt\",\"w\")\n",
    "f.write(\"This is my first time\")\n",
    "f.close()"
   ]
  },
  {
   "cell_type": "code",
   "execution_count": 147,
   "metadata": {},
   "outputs": [
    {
     "name": "stdout",
     "output_type": "stream",
     "text": [
      "This is my first time\n"
     ]
    }
   ],
   "source": [
    "!type file.txt"
   ]
  },
  {
   "cell_type": "code",
   "execution_count": 148,
   "metadata": {},
   "outputs": [
    {
     "name": "stdout",
     "output_type": "stream",
     "text": [
      "This is my first time\n"
     ]
    }
   ],
   "source": [
    "f=open(\"file.txt\",\"r\")\n",
    "file_text=f.read()\n",
    "f.close()\n",
    "print(file_text)"
   ]
  },
  {
   "cell_type": "code",
   "execution_count": 149,
   "metadata": {},
   "outputs": [],
   "source": [
    "f=open(\"file2.txt\",\"w\")\n",
    "for num in range(6):\n",
    "    format_string=\"2x{0}={1}\\n\".format(num, num*2)\n",
    "    f.write(format_string)\n",
    "f.close()"
   ]
  },
  {
   "cell_type": "code",
   "execution_count": 150,
   "metadata": {},
   "outputs": [
    {
     "name": "stdout",
     "output_type": "stream",
     "text": [
      "2x0=0\n",
      "2x1=2\n",
      "2x2=4\n",
      "2x3=6\n",
      "2x4=8\n",
      "2x5=10\n"
     ]
    }
   ],
   "source": [
    "!type file2.txt"
   ]
  },
  {
   "cell_type": "code",
   "execution_count": 151,
   "metadata": {},
   "outputs": [
    {
     "name": "stdout",
     "output_type": "stream",
     "text": [
      "2x0=0\n",
      "2x1=2\n",
      "2x2=4\n",
      "2x3=6\n",
      "2x4=8\n",
      "2x5=10\n"
     ]
    }
   ],
   "source": [
    "f=open(\"file2.txt\")\n",
    "line=f.readline()\n",
    "while line:\n",
    "    print(line, end=\"\")\n",
    "    line=f.readline()\n",
    "f.close()"
   ]
  },
  {
   "cell_type": "code",
   "execution_count": 156,
   "metadata": {},
   "outputs": [
    {
     "name": "stdout",
     "output_type": "stream",
     "text": [
      "['2x0=0\\n', '2x1=2\\n', '2x2=4\\n', '2x3=6\\n', '2x4=8\\n', '2x5=10\\n']\n"
     ]
    }
   ],
   "source": [
    "f=open(\"file2.txt\")\n",
    "lines=f.readlines()\n",
    "f.close()\n",
    "print(lines)"
   ]
  },
  {
   "cell_type": "code",
   "execution_count": 158,
   "metadata": {},
   "outputs": [
    {
     "name": "stdout",
     "output_type": "stream",
     "text": [
      "2x0=0\n",
      "2x1=2\n",
      "2x2=4\n",
      "2x3=6\n",
      "2x4=8\n",
      "2x5=10\n"
     ]
    }
   ],
   "source": [
    "f=open(\"file2.txt\")\n",
    "lines=f.readlines()\n",
    "f.close()\n",
    "for line in lines:\n",
    "    print(line,end=\"\")"
   ]
  },
  {
   "cell_type": "code",
   "execution_count": 159,
   "metadata": {},
   "outputs": [
    {
     "name": "stdout",
     "output_type": "stream",
     "text": [
      "2x0=0\n",
      "2x1=2\n",
      "2x2=4\n",
      "2x3=6\n",
      "2x4=8\n",
      "2x5=10\n"
     ]
    }
   ],
   "source": [
    "f=open(\"file2.txt\")\n",
    "for line in f.readlines():\n",
    "    print(line,end=\"\")\n",
    "f.close()"
   ]
  },
  {
   "cell_type": "markdown",
   "metadata": {},
   "source": [
    "## 모듈"
   ]
  },
  {
   "cell_type": "code",
   "execution_count": 194,
   "metadata": {},
   "outputs": [
    {
     "name": "stdout",
     "output_type": "stream",
     "text": [
      "0.7095295803321272\n",
      "3\n",
      "0\n",
      "2\n",
      "복숭아\n",
      "['배', '복숭아']\n",
      "[9, 3]\n"
     ]
    }
   ],
   "source": [
    "import random\n",
    "print(random.random())\n",
    "print(random.randint(1,6))\n",
    "print(random.randrange(0,10,2))\n",
    "print(random.choice([1,2,3]))\n",
    "print(random.choice([\"사과\",\"배\",\"복숭아\"]))\n",
    "print(random.sample([\"사과\",\"배\",\"복숭아\",\"포도\"],2))\n",
    "print(random.sample(range(1,10),2))"
   ]
  },
  {
   "cell_type": "code",
   "execution_count": 195,
   "metadata": {},
   "outputs": [
    {
     "name": "stdout",
     "output_type": "stream",
     "text": [
      "range(1, 20)\n",
      "[1, 2, 3, 4, 5, 6, 7, 8, 9, 10, 11, 12, 13, 14, 15, 16, 17, 18, 19]\n",
      "[16, 19, 11, 17, 7, 4, 5, 6, 2, 10, 15, 14, 13, 3, 9, 12, 1, 8, 18]\n"
     ]
    }
   ],
   "source": [
    "from random import *\n",
    "users = range(1, 20)\n",
    "print(users)\n",
    "users = list(users)\n",
    "print(users)\n",
    "shuffle(users)\n",
    "print(users)"
   ]
  },
  {
   "cell_type": "code",
   "execution_count": null,
   "metadata": {},
   "outputs": [
    {
     "name": "stdout",
     "output_type": "stream",
     "text": [
      "5 days, 17:30:00\n",
      "2023-09-05\n",
      "2019-12-25\n"
     ]
    }
   ],
   "source": [
    "import datetime\n",
    "print(datetime.timedelta(days=5, hours=17, minutes=30))\n",
    "print(datetime.date.today())\n",
    "print(datetime.date(2019, 12, 25))"
   ]
  },
  {
   "cell_type": "code",
   "execution_count": null,
   "metadata": {},
   "outputs": [
    {
     "name": "stdout",
     "output_type": "stream",
     "text": [
      "                                  2023\n",
      "\n",
      "      January                   February                   March\n",
      "Sa Su Mo Tu We Th Fr      Sa Su Mo Tu We Th Fr      Sa Su Mo Tu We Th Fr\n",
      "    1  2  3  4  5  6                   1  2  3                   1  2  3\n",
      " 7  8  9 10 11 12 13       4  5  6  7  8  9 10       4  5  6  7  8  9 10\n",
      "14 15 16 17 18 19 20      11 12 13 14 15 16 17      11 12 13 14 15 16 17\n",
      "21 22 23 24 25 26 27      18 19 20 21 22 23 24      18 19 20 21 22 23 24\n",
      "28 29 30 31               25 26 27 28               25 26 27 28 29 30 31\n",
      "\n",
      "       April                      May                       June\n",
      "Sa Su Mo Tu We Th Fr      Sa Su Mo Tu We Th Fr      Sa Su Mo Tu We Th Fr\n",
      " 1  2  3  4  5  6  7             1  2  3  4  5                      1  2\n",
      " 8  9 10 11 12 13 14       6  7  8  9 10 11 12       3  4  5  6  7  8  9\n",
      "15 16 17 18 19 20 21      13 14 15 16 17 18 19      10 11 12 13 14 15 16\n",
      "22 23 24 25 26 27 28      20 21 22 23 24 25 26      17 18 19 20 21 22 23\n",
      "29 30                     27 28 29 30 31            24 25 26 27 28 29 30\n",
      "\n",
      "        July                     August                  September\n",
      "Sa Su Mo Tu We Th Fr      Sa Su Mo Tu We Th Fr      Sa Su Mo Tu We Th Fr\n",
      " 1  2  3  4  5  6  7                1  2  3  4                         1\n",
      " 8  9 10 11 12 13 14       5  6  7  8  9 10 11       2  3  4  5  6  7  8\n",
      "15 16 17 18 19 20 21      12 13 14 15 16 17 18       9 10 11 12 13 14 15\n",
      "22 23 24 25 26 27 28      19 20 21 22 23 24 25      16 17 18 19 20 21 22\n",
      "29 30 31                  26 27 28 29 30 31         23 24 25 26 27 28 29\n",
      "                                                    30\n",
      "\n",
      "      October                   November                  December\n",
      "Sa Su Mo Tu We Th Fr      Sa Su Mo Tu We Th Fr      Sa Su Mo Tu We Th Fr\n",
      "    1  2  3  4  5  6                   1  2  3                         1\n",
      " 7  8  9 10 11 12 13       4  5  6  7  8  9 10       2  3  4  5  6  7  8\n",
      "14 15 16 17 18 19 20      11 12 13 14 15 16 17       9 10 11 12 13 14 15\n",
      "21 22 23 24 25 26 27      18 19 20 21 22 23 24      16 17 18 19 20 21 22\n",
      "28 29 30 31               25 26 27 28 29 30         23 24 25 26 27 28 29\n",
      "                                                    30 31\n",
      "\n"
     ]
    }
   ],
   "source": [
    "import calendar\n",
    "print(calendar.calendar(2023))\n"
   ]
  },
  {
   "cell_type": "code",
   "execution_count": 107,
   "metadata": {},
   "outputs": [
    {
     "name": "stdout",
     "output_type": "stream",
     "text": [
      "   September 2023\n",
      "Sa Su Mo Tu We Th Fr\n",
      "                   1\n",
      " 2  3  4  5  6  7  8\n",
      " 9 10 11 12 13 14 15\n",
      "16 17 18 19 20 21 22\n",
      "23 24 25 26 27 28 29\n",
      "30\n",
      "\n",
      "(4, 30)\n",
      "5\n",
      "5\n",
      "1\n",
      "False\n",
      "True\n",
      "False\n",
      "False\n"
     ]
    }
   ],
   "source": [
    "\n",
    "print(calendar.month(2023,9))\n",
    "print(calendar.monthrange(2023,9))\n",
    "print(calendar.firstweekday())\n",
    "calendar.setfirstweekday(5)\n",
    "print(calendar.firstweekday())\n",
    "print(calendar.weekday(2023,9,5))\n",
    "print(calendar.isleap(2023))\n",
    "print(calendar.isleap(2024))\n",
    "print(calendar.isleap(2025))\n",
    "print(calendar.isleap(2026))"
   ]
  },
  {
   "cell_type": "code",
   "execution_count": 93,
   "metadata": {},
   "outputs": [
    {
     "name": "stdout",
     "output_type": "stream",
     "text": [
      "(4, 30)\n"
     ]
    }
   ],
   "source": [
    "print(calendar.monthrange(2023,9))"
   ]
  },
  {
   "cell_type": "code",
   "execution_count": null,
   "metadata": {},
   "outputs": [],
   "source": []
  }
 ],
 "metadata": {
  "kernelspec": {
   "display_name": "Python 3",
   "language": "python",
   "name": "python3"
  },
  "language_info": {
   "codemirror_mode": {
    "name": "ipython",
    "version": 3
   },
   "file_extension": ".py",
   "mimetype": "text/x-python",
   "name": "python",
   "nbconvert_exporter": "python",
   "pygments_lexer": "ipython3",
   "version": "3.11.4"
  },
  "orig_nbformat": 4
 },
 "nbformat": 4,
 "nbformat_minor": 2
}
