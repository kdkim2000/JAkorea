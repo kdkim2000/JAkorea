{
 "cells": [
  {
   "cell_type": "markdown",
   "metadata": {},
   "source": [
    "# 데이터 전처리"
   ]
  },
  {
   "cell_type": "code",
   "execution_count": 1,
   "metadata": {},
   "outputs": [
    {
     "data": {
      "text/plain": [
       "(1875, 313)"
      ]
     },
     "execution_count": 1,
     "metadata": {},
     "output_type": "execute_result"
    }
   ],
   "source": [
    "from torchvision import datasets, transforms\n",
    "from torch.utils import data \n",
    "\n",
    "# Data loader\n",
    "train_loader = data.DataLoader(\n",
    "    datasets.FashionMNIST( root='dataset/',\n",
    "                    train=True,\n",
    "                    download=True,\n",
    "                    transform=transforms.Compose([\n",
    "                        transforms.RandomHorizontalFlip(),\n",
    "                        transforms.ToTensor(),\n",
    "                        transforms.Normalize(mean=(0.5,),std=(0.5,))\n",
    "                    ])\n",
    "    ),\n",
    "    batch_size=32,\n",
    "    shuffle=False\n",
    ")\n",
    "\n",
    "# Data loader\n",
    "test_loader = data.DataLoader(\n",
    "    datasets.FashionMNIST( root='dataset/',\n",
    "                    train=False,\n",
    "                    download=True,\n",
    "                    transform=transforms.Compose([\n",
    "                        transforms.ToTensor(),\n",
    "                        transforms.Normalize(mean=(0.5,),std=(0.5,))\n",
    "                    ])\n",
    "    ),\n",
    "    batch_size=32,\n",
    "    shuffle=False\n",
    ")\n",
    "\n",
    "len(train_loader), len(test_loader)"
   ]
  },
  {
   "cell_type": "code",
   "execution_count": 2,
   "metadata": {},
   "outputs": [
    {
     "name": "stdout",
     "output_type": "stream",
     "text": [
      "torch.Size([32, 1, 28, 28])\n",
      "torch.Size([32])\n"
     ]
    }
   ],
   "source": [
    "images, labels = next(iter(train_loader))\n",
    "print(images.shape)\n",
    "print(labels.shape)"
   ]
  },
  {
   "cell_type": "code",
   "execution_count": 3,
   "metadata": {},
   "outputs": [
    {
     "data": {
      "text/plain": [
       "torch.Size([1, 28, 28])"
      ]
     },
     "execution_count": 3,
     "metadata": {},
     "output_type": "execute_result"
    }
   ],
   "source": [
    "images[0].shape"
   ]
  },
  {
   "cell_type": "code",
   "execution_count": 4,
   "metadata": {},
   "outputs": [
    {
     "name": "stdout",
     "output_type": "stream",
     "text": [
      "torch.Size([28, 28])\n"
     ]
    }
   ],
   "source": [
    "import numpy as np\n",
    "import torch\n",
    "torch_image = torch.squeeze(images[0])\n",
    "print(torch_image.shape)"
   ]
  },
  {
   "cell_type": "code",
   "execution_count": 5,
   "metadata": {},
   "outputs": [
    {
     "data": {
      "text/plain": [
       "array([[-1.        , -1.        , -1.        , -1.        , -1.        ,\n",
       "        -1.        , -1.        , -1.        , -1.        , -1.        ,\n",
       "        -1.        , -1.        , -1.        , -1.        , -1.        ,\n",
       "        -1.        , -1.        , -1.        , -1.        , -1.        ,\n",
       "        -1.        , -1.        , -1.        , -1.        , -1.        ,\n",
       "        -1.        , -1.        , -1.        ],\n",
       "       [-1.        , -1.        , -1.        , -1.        , -1.        ,\n",
       "        -1.        , -1.        , -1.        , -1.        , -1.        ,\n",
       "        -1.        , -1.        , -1.        , -1.        , -1.        ,\n",
       "        -1.        , -1.        , -1.        , -1.        , -1.        ,\n",
       "        -1.        , -1.        , -1.        , -1.        , -1.        ,\n",
       "        -1.        , -1.        , -1.        ],\n",
       "       [-1.        , -1.        , -1.        , -1.        , -1.        ,\n",
       "        -1.        , -1.        , -1.        , -1.        , -1.        ,\n",
       "        -1.        , -1.        , -1.        , -1.        , -1.        ,\n",
       "        -1.        , -1.        , -1.        , -1.        , -1.        ,\n",
       "        -1.        , -1.        , -1.        , -1.        , -1.        ,\n",
       "        -1.        , -1.        , -1.        ],\n",
       "       [-1.        , -0.99215686, -0.99215686, -1.        , -1.        ,\n",
       "        -1.        , -1.        , -0.96862745, -0.99215686, -1.        ,\n",
       "        -1.        , -0.42745095, -0.8980392 , -1.        , -1.        ,\n",
       "        -0.99215686, -1.        , -1.        , -1.        , -1.        ,\n",
       "        -1.        , -1.        , -1.        , -1.        , -1.        ,\n",
       "        -1.        , -1.        , -1.        ],\n",
       "       [-0.9764706 , -1.        , -1.        , -0.96862745, -0.9764706 ,\n",
       "        -0.99215686, -1.        , -1.        , -1.        , -0.5764706 ,\n",
       "        -0.5137255 , -0.00392157,  0.06666672, -0.7176471 , -1.        ,\n",
       "        -0.9764706 , -1.        , -1.        , -1.        , -1.        ,\n",
       "        -1.        , -1.        , -1.        , -1.        , -1.        ,\n",
       "        -1.        , -1.        , -1.        ],\n",
       "       [-1.        , -0.92156863, -0.90588236, -1.        , -1.        ,\n",
       "        -1.        , -1.        , -0.81960785, -0.03529412,  0.12941182,\n",
       "         0.05098045,  0.3803922 ,  0.6       , -0.19999999, -1.        ,\n",
       "        -0.9529412 , -1.        , -1.        , -1.        , -1.        ,\n",
       "        -1.        , -1.        , -1.        , -1.        , -1.        ,\n",
       "        -1.        , -1.        , -1.        ],\n",
       "       [-0.88235295, -0.4352941 ,  0.0196079 , -0.3960784 , -0.81960785,\n",
       "        -0.4980392 , -0.14509803,  0.26274514,  0.22352946, -0.1607843 ,\n",
       "         0.39607847,  0.62352943,  0.8509804 ,  0.21568632, -1.        ,\n",
       "        -1.        , -1.        , -1.        , -1.        , -1.        ,\n",
       "        -1.        , -1.        , -1.        , -1.        , -1.        ,\n",
       "        -1.        , -1.        , -1.        ],\n",
       "       [-0.4823529 ,  0.34901965, -0.3098039 ,  0.10588241,  0.14509809,\n",
       "        -0.04313725, -0.05098039, -0.00392157,  0.27843142,  0.69411767,\n",
       "         0.69411767,  0.70980394,  0.7490196 ,  0.62352943, -0.4588235 ,\n",
       "        -1.        , -0.99215686, -1.        , -1.        , -1.        ,\n",
       "        -1.        , -1.        , -1.        , -1.        , -1.        ,\n",
       "        -1.        , -1.        , -1.        ],\n",
       "       [-1.        ,  0.79607844,  0.5372549 , -0.03529412, -0.00392157,\n",
       "         0.28627455,  0.67058825,  0.6862745 ,  0.7490196 ,  0.7490196 ,\n",
       "         0.79607844,  0.827451  ,  0.81960785,  0.81960785,  0.5686275 ,\n",
       "        -1.        , -0.99215686, -0.99215686, -0.99215686, -1.        ,\n",
       "        -1.        , -1.        , -1.        , -1.        , -1.        ,\n",
       "        -1.        , -1.        , -1.        ],\n",
       "       [-1.        ,  0.35686278,  0.92156863,  0.7490196 ,  0.73333335,\n",
       "         0.75686276,  0.7411765 ,  0.75686276,  0.78039217,  0.84313726,\n",
       "         0.7882353 ,  0.7490196 ,  0.69411767,  0.7647059 ,  0.43529415,\n",
       "        -1.        , -1.        , -1.        , -1.        , -1.        ,\n",
       "        -1.        , -1.        , -1.        , -1.        , -1.        ,\n",
       "        -1.        , -1.        , -1.        ],\n",
       "       [-1.        ,  0.58431375,  0.90588236,  0.7254902 ,  0.7490196 ,\n",
       "         0.67058825,  0.654902  ,  0.64705884,  0.6627451 ,  0.41176474,\n",
       "         0.5529412 ,  0.67058825,  0.70980394,  0.7882353 ,  0.5137255 ,\n",
       "        -1.        , -1.        , -1.        , -1.        , -1.        ,\n",
       "        -1.        , -1.        , -1.        , -1.        , -1.        ,\n",
       "        -1.        , -1.        , -1.        ],\n",
       "       [-0.5921569 ,  0.6392157 ,  0.54509807,  0.77254903,  0.6627451 ,\n",
       "         0.75686276,  0.70980394,  0.6313726 ,  0.78039217,  0.32549024,\n",
       "         0.5058824 ,  0.70980394,  0.6627451 ,  0.7254902 ,  0.7176471 ,\n",
       "        -0.90588236, -1.        , -0.9764706 , -0.99215686, -1.        ,\n",
       "        -1.        , -1.        , -1.        , -1.        , -1.        ,\n",
       "        -1.        , -1.        , -1.        ],\n",
       "       [-0.56078434,  0.30980396, -0.06666666,  0.92156863,  0.7254902 ,\n",
       "         0.7411765 ,  0.67058825,  0.6862745 ,  0.73333335,  0.5529412 ,\n",
       "         0.5921569 ,  0.70980394,  0.7254902 ,  0.7411765 ,  0.9137255 ,\n",
       "        -0.2235294 , -1.        , -0.9529412 , -1.        , -1.        ,\n",
       "        -1.        , -1.        , -1.        , -1.        , -1.        ,\n",
       "        -1.        , -1.        , -1.        ],\n",
       "       [-1.        , -0.27843136,  0.6392157 ,  0.7019608 ,  0.7019608 ,\n",
       "         0.8352941 ,  0.7490196 ,  0.70980394,  0.67058825,  0.81960785,\n",
       "         0.88235295,  0.7882353 ,  0.8039216 ,  0.7882353 ,  0.8509804 ,\n",
       "        -0.5686275 , -1.        , -1.        , -0.96862745, -1.        ,\n",
       "        -1.        , -1.        , -1.        , -1.        , -1.        ,\n",
       "        -1.        , -1.        , -1.        ],\n",
       "       [-1.        , -0.3960784 ,  1.        ,  0.70980394,  0.6862745 ,\n",
       "         0.79607844,  0.7490196 ,  0.69411767,  0.73333335,  0.7411765 ,\n",
       "         0.7176471 ,  0.7411765 ,  0.7490196 ,  0.7019608 ,  0.77254903,\n",
       "         0.85882354, -1.        , -1.        , -1.        , -1.        ,\n",
       "        -1.        , -0.9843137 , -0.94509804, -0.9529412 , -0.96862745,\n",
       "        -0.99215686, -1.        , -1.        ],\n",
       "       [-1.        ,  0.24705887,  0.9137255 ,  0.75686276,  0.6862745 ,\n",
       "         0.7176471 ,  0.7490196 ,  0.75686276,  0.70980394,  0.654902  ,\n",
       "         0.6313726 ,  0.70980394,  0.73333335,  0.67058825,  0.62352943,\n",
       "         0.7882353 ,  0.6       ,  0.13725495, -0.5137255 , -1.        ,\n",
       "        -1.        , -1.        , -1.        , -1.        , -1.        ,\n",
       "        -1.        , -0.9764706 , -1.        ],\n",
       "       [-1.        ,  0.6862745 ,  0.8666667 ,  0.827451  ,  0.94509804,\n",
       "         0.9607843 ,  0.47450984,  0.3803922 ,  0.8352941 ,  0.75686276,\n",
       "         0.8039216 ,  0.654902  ,  0.60784316,  0.5686275 ,  0.77254903,\n",
       "         0.7019608 ,  0.7411765 ,  0.7254902 ,  0.7882353 ,  0.48235297,\n",
       "        -0.1607843 , -0.35686272, -0.654902  , -0.85882354, -1.        ,\n",
       "        -1.        , -1.        , -1.        ],\n",
       "       [-1.        ,  0.92941177,  0.81960785,  0.7254902 ,  0.654902  ,\n",
       "         0.73333335,  0.8352941 ,  0.73333335,  1.        ,  1.        ,\n",
       "         0.7490196 ,  0.6156863 ,  0.5137255 ,  0.92156863,  0.24705887,\n",
       "         0.5686275 ,  0.6392157 ,  0.6313726 ,  0.6784314 ,  0.6       ,\n",
       "         0.6313726 ,  0.75686276,  0.73333335,  0.75686276,  0.6313726 ,\n",
       "         0.4666667 , -0.5529412 , -1.        ],\n",
       "       [-1.        ,  0.7647059 ,  0.7882353 ,  0.7411765 ,  0.6392157 ,\n",
       "         0.6       ,  0.64705884,  0.49803925,  0.20784318,  0.47450984,\n",
       "         0.73333335,  0.79607844,  1.        ,  0.17647064, -0.372549  ,\n",
       "         0.88235295,  0.7254902 ,  0.60784316,  0.60784316,  0.60784316,\n",
       "         0.6784314 ,  0.654902  ,  0.654902  ,  0.73333335,  0.75686276,\n",
       "         0.7882353 ,  0.58431375, -0.9764706 ],\n",
       "       [-0.77254903,  0.79607844,  0.75686276,  0.7490196 ,  0.7490196 ,\n",
       "         0.7019608 ,  0.6862745 ,  0.73333335,  0.7176471 ,  0.3176471 ,\n",
       "        -0.08235294, -0.16862744, -0.42745095, -0.49019605,  0.8901961 ,\n",
       "         0.7019608 ,  0.6862745 ,  0.52156866,  0.7254902 ,  0.9529412 ,\n",
       "         0.8352941 ,  0.79607844,  0.79607844,  0.7411765 ,  0.64705884,\n",
       "         0.5529412 ,  0.827451  , -0.23137254],\n",
       "       [-0.47450978,  0.8039216 ,  0.73333335,  0.7254902 ,  0.7411765 ,\n",
       "         0.6392157 ,  0.6627451 ,  0.70980394,  0.7490196 ,  0.8745098 ,\n",
       "         0.92156863,  0.78039217,  0.5294118 ,  0.88235295,  0.67058825,\n",
       "         0.5529412 ,  0.6156863 ,  0.54509807,  0.45098042,  0.69411767,\n",
       "         0.7647059 ,  0.654902  ,  0.60784316,  0.5137255 ,  0.6       ,\n",
       "         0.6627451 ,  0.6       , -0.41176468],\n",
       "       [-0.09803921,  0.6156863 ,  0.60784316,  0.41960788,  0.34901965,\n",
       "         0.38823533,  0.41960788,  0.45882356,  0.6156863 ,  0.56078434,\n",
       "         0.69411767,  0.7647059 ,  0.8509804 ,  0.7254902 ,  0.73333335,\n",
       "         0.7176471 ,  0.6784314 ,  0.58431375,  0.5058824 ,  0.52156866,\n",
       "         0.4901961 ,  0.45098042,  0.54509807,  0.67058825,  0.52156866,\n",
       "         0.43529415,  0.5921569 , -0.62352943],\n",
       "       [-0.27843136,  0.64705884,  0.38823533,  0.30980396,  0.22352946,\n",
       "         0.3803922 ,  0.5058824 ,  0.5529412 ,  0.49803925,  0.5294118 ,\n",
       "         0.49803925,  0.52156866,  0.5372549 ,  0.5686275 ,  0.64705884,\n",
       "         0.654902  ,  0.62352943,  0.67058825,  0.64705884,  0.6       ,\n",
       "         0.5372549 ,  0.43529415,  0.3411765 ,  0.4039216 ,  0.5137255 ,\n",
       "         0.7176471 , -0.04313725, -1.        ],\n",
       "       [-1.        ,  0.33333337,  0.69411767,  0.5058824 ,  0.52156866,\n",
       "         0.47450984,  0.47450984,  0.654902  ,  0.64705884,  0.64705884,\n",
       "         0.6392157 ,  0.6       ,  0.5529412 ,  0.5137255 ,  0.47450984,\n",
       "         0.48235297,  0.47450984,  0.45098042,  0.41960788,  0.37254906,\n",
       "         0.34901965,  0.37254906,  0.49803925,  0.6627451 ,  0.48235297,\n",
       "        -0.41960782, -1.        , -1.        ],\n",
       "       [-1.        , -1.        , -0.54509807, -0.2235294 ,  0.3176471 ,\n",
       "         0.30196083,  0.3803922 ,  0.41960788,  0.427451  ,  0.427451  ,\n",
       "         0.4039216 ,  0.49803925,  0.5137255 ,  0.7254902 ,  0.73333335,\n",
       "         0.9137255 ,  0.90588236,  0.92941177,  0.8980392 ,  0.8745098 ,\n",
       "         0.85882354,  0.7411765 ,  0.5686275 , -0.4823529 , -1.        ,\n",
       "        -1.        , -1.        , -0.9843137 ],\n",
       "       [-1.        , -1.        , -1.        , -1.        , -1.        ,\n",
       "        -1.        , -1.        , -1.        , -1.        , -1.        ,\n",
       "        -1.        , -1.        , -1.        , -1.        , -1.        ,\n",
       "        -0.7254902 , -0.6784314 , -0.4352941 , -0.654902  , -0.52156866,\n",
       "        -0.6862745 , -1.        , -1.        , -1.        , -1.        ,\n",
       "        -1.        , -1.        , -1.        ],\n",
       "       [-1.        , -1.        , -1.        , -1.        , -1.        ,\n",
       "        -1.        , -1.        , -1.        , -1.        , -1.        ,\n",
       "        -1.        , -1.        , -1.        , -1.        , -1.        ,\n",
       "        -1.        , -1.        , -1.        , -1.        , -1.        ,\n",
       "        -1.        , -1.        , -1.        , -1.        , -1.        ,\n",
       "        -1.        , -1.        , -1.        ],\n",
       "       [-1.        , -1.        , -1.        , -1.        , -1.        ,\n",
       "        -1.        , -1.        , -1.        , -1.        , -1.        ,\n",
       "        -1.        , -1.        , -1.        , -1.        , -1.        ,\n",
       "        -1.        , -1.        , -1.        , -1.        , -1.        ,\n",
       "        -1.        , -1.        , -1.        , -1.        , -1.        ,\n",
       "        -1.        , -1.        , -1.        ]], dtype=float32)"
      ]
     },
     "execution_count": 5,
     "metadata": {},
     "output_type": "execute_result"
    }
   ],
   "source": [
    "torch_image.numpy()"
   ]
  },
  {
   "cell_type": "code",
   "execution_count": 6,
   "metadata": {},
   "outputs": [
    {
     "data": {
      "image/png": "[encoded data removed]",
      "text/plain": [
       "<Figure size 640x480 with 1 Axes>"
      ]
     },
     "metadata": {},
     "output_type": "display_data"
    }
   ],
   "source": [
    "import os\n",
    "os.environ['KMP_DUPLICATE_LIB_OK'] = 'True'\n",
    "\n",
    "import matplotlib.pyplot as plt\n",
    "\n",
    "plt.imshow(torch_image.numpy(),'gray')\n",
    "plt.show()"
   ]
  },
  {
   "cell_type": "code",
   "execution_count": 7,
   "metadata": {},
   "outputs": [
    {
     "data": {
      "text/plain": [
       "tensor(9)"
      ]
     },
     "execution_count": 7,
     "metadata": {},
     "output_type": "execute_result"
    }
   ],
   "source": [
    "labels[0]"
   ]
  },
  {
   "cell_type": "markdown",
   "metadata": {},
   "source": [
    "# DNN"
   ]
  },
  {
   "cell_type": "markdown",
   "metadata": {},
   "source": [
    "## Model 정의"
   ]
  },
  {
   "cell_type": "code",
   "execution_count": 8,
   "metadata": {},
   "outputs": [],
   "source": [
    "import torch\n",
    "import torch.nn as nn\n",
    "import torch.optim as optim\n",
    "import torch.nn.functional as f\n"
   ]
  },
  {
   "cell_type": "code",
   "execution_count": 9,
   "metadata": {},
   "outputs": [
    {
     "data": {
      "text/plain": [
       "'cuda'"
      ]
     },
     "execution_count": 9,
     "metadata": {},
     "output_type": "execute_result"
    }
   ],
   "source": [
    "torch.manual_seed(14)\n",
    "device = \"cuda\" if torch.cuda.is_available() else \"cpu\"\n",
    "device"
   ]
  },
  {
   "cell_type": "code",
   "execution_count": 10,
   "metadata": {},
   "outputs": [],
   "source": [
    "class Ann(nn.Module):\n",
    "    def __init__(self, dropout=0.2):\n",
    "        super(Ann, self).__init__()\n",
    "        self.fc1 = nn.Linear(28*28, 256)\n",
    "        self.fc2 = nn.Linear(256,128)\n",
    "        self.fc3 = nn.Linear(128,10)\n",
    "        self.dropout = dropout\n",
    "    def forward(self, x):\n",
    "        x = x.view(-1, 28*28)\n",
    "        x = f.relu(self.fc1(x))\n",
    "        x = f.relu(self.fc2(x))\n",
    "        x = f.dropout(x, training=self.training, p=self.dropout)\n",
    "        x = self.fc3(x)\n",
    "        return x"
   ]
  },
  {
   "cell_type": "code",
   "execution_count": 11,
   "metadata": {},
   "outputs": [],
   "source": [
    "model = Ann().to(device)"
   ]
  },
  {
   "cell_type": "code",
   "execution_count": 12,
   "metadata": {},
   "outputs": [],
   "source": [
    "optimizer = optim.SGD(model.parameters(), lr=0.01)"
   ]
  },
  {
   "cell_type": "code",
   "execution_count": 13,
   "metadata": {},
   "outputs": [
    {
     "data": {
      "text/plain": [
       "Ann(\n",
       "  (fc1): Linear(in_features=784, out_features=256, bias=True)\n",
       "  (fc2): Linear(in_features=256, out_features=128, bias=True)\n",
       "  (fc3): Linear(in_features=128, out_features=10, bias=True)\n",
       ")"
      ]
     },
     "execution_count": 13,
     "metadata": {},
     "output_type": "execute_result"
    }
   ],
   "source": [
    "model.train()"
   ]
  },
  {
   "cell_type": "code",
   "execution_count": 14,
   "metadata": {},
   "outputs": [
    {
     "data": {
      "text/plain": [
       "(torch.Size([32, 1, 28, 28]), torch.Size([32]))"
      ]
     },
     "execution_count": 14,
     "metadata": {},
     "output_type": "execute_result"
    }
   ],
   "source": [
    "data, target = images.to(device), labels.to(device)\n",
    "data.shape, target.shape"
   ]
  },
  {
   "cell_type": "code",
   "execution_count": 15,
   "metadata": {},
   "outputs": [],
   "source": [
    "# optimizer.zero_grad()\n",
    "# output = model(data)\n",
    "# loss = f.cross_entropy(output, target)\n",
    "# loss.backward()\n",
    "# optimizer.step()"
   ]
  },
  {
   "cell_type": "markdown",
   "metadata": {},
   "source": [
    "## 학습"
   ]
  },
  {
   "cell_type": "code",
   "execution_count": 16,
   "metadata": {},
   "outputs": [],
   "source": [
    "# EPOCHS = 10\n",
    "# model = Ann().to(device)\n",
    "# optimizer = optim.SGD(model.parameters(), lr=0.01)\n",
    "# for epoch in range(1, EPOCHS+1):\n",
    "#     model.train()\n",
    "#     for batch_idx, (data, target) in enumerate(train_loader):\n",
    "#         data, target = data.to(device), target.to(device)\n",
    "#         optimizer.zero_grad()\n",
    "#         output = model(data)\n",
    "#         loss = f.cross_entropy(output, target)\n",
    "#         loss.backward()\n",
    "#         optimizer.step()\n",
    "#     print(\"Train Epoch:{} \\tLoss:{:.6f}\".format(epoch, loss.item()))"
   ]
  },
  {
   "cell_type": "markdown",
   "metadata": {},
   "source": [
    "## 평가"
   ]
  },
  {
   "cell_type": "code",
   "execution_count": 17,
   "metadata": {},
   "outputs": [],
   "source": [
    "EPOCHS = 10\n",
    "model = Ann(dropout=0.2).to(device)\n",
    "optimizer = optim.SGD(model.parameters(), lr=0.01)"
   ]
  },
  {
   "cell_type": "code",
   "execution_count": 18,
   "metadata": {},
   "outputs": [
    {
     "name": "stdout",
     "output_type": "stream",
     "text": [
      "Train Epoch:1 \tLoss:0.735787\n",
      "Test set:Average Loss:0.5964, Accuracy:79%\n",
      "\n",
      "Train Epoch:2 \tLoss:0.552153\n",
      "Test set:Average Loss:0.5137, Accuracy:81%\n",
      "\n",
      "Train Epoch:3 \tLoss:0.494906\n",
      "Test set:Average Loss:0.4756, Accuracy:83%\n",
      "\n",
      "Train Epoch:4 \tLoss:0.430268\n",
      "Test set:Average Loss:0.4539, Accuracy:84%\n",
      "\n",
      "Train Epoch:5 \tLoss:0.387974\n",
      "Test set:Average Loss:0.4385, Accuracy:84%\n",
      "\n",
      "Train Epoch:6 \tLoss:0.322182\n",
      "Test set:Average Loss:0.4200, Accuracy:85%\n",
      "\n",
      "Train Epoch:7 \tLoss:0.344820\n",
      "Test set:Average Loss:0.4072, Accuracy:85%\n",
      "\n",
      "Train Epoch:8 \tLoss:0.269523\n",
      "Test set:Average Loss:0.4067, Accuracy:85%\n",
      "\n",
      "Train Epoch:9 \tLoss:0.288763\n",
      "Test set:Average Loss:0.3957, Accuracy:86%\n",
      "\n",
      "Train Epoch:10 \tLoss:0.282367\n",
      "Test set:Average Loss:0.3852, Accuracy:86%\n",
      "\n"
     ]
    }
   ],
   "source": [
    "train_history = []\n",
    "test_history = []\n",
    "for epoch in range(1, EPOCHS+1):\n",
    "    model.train()\n",
    "    for batch_idx, (data, target) in enumerate(train_loader):\n",
    "        data, target = data.to(device), target.to(device)\n",
    "        optimizer.zero_grad()\n",
    "        output = model(data)\n",
    "        loss = f.cross_entropy(output, target)\n",
    "        loss.backward()\n",
    "        optimizer.step()\n",
    "    print(\"Train Epoch:{} \\tLoss:{:.6f}\".format(epoch, loss.item()))\n",
    "    train_history.append(loss.item())\n",
    "\n",
    "    model.eval()\n",
    "\n",
    "    test_loss=0\n",
    "    correct=0\n",
    "\n",
    "    with torch.no_grad():\n",
    "        for data, target in test_loader:\n",
    "            data, target = data.to(device), target.to(device)\n",
    "            output = model(data)\n",
    "            test_loss += f.cross_entropy(output, target, reduction='sum').item()\n",
    "            pred = output.argmax(dim=1, keepdim=True)\n",
    "            correct += pred.eq(target.view_as(pred)).sum().item()\n",
    "    test_loss /= len(test_loader.dataset)\n",
    "    test_history.append(test_loss)\n",
    "    print(\"Test set:Average Loss:{:.4f}, Accuracy:{:.0f}%\\n\".format(test_loss, correct/len(test_loader.dataset)*100))\n",
    "    \n",
    "\n",
    "\n"
   ]
  },
  {
   "cell_type": "code",
   "execution_count": 19,
   "metadata": {},
   "outputs": [
    {
     "data": {
      "image/png": "[encoded data removed]",
      "text/plain": [
       "<Figure size 640x480 with 1 Axes>"
      ]
     },
     "metadata": {},
     "output_type": "display_data"
    }
   ],
   "source": [
    "import matplotlib.pyplot as plt\n",
    "plt.plot(train_history, c='g')\n",
    "plt.plot(test_history, c='r')\n",
    "plt.show()"
   ]
  },
  {
   "cell_type": "markdown",
   "metadata": {},
   "source": [
    "## 성능 개선"
   ]
  },
  {
   "cell_type": "markdown",
   "metadata": {},
   "source": [
    "### 과적합"
   ]
  },
  {
   "cell_type": "markdown",
   "metadata": {},
   "source": [
    "### 과적합 해결책\n",
    "- 데이터 정규화\n",
    "- Dropout\n",
    "- 데이터 더 모으기"
   ]
  },
  {
   "cell_type": "markdown",
   "metadata": {},
   "source": []
  }
 ],
 "metadata": {
  "kernelspec": {
   "display_name": "Python 3",
   "language": "python",
   "name": "python3"
  },
  "language_info": {
   "codemirror_mode": {
    "name": "ipython",
    "version": 3
   },
   "file_extension": ".py",
   "mimetype": "text/x-python",
   "name": "python",
   "nbconvert_exporter": "python",
   "pygments_lexer": "ipython3",
   "version": "3.9.13"
  }
 },
 "nbformat": 4,
 "nbformat_minor": 2
}
