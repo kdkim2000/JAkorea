{
 "cells": [
  {
   "cell_type": "markdown",
   "metadata": {
    "id": "vbBIVdR-Hx91"
   },
   "source": [
    "# Pytorch로 딥러닝 제대로 배우기-중급\n",
    "## Part1-2: Colab 환경 다루기"
   ]
  },
  {
   "cell_type": "markdown",
   "metadata": {
    "id": "76a76xPA63LV"
   },
   "source": [
    "### 1. 간단한 문장 출력하기"
   ]
  },
  {
   "cell_type": "code",
   "execution_count": 1,
   "metadata": {
    "colab": {
     "base_uri": "https://localhost:8080/",
     "height": 34
    },
    "id": "lWqcZMt5HvLD",
    "outputId": "b138526f-4248-4943-9088-25978affbea6"
   },
   "outputs": [
    {
     "name": "stdout",
     "output_type": "stream",
     "text": [
      "Hello World!\n"
     ]
    }
   ],
   "source": [
    "# Print function\n",
    "print(\"Hello World!\")\n",
    "\n",
    "# Windows: Ctrl + Enter로 해당 셀 실행\n",
    "# MacOS: Command + Enter로 해당 셀 실행 \n",
    "# 또는, Shit + Enter로 해당 셀 실행"
   ]
  },
  {
   "cell_type": "markdown",
   "metadata": {
    "id": "djgtnSAbIFkj"
   },
   "source": [
    "### 2. 산술 연산하기"
   ]
  },
  {
   "cell_type": "code",
   "execution_count": 2,
   "metadata": {
    "colab": {
     "base_uri": "https://localhost:8080/",
     "height": 34
    },
    "id": "I4yvNOvXIIUd",
    "outputId": "70cc9375-9bdb-4eb6-f39c-29ffcc0d721a"
   },
   "outputs": [
    {
     "name": "stdout",
     "output_type": "stream",
     "text": [
      "5\n"
     ]
    }
   ],
   "source": [
    "# 산술 연산\n",
    "a = 2\n",
    "b = 3\n",
    "c = a + b\n",
    "print(c)"
   ]
  },
  {
   "cell_type": "code",
   "execution_count": 3,
   "metadata": {
    "colab": {
     "base_uri": "https://localhost:8080/",
     "height": 34
    },
    "id": "q4BZsLBIIJ87",
    "outputId": "fb4de904-f2f7-4127-d58b-d43ad8d5c0e3"
   },
   "outputs": [
    {
     "name": "stdout",
     "output_type": "stream",
     "text": [
      "-5\n"
     ]
    }
   ],
   "source": [
    "# 메모리가 유지되는 것을 확인 할 수 있음\n",
    "d = c - 10\n",
    "print(d)"
   ]
  },
  {
   "cell_type": "markdown",
   "metadata": {
    "id": "Vko7k2YrI1IN"
   },
   "source": [
    "### 3 실행 순서에 따른 변화 확인"
   ]
  },
  {
   "cell_type": "code",
   "execution_count": 4,
   "metadata": {
    "colab": {
     "base_uri": "https://localhost:8080/",
     "height": 34
    },
    "id": "_-1O7WwFI4QM",
    "outputId": "25037b90-4954-4484-e32d-c4cbd7c5a9f9"
   },
   "outputs": [
    {
     "name": "stdout",
     "output_type": "stream",
     "text": [
      "Colab\n"
     ]
    }
   ],
   "source": [
    "# 변수 초기화\n",
    "text = \"Colab\"\n",
    "print(text)"
   ]
  },
  {
   "cell_type": "code",
   "execution_count": 5,
   "metadata": {
    "colab": {
     "base_uri": "https://localhost:8080/",
     "height": 34
    },
    "id": "fTgGatV1JAE4",
    "outputId": "f31b471d-a630-4f66-9fc3-625afdfa4e86"
   },
   "outputs": [
    {
     "name": "stdout",
     "output_type": "stream",
     "text": [
      "Nice\n"
     ]
    }
   ],
   "source": [
    "# 변수 재초기화\n",
    "text = \"Nice\"\n",
    "print(text)"
   ]
  },
  {
   "cell_type": "code",
   "execution_count": 6,
   "metadata": {
    "colab": {
     "base_uri": "https://localhost:8080/",
     "height": 34
    },
    "id": "5DeNnrULJLpS",
    "outputId": "c1ca22f4-c2ea-495a-dfda-e6434bedb908"
   },
   "outputs": [
    {
     "name": "stdout",
     "output_type": "stream",
     "text": [
      "Nice\n"
     ]
    }
   ],
   "source": [
    "# 변수 출력\n",
    "# 코드 블록의 순서를 바꿔서 코드를 실행해 보세요.\n",
    "print(text)"
   ]
  },
  {
   "cell_type": "markdown",
   "metadata": {
    "id": "z9dn5HbOJZhC"
   },
   "source": [
    "#### 4 명령어"
   ]
  },
  {
   "cell_type": "code",
   "execution_count": 7,
   "metadata": {
    "colab": {
     "base_uri": "https://localhost:8080/",
     "height": 1000
    },
    "id": "Hr0y8n9LJbmP",
    "outputId": "fdf964c0-954a-4c41-91e0-04139b7f0ae9"
   },
   "outputs": [
    {
     "name": "stderr",
     "output_type": "stream",
     "text": [
      "'cat'은(는) 내부 또는 외부 명령, 실행할 수 있는 프로그램, 또는\n",
      "배치 파일이 아닙니다.\n",
      "'cat'은(는) 내부 또는 외부 명령, 실행할 수 있는 프로그램, 또는\n",
      "배치 파일이 아닙니다.\n",
      "'cat'은(는) 내부 또는 외부 명령, 실행할 수 있는 프로그램, 또는\n",
      "배치 파일이 아닙니다.\n",
      "'df'은(는) 내부 또는 외부 명령, 실행할 수 있는 프로그램, 또는\n",
      "배치 파일이 아닙니다.\n"
     ]
    }
   ],
   "source": [
    "!cat /etc/issue.net\n",
    "!cat /proc/cpuinfo\n",
    "!cat /proc/meminfo \n",
    "!df -h\n",
    "#!nvidia-smi # GPU Runtime에서 동작"
   ]
  }
 ],
 "metadata": {
  "colab": {
   "provenance": [
    {
     "file_id": "11QgvTNsoJPM-OX4il-GEhqHaCJA4GlIn",
     "timestamp": 1661328848826
    }
   ]
  },
  "kernelspec": {
   "display_name": "Python 3 (ipykernel)",
   "language": "python",
   "name": "python3"
  },
  "language_info": {
   "codemirror_mode": {
    "name": "ipython",
    "version": 3
   },
   "file_extension": ".py",
   "mimetype": "text/x-python",
   "name": "python",
   "nbconvert_exporter": "python",
   "pygments_lexer": "ipython3",
   "version": "3.9.13"
  }
 },
 "nbformat": 4,
 "nbformat_minor": 4
}
