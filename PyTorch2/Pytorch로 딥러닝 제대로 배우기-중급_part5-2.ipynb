{
 "cells": [
  {
   "cell_type": "markdown",
   "metadata": {
    "id": "8lJqDOjW3gOS"
   },
   "source": [
    "# Pytorch로 딥러닝 제대로 배우기-중급\n",
    "## Part5-2: 과대적합 & 과소적합\n",
    "## 목차\n",
    "\n",
    "1. 데이터 호출(Cifar-10)\n",
    "2. 모델\n",
    "3. Weight decay (L2 penalty)"
   ]
  },
  {
   "cell_type": "markdown",
   "metadata": {
    "id": "NWs5O0Lr398o"
   },
   "source": [
    "### (1) 데이터 호출 (Cifar-10)"
   ]
  },
  {
   "cell_type": "code",
   "execution_count": 1,
   "metadata": {
    "executionInfo": {
     "elapsed": 4115,
     "status": "ok",
     "timestamp": 1671003968481,
     "user": {
      "displayName": "김동희",
      "userId": "01756196316806978263"
     },
     "user_tz": -540
    },
    "id": "9beCKfEx3Z9m"
   },
   "outputs": [],
   "source": [
    "import torch\n",
    "import torchvision\n",
    "from torch import nn\n",
    "from torch.utils.data import DataLoader\n",
    "from torchvision import datasets\n",
    "from torchvision.transforms import ToTensor, Normalize, Compose"
   ]
  },
  {
   "cell_type": "code",
   "execution_count": 2,
   "metadata": {
    "colab": {
     "base_uri": "https://localhost:8080/",
     "height": 100,
     "referenced_widgets": [
      "b6e9ec772026400883808788fd1aeee3",
      "9d5840ffbea147e0874615826add423f",
      "bcbb9033ab85425ba879aa7e006bcd03",
      "d013c9da05db430f9a3af6688ed1cfd0",
      "e37236eb617746d8a4ce0b76dc2a3724",
      "a7c102f9c54e4414811870f739d306a4",
      "d33cc646a2154125a11046560ca672f7",
      "43d041b02f44423baba1fae683e1842c",
      "cc2736596c074a0b99795849cd430384",
      "6fdb1231f0e946eb80dcbaf14d9f1665",
      "ac46e85436c1495d9228764b46f79b9d"
     ]
    },
    "executionInfo": {
     "elapsed": 5568,
     "status": "ok",
     "timestamp": 1671004079850,
     "user": {
      "displayName": "김동희",
      "userId": "01756196316806978263"
     },
     "user_tz": -540
    },
    "id": "_8Pn8ihg355O",
    "outputId": "fda1d80a-a4db-43d1-be05-57b563a2d037"
   },
   "outputs": [
    {
     "name": "stdout",
     "output_type": "stream",
     "text": [
      "Files already downloaded and verified\n",
      "Files already downloaded and verified\n"
     ]
    }
   ],
   "source": [
    "## Transform 지정 - ** 초급강좌에서 설명 **\n",
    "transform = Compose(\n",
    "    [ToTensor(),\n",
    "     Normalize((0.5, 0.5, 0.5), (0.5, 0.5, 0.5))])\n",
    "\n",
    "# Batch size와 학습의 관계? \n",
    "batch_size = 64\n",
    "\n",
    "trainset = datasets.CIFAR10(root='./dataset', train=True,\n",
    "                            download=True, transform=transform)\n",
    "trainloader = torch.utils.data.DataLoader(trainset, batch_size=batch_size,\n",
    "                                          shuffle=True, num_workers=2)\n",
    "\n",
    "testset = datasets.CIFAR10(root='./dataset', train=False,\n",
    "                           download=True, transform=transform)\n",
    "testloader = torch.utils.data.DataLoader(testset, batch_size=batch_size,\n",
    "                                         shuffle=False, num_workers=2)\n",
    "\n",
    "classes = ('plane', 'car', 'bird', 'cat',\n",
    "           'deer', 'dog', 'frog', 'horse', 'ship', 'truck')"
   ]
  },
  {
   "cell_type": "markdown",
   "metadata": {
    "id": "E-RmSdXY4UOl"
   },
   "source": [
    "### (2) 모델"
   ]
  },
  {
   "cell_type": "code",
   "execution_count": 3,
   "metadata": {
    "colab": {
     "base_uri": "https://localhost:8080/"
    },
    "executionInfo": {
     "elapsed": 4450,
     "status": "ok",
     "timestamp": 1671004358351,
     "user": {
      "displayName": "김동희",
      "userId": "01756196316806978263"
     },
     "user_tz": -540
    },
    "id": "UZej3f_G4bGG",
    "outputId": "18349680-67e4-423d-b5ad-5e13e3658bb8"
   },
   "outputs": [
    {
     "name": "stdout",
     "output_type": "stream",
     "text": [
      "NeuralNetwork(\n",
      "  (flatten): Flatten(start_dim=1, end_dim=-1)\n",
      "  (linear_relu_stack): Sequential(\n",
      "    (0): Linear(in_features=3072, out_features=1024, bias=True)\n",
      "    (1): ReLU()\n",
      "    (2): Linear(in_features=1024, out_features=512, bias=True)\n",
      "    (3): ReLU()\n",
      "    (4): Linear(in_features=512, out_features=256, bias=True)\n",
      "    (5): ReLU()\n",
      "    (6): Linear(in_features=256, out_features=10, bias=True)\n",
      "  )\n",
      ")\n"
     ]
    }
   ],
   "source": [
    "device = 'cuda' if torch.cuda.is_available() else \"cpu\"\n",
    "\n",
    "class NeuralNetwork(nn.Module):\n",
    "  def __init__(self):\n",
    "    super(NeuralNetwork, self).__init__()\n",
    "    self.flatten = nn.Flatten()\n",
    "    self.linear_relu_stack = nn.Sequential(\n",
    "        nn.Linear(32*32*3, 1024),\n",
    "        nn.ReLU(),\n",
    "        nn.Linear(1024, 512),\n",
    "        nn.ReLU(),\n",
    "        nn.Linear(512, 256),\n",
    "        nn.ReLU(),\n",
    "        nn.Linear(256, 10)\n",
    "    )\n",
    "\n",
    "  def forward(self, x):\n",
    "    x = self.flatten(x)\n",
    "    logits = self.linear_relu_stack(x)\n",
    "    return logits\n",
    "\n",
    "model = NeuralNetwork().to(device)\n",
    "print(model)"
   ]
  },
  {
   "cell_type": "markdown",
   "metadata": {
    "id": "6OCVf2Dx4cXG"
   },
   "source": [
    "### (3) 최적화(Optimization)"
   ]
  },
  {
   "cell_type": "markdown",
   "metadata": {
    "id": "L_MdEeq21zSm"
   },
   "source": [
    "#### 학습/평가 함수 정의"
   ]
  },
  {
   "cell_type": "code",
   "execution_count": 4,
   "metadata": {
    "executionInfo": {
     "elapsed": 252,
     "status": "ok",
     "timestamp": 1671004402710,
     "user": {
      "displayName": "김동희",
      "userId": "01756196316806978263"
     },
     "user_tz": -540
    },
    "id": "TWZvF4T25NJE"
   },
   "outputs": [],
   "source": [
    "def train(dataloader, model, loss_fn, optimizer):\n",
    "    size = len(dataloader.dataset)\n",
    "    model.train()\n",
    "    for batch, (X, y) in enumerate(dataloader):\n",
    "        X, y = X.to(device), y.to(device)\n",
    "\n",
    "        # Compute prediction error\n",
    "        pred = model(X)\n",
    "        loss = loss_fn(pred, y)\n",
    "\n",
    "        # Backpropagation\n",
    "        optimizer.zero_grad()\n",
    "        loss.backward()\n",
    "        optimizer.step()\n",
    "\n",
    "        if batch % 100 == 0:\n",
    "            loss, current = loss.item(), batch * len(X)\n",
    "            print(f\"loss: {loss:>7f}  [{current:>5d}/{size:>5d}]\")"
   ]
  },
  {
   "cell_type": "code",
   "execution_count": 5,
   "metadata": {
    "executionInfo": {
     "elapsed": 266,
     "status": "ok",
     "timestamp": 1671004404481,
     "user": {
      "displayName": "김동희",
      "userId": "01756196316806978263"
     },
     "user_tz": -540
    },
    "id": "3CMGsNX65Y9L"
   },
   "outputs": [],
   "source": [
    "def test(dataloader, model, loss_fn):\n",
    "    size = len(dataloader.dataset)\n",
    "    num_batches = len(dataloader)\n",
    "    model.eval()\n",
    "    test_loss, correct = 0, 0\n",
    "    with torch.no_grad():\n",
    "        for X, y in dataloader:\n",
    "            X, y = X.to(device), y.to(device)\n",
    "            pred = model(X)\n",
    "            test_loss += loss_fn(pred, y).item()\n",
    "            correct += (pred.argmax(1) == y).type(torch.float).sum().item()\n",
    "    test_loss /= num_batches\n",
    "    correct /= size\n",
    "    print(f\"Test Error: \\n Accuracy: {(100*correct):>0.1f}%, Avg loss: {test_loss:>8f} \\n\")"
   ]
  },
  {
   "cell_type": "markdown",
   "metadata": {
    "id": "2vkgT-Ak122w"
   },
   "source": [
    "#### SGD"
   ]
  },
  {
   "cell_type": "markdown",
   "metadata": {
    "id": "ddTlodzUZSUy"
   },
   "source": [
    "#### Without penalty"
   ]
  },
  {
   "cell_type": "code",
   "execution_count": 6,
   "metadata": {
    "executionInfo": {
     "elapsed": 490,
     "status": "ok",
     "timestamp": 1671004428004,
     "user": {
      "displayName": "김동희",
      "userId": "01756196316806978263"
     },
     "user_tz": -540
    },
    "id": "Dtujq08SZWYp"
   },
   "outputs": [],
   "source": [
    "model = NeuralNetwork().to(device)\n",
    "loss_fn = nn.CrossEntropyLoss()\n",
    "optimizer = torch.optim.SGD(model.parameters(), lr=1e-3)"
   ]
  },
  {
   "cell_type": "code",
   "execution_count": 7,
   "metadata": {
    "colab": {
     "base_uri": "https://localhost:8080/"
    },
    "executionInfo": {
     "elapsed": 71633,
     "status": "ok",
     "timestamp": 1671004510888,
     "user": {
      "displayName": "김동희",
      "userId": "01756196316806978263"
     },
     "user_tz": -540
    },
    "id": "yUg-wlfAZbbA",
    "outputId": "3492c1e5-38a1-426d-c4a9-c08a333b1ef6"
   },
   "outputs": [
    {
     "name": "stdout",
     "output_type": "stream",
     "text": [
      "Epoch 1\n",
      "-------------------------------\n",
      "loss: 2.309335  [    0/50000]\n",
      "loss: 2.305044  [ 6400/50000]\n",
      "loss: 2.304609  [12800/50000]\n",
      "loss: 2.294631  [19200/50000]\n",
      "loss: 2.303111  [25600/50000]\n",
      "loss: 2.299413  [32000/50000]\n",
      "loss: 2.293840  [38400/50000]\n",
      "loss: 2.300522  [44800/50000]\n",
      "Test Error: \n",
      " Accuracy: 13.6%, Avg loss: 2.294243 \n",
      "\n",
      "Epoch 2\n",
      "-------------------------------\n",
      "loss: 2.300594  [    0/50000]\n",
      "loss: 2.300847  [ 6400/50000]\n",
      "loss: 2.287667  [12800/50000]\n",
      "loss: 2.287684  [19200/50000]\n",
      "loss: 2.285975  [25600/50000]\n",
      "loss: 2.285868  [32000/50000]\n",
      "loss: 2.287471  [38400/50000]\n",
      "loss: 2.273639  [44800/50000]\n",
      "Test Error: \n",
      " Accuracy: 18.8%, Avg loss: 2.283407 \n",
      "\n",
      "Epoch 3\n",
      "-------------------------------\n",
      "loss: 2.282539  [    0/50000]\n",
      "loss: 2.274345  [ 6400/50000]\n",
      "loss: 2.270647  [12800/50000]\n",
      "loss: 2.276626  [19200/50000]\n",
      "loss: 2.281738  [25600/50000]\n",
      "loss: 2.275967  [32000/50000]\n",
      "loss: 2.277824  [38400/50000]\n",
      "loss: 2.279803  [44800/50000]\n",
      "Test Error: \n",
      " Accuracy: 21.9%, Avg loss: 2.268418 \n",
      "\n",
      "Epoch 4\n",
      "-------------------------------\n",
      "loss: 2.267054  [    0/50000]\n",
      "loss: 2.267204  [ 6400/50000]\n",
      "loss: 2.245092  [12800/50000]\n",
      "loss: 2.270392  [19200/50000]\n",
      "loss: 2.285435  [25600/50000]\n",
      "loss: 2.240547  [32000/50000]\n",
      "loss: 2.261910  [38400/50000]\n",
      "loss: 2.257579  [44800/50000]\n",
      "Test Error: \n",
      " Accuracy: 22.6%, Avg loss: 2.246019 \n",
      "\n",
      "Epoch 5\n",
      "-------------------------------\n",
      "loss: 2.246586  [    0/50000]\n",
      "loss: 2.226698  [ 6400/50000]\n",
      "loss: 2.233774  [12800/50000]\n",
      "loss: 2.235249  [19200/50000]\n",
      "loss: 2.241907  [25600/50000]\n",
      "loss: 2.243840  [32000/50000]\n",
      "loss: 2.189774  [38400/50000]\n",
      "loss: 2.211812  [44800/50000]\n",
      "Test Error: \n",
      " Accuracy: 22.8%, Avg loss: 2.212570 \n",
      "\n",
      "Done!\n"
     ]
    }
   ],
   "source": [
    "epochs = 5\n",
    "\n",
    "for t in range(epochs):\n",
    "    print(f\"Epoch {t+1}\\n-------------------------------\")\n",
    "    train(trainloader, model, loss_fn, optimizer)\n",
    "    test(testloader, model, loss_fn)\n",
    "print(\"Done!\")"
   ]
  },
  {
   "cell_type": "markdown",
   "metadata": {
    "id": "dZVtMwKrZpUU"
   },
   "source": [
    "#### L2 penalty 0.05"
   ]
  },
  {
   "cell_type": "code",
   "execution_count": 8,
   "metadata": {
    "executionInfo": {
     "elapsed": 267,
     "status": "ok",
     "timestamp": 1671004642950,
     "user": {
      "displayName": "김동희",
      "userId": "01756196316806978263"
     },
     "user_tz": -540
    },
    "id": "ZJP_EzN5Zsur"
   },
   "outputs": [],
   "source": [
    "model = NeuralNetwork().to(device)\n",
    "loss_fn = nn.CrossEntropyLoss()\n",
    "optimizer = torch.optim.SGD(model.parameters(), lr=1e-3, weight_decay=0.05)"
   ]
  },
  {
   "cell_type": "code",
   "execution_count": 9,
   "metadata": {
    "colab": {
     "base_uri": "https://localhost:8080/"
    },
    "executionInfo": {
     "elapsed": 70339,
     "status": "ok",
     "timestamp": 1671004715813,
     "user": {
      "displayName": "김동희",
      "userId": "01756196316806978263"
     },
     "user_tz": -540
    },
    "id": "nKzg0pqVZtsS",
    "outputId": "a3a7c848-bfdc-4eac-b79f-204d27d5ff89"
   },
   "outputs": [
    {
     "name": "stdout",
     "output_type": "stream",
     "text": [
      "Epoch 1\n",
      "-------------------------------\n",
      "loss: 2.315030  [    0/50000]\n",
      "loss: 2.315473  [ 6400/50000]\n",
      "loss: 2.300351  [12800/50000]\n",
      "loss: 2.306590  [19200/50000]\n",
      "loss: 2.288002  [25600/50000]\n",
      "loss: 2.295419  [32000/50000]\n",
      "loss: 2.295757  [38400/50000]\n",
      "loss: 2.296340  [44800/50000]\n",
      "Test Error: \n",
      " Accuracy: 17.0%, Avg loss: 2.294777 \n",
      "\n",
      "Epoch 2\n",
      "-------------------------------\n",
      "loss: 2.292228  [    0/50000]\n",
      "loss: 2.300972  [ 6400/50000]\n",
      "loss: 2.291825  [12800/50000]\n",
      "loss: 2.294820  [19200/50000]\n",
      "loss: 2.291165  [25600/50000]\n",
      "loss: 2.291907  [32000/50000]\n",
      "loss: 2.282988  [38400/50000]\n",
      "loss: 2.294231  [44800/50000]\n",
      "Test Error: \n",
      " Accuracy: 19.1%, Avg loss: 2.287262 \n",
      "\n",
      "Epoch 3\n",
      "-------------------------------\n",
      "loss: 2.294825  [    0/50000]\n",
      "loss: 2.286857  [ 6400/50000]\n",
      "loss: 2.291963  [12800/50000]\n",
      "loss: 2.283239  [19200/50000]\n",
      "loss: 2.284880  [25600/50000]\n",
      "loss: 2.281405  [32000/50000]\n",
      "loss: 2.267808  [38400/50000]\n",
      "loss: 2.277424  [44800/50000]\n",
      "Test Error: \n",
      " Accuracy: 20.3%, Avg loss: 2.280031 \n",
      "\n",
      "Epoch 4\n",
      "-------------------------------\n",
      "loss: 2.272235  [    0/50000]\n",
      "loss: 2.284348  [ 6400/50000]\n",
      "loss: 2.273625  [12800/50000]\n",
      "loss: 2.278903  [19200/50000]\n",
      "loss: 2.274799  [25600/50000]\n",
      "loss: 2.272917  [32000/50000]\n",
      "loss: 2.262635  [38400/50000]\n",
      "loss: 2.260638  [44800/50000]\n",
      "Test Error: \n",
      " Accuracy: 21.3%, Avg loss: 2.272080 \n",
      "\n",
      "Epoch 5\n",
      "-------------------------------\n",
      "loss: 2.275043  [    0/50000]\n",
      "loss: 2.280892  [ 6400/50000]\n",
      "loss: 2.273631  [12800/50000]\n",
      "loss: 2.265336  [19200/50000]\n",
      "loss: 2.266083  [25600/50000]\n",
      "loss: 2.269570  [32000/50000]\n",
      "loss: 2.262395  [38400/50000]\n",
      "loss: 2.246842  [44800/50000]\n",
      "Test Error: \n",
      " Accuracy: 21.6%, Avg loss: 2.262422 \n",
      "\n",
      "Done!\n"
     ]
    }
   ],
   "source": [
    "epochs = 5\n",
    "\n",
    "for t in range(epochs):\n",
    "    print(f\"Epoch {t+1}\\n-------------------------------\")\n",
    "    train(trainloader, model, loss_fn, optimizer)\n",
    "    test(testloader, model, loss_fn)\n",
    "print(\"Done!\")"
   ]
  },
  {
   "cell_type": "markdown",
   "metadata": {
    "id": "1X1UNp5l6tUj"
   },
   "source": [
    "#### L2 penalty 0.1"
   ]
  },
  {
   "cell_type": "code",
   "execution_count": 10,
   "metadata": {
    "executionInfo": {
     "elapsed": 235,
     "status": "ok",
     "timestamp": 1671004744273,
     "user": {
      "displayName": "김동희",
      "userId": "01756196316806978263"
     },
     "user_tz": -540
    },
    "id": "ARiRlEwr4bc9"
   },
   "outputs": [],
   "source": [
    "model = NeuralNetwork().to(device)\n",
    "loss_fn = nn.CrossEntropyLoss()\n",
    "optimizer = torch.optim.SGD(model.parameters(), lr=1e-3, weight_decay=0.1)"
   ]
  },
  {
   "cell_type": "code",
   "execution_count": 11,
   "metadata": {
    "colab": {
     "base_uri": "https://localhost:8080/"
    },
    "executionInfo": {
     "elapsed": 70595,
     "status": "ok",
     "timestamp": 1671004816005,
     "user": {
      "displayName": "김동희",
      "userId": "01756196316806978263"
     },
     "user_tz": -540
    },
    "id": "v3nQnm6r5a6d",
    "outputId": "7501f24d-facf-44b6-9a6a-c214a3a913fa"
   },
   "outputs": [
    {
     "name": "stdout",
     "output_type": "stream",
     "text": [
      "Epoch 1\n",
      "-------------------------------\n",
      "loss: 2.303780  [    0/50000]\n",
      "loss: 2.302180  [ 6400/50000]\n",
      "loss: 2.298307  [12800/50000]\n",
      "loss: 2.294475  [19200/50000]\n",
      "loss: 2.298793  [25600/50000]\n",
      "loss: 2.296794  [32000/50000]\n",
      "loss: 2.304544  [38400/50000]\n",
      "loss: 2.297290  [44800/50000]\n",
      "Test Error: \n",
      " Accuracy: 14.1%, Avg loss: 2.296496 \n",
      "\n",
      "Epoch 2\n",
      "-------------------------------\n",
      "loss: 2.297639  [    0/50000]\n",
      "loss: 2.295343  [ 6400/50000]\n",
      "loss: 2.295147  [12800/50000]\n",
      "loss: 2.294155  [19200/50000]\n",
      "loss: 2.296863  [25600/50000]\n",
      "loss: 2.295799  [32000/50000]\n",
      "loss: 2.294973  [38400/50000]\n",
      "loss: 2.292992  [44800/50000]\n",
      "Test Error: \n",
      " Accuracy: 16.6%, Avg loss: 2.293472 \n",
      "\n",
      "Epoch 3\n",
      "-------------------------------\n",
      "loss: 2.289555  [    0/50000]\n",
      "loss: 2.293320  [ 6400/50000]\n",
      "loss: 2.291627  [12800/50000]\n",
      "loss: 2.293296  [19200/50000]\n",
      "loss: 2.294540  [25600/50000]\n",
      "loss: 2.296237  [32000/50000]\n",
      "loss: 2.293208  [38400/50000]\n",
      "loss: 2.291574  [44800/50000]\n",
      "Test Error: \n",
      " Accuracy: 19.2%, Avg loss: 2.291969 \n",
      "\n",
      "Epoch 4\n",
      "-------------------------------\n",
      "loss: 2.292012  [    0/50000]\n",
      "loss: 2.287999  [ 6400/50000]\n",
      "loss: 2.290504  [12800/50000]\n",
      "loss: 2.290870  [19200/50000]\n",
      "loss: 2.294746  [25600/50000]\n",
      "loss: 2.289728  [32000/50000]\n",
      "loss: 2.293548  [38400/50000]\n",
      "loss: 2.289701  [44800/50000]\n",
      "Test Error: \n",
      " Accuracy: 21.2%, Avg loss: 2.291310 \n",
      "\n",
      "Epoch 5\n",
      "-------------------------------\n",
      "loss: 2.291528  [    0/50000]\n",
      "loss: 2.291814  [ 6400/50000]\n",
      "loss: 2.292032  [12800/50000]\n",
      "loss: 2.294292  [19200/50000]\n",
      "loss: 2.296722  [25600/50000]\n",
      "loss: 2.293800  [32000/50000]\n",
      "loss: 2.293257  [38400/50000]\n",
      "loss: 2.290355  [44800/50000]\n",
      "Test Error: \n",
      " Accuracy: 22.5%, Avg loss: 2.291144 \n",
      "\n",
      "Done!\n"
     ]
    }
   ],
   "source": [
    "epochs = 5\n",
    "\n",
    "for t in range(epochs):\n",
    "    print(f\"Epoch {t+1}\\n-------------------------------\")\n",
    "    train(trainloader, model, loss_fn, optimizer)\n",
    "    test(testloader, model, loss_fn)\n",
    "print(\"Done!\")"
   ]
  },
  {
   "cell_type": "markdown",
   "metadata": {
    "id": "rUV_jKw16NL6"
   },
   "source": [
    "#### L2 penalty 0.9"
   ]
  },
  {
   "cell_type": "code",
   "execution_count": 12,
   "metadata": {
    "executionInfo": {
     "elapsed": 243,
     "status": "ok",
     "timestamp": 1671004837243,
     "user": {
      "displayName": "김동희",
      "userId": "01756196316806978263"
     },
     "user_tz": -540
    },
    "id": "AvYtb-ju6Iqs"
   },
   "outputs": [],
   "source": [
    "model = NeuralNetwork().to(device)\n",
    "loss_fn = nn.CrossEntropyLoss()\n",
    "optimizer = torch.optim.SGD(model.parameters(), lr=1e-3, weight_decay=0.9)"
   ]
  },
  {
   "cell_type": "code",
   "execution_count": 13,
   "metadata": {
    "colab": {
     "base_uri": "https://localhost:8080/"
    },
    "executionInfo": {
     "elapsed": 70844,
     "status": "ok",
     "timestamp": 1671004909146,
     "user": {
      "displayName": "김동희",
      "userId": "01756196316806978263"
     },
     "user_tz": -540
    },
    "id": "GU-Z8S1r6L-C",
    "outputId": "2d1f5952-ddc4-4940-8396-abdc77f75322"
   },
   "outputs": [
    {
     "name": "stdout",
     "output_type": "stream",
     "text": [
      "Epoch 1\n",
      "-------------------------------\n",
      "loss: 2.315534  [    0/50000]\n",
      "loss: 2.301179  [ 6400/50000]\n",
      "loss: 2.297627  [12800/50000]\n",
      "loss: 2.302070  [19200/50000]\n",
      "loss: 2.299445  [25600/50000]\n",
      "loss: 2.298323  [32000/50000]\n",
      "loss: 2.304456  [38400/50000]\n",
      "loss: 2.304333  [44800/50000]\n",
      "Test Error: \n",
      " Accuracy: 11.2%, Avg loss: 2.302286 \n",
      "\n",
      "Epoch 2\n",
      "-------------------------------\n",
      "loss: 2.302500  [    0/50000]\n",
      "loss: 2.301929  [ 6400/50000]\n",
      "loss: 2.303484  [12800/50000]\n",
      "loss: 2.302308  [19200/50000]\n",
      "loss: 2.300865  [25600/50000]\n",
      "loss: 2.303806  [32000/50000]\n",
      "loss: 2.302969  [38400/50000]\n",
      "loss: 2.303734  [44800/50000]\n",
      "Test Error: \n",
      " Accuracy: 10.0%, Avg loss: 2.302586 \n",
      "\n",
      "Epoch 3\n",
      "-------------------------------\n",
      "loss: 2.302727  [    0/50000]\n",
      "loss: 2.301477  [ 6400/50000]\n",
      "loss: 2.303550  [12800/50000]\n",
      "loss: 2.302285  [19200/50000]\n",
      "loss: 2.303658  [25600/50000]\n",
      "loss: 2.302494  [32000/50000]\n",
      "loss: 2.302154  [38400/50000]\n",
      "loss: 2.303035  [44800/50000]\n",
      "Test Error: \n",
      " Accuracy: 10.0%, Avg loss: 2.302591 \n",
      "\n",
      "Epoch 4\n",
      "-------------------------------\n",
      "loss: 2.302610  [    0/50000]\n",
      "loss: 2.302938  [ 6400/50000]\n",
      "loss: 2.302385  [12800/50000]\n",
      "loss: 2.303366  [19200/50000]\n",
      "loss: 2.301984  [25600/50000]\n",
      "loss: 2.302572  [32000/50000]\n",
      "loss: 2.302409  [38400/50000]\n",
      "loss: 2.302742  [44800/50000]\n",
      "Test Error: \n",
      " Accuracy: 10.0%, Avg loss: 2.302587 \n",
      "\n",
      "Epoch 5\n",
      "-------------------------------\n",
      "loss: 2.302359  [    0/50000]\n",
      "loss: 2.302711  [ 6400/50000]\n",
      "loss: 2.302540  [12800/50000]\n",
      "loss: 2.302724  [19200/50000]\n",
      "loss: 2.302461  [25600/50000]\n",
      "loss: 2.302799  [32000/50000]\n",
      "loss: 2.302429  [38400/50000]\n",
      "loss: 2.302735  [44800/50000]\n",
      "Test Error: \n",
      " Accuracy: 10.0%, Avg loss: 2.302586 \n",
      "\n",
      "Done!\n"
     ]
    }
   ],
   "source": [
    "epochs = 5\n",
    "\n",
    "for t in range(epochs):\n",
    "    print(f\"Epoch {t+1}\\n-------------------------------\")\n",
    "    train(trainloader, model, loss_fn, optimizer)\n",
    "    test(testloader, model, loss_fn)\n",
    "print(\"Done!\")"
   ]
  },
  {
   "cell_type": "markdown",
   "metadata": {
    "id": "t0cFdHjO6TNa"
   },
   "source": [
    "#### L2 penalty 10.0"
   ]
  },
  {
   "cell_type": "code",
   "execution_count": 14,
   "metadata": {
    "executionInfo": {
     "elapsed": 8,
     "status": "ok",
     "timestamp": 1671002347207,
     "user": {
      "displayName": "김동희",
      "userId": "01756196316806978263"
     },
     "user_tz": -540
    },
    "id": "m4GzPsOr6Rxn"
   },
   "outputs": [],
   "source": [
    "model = NeuralNetwork().to(device)\n",
    "loss_fn = nn.CrossEntropyLoss()\n",
    "optimizer = torch.optim.SGD(model.parameters(), lr=1e-3, weight_decay=10.0)"
   ]
  },
  {
   "cell_type": "code",
   "execution_count": 15,
   "metadata": {
    "id": "CjZNSlkA6aXt"
   },
   "outputs": [
    {
     "name": "stdout",
     "output_type": "stream",
     "text": [
      "Epoch 1\n",
      "-------------------------------\n",
      "loss: 2.302969  [    0/50000]\n",
      "loss: 2.303428  [ 6400/50000]\n",
      "loss: 2.301558  [12800/50000]\n",
      "loss: 2.302618  [19200/50000]\n",
      "loss: 2.302498  [25600/50000]\n",
      "loss: 2.302521  [32000/50000]\n",
      "loss: 2.302508  [38400/50000]\n",
      "loss: 2.302568  [44800/50000]\n",
      "Test Error: \n",
      " Accuracy: 10.0%, Avg loss: 2.302584 \n",
      "\n",
      "Epoch 2\n",
      "-------------------------------\n",
      "loss: 2.302566  [    0/50000]\n",
      "loss: 2.302591  [ 6400/50000]\n",
      "loss: 2.302525  [12800/50000]\n",
      "loss: 2.302581  [19200/50000]\n",
      "loss: 2.302601  [25600/50000]\n",
      "loss: 2.302615  [32000/50000]\n",
      "loss: 2.302581  [38400/50000]\n",
      "loss: 2.302553  [44800/50000]\n",
      "Test Error: \n",
      " Accuracy: 10.0%, Avg loss: 2.302585 \n",
      "\n",
      "Epoch 3\n",
      "-------------------------------\n",
      "loss: 2.302550  [    0/50000]\n",
      "loss: 2.302593  [ 6400/50000]\n",
      "loss: 2.302515  [12800/50000]\n",
      "loss: 2.302557  [19200/50000]\n",
      "loss: 2.302602  [25600/50000]\n",
      "loss: 2.302590  [32000/50000]\n",
      "loss: 2.302605  [38400/50000]\n",
      "loss: 2.302626  [44800/50000]\n",
      "Test Error: \n",
      " Accuracy: 10.0%, Avg loss: 2.302586 \n",
      "\n",
      "Epoch 4\n",
      "-------------------------------\n",
      "loss: 2.302578  [    0/50000]\n",
      "loss: 2.302557  [ 6400/50000]\n",
      "loss: 2.302547  [12800/50000]\n",
      "loss: 2.302605  [19200/50000]\n",
      "loss: 2.302539  [25600/50000]\n",
      "loss: 2.302587  [32000/50000]\n",
      "loss: 2.302628  [38400/50000]\n",
      "loss: 2.302517  [44800/50000]\n",
      "Test Error: \n",
      " Accuracy: 10.0%, Avg loss: 2.302585 \n",
      "\n",
      "Epoch 5\n",
      "-------------------------------\n",
      "loss: 2.302585  [    0/50000]\n",
      "loss: 2.302586  [ 6400/50000]\n",
      "loss: 2.302588  [12800/50000]\n",
      "loss: 2.302598  [19200/50000]\n",
      "loss: 2.302620  [25600/50000]\n",
      "loss: 2.302607  [32000/50000]\n",
      "loss: 2.302566  [38400/50000]\n",
      "loss: 2.302604  [44800/50000]\n",
      "Test Error: \n",
      " Accuracy: 10.0%, Avg loss: 2.302585 \n",
      "\n",
      "Done!\n"
     ]
    }
   ],
   "source": [
    "epochs = 5\n",
    "\n",
    "for t in range(epochs):\n",
    "    print(f\"Epoch {t+1}\\n-------------------------------\")\n",
    "    train(trainloader, model, loss_fn, optimizer)\n",
    "    test(testloader, model, loss_fn)\n",
    "print(\"Done!\")"
   ]
  },
  {
   "cell_type": "markdown",
   "metadata": {
    "id": "_d4UNdvc2jz3"
   },
   "source": [
    "#### Adam"
   ]
  },
  {
   "cell_type": "markdown",
   "metadata": {
    "id": "lVkU2PejheVB"
   },
   "source": [
    "#### Without Penalty"
   ]
  },
  {
   "cell_type": "code",
   "execution_count": 16,
   "metadata": {
    "executionInfo": {
     "elapsed": 298,
     "status": "ok",
     "timestamp": 1671004937035,
     "user": {
      "displayName": "김동희",
      "userId": "01756196316806978263"
     },
     "user_tz": -540
    },
    "id": "aQljT_XJhaEj"
   },
   "outputs": [],
   "source": [
    "model = NeuralNetwork().to(device)\n",
    "loss_fn = nn.CrossEntropyLoss()\n",
    "optimizer = torch.optim.Adam(model.parameters(), lr=1e-3)"
   ]
  },
  {
   "cell_type": "code",
   "execution_count": 17,
   "metadata": {
    "colab": {
     "base_uri": "https://localhost:8080/"
    },
    "executionInfo": {
     "elapsed": 73671,
     "status": "ok",
     "timestamp": 1671005025072,
     "user": {
      "displayName": "김동희",
      "userId": "01756196316806978263"
     },
     "user_tz": -540
    },
    "id": "q75d0Y6ohcbj",
    "outputId": "9b91da4d-5150-4193-e5d8-a8439d335b89"
   },
   "outputs": [
    {
     "name": "stdout",
     "output_type": "stream",
     "text": [
      "Epoch 1\n",
      "-------------------------------\n",
      "loss: 2.303042  [    0/50000]\n",
      "loss: 1.744348  [ 6400/50000]\n",
      "loss: 1.780145  [12800/50000]\n",
      "loss: 1.696631  [19200/50000]\n",
      "loss: 1.514848  [25600/50000]\n",
      "loss: 1.808943  [32000/50000]\n",
      "loss: 1.635035  [38400/50000]\n",
      "loss: 1.341475  [44800/50000]\n",
      "Test Error: \n",
      " Accuracy: 46.0%, Avg loss: 1.517706 \n",
      "\n",
      "Epoch 2\n",
      "-------------------------------\n",
      "loss: 1.592357  [    0/50000]\n",
      "loss: 1.390438  [ 6400/50000]\n",
      "loss: 1.309478  [12800/50000]\n",
      "loss: 1.445026  [19200/50000]\n",
      "loss: 1.506022  [25600/50000]\n",
      "loss: 1.497357  [32000/50000]\n",
      "loss: 1.552828  [38400/50000]\n",
      "loss: 1.282064  [44800/50000]\n",
      "Test Error: \n",
      " Accuracy: 50.0%, Avg loss: 1.413745 \n",
      "\n",
      "Epoch 3\n",
      "-------------------------------\n",
      "loss: 1.279614  [    0/50000]\n",
      "loss: 1.005332  [ 6400/50000]\n",
      "loss: 1.347215  [12800/50000]\n",
      "loss: 1.282881  [19200/50000]\n",
      "loss: 1.193982  [25600/50000]\n",
      "loss: 1.585523  [32000/50000]\n",
      "loss: 1.401633  [38400/50000]\n",
      "loss: 1.315756  [44800/50000]\n",
      "Test Error: \n",
      " Accuracy: 51.0%, Avg loss: 1.400603 \n",
      "\n",
      "Epoch 4\n",
      "-------------------------------\n",
      "loss: 1.070148  [    0/50000]\n",
      "loss: 1.213317  [ 6400/50000]\n",
      "loss: 1.350859  [12800/50000]\n",
      "loss: 1.069909  [19200/50000]\n",
      "loss: 1.140278  [25600/50000]\n",
      "loss: 1.276915  [32000/50000]\n",
      "loss: 1.152840  [38400/50000]\n",
      "loss: 1.224533  [44800/50000]\n",
      "Test Error: \n",
      " Accuracy: 51.5%, Avg loss: 1.375638 \n",
      "\n",
      "Epoch 5\n",
      "-------------------------------\n",
      "loss: 1.062921  [    0/50000]\n",
      "loss: 0.984213  [ 6400/50000]\n",
      "loss: 1.147409  [12800/50000]\n",
      "loss: 0.997070  [19200/50000]\n",
      "loss: 1.296648  [25600/50000]\n",
      "loss: 1.216950  [32000/50000]\n",
      "loss: 1.357115  [38400/50000]\n",
      "loss: 1.359303  [44800/50000]\n",
      "Test Error: \n",
      " Accuracy: 53.2%, Avg loss: 1.354263 \n",
      "\n",
      "Done!\n"
     ]
    }
   ],
   "source": [
    "epochs = 5\n",
    "\n",
    "for t in range(epochs):\n",
    "    print(f\"Epoch {t+1}\\n-------------------------------\")\n",
    "    train(trainloader, model, loss_fn, optimizer)\n",
    "    test(testloader, model, loss_fn)\n",
    "print(\"Done!\")"
   ]
  },
  {
   "cell_type": "markdown",
   "metadata": {
    "id": "j9FZL5-4h8uv"
   },
   "source": [
    "#### L2 Penalty 0.1"
   ]
  },
  {
   "cell_type": "code",
   "execution_count": 18,
   "metadata": {
    "executionInfo": {
     "elapsed": 257,
     "status": "ok",
     "timestamp": 1671005053906,
     "user": {
      "displayName": "김동희",
      "userId": "01756196316806978263"
     },
     "user_tz": -540
    },
    "id": "2Y91f-bIiAeh"
   },
   "outputs": [],
   "source": [
    "model = NeuralNetwork().to(device)\n",
    "loss_fn = nn.CrossEntropyLoss()\n",
    "optimizer = torch.optim.Adam(model.parameters(), lr=1e-3, weight_decay=0.1)"
   ]
  },
  {
   "cell_type": "code",
   "execution_count": 19,
   "metadata": {
    "colab": {
     "base_uri": "https://localhost:8080/"
    },
    "executionInfo": {
     "elapsed": 74110,
     "status": "ok",
     "timestamp": 1671005133766,
     "user": {
      "displayName": "김동희",
      "userId": "01756196316806978263"
     },
     "user_tz": -540
    },
    "id": "sES4TGxAiC6j",
    "outputId": "343c263a-dc8d-42e3-9484-fb19f23b1bb5"
   },
   "outputs": [
    {
     "name": "stdout",
     "output_type": "stream",
     "text": [
      "Epoch 1\n",
      "-------------------------------\n",
      "loss: 2.296900  [    0/50000]\n",
      "loss: 2.301847  [ 6400/50000]\n",
      "loss: 2.304766  [12800/50000]\n",
      "loss: 2.302158  [19200/50000]\n",
      "loss: 2.302827  [25600/50000]\n",
      "loss: 2.303897  [32000/50000]\n",
      "loss: 2.303024  [38400/50000]\n",
      "loss: 2.302945  [44800/50000]\n",
      "Test Error: \n",
      " Accuracy: 10.0%, Avg loss: 2.302610 \n",
      "\n",
      "Epoch 2\n",
      "-------------------------------\n",
      "loss: 2.302652  [    0/50000]\n",
      "loss: 2.301598  [ 6400/50000]\n",
      "loss: 2.303185  [12800/50000]\n",
      "loss: 2.303039  [19200/50000]\n",
      "loss: 2.301395  [25600/50000]\n",
      "loss: 2.302690  [32000/50000]\n",
      "loss: 2.302128  [38400/50000]\n",
      "loss: 2.303535  [44800/50000]\n",
      "Test Error: \n",
      " Accuracy: 10.0%, Avg loss: 2.302615 \n",
      "\n",
      "Epoch 3\n",
      "-------------------------------\n",
      "loss: 2.302850  [    0/50000]\n",
      "loss: 2.300687  [ 6400/50000]\n",
      "loss: 2.302114  [12800/50000]\n",
      "loss: 2.301850  [19200/50000]\n",
      "loss: 2.300807  [25600/50000]\n",
      "loss: 2.302371  [32000/50000]\n",
      "loss: 2.301428  [38400/50000]\n",
      "loss: 2.301842  [44800/50000]\n",
      "Test Error: \n",
      " Accuracy: 10.0%, Avg loss: 2.302602 \n",
      "\n",
      "Epoch 4\n",
      "-------------------------------\n",
      "loss: 2.303812  [    0/50000]\n",
      "loss: 2.301223  [ 6400/50000]\n",
      "loss: 2.303310  [12800/50000]\n",
      "loss: 2.303280  [19200/50000]\n",
      "loss: 2.305415  [25600/50000]\n",
      "loss: 2.301984  [32000/50000]\n",
      "loss: 2.302712  [38400/50000]\n",
      "loss: 2.303019  [44800/50000]\n",
      "Test Error: \n",
      " Accuracy: 10.0%, Avg loss: 2.302590 \n",
      "\n",
      "Epoch 5\n",
      "-------------------------------\n",
      "loss: 2.302946  [    0/50000]\n",
      "loss: 2.301836  [ 6400/50000]\n",
      "loss: 2.302517  [12800/50000]\n",
      "loss: 2.302362  [19200/50000]\n",
      "loss: 2.303119  [25600/50000]\n",
      "loss: 2.300617  [32000/50000]\n",
      "loss: 2.303941  [38400/50000]\n",
      "loss: 2.303288  [44800/50000]\n",
      "Test Error: \n",
      " Accuracy: 10.0%, Avg loss: 2.302585 \n",
      "\n",
      "Done!\n"
     ]
    }
   ],
   "source": [
    "epochs = 5\n",
    "\n",
    "for t in range(epochs):\n",
    "    print(f\"Epoch {t+1}\\n-------------------------------\")\n",
    "    train(trainloader, model, loss_fn, optimizer)\n",
    "    test(testloader, model, loss_fn)\n",
    "print(\"Done!\")"
   ]
  },
  {
   "cell_type": "markdown",
   "metadata": {
    "id": "WN2RY_IHhhrz"
   },
   "source": [
    "#### L2 Penalty 0.001"
   ]
  },
  {
   "cell_type": "code",
   "execution_count": 20,
   "metadata": {
    "executionInfo": {
     "elapsed": 259,
     "status": "ok",
     "timestamp": 1671005160244,
     "user": {
      "displayName": "김동희",
      "userId": "01756196316806978263"
     },
     "user_tz": -540
    },
    "id": "84X-Hhrn2kx2"
   },
   "outputs": [],
   "source": [
    "model = NeuralNetwork().to(device)\n",
    "loss_fn = nn.CrossEntropyLoss()\n",
    "optimizer = torch.optim.Adam(model.parameters(), lr=1e-3, weight_decay=0.001)"
   ]
  },
  {
   "cell_type": "code",
   "execution_count": 21,
   "metadata": {
    "colab": {
     "base_uri": "https://localhost:8080/"
    },
    "executionInfo": {
     "elapsed": 72764,
     "status": "ok",
     "timestamp": 1671005235431,
     "user": {
      "displayName": "김동희",
      "userId": "01756196316806978263"
     },
     "user_tz": -540
    },
    "id": "lHSoWc2e2nXe",
    "outputId": "c4b8a9f4-459b-41bb-a49c-d1eb91be69f6"
   },
   "outputs": [
    {
     "name": "stdout",
     "output_type": "stream",
     "text": [
      "Epoch 1\n",
      "-------------------------------\n",
      "loss: 2.305383  [    0/50000]\n",
      "loss: 1.623681  [ 6400/50000]\n",
      "loss: 1.690831  [12800/50000]\n",
      "loss: 1.708082  [19200/50000]\n",
      "loss: 1.826439  [25600/50000]\n",
      "loss: 1.782346  [32000/50000]\n",
      "loss: 1.566999  [38400/50000]\n",
      "loss: 1.542436  [44800/50000]\n",
      "Test Error: \n",
      " Accuracy: 43.0%, Avg loss: 1.594529 \n",
      "\n",
      "Epoch 2\n",
      "-------------------------------\n",
      "loss: 1.554500  [    0/50000]\n",
      "loss: 1.456655  [ 6400/50000]\n",
      "loss: 1.635489  [12800/50000]\n",
      "loss: 1.517817  [19200/50000]\n",
      "loss: 1.627399  [25600/50000]\n",
      "loss: 1.509731  [32000/50000]\n",
      "loss: 1.450191  [38400/50000]\n",
      "loss: 1.632089  [44800/50000]\n",
      "Test Error: \n",
      " Accuracy: 43.6%, Avg loss: 1.598111 \n",
      "\n",
      "Epoch 3\n",
      "-------------------------------\n",
      "loss: 1.422689  [    0/50000]\n",
      "loss: 1.450999  [ 6400/50000]\n",
      "loss: 1.321579  [12800/50000]\n",
      "loss: 1.312236  [19200/50000]\n",
      "loss: 1.554786  [25600/50000]\n",
      "loss: 1.561555  [32000/50000]\n",
      "loss: 1.417963  [38400/50000]\n",
      "loss: 1.395072  [44800/50000]\n",
      "Test Error: \n",
      " Accuracy: 47.8%, Avg loss: 1.486144 \n",
      "\n",
      "Epoch 4\n",
      "-------------------------------\n",
      "loss: 1.653152  [    0/50000]\n",
      "loss: 1.425841  [ 6400/50000]\n",
      "loss: 1.412639  [12800/50000]\n",
      "loss: 1.496110  [19200/50000]\n",
      "loss: 1.538870  [25600/50000]\n",
      "loss: 1.365275  [32000/50000]\n",
      "loss: 1.402351  [38400/50000]\n",
      "loss: 1.470071  [44800/50000]\n",
      "Test Error: \n",
      " Accuracy: 48.3%, Avg loss: 1.439613 \n",
      "\n",
      "Epoch 5\n",
      "-------------------------------\n",
      "loss: 1.547959  [    0/50000]\n",
      "loss: 1.349341  [ 6400/50000]\n",
      "loss: 1.485914  [12800/50000]\n",
      "loss: 1.183923  [19200/50000]\n",
      "loss: 1.247190  [25600/50000]\n",
      "loss: 1.237606  [32000/50000]\n",
      "loss: 1.467115  [38400/50000]\n",
      "loss: 1.677693  [44800/50000]\n",
      "Test Error: \n",
      " Accuracy: 48.9%, Avg loss: 1.438307 \n",
      "\n",
      "Done!\n"
     ]
    }
   ],
   "source": [
    "epochs = 5\n",
    "\n",
    "for t in range(epochs):\n",
    "    print(f\"Epoch {t+1}\\n-------------------------------\")\n",
    "    train(trainloader, model, loss_fn, optimizer)\n",
    "    test(testloader, model, loss_fn)\n",
    "print(\"Done!\")"
   ]
  }
 ],
 "metadata": {
  "accelerator": "GPU",
  "colab": {
   "authorship_tag": "ABX9TyMKXylZOvn61HQjbt+5n2LZ",
   "provenance": [
    {
     "file_id": "1ri1BcKWag6F8WG_YEdgfxmTvnqktAmto",
     "timestamp": 1671001693555
    }
   ]
  },
  "gpuClass": "standard",
  "kernelspec": {
   "display_name": "Python 3 (ipykernel)",
   "language": "python",
   "name": "python3"
  },
  "language_info": {
   "codemirror_mode": {
    "name": "ipython",
    "version": 3
   },
   "file_extension": ".py",
   "mimetype": "text/x-python",
   "name": "python",
   "nbconvert_exporter": "python",
   "pygments_lexer": "ipython3",
   "version": "3.9.13"
  },
  "widgets": {
   "application/vnd.jupyter.widget-state+json": {
    "43d041b02f44423baba1fae683e1842c": {
     "model_module": "@jupyter-widgets/base",
     "model_module_version": "1.2.0",
     "model_name": "LayoutModel",
     "state": {
      "_model_module": "@jupyter-widgets/base",
      "_model_module_version": "1.2.0",
      "_model_name": "LayoutModel",
      "_view_count": null,
      "_view_module": "@jupyter-widgets/base",
      "_view_module_version": "1.2.0",
      "_view_name": "LayoutView",
      "align_content": null,
      "align_items": null,
      "align_self": null,
      "border": null,
      "bottom": null,
      "display": null,
      "flex": null,
      "flex_flow": null,
      "grid_area": null,
      "grid_auto_columns": null,
      "grid_auto_flow": null,
      "grid_auto_rows": null,
      "grid_column": null,
      "grid_gap": null,
      "grid_row": null,
      "grid_template_areas": null,
      "grid_template_columns": null,
      "grid_template_rows": null,
      "height": null,
      "justify_content": null,
      "justify_items": null,
      "left": null,
      "margin": null,
      "max_height": null,
      "max_width": null,
      "min_height": null,
      "min_width": null,
      "object_fit": null,
      "object_position": null,
      "order": null,
      "overflow": null,
      "overflow_x": null,
      "overflow_y": null,
      "padding": null,
      "right": null,
      "top": null,
      "visibility": null,
      "width": null
     }
    },
    "6fdb1231f0e946eb80dcbaf14d9f1665": {
     "model_module": "@jupyter-widgets/base",
     "model_module_version": "1.2.0",
     "model_name": "LayoutModel",
     "state": {
      "_model_module": "@jupyter-widgets/base",
      "_model_module_version": "1.2.0",
      "_model_name": "LayoutModel",
      "_view_count": null,
      "_view_module": "@jupyter-widgets/base",
      "_view_module_version": "1.2.0",
      "_view_name": "LayoutView",
      "align_content": null,
      "align_items": null,
      "align_self": null,
      "border": null,
      "bottom": null,
      "display": null,
      "flex": null,
      "flex_flow": null,
      "grid_area": null,
      "grid_auto_columns": null,
      "grid_auto_flow": null,
      "grid_auto_rows": null,
      "grid_column": null,
      "grid_gap": null,
      "grid_row": null,
      "grid_template_areas": null,
      "grid_template_columns": null,
      "grid_template_rows": null,
      "height": null,
      "justify_content": null,
      "justify_items": null,
      "left": null,
      "margin": null,
      "max_height": null,
      "max_width": null,
      "min_height": null,
      "min_width": null,
      "object_fit": null,
      "object_position": null,
      "order": null,
      "overflow": null,
      "overflow_x": null,
      "overflow_y": null,
      "padding": null,
      "right": null,
      "top": null,
      "visibility": null,
      "width": null
     }
    },
    "9d5840ffbea147e0874615826add423f": {
     "model_module": "@jupyter-widgets/controls",
     "model_module_version": "1.5.0",
     "model_name": "HTMLModel",
     "state": {
      "_dom_classes": [],
      "_model_module": "@jupyter-widgets/controls",
      "_model_module_version": "1.5.0",
      "_model_name": "HTMLModel",
      "_view_count": null,
      "_view_module": "@jupyter-widgets/controls",
      "_view_module_version": "1.5.0",
      "_view_name": "HTMLView",
      "description": "",
      "description_tooltip": null,
      "layout": "IPY_MODEL_a7c102f9c54e4414811870f739d306a4",
      "placeholder": "​",
      "style": "IPY_MODEL_d33cc646a2154125a11046560ca672f7",
      "value": "100%"
     }
    },
    "a7c102f9c54e4414811870f739d306a4": {
     "model_module": "@jupyter-widgets/base",
     "model_module_version": "1.2.0",
     "model_name": "LayoutModel",
     "state": {
      "_model_module": "@jupyter-widgets/base",
      "_model_module_version": "1.2.0",
      "_model_name": "LayoutModel",
      "_view_count": null,
      "_view_module": "@jupyter-widgets/base",
      "_view_module_version": "1.2.0",
      "_view_name": "LayoutView",
      "align_content": null,
      "align_items": null,
      "align_self": null,
      "border": null,
      "bottom": null,
      "display": null,
      "flex": null,
      "flex_flow": null,
      "grid_area": null,
      "grid_auto_columns": null,
      "grid_auto_flow": null,
      "grid_auto_rows": null,
      "grid_column": null,
      "grid_gap": null,
      "grid_row": null,
      "grid_template_areas": null,
      "grid_template_columns": null,
      "grid_template_rows": null,
      "height": null,
      "justify_content": null,
      "justify_items": null,
      "left": null,
      "margin": null,
      "max_height": null,
      "max_width": null,
      "min_height": null,
      "min_width": null,
      "object_fit": null,
      "object_position": null,
      "order": null,
      "overflow": null,
      "overflow_x": null,
      "overflow_y": null,
      "padding": null,
      "right": null,
      "top": null,
      "visibility": null,
      "width": null
     }
    },
    "ac46e85436c1495d9228764b46f79b9d": {
     "model_module": "@jupyter-widgets/controls",
     "model_module_version": "1.5.0",
     "model_name": "DescriptionStyleModel",
     "state": {
      "_model_module": "@jupyter-widgets/controls",
      "_model_module_version": "1.5.0",
      "_model_name": "DescriptionStyleModel",
      "_view_count": null,
      "_view_module": "@jupyter-widgets/base",
      "_view_module_version": "1.2.0",
      "_view_name": "StyleView",
      "description_width": ""
     }
    },
    "b6e9ec772026400883808788fd1aeee3": {
     "model_module": "@jupyter-widgets/controls",
     "model_module_version": "1.5.0",
     "model_name": "HBoxModel",
     "state": {
      "_dom_classes": [],
      "_model_module": "@jupyter-widgets/controls",
      "_model_module_version": "1.5.0",
      "_model_name": "HBoxModel",
      "_view_count": null,
      "_view_module": "@jupyter-widgets/controls",
      "_view_module_version": "1.5.0",
      "_view_name": "HBoxView",
      "box_style": "",
      "children": [
       "IPY_MODEL_9d5840ffbea147e0874615826add423f",
       "IPY_MODEL_bcbb9033ab85425ba879aa7e006bcd03",
       "IPY_MODEL_d013c9da05db430f9a3af6688ed1cfd0"
      ],
      "layout": "IPY_MODEL_e37236eb617746d8a4ce0b76dc2a3724"
     }
    },
    "bcbb9033ab85425ba879aa7e006bcd03": {
     "model_module": "@jupyter-widgets/controls",
     "model_module_version": "1.5.0",
     "model_name": "FloatProgressModel",
     "state": {
      "_dom_classes": [],
      "_model_module": "@jupyter-widgets/controls",
      "_model_module_version": "1.5.0",
      "_model_name": "FloatProgressModel",
      "_view_count": null,
      "_view_module": "@jupyter-widgets/controls",
      "_view_module_version": "1.5.0",
      "_view_name": "ProgressView",
      "bar_style": "success",
      "description": "",
      "description_tooltip": null,
      "layout": "IPY_MODEL_43d041b02f44423baba1fae683e1842c",
      "max": 170498071,
      "min": 0,
      "orientation": "horizontal",
      "style": "IPY_MODEL_cc2736596c074a0b99795849cd430384",
      "value": 170498071
     }
    },
    "cc2736596c074a0b99795849cd430384": {
     "model_module": "@jupyter-widgets/controls",
     "model_module_version": "1.5.0",
     "model_name": "ProgressStyleModel",
     "state": {
      "_model_module": "@jupyter-widgets/controls",
      "_model_module_version": "1.5.0",
      "_model_name": "ProgressStyleModel",
      "_view_count": null,
      "_view_module": "@jupyter-widgets/base",
      "_view_module_version": "1.2.0",
      "_view_name": "StyleView",
      "bar_color": null,
      "description_width": ""
     }
    },
    "d013c9da05db430f9a3af6688ed1cfd0": {
     "model_module": "@jupyter-widgets/controls",
     "model_module_version": "1.5.0",
     "model_name": "HTMLModel",
     "state": {
      "_dom_classes": [],
      "_model_module": "@jupyter-widgets/controls",
      "_model_module_version": "1.5.0",
      "_model_name": "HTMLModel",
      "_view_count": null,
      "_view_module": "@jupyter-widgets/controls",
      "_view_module_version": "1.5.0",
      "_view_name": "HTMLView",
      "description": "",
      "description_tooltip": null,
      "layout": "IPY_MODEL_6fdb1231f0e946eb80dcbaf14d9f1665",
      "placeholder": "​",
      "style": "IPY_MODEL_ac46e85436c1495d9228764b46f79b9d",
      "value": " 170498071/170498071 [00:01&lt;00:00, 97635999.44it/s]"
     }
    },
    "d33cc646a2154125a11046560ca672f7": {
     "model_module": "@jupyter-widgets/controls",
     "model_module_version": "1.5.0",
     "model_name": "DescriptionStyleModel",
     "state": {
      "_model_module": "@jupyter-widgets/controls",
      "_model_module_version": "1.5.0",
      "_model_name": "DescriptionStyleModel",
      "_view_count": null,
      "_view_module": "@jupyter-widgets/base",
      "_view_module_version": "1.2.0",
      "_view_name": "StyleView",
      "description_width": ""
     }
    },
    "e37236eb617746d8a4ce0b76dc2a3724": {
     "model_module": "@jupyter-widgets/base",
     "model_module_version": "1.2.0",
     "model_name": "LayoutModel",
     "state": {
      "_model_module": "@jupyter-widgets/base",
      "_model_module_version": "1.2.0",
      "_model_name": "LayoutModel",
      "_view_count": null,
      "_view_module": "@jupyter-widgets/base",
      "_view_module_version": "1.2.0",
      "_view_name": "LayoutView",
      "align_content": null,
      "align_items": null,
      "align_self": null,
      "border": null,
      "bottom": null,
      "display": null,
      "flex": null,
      "flex_flow": null,
      "grid_area": null,
      "grid_auto_columns": null,
      "grid_auto_flow": null,
      "grid_auto_rows": null,
      "grid_column": null,
      "grid_gap": null,
      "grid_row": null,
      "grid_template_areas": null,
      "grid_template_columns": null,
      "grid_template_rows": null,
      "height": null,
      "justify_content": null,
      "justify_items": null,
      "left": null,
      "margin": null,
      "max_height": null,
      "max_width": null,
      "min_height": null,
      "min_width": null,
      "object_fit": null,
      "object_position": null,
      "order": null,
      "overflow": null,
      "overflow_x": null,
      "overflow_y": null,
      "padding": null,
      "right": null,
      "top": null,
      "visibility": null,
      "width": null
     }
    }
   }
  }
 },
 "nbformat": 4,
 "nbformat_minor": 4
}
