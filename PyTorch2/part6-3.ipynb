{
 "cells": [
  {
   "cell_type": "markdown",
   "metadata": {
    "id": "8lJqDOjW3gOS"
   },
   "source": [
    "# Pytorch로 딥러닝 제대로 배우기-중급\n",
    "## Part6-3: CNN 실습 (1)\n",
    "### 목차\n",
    "1. 데이터 호출(Cifar-10)\n",
    "2. 모델\n",
    "3. 학습\n",
    "4. 모델 변경\n",
    " - Kernel Size 변경\n",
    " - Stride 변경"
   ]
  },
  {
   "cell_type": "markdown",
   "metadata": {
    "id": "NWs5O0Lr398o"
   },
   "source": [
    "### (1) 데이터 호출 (Cifar-10)"
   ]
  },
  {
   "cell_type": "code",
   "execution_count": 1,
   "metadata": {
    "executionInfo": {
     "elapsed": 2717,
     "status": "ok",
     "timestamp": 1671547183655,
     "user": {
      "displayName": "김동희",
      "userId": "01756196316806978263"
     },
     "user_tz": -540
    },
    "id": "9beCKfEx3Z9m"
   },
   "outputs": [],
   "source": [
    "import torch\n",
    "import torch.nn.functional as F\n",
    "from torch import nn\n",
    "\n",
    "from torch.utils.data import DataLoader\n",
    "\n",
    "import torchvision\n",
    "from torchvision import datasets\n",
    "from torchvision.transforms import ToTensor, Normalize, Compose"
   ]
  },
  {
   "cell_type": "code",
   "execution_count": 2,
   "metadata": {
    "colab": {
     "base_uri": "https://localhost:8080/",
     "height": 100,
     "referenced_widgets": [
      "3ba28dbf99094e07becca37a3e839ec8",
      "541758d582064468996c24623a448c4c",
      "4cf40e19b33c467ea2ceab3e3d375b23",
      "4078b6d325c44e959d64ff92f144d869",
      "d43601ee74de40aaa00d79697def8e3a",
      "404818a224704365973761c74fd4877f",
      "d6cd4136e4464cce8801710899e470d8",
      "adaba351b4824a85b2d2c6564548ef00",
      "cdeea5628b274a8d922b799b91692e76",
      "ce79125e4317447aa12a981c0e941a33",
      "ebac04d28ef54966b81449bfee6ad5b7"
     ]
    },
    "executionInfo": {
     "elapsed": 17789,
     "status": "ok",
     "timestamp": 1671547201440,
     "user": {
      "displayName": "김동희",
      "userId": "01756196316806978263"
     },
     "user_tz": -540
    },
    "id": "_8Pn8ihg355O",
    "outputId": "0f45c12e-66f7-42ea-908d-95287f192767"
   },
   "outputs": [
    {
     "name": "stdout",
     "output_type": "stream",
     "text": [
      "Files already downloaded and verified\n",
      "Files already downloaded and verified\n"
     ]
    }
   ],
   "source": [
    "## Transform 지정 - ** 초급강좌에서 설명 **\n",
    "transform = Compose(\n",
    "    [ToTensor(),\n",
    "     Normalize((0.5, 0.5, 0.5), (0.5, 0.5, 0.5))])\n",
    "\n",
    "# Batch size와 학습의 관계? \n",
    "batch_size = 64\n",
    "\n",
    "trainset = datasets.CIFAR10(root='./dataset', train=True,\n",
    "                            download=True, transform=transform)\n",
    "trainloader = torch.utils.data.DataLoader(trainset, batch_size=batch_size,\n",
    "                                          shuffle=True, num_workers=2)\n",
    "\n",
    "testset = datasets.CIFAR10(root='./dataset', train=False,\n",
    "                           download=True, transform=transform)\n",
    "testloader = torch.utils.data.DataLoader(testset, batch_size=batch_size,\n",
    "                                         shuffle=False, num_workers=2)\n",
    "\n",
    "classes = ('plane', 'car', 'bird', 'cat',\n",
    "           'deer', 'dog', 'frog', 'horse', 'ship', 'truck')"
   ]
  },
  {
   "cell_type": "markdown",
   "metadata": {
    "id": "E-RmSdXY4UOl"
   },
   "source": [
    "### (2) 모델"
   ]
  },
  {
   "cell_type": "code",
   "execution_count": 3,
   "metadata": {
    "colab": {
     "base_uri": "https://localhost:8080/"
    },
    "executionInfo": {
     "elapsed": 4010,
     "status": "ok",
     "timestamp": 1671547206231,
     "user": {
      "displayName": "김동희",
      "userId": "01756196316806978263"
     },
     "user_tz": -540
    },
    "id": "UZej3f_G4bGG",
    "outputId": "42813871-9c87-4596-d265-308ed64f94da"
   },
   "outputs": [
    {
     "name": "stdout",
     "output_type": "stream",
     "text": [
      "Net(\n",
      "  (conv1): Conv2d(3, 6, kernel_size=(5, 5), stride=(1, 1))\n",
      "  (pool): MaxPool2d(kernel_size=2, stride=2, padding=0, dilation=1, ceil_mode=False)\n",
      "  (conv2): Conv2d(6, 16, kernel_size=(3, 3), stride=(1, 1))\n",
      "  (fc1): Linear(in_features=576, out_features=120, bias=True)\n",
      "  (fc2): Linear(in_features=120, out_features=84, bias=True)\n",
      "  (fc3): Linear(in_features=84, out_features=10, bias=True)\n",
      ")\n"
     ]
    }
   ],
   "source": [
    "device = \"cuda\" if torch.cuda.is_available() else \"cpu\"\n",
    "\n",
    "class Net(nn.Module):\n",
    "  def __init__(self):\n",
    "    super().__init__()\n",
    "    self.conv1 = nn.Conv2d(in_channels=3, out_channels=6, kernel_size=5, stride=1)\n",
    "    self.pool = nn.MaxPool2d(2, 2)\n",
    "    self.conv2 = nn.Conv2d(6, 16, 3)\n",
    "    self.fc1 = nn.Linear(16 * 6 * 6, 120)\n",
    "    self.fc2 = nn.Linear(120, 84)\n",
    "    self.fc3 = nn.Linear(84, 10)\n",
    "  \n",
    "  def forward(self, x):\n",
    "    # Feature extractor\n",
    "    x = self.pool(F.relu(self.conv1(x)))\n",
    "    x = self.pool(F.relu(self.conv2(x)))\n",
    "    x = torch.flatten(x, 1)\n",
    "\n",
    "    # Classifier\n",
    "    x = F.relu(self.fc1(x))\n",
    "    x = F.relu(self.fc2(x))\n",
    "    logits = self.fc3(x)\n",
    "    return logits\n",
    "\n",
    "\n",
    "model = Net().to(device)\n",
    "print(model)"
   ]
  },
  {
   "cell_type": "markdown",
   "metadata": {
    "id": "3jmQ9RtuVk3A"
   },
   "source": [
    "#### Weights 살펴보기"
   ]
  },
  {
   "cell_type": "code",
   "execution_count": 4,
   "metadata": {
    "colab": {
     "base_uri": "https://localhost:8080/"
    },
    "executionInfo": {
     "elapsed": 12,
     "status": "ok",
     "timestamp": 1671547206231,
     "user": {
      "displayName": "김동희",
      "userId": "01756196316806978263"
     },
     "user_tz": -540
    },
    "id": "pRH6dwmpleRw",
    "outputId": "87922eaa-772c-40ec-ec7b-1a1378946e55"
   },
   "outputs": [
    {
     "name": "stdout",
     "output_type": "stream",
     "text": [
      "conv1.weight\n",
      "torch.Size([6, 3, 5, 5])\n",
      "conv1.bias\n",
      "torch.Size([6])\n",
      "conv2.weight\n",
      "torch.Size([16, 6, 3, 3])\n",
      "conv2.bias\n",
      "torch.Size([16])\n",
      "fc1.weight\n",
      "torch.Size([120, 576])\n",
      "fc1.bias\n",
      "torch.Size([120])\n",
      "fc2.weight\n",
      "torch.Size([84, 120])\n",
      "fc2.bias\n",
      "torch.Size([84])\n",
      "fc3.weight\n",
      "torch.Size([10, 84])\n",
      "fc3.bias\n",
      "torch.Size([10])\n"
     ]
    }
   ],
   "source": [
    "for k, v in model.state_dict().items():\n",
    "  print(k)\n",
    "  print(v.size())"
   ]
  },
  {
   "cell_type": "markdown",
   "metadata": {
    "id": "6OCVf2Dx4cXG"
   },
   "source": [
    "### (3) 학습"
   ]
  },
  {
   "cell_type": "markdown",
   "metadata": {
    "id": "L_MdEeq21zSm"
   },
   "source": [
    "#### 학습/평가 함수 정의"
   ]
  },
  {
   "cell_type": "code",
   "execution_count": 5,
   "metadata": {
    "executionInfo": {
     "elapsed": 757,
     "status": "ok",
     "timestamp": 1671547206985,
     "user": {
      "displayName": "김동희",
      "userId": "01756196316806978263"
     },
     "user_tz": -540
    },
    "id": "TWZvF4T25NJE"
   },
   "outputs": [],
   "source": [
    "def train(dataloader, model, loss_fn, optimizer):\n",
    "    size = len(dataloader.dataset)\n",
    "    model.train()\n",
    "    for batch, (X, y) in enumerate(dataloader):\n",
    "        X, y = X.to(device), y.to(device)\n",
    "\n",
    "        # Compute prediction error\n",
    "        pred = model(X)\n",
    "        loss = loss_fn(pred, y)\n",
    "\n",
    "        # Backpropagation\n",
    "        optimizer.zero_grad()\n",
    "        loss.backward()\n",
    "        optimizer.step()\n",
    "\n",
    "        if batch % 100 == 0:\n",
    "            loss, current = loss.item(), batch * len(X)\n",
    "            print(f\"loss: {loss:>7f}  [{current:>5d}/{size:>5d}]\")"
   ]
  },
  {
   "cell_type": "code",
   "execution_count": 6,
   "metadata": {
    "executionInfo": {
     "elapsed": 4,
     "status": "ok",
     "timestamp": 1671547206985,
     "user": {
      "displayName": "김동희",
      "userId": "01756196316806978263"
     },
     "user_tz": -540
    },
    "id": "3CMGsNX65Y9L"
   },
   "outputs": [],
   "source": [
    "def test(dataloader, model, loss_fn):\n",
    "    size = len(dataloader.dataset)\n",
    "    num_batches = len(dataloader)\n",
    "    model.eval()\n",
    "    test_loss, correct = 0, 0\n",
    "    with torch.no_grad():\n",
    "        for X, y in dataloader:\n",
    "            X, y = X.to(device), y.to(device)\n",
    "            pred = model(X)\n",
    "            test_loss += loss_fn(pred, y).item()\n",
    "            correct += (pred.argmax(1) == y).type(torch.float).sum().item()\n",
    "    test_loss /= num_batches\n",
    "    correct /= size\n",
    "    print(f\"Test Error: \\n Accuracy: {(100*correct):>0.1f}%, Avg loss: {test_loss:>8f} \\n\")"
   ]
  },
  {
   "cell_type": "markdown",
   "metadata": {
    "id": "2vkgT-Ak122w"
   },
   "source": [
    "#### SGD"
   ]
  },
  {
   "cell_type": "code",
   "execution_count": 7,
   "metadata": {
    "executionInfo": {
     "elapsed": 3,
     "status": "ok",
     "timestamp": 1671547206985,
     "user": {
      "displayName": "김동희",
      "userId": "01756196316806978263"
     },
     "user_tz": -540
    },
    "id": "ARiRlEwr4bc9"
   },
   "outputs": [],
   "source": [
    "loss_fn = nn.CrossEntropyLoss()\n",
    "optimizer = torch.optim.SGD(model.parameters(), lr=1e-3, momentum=0.9)"
   ]
  },
  {
   "cell_type": "code",
   "execution_count": 8,
   "metadata": {
    "colab": {
     "base_uri": "https://localhost:8080/"
    },
    "executionInfo": {
     "elapsed": 75833,
     "status": "ok",
     "timestamp": 1671547282815,
     "user": {
      "displayName": "김동희",
      "userId": "01756196316806978263"
     },
     "user_tz": -540
    },
    "id": "v3nQnm6r5a6d",
    "outputId": "eeaabca0-7f63-4604-8331-b6cf38d3e614"
   },
   "outputs": [
    {
     "name": "stdout",
     "output_type": "stream",
     "text": [
      "Epoch 1\n",
      "-------------------------------\n",
      "loss: 2.278451  [    0/50000]\n",
      "loss: 2.304286  [ 6400/50000]\n",
      "loss: 2.302286  [12800/50000]\n",
      "loss: 2.300053  [19200/50000]\n",
      "loss: 2.291372  [25600/50000]\n",
      "loss: 2.280086  [32000/50000]\n",
      "loss: 2.280983  [38400/50000]\n",
      "loss: 2.276925  [44800/50000]\n",
      "Test Error: \n",
      " Accuracy: 19.1%, Avg loss: 2.227071 \n",
      "\n",
      "Epoch 2\n",
      "-------------------------------\n",
      "loss: 2.241318  [    0/50000]\n",
      "loss: 2.233888  [ 6400/50000]\n",
      "loss: 2.203627  [12800/50000]\n",
      "loss: 2.040662  [19200/50000]\n",
      "loss: 2.036546  [25600/50000]\n",
      "loss: 2.054480  [32000/50000]\n",
      "loss: 1.837417  [38400/50000]\n",
      "loss: 1.944051  [44800/50000]\n",
      "Test Error: \n",
      " Accuracy: 28.6%, Avg loss: 1.953673 \n",
      "\n",
      "Epoch 3\n",
      "-------------------------------\n",
      "loss: 1.983655  [    0/50000]\n",
      "loss: 1.972011  [ 6400/50000]\n",
      "loss: 2.051633  [12800/50000]\n",
      "loss: 1.908737  [19200/50000]\n",
      "loss: 1.879934  [25600/50000]\n",
      "loss: 1.703163  [32000/50000]\n",
      "loss: 1.940786  [38400/50000]\n",
      "loss: 1.674102  [44800/50000]\n",
      "Test Error: \n",
      " Accuracy: 36.4%, Avg loss: 1.774809 \n",
      "\n",
      "Epoch 4\n",
      "-------------------------------\n",
      "loss: 1.917610  [    0/50000]\n",
      "loss: 1.747154  [ 6400/50000]\n",
      "loss: 1.703503  [12800/50000]\n",
      "loss: 1.725943  [19200/50000]\n",
      "loss: 1.751007  [25600/50000]\n",
      "loss: 1.857103  [32000/50000]\n",
      "loss: 1.712255  [38400/50000]\n",
      "loss: 1.586363  [44800/50000]\n",
      "Test Error: \n",
      " Accuracy: 40.0%, Avg loss: 1.646448 \n",
      "\n",
      "Epoch 5\n",
      "-------------------------------\n",
      "loss: 1.705833  [    0/50000]\n",
      "loss: 1.638479  [ 6400/50000]\n",
      "loss: 1.505311  [12800/50000]\n",
      "loss: 1.329667  [19200/50000]\n",
      "loss: 1.424086  [25600/50000]\n",
      "loss: 1.587426  [32000/50000]\n",
      "loss: 1.546457  [38400/50000]\n",
      "loss: 1.272065  [44800/50000]\n",
      "Test Error: \n",
      " Accuracy: 44.5%, Avg loss: 1.539100 \n",
      "\n",
      "Done!\n"
     ]
    }
   ],
   "source": [
    "epochs = 5\n",
    "\n",
    "for t in range(epochs):\n",
    "    print(f\"Epoch {t+1}\\n-------------------------------\")\n",
    "    train(trainloader, model, loss_fn, optimizer)\n",
    "    test(testloader, model, loss_fn)\n",
    "print(\"Done!\")"
   ]
  },
  {
   "cell_type": "markdown",
   "metadata": {
    "id": "_d4UNdvc2jz3"
   },
   "source": [
    "#### Adam"
   ]
  },
  {
   "cell_type": "code",
   "execution_count": 9,
   "metadata": {
    "executionInfo": {
     "elapsed": 7,
     "status": "ok",
     "timestamp": 1671547282815,
     "user": {
      "displayName": "김동희",
      "userId": "01756196316806978263"
     },
     "user_tz": -540
    },
    "id": "84X-Hhrn2kx2"
   },
   "outputs": [],
   "source": [
    "model = Net().to(device)\n",
    "loss_fn = nn.CrossEntropyLoss()\n",
    "optimizer = torch.optim.Adam(model.parameters(), lr=1e-3)"
   ]
  },
  {
   "cell_type": "code",
   "execution_count": 10,
   "metadata": {
    "colab": {
     "base_uri": "https://localhost:8080/"
    },
    "executionInfo": {
     "elapsed": 71593,
     "status": "ok",
     "timestamp": 1671547354404,
     "user": {
      "displayName": "김동희",
      "userId": "01756196316806978263"
     },
     "user_tz": -540
    },
    "id": "lHSoWc2e2nXe",
    "outputId": "c2874855-13db-4f69-e4a6-48c611fa855b"
   },
   "outputs": [
    {
     "name": "stdout",
     "output_type": "stream",
     "text": [
      "Epoch 1\n",
      "-------------------------------\n",
      "loss: 2.302463  [    0/50000]\n",
      "loss: 1.873215  [ 6400/50000]\n",
      "loss: 1.577879  [12800/50000]\n",
      "loss: 1.899320  [19200/50000]\n",
      "loss: 1.612406  [25600/50000]\n",
      "loss: 1.579356  [32000/50000]\n",
      "loss: 1.585412  [38400/50000]\n",
      "loss: 1.543841  [44800/50000]\n",
      "Test Error: \n",
      " Accuracy: 48.5%, Avg loss: 1.413181 \n",
      "\n",
      "Epoch 2\n",
      "-------------------------------\n",
      "loss: 1.465900  [    0/50000]\n",
      "loss: 1.514005  [ 6400/50000]\n",
      "loss: 1.279096  [12800/50000]\n",
      "loss: 1.561292  [19200/50000]\n",
      "loss: 1.469343  [25600/50000]\n",
      "loss: 1.484890  [32000/50000]\n",
      "loss: 1.595582  [38400/50000]\n",
      "loss: 1.420920  [44800/50000]\n",
      "Test Error: \n",
      " Accuracy: 51.3%, Avg loss: 1.334411 \n",
      "\n",
      "Epoch 3\n",
      "-------------------------------\n",
      "loss: 1.550385  [    0/50000]\n",
      "loss: 1.294093  [ 6400/50000]\n",
      "loss: 1.450516  [12800/50000]\n",
      "loss: 1.144892  [19200/50000]\n",
      "loss: 1.326063  [25600/50000]\n",
      "loss: 1.480365  [32000/50000]\n",
      "loss: 1.072794  [38400/50000]\n",
      "loss: 1.170325  [44800/50000]\n",
      "Test Error: \n",
      " Accuracy: 55.2%, Avg loss: 1.258878 \n",
      "\n",
      "Epoch 4\n",
      "-------------------------------\n",
      "loss: 1.204689  [    0/50000]\n",
      "loss: 1.324816  [ 6400/50000]\n",
      "loss: 1.064141  [12800/50000]\n",
      "loss: 1.248399  [19200/50000]\n",
      "loss: 1.282747  [25600/50000]\n",
      "loss: 0.953341  [32000/50000]\n",
      "loss: 1.220056  [38400/50000]\n",
      "loss: 1.237963  [44800/50000]\n",
      "Test Error: \n",
      " Accuracy: 57.5%, Avg loss: 1.181916 \n",
      "\n",
      "Epoch 5\n",
      "-------------------------------\n",
      "loss: 0.951272  [    0/50000]\n",
      "loss: 1.025456  [ 6400/50000]\n",
      "loss: 1.162409  [12800/50000]\n",
      "loss: 0.974332  [19200/50000]\n",
      "loss: 1.323078  [25600/50000]\n",
      "loss: 1.259160  [32000/50000]\n",
      "loss: 1.249908  [38400/50000]\n",
      "loss: 1.244072  [44800/50000]\n",
      "Test Error: \n",
      " Accuracy: 58.4%, Avg loss: 1.156549 \n",
      "\n",
      "Done!\n"
     ]
    }
   ],
   "source": [
    "epochs = 5\n",
    "\n",
    "for t in range(epochs):\n",
    "    print(f\"Epoch {t+1}\\n-------------------------------\")\n",
    "    train(trainloader, model, loss_fn, optimizer)\n",
    "    test(testloader, model, loss_fn)\n",
    "print(\"Done!\")"
   ]
  },
  {
   "cell_type": "markdown",
   "metadata": {
    "id": "qxTYa2Zn_Kko"
   },
   "source": [
    "### (4) 모델변경"
   ]
  },
  {
   "cell_type": "markdown",
   "metadata": {
    "id": "2IV3u6dWBPLI"
   },
   "source": [
    "#### Kernel size 변경"
   ]
  },
  {
   "cell_type": "code",
   "execution_count": 11,
   "metadata": {
    "colab": {
     "base_uri": "https://localhost:8080/"
    },
    "executionInfo": {
     "elapsed": 17,
     "status": "ok",
     "timestamp": 1671547354405,
     "user": {
      "displayName": "김동희",
      "userId": "01756196316806978263"
     },
     "user_tz": -540
    },
    "id": "Q5UunzG-_L61",
    "outputId": "17ae88f8-9376-4943-9a48-41a5ac171cf9"
   },
   "outputs": [
    {
     "name": "stdout",
     "output_type": "stream",
     "text": [
      "Net(\n",
      "  (conv1): Conv2d(3, 6, kernel_size=(7, 7), stride=(1, 1))\n",
      "  (pool): MaxPool2d(kernel_size=2, stride=2, padding=0, dilation=1, ceil_mode=False)\n",
      "  (conv2): Conv2d(6, 32, kernel_size=(7, 7), stride=(1, 1))\n",
      "  (fc1): Linear(in_features=288, out_features=120, bias=True)\n",
      "  (fc2): Linear(in_features=120, out_features=84, bias=True)\n",
      "  (fc3): Linear(in_features=84, out_features=10, bias=True)\n",
      ")\n"
     ]
    }
   ],
   "source": [
    "class Net(nn.Module):\n",
    "  def __init__(self):\n",
    "    super().__init__()\n",
    "    self.conv1 = nn.Conv2d(in_channels=3, out_channels=6, kernel_size=7, stride=1)\n",
    "    self.pool = nn.MaxPool2d(2, 2)\n",
    "    self.conv2 = nn.Conv2d(6, 32, 7)\n",
    "\n",
    "    # Classifier\n",
    "    self.fc1 = nn.Linear(32 * 3 * 3, 120)\n",
    "    self.fc2 = nn.Linear(120, 84)\n",
    "    self.fc3 = nn.Linear(84, 10)\n",
    "  \n",
    "  def forward(self, x):\n",
    "    # Feature extractor\n",
    "    x = self.pool(F.relu(self.conv1(x)))\n",
    "    x = self.pool(F.relu(self.conv2(x)))\n",
    "    x = torch.flatten(x, 1)\n",
    "\n",
    "    # Classifier\n",
    "    x = F.relu(self.fc1(x))\n",
    "    x = F.relu(self.fc2(x))\n",
    "    logits = self.fc3(x)\n",
    "    return logits\n",
    "\n",
    "\n",
    "model = Net().to(device)\n",
    "print(model)"
   ]
  },
  {
   "cell_type": "code",
   "execution_count": 12,
   "metadata": {
    "colab": {
     "base_uri": "https://localhost:8080/"
    },
    "executionInfo": {
     "elapsed": 13,
     "status": "ok",
     "timestamp": 1671547354405,
     "user": {
      "displayName": "김동희",
      "userId": "01756196316806978263"
     },
     "user_tz": -540
    },
    "id": "BBHp1plw2Pno",
    "outputId": "4227339a-4ca0-49b5-eda2-9df4c666269d"
   },
   "outputs": [
    {
     "name": "stdout",
     "output_type": "stream",
     "text": [
      "conv1.weight\n",
      "torch.Size([6, 3, 7, 7])\n",
      "conv1.bias\n",
      "torch.Size([6])\n",
      "conv2.weight\n",
      "torch.Size([32, 6, 7, 7])\n",
      "conv2.bias\n",
      "torch.Size([32])\n",
      "fc1.weight\n",
      "torch.Size([120, 288])\n",
      "fc1.bias\n",
      "torch.Size([120])\n",
      "fc2.weight\n",
      "torch.Size([84, 120])\n",
      "fc2.bias\n",
      "torch.Size([84])\n",
      "fc3.weight\n",
      "torch.Size([10, 84])\n",
      "fc3.bias\n",
      "torch.Size([10])\n"
     ]
    }
   ],
   "source": [
    "for k, v in model.state_dict().items():\n",
    "  print(k)\n",
    "  print(v.size())"
   ]
  },
  {
   "cell_type": "code",
   "execution_count": 13,
   "metadata": {
    "executionInfo": {
     "elapsed": 8,
     "status": "ok",
     "timestamp": 1671547354405,
     "user": {
      "displayName": "김동희",
      "userId": "01756196316806978263"
     },
     "user_tz": -540
    },
    "id": "tFngkYlK_cgZ"
   },
   "outputs": [],
   "source": [
    "loss_fn = nn.CrossEntropyLoss()\n",
    "optimizer = torch.optim.Adam(model.parameters(), lr=1e-3)"
   ]
  },
  {
   "cell_type": "code",
   "execution_count": 14,
   "metadata": {
    "colab": {
     "base_uri": "https://localhost:8080/"
    },
    "executionInfo": {
     "elapsed": 71687,
     "status": "ok",
     "timestamp": 1671547426085,
     "user": {
      "displayName": "김동희",
      "userId": "01756196316806978263"
     },
     "user_tz": -540
    },
    "id": "k4esOdGr_dY-",
    "outputId": "c46b7d5f-b923-44a2-ffd8-84bf4e0db2da"
   },
   "outputs": [
    {
     "name": "stdout",
     "output_type": "stream",
     "text": [
      "Epoch 1\n",
      "-------------------------------\n",
      "loss: 2.300499  [    0/50000]\n",
      "loss: 1.814999  [ 6400/50000]\n",
      "loss: 1.582002  [12800/50000]\n",
      "loss: 1.569574  [19200/50000]\n",
      "loss: 1.335899  [25600/50000]\n",
      "loss: 1.664107  [32000/50000]\n",
      "loss: 1.659217  [38400/50000]\n",
      "loss: 1.418952  [44800/50000]\n",
      "Test Error: \n",
      " Accuracy: 46.0%, Avg loss: 1.472495 \n",
      "\n",
      "Epoch 2\n",
      "-------------------------------\n",
      "loss: 1.379654  [    0/50000]\n",
      "loss: 1.239146  [ 6400/50000]\n",
      "loss: 1.555190  [12800/50000]\n",
      "loss: 1.154325  [19200/50000]\n",
      "loss: 1.672709  [25600/50000]\n",
      "loss: 1.394652  [32000/50000]\n",
      "loss: 1.293836  [38400/50000]\n",
      "loss: 1.223498  [44800/50000]\n",
      "Test Error: \n",
      " Accuracy: 50.2%, Avg loss: 1.368119 \n",
      "\n",
      "Epoch 3\n",
      "-------------------------------\n",
      "loss: 1.433774  [    0/50000]\n",
      "loss: 1.637750  [ 6400/50000]\n",
      "loss: 1.393953  [12800/50000]\n",
      "loss: 1.202529  [19200/50000]\n",
      "loss: 1.096585  [25600/50000]\n",
      "loss: 1.500191  [32000/50000]\n",
      "loss: 1.041723  [38400/50000]\n",
      "loss: 1.371895  [44800/50000]\n",
      "Test Error: \n",
      " Accuracy: 53.4%, Avg loss: 1.285608 \n",
      "\n",
      "Epoch 4\n",
      "-------------------------------\n",
      "loss: 1.026901  [    0/50000]\n",
      "loss: 1.175322  [ 6400/50000]\n",
      "loss: 1.424523  [12800/50000]\n",
      "loss: 1.443206  [19200/50000]\n",
      "loss: 1.383417  [25600/50000]\n",
      "loss: 1.180967  [32000/50000]\n",
      "loss: 1.339606  [38400/50000]\n",
      "loss: 1.390912  [44800/50000]\n",
      "Test Error: \n",
      " Accuracy: 55.6%, Avg loss: 1.253031 \n",
      "\n",
      "Epoch 5\n",
      "-------------------------------\n",
      "loss: 1.202334  [    0/50000]\n",
      "loss: 1.185827  [ 6400/50000]\n",
      "loss: 1.140743  [12800/50000]\n",
      "loss: 0.990862  [19200/50000]\n",
      "loss: 1.017563  [25600/50000]\n",
      "loss: 1.076069  [32000/50000]\n",
      "loss: 1.334155  [38400/50000]\n",
      "loss: 1.211318  [44800/50000]\n",
      "Test Error: \n",
      " Accuracy: 57.6%, Avg loss: 1.200986 \n",
      "\n",
      "Done!\n"
     ]
    }
   ],
   "source": [
    "epochs = 5\n",
    "\n",
    "for t in range(epochs):\n",
    "    print(f\"Epoch {t+1}\\n-------------------------------\")\n",
    "    train(trainloader, model, loss_fn, optimizer)\n",
    "    test(testloader, model, loss_fn)\n",
    "print(\"Done!\")"
   ]
  },
  {
   "cell_type": "markdown",
   "metadata": {
    "id": "qDlIxubfBSL5"
   },
   "source": [
    "#### Stride 변경"
   ]
  },
  {
   "cell_type": "code",
   "execution_count": 15,
   "metadata": {
    "colab": {
     "base_uri": "https://localhost:8080/"
    },
    "executionInfo": {
     "elapsed": 11,
     "status": "ok",
     "timestamp": 1671547426085,
     "user": {
      "displayName": "김동희",
      "userId": "01756196316806978263"
     },
     "user_tz": -540
    },
    "id": "9p_l5_XcBTUD",
    "outputId": "7943e4eb-619b-407e-deaf-1c9463a2f9ad"
   },
   "outputs": [
    {
     "name": "stdout",
     "output_type": "stream",
     "text": [
      "Net(\n",
      "  (conv1): Conv2d(3, 6, kernel_size=(2, 2), stride=(2, 2))\n",
      "  (pool): MaxPool2d(kernel_size=2, stride=2, padding=0, dilation=1, ceil_mode=False)\n",
      "  (conv2): Conv2d(6, 32, kernel_size=(3, 3), stride=(2, 2))\n",
      "  (fc1): Linear(in_features=32, out_features=20, bias=True)\n",
      "  (fc2): Linear(in_features=20, out_features=10, bias=True)\n",
      ")\n"
     ]
    }
   ],
   "source": [
    "class Net(nn.Module):\n",
    "  def __init__(self):\n",
    "    super().__init__()\n",
    "    self.conv1 = nn.Conv2d(in_channels=3, out_channels=6, kernel_size=2, stride=2)\n",
    "    self.pool = nn.MaxPool2d(2, 2)\n",
    "    self.conv2 = nn.Conv2d(6, 32, 3, stride=2)\n",
    "\n",
    "    # Classifier\n",
    "    self.fc1 = nn.Linear(32 * 1 * 1, 20)\n",
    "    self.fc2 = nn.Linear(20, 10)\n",
    "  \n",
    "  def forward(self, x):\n",
    "    # Feature extractor\n",
    "    x = self.pool(F.relu(self.conv1(x)))\n",
    "    x = self.pool(F.relu(self.conv2(x)))\n",
    "    x = torch.flatten(x, 1)\n",
    "\n",
    "    # Classifier\n",
    "    x = F.relu(self.fc1(x))\n",
    "    logits = self.fc2(x)\n",
    "    return logits\n",
    "\n",
    "\n",
    "model = Net().to(device)\n",
    "print(model)"
   ]
  },
  {
   "cell_type": "code",
   "execution_count": 16,
   "metadata": {
    "executionInfo": {
     "elapsed": 9,
     "status": "ok",
     "timestamp": 1671547426086,
     "user": {
      "displayName": "김동희",
      "userId": "01756196316806978263"
     },
     "user_tz": -540
    },
    "id": "Iik22apEBZ3H"
   },
   "outputs": [],
   "source": [
    "loss_fn = nn.CrossEntropyLoss()\n",
    "optimizer = torch.optim.Adam(model.parameters(), lr=1e-3)"
   ]
  },
  {
   "cell_type": "code",
   "execution_count": 17,
   "metadata": {
    "colab": {
     "base_uri": "https://localhost:8080/"
    },
    "executionInfo": {
     "elapsed": 69629,
     "status": "ok",
     "timestamp": 1671547495706,
     "user": {
      "displayName": "김동희",
      "userId": "01756196316806978263"
     },
     "user_tz": -540
    },
    "id": "ifJw6MOoBdUL",
    "outputId": "c1645758-1766-4bef-801c-7550fb313ffd"
   },
   "outputs": [
    {
     "name": "stdout",
     "output_type": "stream",
     "text": [
      "Epoch 1\n",
      "-------------------------------\n",
      "loss: 2.351080  [    0/50000]\n",
      "loss: 2.188811  [ 6400/50000]\n",
      "loss: 2.065897  [12800/50000]\n",
      "loss: 2.064187  [19200/50000]\n",
      "loss: 2.056169  [25600/50000]\n",
      "loss: 1.986820  [32000/50000]\n",
      "loss: 1.897141  [38400/50000]\n",
      "loss: 1.935973  [44800/50000]\n",
      "Test Error: \n",
      " Accuracy: 30.8%, Avg loss: 1.868032 \n",
      "\n",
      "Epoch 2\n",
      "-------------------------------\n",
      "loss: 1.895208  [    0/50000]\n",
      "loss: 1.855376  [ 6400/50000]\n",
      "loss: 1.850726  [12800/50000]\n",
      "loss: 1.996070  [19200/50000]\n",
      "loss: 1.899893  [25600/50000]\n",
      "loss: 1.894264  [32000/50000]\n",
      "loss: 1.758712  [38400/50000]\n",
      "loss: 1.847470  [44800/50000]\n",
      "Test Error: \n",
      " Accuracy: 34.0%, Avg loss: 1.788560 \n",
      "\n",
      "Epoch 3\n",
      "-------------------------------\n",
      "loss: 1.649878  [    0/50000]\n",
      "loss: 1.730261  [ 6400/50000]\n",
      "loss: 1.752233  [12800/50000]\n",
      "loss: 1.782947  [19200/50000]\n",
      "loss: 1.894230  [25600/50000]\n",
      "loss: 1.658606  [32000/50000]\n",
      "loss: 1.861511  [38400/50000]\n",
      "loss: 1.715733  [44800/50000]\n",
      "Test Error: \n",
      " Accuracy: 34.8%, Avg loss: 1.774969 \n",
      "\n",
      "Epoch 4\n",
      "-------------------------------\n",
      "loss: 1.639848  [    0/50000]\n",
      "loss: 1.636845  [ 6400/50000]\n",
      "loss: 1.872273  [12800/50000]\n",
      "loss: 1.685083  [19200/50000]\n",
      "loss: 1.848217  [25600/50000]\n",
      "loss: 1.765793  [32000/50000]\n",
      "loss: 1.951200  [38400/50000]\n",
      "loss: 1.616584  [44800/50000]\n",
      "Test Error: \n",
      " Accuracy: 36.6%, Avg loss: 1.724709 \n",
      "\n",
      "Epoch 5\n",
      "-------------------------------\n",
      "loss: 1.512344  [    0/50000]\n",
      "loss: 1.621730  [ 6400/50000]\n",
      "loss: 1.707065  [12800/50000]\n",
      "loss: 1.784875  [19200/50000]\n",
      "loss: 1.591892  [25600/50000]\n",
      "loss: 1.598225  [32000/50000]\n",
      "loss: 1.771481  [38400/50000]\n",
      "loss: 1.932580  [44800/50000]\n",
      "Test Error: \n",
      " Accuracy: 37.6%, Avg loss: 1.706880 \n",
      "\n",
      "Done!\n"
     ]
    }
   ],
   "source": [
    "epochs = 5\n",
    "\n",
    "for t in range(epochs):\n",
    "    print(f\"Epoch {t+1}\\n-------------------------------\")\n",
    "    train(trainloader, model, loss_fn, optimizer)\n",
    "    test(testloader, model, loss_fn)\n",
    "print(\"Done!\")"
   ]
  },
  {
   "cell_type": "code",
   "execution_count": null,
   "metadata": {
    "executionInfo": {
     "elapsed": 7,
     "status": "ok",
     "timestamp": 1671547495707,
     "user": {
      "displayName": "김동희",
      "userId": "01756196316806978263"
     },
     "user_tz": -540
    },
    "id": "GuP8faZ_Beoa"
   },
   "outputs": [],
   "source": []
  }
 ],
 "metadata": {
  "accelerator": "GPU",
  "colab": {
   "authorship_tag": "ABX9TyMVaXEo5rjnx+n+eRsMILzT",
   "provenance": [
    {
     "file_id": "1BCaDWRAAsd90G8YfEqsPsUbEPR4ifjMU",
     "timestamp": 1671519474164
    }
   ]
  },
  "gpuClass": "standard",
  "kernelspec": {
   "display_name": "Python 3 (ipykernel)",
   "language": "python",
   "name": "python3"
  },
  "language_info": {
   "codemirror_mode": {
    "name": "ipython",
    "version": 3
   },
   "file_extension": ".py",
   "mimetype": "text/x-python",
   "name": "python",
   "nbconvert_exporter": "python",
   "pygments_lexer": "ipython3",
   "version": "3.9.13"
  },
  "widgets": {
   "application/vnd.jupyter.widget-state+json": {
    "3ba28dbf99094e07becca37a3e839ec8": {
     "model_module": "@jupyter-widgets/controls",
     "model_module_version": "1.5.0",
     "model_name": "HBoxModel",
     "state": {
      "_dom_classes": [],
      "_model_module": "@jupyter-widgets/controls",
      "_model_module_version": "1.5.0",
      "_model_name": "HBoxModel",
      "_view_count": null,
      "_view_module": "@jupyter-widgets/controls",
      "_view_module_version": "1.5.0",
      "_view_name": "HBoxView",
      "box_style": "",
      "children": [
       "IPY_MODEL_541758d582064468996c24623a448c4c",
       "IPY_MODEL_4cf40e19b33c467ea2ceab3e3d375b23",
       "IPY_MODEL_4078b6d325c44e959d64ff92f144d869"
      ],
      "layout": "IPY_MODEL_d43601ee74de40aaa00d79697def8e3a"
     }
    },
    "404818a224704365973761c74fd4877f": {
     "model_module": "@jupyter-widgets/base",
     "model_module_version": "1.2.0",
     "model_name": "LayoutModel",
     "state": {
      "_model_module": "@jupyter-widgets/base",
      "_model_module_version": "1.2.0",
      "_model_name": "LayoutModel",
      "_view_count": null,
      "_view_module": "@jupyter-widgets/base",
      "_view_module_version": "1.2.0",
      "_view_name": "LayoutView",
      "align_content": null,
      "align_items": null,
      "align_self": null,
      "border": null,
      "bottom": null,
      "display": null,
      "flex": null,
      "flex_flow": null,
      "grid_area": null,
      "grid_auto_columns": null,
      "grid_auto_flow": null,
      "grid_auto_rows": null,
      "grid_column": null,
      "grid_gap": null,
      "grid_row": null,
      "grid_template_areas": null,
      "grid_template_columns": null,
      "grid_template_rows": null,
      "height": null,
      "justify_content": null,
      "justify_items": null,
      "left": null,
      "margin": null,
      "max_height": null,
      "max_width": null,
      "min_height": null,
      "min_width": null,
      "object_fit": null,
      "object_position": null,
      "order": null,
      "overflow": null,
      "overflow_x": null,
      "overflow_y": null,
      "padding": null,
      "right": null,
      "top": null,
      "visibility": null,
      "width": null
     }
    },
    "4078b6d325c44e959d64ff92f144d869": {
     "model_module": "@jupyter-widgets/controls",
     "model_module_version": "1.5.0",
     "model_name": "HTMLModel",
     "state": {
      "_dom_classes": [],
      "_model_module": "@jupyter-widgets/controls",
      "_model_module_version": "1.5.0",
      "_model_name": "HTMLModel",
      "_view_count": null,
      "_view_module": "@jupyter-widgets/controls",
      "_view_module_version": "1.5.0",
      "_view_name": "HTMLView",
      "description": "",
      "description_tooltip": null,
      "layout": "IPY_MODEL_ce79125e4317447aa12a981c0e941a33",
      "placeholder": "​",
      "style": "IPY_MODEL_ebac04d28ef54966b81449bfee6ad5b7",
      "value": " 170498071/170498071 [00:13&lt;00:00, 15239846.44it/s]"
     }
    },
    "4cf40e19b33c467ea2ceab3e3d375b23": {
     "model_module": "@jupyter-widgets/controls",
     "model_module_version": "1.5.0",
     "model_name": "FloatProgressModel",
     "state": {
      "_dom_classes": [],
      "_model_module": "@jupyter-widgets/controls",
      "_model_module_version": "1.5.0",
      "_model_name": "FloatProgressModel",
      "_view_count": null,
      "_view_module": "@jupyter-widgets/controls",
      "_view_module_version": "1.5.0",
      "_view_name": "ProgressView",
      "bar_style": "success",
      "description": "",
      "description_tooltip": null,
      "layout": "IPY_MODEL_adaba351b4824a85b2d2c6564548ef00",
      "max": 170498071,
      "min": 0,
      "orientation": "horizontal",
      "style": "IPY_MODEL_cdeea5628b274a8d922b799b91692e76",
      "value": 170498071
     }
    },
    "541758d582064468996c24623a448c4c": {
     "model_module": "@jupyter-widgets/controls",
     "model_module_version": "1.5.0",
     "model_name": "HTMLModel",
     "state": {
      "_dom_classes": [],
      "_model_module": "@jupyter-widgets/controls",
      "_model_module_version": "1.5.0",
      "_model_name": "HTMLModel",
      "_view_count": null,
      "_view_module": "@jupyter-widgets/controls",
      "_view_module_version": "1.5.0",
      "_view_name": "HTMLView",
      "description": "",
      "description_tooltip": null,
      "layout": "IPY_MODEL_404818a224704365973761c74fd4877f",
      "placeholder": "​",
      "style": "IPY_MODEL_d6cd4136e4464cce8801710899e470d8",
      "value": "100%"
     }
    },
    "adaba351b4824a85b2d2c6564548ef00": {
     "model_module": "@jupyter-widgets/base",
     "model_module_version": "1.2.0",
     "model_name": "LayoutModel",
     "state": {
      "_model_module": "@jupyter-widgets/base",
      "_model_module_version": "1.2.0",
      "_model_name": "LayoutModel",
      "_view_count": null,
      "_view_module": "@jupyter-widgets/base",
      "_view_module_version": "1.2.0",
      "_view_name": "LayoutView",
      "align_content": null,
      "align_items": null,
      "align_self": null,
      "border": null,
      "bottom": null,
      "display": null,
      "flex": null,
      "flex_flow": null,
      "grid_area": null,
      "grid_auto_columns": null,
      "grid_auto_flow": null,
      "grid_auto_rows": null,
      "grid_column": null,
      "grid_gap": null,
      "grid_row": null,
      "grid_template_areas": null,
      "grid_template_columns": null,
      "grid_template_rows": null,
      "height": null,
      "justify_content": null,
      "justify_items": null,
      "left": null,
      "margin": null,
      "max_height": null,
      "max_width": null,
      "min_height": null,
      "min_width": null,
      "object_fit": null,
      "object_position": null,
      "order": null,
      "overflow": null,
      "overflow_x": null,
      "overflow_y": null,
      "padding": null,
      "right": null,
      "top": null,
      "visibility": null,
      "width": null
     }
    },
    "cdeea5628b274a8d922b799b91692e76": {
     "model_module": "@jupyter-widgets/controls",
     "model_module_version": "1.5.0",
     "model_name": "ProgressStyleModel",
     "state": {
      "_model_module": "@jupyter-widgets/controls",
      "_model_module_version": "1.5.0",
      "_model_name": "ProgressStyleModel",
      "_view_count": null,
      "_view_module": "@jupyter-widgets/base",
      "_view_module_version": "1.2.0",
      "_view_name": "StyleView",
      "bar_color": null,
      "description_width": ""
     }
    },
    "ce79125e4317447aa12a981c0e941a33": {
     "model_module": "@jupyter-widgets/base",
     "model_module_version": "1.2.0",
     "model_name": "LayoutModel",
     "state": {
      "_model_module": "@jupyter-widgets/base",
      "_model_module_version": "1.2.0",
      "_model_name": "LayoutModel",
      "_view_count": null,
      "_view_module": "@jupyter-widgets/base",
      "_view_module_version": "1.2.0",
      "_view_name": "LayoutView",
      "align_content": null,
      "align_items": null,
      "align_self": null,
      "border": null,
      "bottom": null,
      "display": null,
      "flex": null,
      "flex_flow": null,
      "grid_area": null,
      "grid_auto_columns": null,
      "grid_auto_flow": null,
      "grid_auto_rows": null,
      "grid_column": null,
      "grid_gap": null,
      "grid_row": null,
      "grid_template_areas": null,
      "grid_template_columns": null,
      "grid_template_rows": null,
      "height": null,
      "justify_content": null,
      "justify_items": null,
      "left": null,
      "margin": null,
      "max_height": null,
      "max_width": null,
      "min_height": null,
      "min_width": null,
      "object_fit": null,
      "object_position": null,
      "order": null,
      "overflow": null,
      "overflow_x": null,
      "overflow_y": null,
      "padding": null,
      "right": null,
      "top": null,
      "visibility": null,
      "width": null
     }
    },
    "d43601ee74de40aaa00d79697def8e3a": {
     "model_module": "@jupyter-widgets/base",
     "model_module_version": "1.2.0",
     "model_name": "LayoutModel",
     "state": {
      "_model_module": "@jupyter-widgets/base",
      "_model_module_version": "1.2.0",
      "_model_name": "LayoutModel",
      "_view_count": null,
      "_view_module": "@jupyter-widgets/base",
      "_view_module_version": "1.2.0",
      "_view_name": "LayoutView",
      "align_content": null,
      "align_items": null,
      "align_self": null,
      "border": null,
      "bottom": null,
      "display": null,
      "flex": null,
      "flex_flow": null,
      "grid_area": null,
      "grid_auto_columns": null,
      "grid_auto_flow": null,
      "grid_auto_rows": null,
      "grid_column": null,
      "grid_gap": null,
      "grid_row": null,
      "grid_template_areas": null,
      "grid_template_columns": null,
      "grid_template_rows": null,
      "height": null,
      "justify_content": null,
      "justify_items": null,
      "left": null,
      "margin": null,
      "max_height": null,
      "max_width": null,
      "min_height": null,
      "min_width": null,
      "object_fit": null,
      "object_position": null,
      "order": null,
      "overflow": null,
      "overflow_x": null,
      "overflow_y": null,
      "padding": null,
      "right": null,
      "top": null,
      "visibility": null,
      "width": null
     }
    },
    "d6cd4136e4464cce8801710899e470d8": {
     "model_module": "@jupyter-widgets/controls",
     "model_module_version": "1.5.0",
     "model_name": "DescriptionStyleModel",
     "state": {
      "_model_module": "@jupyter-widgets/controls",
      "_model_module_version": "1.5.0",
      "_model_name": "DescriptionStyleModel",
      "_view_count": null,
      "_view_module": "@jupyter-widgets/base",
      "_view_module_version": "1.2.0",
      "_view_name": "StyleView",
      "description_width": ""
     }
    },
    "ebac04d28ef54966b81449bfee6ad5b7": {
     "model_module": "@jupyter-widgets/controls",
     "model_module_version": "1.5.0",
     "model_name": "DescriptionStyleModel",
     "state": {
      "_model_module": "@jupyter-widgets/controls",
      "_model_module_version": "1.5.0",
      "_model_name": "DescriptionStyleModel",
      "_view_count": null,
      "_view_module": "@jupyter-widgets/base",
      "_view_module_version": "1.2.0",
      "_view_name": "StyleView",
      "description_width": ""
     }
    }
   }
  }
 },
 "nbformat": 4,
 "nbformat_minor": 4
}
