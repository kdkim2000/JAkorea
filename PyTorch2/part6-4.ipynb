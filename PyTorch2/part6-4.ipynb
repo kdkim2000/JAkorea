{
 "cells": [
  {
   "cell_type": "markdown",
   "metadata": {
    "id": "8lJqDOjW3gOS"
   },
   "source": [
    "# Pytorch로 딥러닝 제대로 배우기-중급\n",
    "## Part6-4: CNN 실습 (2)\n",
    "### 목차\n",
    "1. 데이터 호출(Cifar-10)\n",
    "2. 학습/평가함수 정의\n",
    "3. CNN 응용\n",
    "4. Sequential vs. layer by layer"
   ]
  },
  {
   "cell_type": "markdown",
   "metadata": {
    "id": "NWs5O0Lr398o"
   },
   "source": [
    "### (1) 데이터 호출 (Cifar-10)"
   ]
  },
  {
   "cell_type": "code",
   "execution_count": 1,
   "metadata": {
    "executionInfo": {
     "elapsed": 686,
     "status": "ok",
     "timestamp": 1671551711499,
     "user": {
      "displayName": "김동희",
      "userId": "01756196316806978263"
     },
     "user_tz": -540
    },
    "id": "9beCKfEx3Z9m"
   },
   "outputs": [],
   "source": [
    "import torch\n",
    "import torch.nn.functional as F\n",
    "from torch import nn\n",
    "\n",
    "from torch.utils.data import DataLoader\n",
    "\n",
    "import torchvision\n",
    "from torchvision import datasets\n",
    "from torchvision.transforms import ToTensor, Normalize, Compose"
   ]
  },
  {
   "cell_type": "code",
   "execution_count": 2,
   "metadata": {
    "colab": {
     "base_uri": "https://localhost:8080/"
    },
    "executionInfo": {
     "elapsed": 1986,
     "status": "ok",
     "timestamp": 1671551713484,
     "user": {
      "displayName": "김동희",
      "userId": "01756196316806978263"
     },
     "user_tz": -540
    },
    "id": "_8Pn8ihg355O",
    "outputId": "a545bc35-07d4-4eea-9157-f4684f29441c"
   },
   "outputs": [
    {
     "name": "stdout",
     "output_type": "stream",
     "text": [
      "Files already downloaded and verified\n",
      "Files already downloaded and verified\n"
     ]
    }
   ],
   "source": [
    "## Transform 지정 - ** 초급강좌에서 설명 **\n",
    "transform = Compose(\n",
    "    [ToTensor(),\n",
    "     Normalize((0.5, 0.5, 0.5), (0.5, 0.5, 0.5))])\n",
    "\n",
    "# Batch size와 학습의 관계? \n",
    "batch_size = 64\n",
    "\n",
    "trainset = datasets.CIFAR10(root='./dataset', train=True,\n",
    "                            download=True, transform=transform)\n",
    "trainloader = torch.utils.data.DataLoader(trainset, batch_size=batch_size,\n",
    "                                          shuffle=True, num_workers=2)\n",
    "\n",
    "testset = datasets.CIFAR10(root='./dataset', train=False,\n",
    "                           download=True, transform=transform)\n",
    "testloader = torch.utils.data.DataLoader(testset, batch_size=batch_size,\n",
    "                                         shuffle=False, num_workers=2)\n",
    "\n",
    "classes = ('plane', 'car', 'bird', 'cat',\n",
    "           'deer', 'dog', 'frog', 'horse', 'ship', 'truck')"
   ]
  },
  {
   "cell_type": "markdown",
   "metadata": {
    "id": "L_MdEeq21zSm"
   },
   "source": [
    "### (2) 학습/평가 함수 정의"
   ]
  },
  {
   "cell_type": "code",
   "execution_count": 3,
   "metadata": {
    "executionInfo": {
     "elapsed": 595,
     "status": "ok",
     "timestamp": 1671551714077,
     "user": {
      "displayName": "김동희",
      "userId": "01756196316806978263"
     },
     "user_tz": -540
    },
    "id": "TWZvF4T25NJE"
   },
   "outputs": [],
   "source": [
    "device = 'cuda' if torch.cuda.is_available() else 'cpu'\n",
    "\n",
    "def train(dataloader, model, loss_fn, optimizer):\n",
    "    size = len(dataloader.dataset)\n",
    "    model.train()\n",
    "    for batch, (X, y) in enumerate(dataloader):\n",
    "        X, y = X.to(device), y.to(device)\n",
    "\n",
    "        # Compute prediction error\n",
    "        pred = model(X)\n",
    "        loss = loss_fn(pred, y)\n",
    "\n",
    "        # Backpropagation\n",
    "        optimizer.zero_grad()\n",
    "        loss.backward()\n",
    "        optimizer.step()\n",
    "\n",
    "        if batch % 100 == 0:\n",
    "            loss, current = loss.item(), batch * len(X)\n",
    "            print(f\"loss: {loss:>7f}  [{current:>5d}/{size:>5d}]\")"
   ]
  },
  {
   "cell_type": "code",
   "execution_count": 4,
   "metadata": {
    "executionInfo": {
     "elapsed": 2,
     "status": "ok",
     "timestamp": 1671551714077,
     "user": {
      "displayName": "김동희",
      "userId": "01756196316806978263"
     },
     "user_tz": -540
    },
    "id": "3CMGsNX65Y9L"
   },
   "outputs": [],
   "source": [
    "def test(dataloader, model, loss_fn):\n",
    "    size = len(dataloader.dataset)\n",
    "    num_batches = len(dataloader)\n",
    "    model.eval()\n",
    "    test_loss, correct = 0, 0\n",
    "    with torch.no_grad():\n",
    "        for X, y in dataloader:\n",
    "            X, y = X.to(device), y.to(device)\n",
    "            pred = model(X)\n",
    "            test_loss += loss_fn(pred, y).item()\n",
    "            correct += (pred.argmax(1) == y).type(torch.float).sum().item()\n",
    "    test_loss /= num_batches\n",
    "    correct /= size\n",
    "    print(f\"Test Error: \\n Accuracy: {(100*correct):>0.1f}%, Avg loss: {test_loss:>8f} \\n\")"
   ]
  },
  {
   "cell_type": "markdown",
   "metadata": {
    "id": "E-RmSdXY4UOl"
   },
   "source": [
    "### (3) CNN 응용"
   ]
  },
  {
   "cell_type": "code",
   "execution_count": 5,
   "metadata": {
    "colab": {
     "base_uri": "https://localhost:8080/"
    },
    "executionInfo": {
     "elapsed": 1412,
     "status": "ok",
     "timestamp": 1671551715488,
     "user": {
      "displayName": "김동희",
      "userId": "01756196316806978263"
     },
     "user_tz": -540
    },
    "id": "UZej3f_G4bGG",
    "outputId": "6a4e3078-3afe-4d89-e3af-96943b5f4682"
   },
   "outputs": [
    {
     "name": "stdout",
     "output_type": "stream",
     "text": [
      "Net(\n",
      "  (conv1_3x3): Conv2d(3, 6, kernel_size=(3, 3), stride=(1, 1))\n",
      "  (conv1_5x5): Conv2d(3, 6, kernel_size=(5, 5), stride=(1, 1), padding=(1, 1))\n",
      "  (conv1_7x7): Conv2d(3, 6, kernel_size=(7, 7), stride=(1, 1), padding=(2, 2))\n",
      "  (pool): MaxPool2d(kernel_size=2, stride=2, padding=0, dilation=1, ceil_mode=False)\n",
      "  (conv2): Conv2d(18, 18, kernel_size=(1, 1), stride=(1, 1))\n",
      "  (fc1): Linear(in_features=882, out_features=120, bias=True)\n",
      "  (fc2): Linear(in_features=120, out_features=84, bias=True)\n",
      "  (fc3): Linear(in_features=84, out_features=10, bias=True)\n",
      ")\n"
     ]
    }
   ],
   "source": [
    "class Net(nn.Module):\n",
    "  def __init__(self):\n",
    "    super().__init__()\n",
    "    self.conv1_3x3 = nn.Conv2d(in_channels=3, out_channels=6, kernel_size=3)\n",
    "    self.conv1_5x5 = nn.Conv2d(3, 6, 5, padding=1) \n",
    "    self.conv1_7x7 = nn.Conv2d(3, 6, 7, padding=2)  \n",
    "    self.pool = nn.MaxPool2d(2, 2)\n",
    "\n",
    "    self.conv2 = nn.Conv2d(18, 18, 1)\n",
    "    \n",
    "    # FC layers\n",
    "    self.fc1 = nn.Linear(18*7*7, 120)\n",
    "    self.fc2 = nn.Linear(120, 84)\n",
    "    self.fc3 = nn.Linear(84, 10)\n",
    "  \n",
    "  def forward(self, x):\n",
    "    x_3x3 = self.pool(F.relu(self.conv1_3x3(x)))\n",
    "    x_5x5 = self.pool(F.relu(self.conv1_5x5(x)))\n",
    "    x_7x7 = self.pool(F.relu(self.conv1_7x7(x)))\n",
    "    x = torch.cat((x_3x3, x_5x5, x_7x7), dim=1)\n",
    "\n",
    "    x = self.pool(F.relu(self.conv2(x)))\n",
    "    x = torch.flatten(x, 1)\n",
    "    x = F.relu(self.fc1(x))\n",
    "    x = F.relu(self.fc2(x))\n",
    "    logits = self.fc3(x)\n",
    "    return logits\n",
    "\n",
    "\n",
    "model = Net().to(device)\n",
    "print(model)"
   ]
  },
  {
   "cell_type": "markdown",
   "metadata": {
    "id": "0T7qjl7wVqDq"
   },
   "source": [
    "#### Weights 살펴보기"
   ]
  },
  {
   "cell_type": "code",
   "execution_count": 6,
   "metadata": {
    "colab": {
     "base_uri": "https://localhost:8080/"
    },
    "executionInfo": {
     "elapsed": 7,
     "status": "ok",
     "timestamp": 1671551715488,
     "user": {
      "displayName": "김동희",
      "userId": "01756196316806978263"
     },
     "user_tz": -540
    },
    "id": "pRH6dwmpleRw",
    "outputId": "446518e5-236b-4dd5-889f-09de6a037b5b"
   },
   "outputs": [
    {
     "name": "stdout",
     "output_type": "stream",
     "text": [
      "conv1_3x3.weight\n",
      "torch.Size([6, 3, 3, 3])\n",
      "conv1_3x3.bias\n",
      "torch.Size([6])\n",
      "conv1_5x5.weight\n",
      "torch.Size([6, 3, 5, 5])\n",
      "conv1_5x5.bias\n",
      "torch.Size([6])\n",
      "conv1_7x7.weight\n",
      "torch.Size([6, 3, 7, 7])\n",
      "conv1_7x7.bias\n",
      "torch.Size([6])\n",
      "conv2.weight\n",
      "torch.Size([18, 18, 1, 1])\n",
      "conv2.bias\n",
      "torch.Size([18])\n",
      "fc1.weight\n",
      "torch.Size([120, 882])\n",
      "fc1.bias\n",
      "torch.Size([120])\n",
      "fc2.weight\n",
      "torch.Size([84, 120])\n",
      "fc2.bias\n",
      "torch.Size([84])\n",
      "fc3.weight\n",
      "torch.Size([10, 84])\n",
      "fc3.bias\n",
      "torch.Size([10])\n"
     ]
    }
   ],
   "source": [
    "for k, v in model.state_dict().items():\n",
    "  print(k)\n",
    "  print(v.size())"
   ]
  },
  {
   "cell_type": "markdown",
   "metadata": {
    "id": "6OCVf2Dx4cXG"
   },
   "source": [
    "### (4) 학습"
   ]
  },
  {
   "cell_type": "markdown",
   "metadata": {
    "id": "_d4UNdvc2jz3"
   },
   "source": [
    "#### Adam"
   ]
  },
  {
   "cell_type": "code",
   "execution_count": 7,
   "metadata": {
    "executionInfo": {
     "elapsed": 4,
     "status": "ok",
     "timestamp": 1671551715488,
     "user": {
      "displayName": "김동희",
      "userId": "01756196316806978263"
     },
     "user_tz": -540
    },
    "id": "84X-Hhrn2kx2"
   },
   "outputs": [],
   "source": [
    "loss_fn = nn.CrossEntropyLoss()\n",
    "optimizer = torch.optim.Adam(model.parameters(), lr=1e-3)"
   ]
  },
  {
   "cell_type": "code",
   "execution_count": 8,
   "metadata": {
    "colab": {
     "base_uri": "https://localhost:8080/"
    },
    "executionInfo": {
     "elapsed": 82584,
     "status": "ok",
     "timestamp": 1671551798069,
     "user": {
      "displayName": "김동희",
      "userId": "01756196316806978263"
     },
     "user_tz": -540
    },
    "id": "lHSoWc2e2nXe",
    "outputId": "8c48248d-5b23-4cc1-ba48-507a15fbed49"
   },
   "outputs": [
    {
     "name": "stdout",
     "output_type": "stream",
     "text": [
      "Epoch 1\n",
      "-------------------------------\n",
      "loss: 2.304695  [    0/50000]\n",
      "loss: 1.703658  [ 6400/50000]\n",
      "loss: 1.823117  [12800/50000]\n",
      "loss: 1.499407  [19200/50000]\n",
      "loss: 1.571092  [25600/50000]\n",
      "loss: 1.249847  [32000/50000]\n",
      "loss: 1.188116  [38400/50000]\n",
      "loss: 1.388546  [44800/50000]\n",
      "Test Error: \n",
      " Accuracy: 49.1%, Avg loss: 1.408463 \n",
      "\n",
      "Epoch 2\n",
      "-------------------------------\n",
      "loss: 1.686388  [    0/50000]\n",
      "loss: 1.142175  [ 6400/50000]\n",
      "loss: 1.424866  [12800/50000]\n",
      "loss: 1.276735  [19200/50000]\n",
      "loss: 1.251418  [25600/50000]\n",
      "loss: 1.374383  [32000/50000]\n",
      "loss: 1.246162  [38400/50000]\n",
      "loss: 1.360692  [44800/50000]\n",
      "Test Error: \n",
      " Accuracy: 57.0%, Avg loss: 1.205323 \n",
      "\n",
      "Epoch 3\n",
      "-------------------------------\n",
      "loss: 1.306747  [    0/50000]\n",
      "loss: 1.167632  [ 6400/50000]\n",
      "loss: 0.949511  [12800/50000]\n",
      "loss: 1.321633  [19200/50000]\n",
      "loss: 0.940683  [25600/50000]\n",
      "loss: 1.300548  [32000/50000]\n",
      "loss: 1.378575  [38400/50000]\n",
      "loss: 0.937053  [44800/50000]\n",
      "Test Error: \n",
      " Accuracy: 59.7%, Avg loss: 1.133009 \n",
      "\n",
      "Epoch 4\n",
      "-------------------------------\n",
      "loss: 1.299849  [    0/50000]\n",
      "loss: 1.096606  [ 6400/50000]\n",
      "loss: 1.320097  [12800/50000]\n",
      "loss: 1.239782  [19200/50000]\n",
      "loss: 1.080760  [25600/50000]\n",
      "loss: 0.864872  [32000/50000]\n",
      "loss: 1.118988  [38400/50000]\n",
      "loss: 0.910977  [44800/50000]\n",
      "Test Error: \n",
      " Accuracy: 61.9%, Avg loss: 1.078561 \n",
      "\n",
      "Epoch 5\n",
      "-------------------------------\n",
      "loss: 0.843621  [    0/50000]\n",
      "loss: 0.890136  [ 6400/50000]\n",
      "loss: 1.008031  [12800/50000]\n",
      "loss: 0.871413  [19200/50000]\n",
      "loss: 0.919216  [25600/50000]\n",
      "loss: 1.167483  [32000/50000]\n",
      "loss: 1.116354  [38400/50000]\n",
      "loss: 0.842273  [44800/50000]\n",
      "Test Error: \n",
      " Accuracy: 63.8%, Avg loss: 1.017859 \n",
      "\n",
      "Done!\n"
     ]
    }
   ],
   "source": [
    "epochs = 5\n",
    "\n",
    "for t in range(epochs):\n",
    "    print(f\"Epoch {t+1}\\n-------------------------------\")\n",
    "    train(trainloader, model, loss_fn, optimizer)\n",
    "    test(testloader, model, loss_fn)\n",
    "print(\"Done!\")"
   ]
  },
  {
   "cell_type": "markdown",
   "metadata": {
    "id": "zcRCpxkU6Uik"
   },
   "source": [
    "### 4. Sequential vs. Layer by Layer"
   ]
  },
  {
   "cell_type": "markdown",
   "metadata": {
    "id": "3MRpEvpn9mrh"
   },
   "source": [
    "#### Sequential blocks"
   ]
  },
  {
   "cell_type": "code",
   "execution_count": 9,
   "metadata": {
    "colab": {
     "base_uri": "https://localhost:8080/"
    },
    "executionInfo": {
     "elapsed": 28,
     "status": "ok",
     "timestamp": 1671551798070,
     "user": {
      "displayName": "김동희",
      "userId": "01756196316806978263"
     },
     "user_tz": -540
    },
    "id": "GuP8faZ_Beoa",
    "outputId": "5f750fb0-ad19-4d6c-b064-9c0a8b6377cf"
   },
   "outputs": [
    {
     "name": "stdout",
     "output_type": "stream",
     "text": [
      "Net(\n",
      "  (block1): Sequential(\n",
      "    (0): Conv2d(3, 6, kernel_size=(3, 3), stride=(1, 1))\n",
      "    (1): ReLU()\n",
      "    (2): MaxPool2d(kernel_size=2, stride=2, padding=0, dilation=1, ceil_mode=False)\n",
      "    (3): Conv2d(6, 12, kernel_size=(3, 3), stride=(1, 1))\n",
      "    (4): ReLU()\n",
      "    (5): MaxPool2d(kernel_size=2, stride=2, padding=0, dilation=1, ceil_mode=False)\n",
      "  )\n",
      "  (block2): Sequential(\n",
      "    (0): Conv2d(6, 12, kernel_size=(3, 3), stride=(1, 1))\n",
      "    (1): ReLU()\n",
      "    (2): MaxPool2d(kernel_size=2, stride=2, padding=0, dilation=1, ceil_mode=False)\n",
      "  )\n",
      "  (fc1): Linear(in_features=432, out_features=120, bias=True)\n",
      "  (fc2): Linear(in_features=120, out_features=84, bias=True)\n",
      "  (fc3): Linear(in_features=84, out_features=10, bias=True)\n",
      ")\n"
     ]
    }
   ],
   "source": [
    "class Net(nn.Module):\n",
    "  def __init__(self):\n",
    "    super().__init__()\n",
    "    self.block1 = nn.Sequential(\n",
    "        nn.Conv2d(3, 6, 3),\n",
    "        nn.ReLU(),\n",
    "        nn.MaxPool2d(2, 2),\n",
    "        nn.Conv2d(6, 12, 3),\n",
    "        nn.ReLU(),\n",
    "        nn.MaxPool2d(2, 2)\n",
    "    )\n",
    "    self.block2 = nn.Sequential(\n",
    "        nn.Conv2d(6, 12, 3),\n",
    "        nn.ReLU(),\n",
    "        nn.MaxPool2d(2, 2)\n",
    "    )\n",
    "\n",
    "    # FC\n",
    "    self.fc1 = nn.Linear(12 * 6 * 6, 120)\n",
    "    self.fc2 = nn.Linear(120, 84)\n",
    "    self.fc3 = nn.Linear(84, 10)\n",
    "  def forward(self, x):\n",
    "    x = self.block1(x)\n",
    "    x = self.block2(x)\n",
    "    x = torch.flatten(x, 1)\n",
    "    x = F.relu(self.fc1(x))\n",
    "    x = F.relu(self.fc2(x))\n",
    "    x = self.fc3(x)\n",
    "    return x\n",
    "\n",
    "model = Net().to(device)\n",
    "print(model)"
   ]
  },
  {
   "cell_type": "code",
   "execution_count": 10,
   "metadata": {
    "colab": {
     "base_uri": "https://localhost:8080/"
    },
    "executionInfo": {
     "elapsed": 19,
     "status": "ok",
     "timestamp": 1671551798070,
     "user": {
      "displayName": "김동희",
      "userId": "01756196316806978263"
     },
     "user_tz": -540
    },
    "id": "TI2qF8Zb9fCK",
    "outputId": "9bc5edda-db1e-45c4-fbb8-dd59118c258b"
   },
   "outputs": [
    {
     "name": "stdout",
     "output_type": "stream",
     "text": [
      "block1.0.weight\n",
      "torch.Size([6, 3, 3, 3])\n",
      "block1.0.bias\n",
      "torch.Size([6])\n",
      "block1.3.weight\n",
      "torch.Size([12, 6, 3, 3])\n",
      "block1.3.bias\n",
      "torch.Size([12])\n",
      "block2.0.weight\n",
      "torch.Size([12, 6, 3, 3])\n",
      "block2.0.bias\n",
      "torch.Size([12])\n",
      "fc1.weight\n",
      "torch.Size([120, 432])\n",
      "fc1.bias\n",
      "torch.Size([120])\n",
      "fc2.weight\n",
      "torch.Size([84, 120])\n",
      "fc2.bias\n",
      "torch.Size([84])\n",
      "fc3.weight\n",
      "torch.Size([10, 84])\n",
      "fc3.bias\n",
      "torch.Size([10])\n"
     ]
    }
   ],
   "source": [
    "for k, v in model.state_dict().items():\n",
    "  print(k)\n",
    "  print(v.size())"
   ]
  },
  {
   "cell_type": "markdown",
   "metadata": {
    "id": "UDmSa6xz9qwX"
   },
   "source": [
    "#### Layer by Layer"
   ]
  },
  {
   "cell_type": "code",
   "execution_count": 11,
   "metadata": {
    "colab": {
     "base_uri": "https://localhost:8080/"
    },
    "executionInfo": {
     "elapsed": 12,
     "status": "ok",
     "timestamp": 1671551798071,
     "user": {
      "displayName": "김동희",
      "userId": "01756196316806978263"
     },
     "user_tz": -540
    },
    "id": "nPrwaj1V9sOd",
    "outputId": "3855f8bf-f93d-4346-cc40-6e4701eb53ee"
   },
   "outputs": [
    {
     "name": "stdout",
     "output_type": "stream",
     "text": [
      "Net(\n",
      "  (conv1): Conv2d(3, 6, kernel_size=(3, 3), stride=(1, 1))\n",
      "  (conv2): Conv2d(6, 12, kernel_size=(3, 3), stride=(1, 1))\n",
      "  (pool): MaxPool2d(kernel_size=2, stride=2, padding=0, dilation=1, ceil_mode=False)\n",
      "  (fc1): Linear(in_features=432, out_features=120, bias=True)\n",
      "  (fc2): Linear(in_features=120, out_features=84, bias=True)\n",
      "  (fc3): Linear(in_features=84, out_features=10, bias=True)\n",
      ")\n"
     ]
    }
   ],
   "source": [
    "class Net(nn.Module):\n",
    "  def __init__(self):\n",
    "    super().__init__()\n",
    "    self.conv1 = nn.Conv2d(3, 6, 3)\n",
    "    self.conv2 = nn.Conv2d(6, 12, 3)\n",
    "    self.pool = nn.MaxPool2d(2, 2)\n",
    "    \n",
    "    # FC\n",
    "    self.fc1 = nn.Linear(12 * 6 * 6, 120)\n",
    "    self.fc2 = nn.Linear(120, 84)\n",
    "    self.fc3 = nn.Linear(84, 10)\n",
    "  def forward(self, x):\n",
    "    x = self.pool(F.relu(self.conv1(x)))\n",
    "    x = self.pool(F.relu(self.conv2(x)))\n",
    "    x = torch.flatten(x, 1)\n",
    "    x = F.relu(self.fc1(x))\n",
    "    x = F.relu(self.fc2(x))\n",
    "    x = self.fc3(x)\n",
    "    return x\n",
    "\n",
    "model = Net().to(device)\n",
    "print(model)"
   ]
  },
  {
   "cell_type": "code",
   "execution_count": 12,
   "metadata": {
    "colab": {
     "base_uri": "https://localhost:8080/"
    },
    "executionInfo": {
     "elapsed": 9,
     "status": "ok",
     "timestamp": 1671551798071,
     "user": {
      "displayName": "김동희",
      "userId": "01756196316806978263"
     },
     "user_tz": -540
    },
    "id": "Cjyn1w4d-BXU",
    "outputId": "61bac007-575a-4dc5-d964-1ecb9b8ec2ba"
   },
   "outputs": [
    {
     "name": "stdout",
     "output_type": "stream",
     "text": [
      "conv1.weight\n",
      "torch.Size([6, 3, 3, 3])\n",
      "conv1.bias\n",
      "torch.Size([6])\n",
      "conv2.weight\n",
      "torch.Size([12, 6, 3, 3])\n",
      "conv2.bias\n",
      "torch.Size([12])\n",
      "fc1.weight\n",
      "torch.Size([120, 432])\n",
      "fc1.bias\n",
      "torch.Size([120])\n",
      "fc2.weight\n",
      "torch.Size([84, 120])\n",
      "fc2.bias\n",
      "torch.Size([84])\n",
      "fc3.weight\n",
      "torch.Size([10, 84])\n",
      "fc3.bias\n",
      "torch.Size([10])\n"
     ]
    }
   ],
   "source": [
    "for k, v in model.state_dict().items():\n",
    "  print(k)\n",
    "  print(v.size())"
   ]
  },
  {
   "cell_type": "code",
   "execution_count": null,
   "metadata": {
    "executionInfo": {
     "elapsed": 7,
     "status": "ok",
     "timestamp": 1671551798071,
     "user": {
      "displayName": "김동희",
      "userId": "01756196316806978263"
     },
     "user_tz": -540
    },
    "id": "VwXQrxgP-LO0"
   },
   "outputs": [],
   "source": []
  }
 ],
 "metadata": {
  "accelerator": "GPU",
  "colab": {
   "authorship_tag": "ABX9TyNCJo7UeMhx1IRbylo7YNuE",
   "provenance": [
    {
     "file_id": "1Og16epfYTtblMgxLFa3aMO0MdDdYKDF_",
     "timestamp": 1671547756782
    },
    {
     "file_id": "1BCaDWRAAsd90G8YfEqsPsUbEPR4ifjMU",
     "timestamp": 1671519854490
    }
   ]
  },
  "gpuClass": "standard",
  "kernelspec": {
   "display_name": "Python 3 (ipykernel)",
   "language": "python",
   "name": "python3"
  },
  "language_info": {
   "codemirror_mode": {
    "name": "ipython",
    "version": 3
   },
   "file_extension": ".py",
   "mimetype": "text/x-python",
   "name": "python",
   "nbconvert_exporter": "python",
   "pygments_lexer": "ipython3",
   "version": "3.9.13"
  }
 },
 "nbformat": 4,
 "nbformat_minor": 4
}
